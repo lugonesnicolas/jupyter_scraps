{
 "cells": [
  {
   "cell_type": "code",
   "execution_count": 1,
   "id": "f8da94a3-2b15-47a9-957e-fe5214d39dbd",
   "metadata": {},
   "outputs": [],
   "source": [
    "# Importacion de librerias\n",
    "import time\n",
    "import logging\n",
    "import requests\n",
    "from bs4 import BeautifulSoup\n",
    "from selenium import webdriver\n",
    "from selenium.webdriver.common.by import By"
   ]
  },
  {
   "cell_type": "code",
   "execution_count": 2,
   "id": "08310157-57ba-47f4-8d62-4f7cb7d59386",
   "metadata": {},
   "outputs": [],
   "source": [
    "url = \"https://www.youtube.com/watch?v=TwcNVwXZktI\""
   ]
  },
  {
   "cell_type": "code",
   "execution_count": 3,
   "id": "b0684f77-dffb-4f6a-ab6c-dd7e0f8966d1",
   "metadata": {},
   "outputs": [],
   "source": [
    "driver = webdriver.Chrome()\n",
    "driver.get(url)\n",
    "time.sleep(2)"
   ]
  },
  {
   "cell_type": "code",
   "execution_count": 4,
   "id": "f4229c45-cad2-4237-b78a-5815cb99fd05",
   "metadata": {},
   "outputs": [],
   "source": [
    "element = driver.find_element(By.CSS_SELECTOR, \"button.ytp-large-play-button.ytp-button\")\n",
    "element.click()"
   ]
  }
 ],
 "metadata": {
  "kernelspec": {
   "display_name": "Python 3 (ipykernel)",
   "language": "python",
   "name": "python3"
  },
  "language_info": {
   "codemirror_mode": {
    "name": "ipython",
    "version": 3
   },
   "file_extension": ".py",
   "mimetype": "text/x-python",
   "name": "python",
   "nbconvert_exporter": "python",
   "pygments_lexer": "ipython3",
   "version": "3.11.3"
  }
 },
 "nbformat": 4,
 "nbformat_minor": 5
}
