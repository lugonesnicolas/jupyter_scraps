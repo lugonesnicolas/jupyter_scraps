{
 "cells": [
  {
   "cell_type": "code",
   "execution_count": 1,
   "id": "4da6e448-d534-4df1-a625-ce49fee76a05",
   "metadata": {},
   "outputs": [],
   "source": [
    "import requests\n",
    "import re\n",
    "from bs4 import BeautifulSoup"
   ]
  },
  {
   "cell_type": "code",
   "execution_count": 2,
   "id": "3c2a6651-00de-4454-b3dd-d9a1a84a0ef6",
   "metadata": {},
   "outputs": [],
   "source": [
    "ids = ['98450117-d546-41de-a817-189e60756b06', '3cd8edae-6c59-4fbe-86b2-2a0a68684eea', '98450117-d546-41de-a817-189e60756b06',\n",
    "       '86dc225e-a457-403c-8f4c-068b8235ee5f', 'e2fc107e-b8cf-4491-90fb-f595721e10fa']"
   ]
  },
  {
   "cell_type": "code",
   "execution_count": 3,
   "id": "3bf75384-f80c-4efe-8095-143bca6ea484",
   "metadata": {},
   "outputs": [],
   "source": [
    "url = \"https://api.talabat.com/grocery/v1/vendors/3e4a1b63-2010-4818-a132-d1060e39e18b/products/34ab0ea0-6a8d-4368-8daa-c4a8f5833dfe?brand=talabat&country_code=ae&language_code=en_AE\"\n",
    "headers = {\n",
    "  'User-Agent': 'Mozilla/5.0 (Windows NT 10.0; Win64; x64; rv:123.0) Gecko/20100101 Firefox/123.0',\n",
    "  'Accept': 'text/html,application/xhtml+xml,application/xml;q=0.9,image/avif,image/webp,*/*;q=0.8',\n",
    "  'Accept-Language': 'es-AR,es;q=0.8,en-US;q=0.5,en;q=0.3',\n",
    "  'Accept-Encoding': 'gzip, deflate, br',\n",
    "  'Connection': 'keep-alive',\n",
    "  'Cookie': 'cart_api=v2; _abck=59F693FA2C262E4EB9B6DF0D13FE55B8~0~YAAQyvcSAogN4jWOAQAAXiVqPQunryhm2VrehJwFWGtFCp8ufcagrPeSIl55ijflh3sG6N2y97wAeTB0Sh8NCo5kUfhAe6+aWXe+s9QIxqas/GMEmxBqazFF2HY6poVX0LdkSHslYJdwQZCPLVALZXCRO6JJeputl3kGNCbUgVLu9cH5IKImvgyju7k5SvbDdyrrqF5r87J+yIRxSbhQrQTfB0nHYl1S42x+svEAWPBEHoGYx49OB5jQMwQi4ZzQdcCMIU2PCVDtzwUrpnSpqBLw0ToaJfZIKena9CSLEfaAT9hlk849YSZjhrzZxuEJE5ZoFpyDFdDO5m2AcHRJpueAeNnLLwqL99hEpRki44qzXk39AbpCaklyBfI0UyzVDSe9lk0T+Ly7yIy5XsBG2coWEbcrvg/9GYognn5t3w==~-1~-1~-1; storeInfo=mafuae|en|AED; OptanonConsent=isGpcEnabled=1&datestamp=Thu+Mar+14+2024+11%3A43%3A14+GMT-0300+(hora+est%C3%A1ndar+de+Argentina)&version=202301.2.0&hosts=&groups=C0004%3A1%2CC0001%3A1%2CC0002%3A1%2CC0003%3A1&consentId=ccb02f39-f0b2-4416-b38b-a3192a1b75c6&landingPath=NotLandingPage; mafuae-web-preferred-delivery-area=\"Dubai Festival City - Dubai\"; ab.storage.sessionId.e6577fac-30b0-4270-a5df-788ef16dc4cd=%7B%22g%22%3A%2274607fef-9dd7-545f-316f-7f3a034a19a2%22%2C%22e%22%3A1710429192420%2C%22c%22%3A1710425901302%2C%22l%22%3A1710427392420%7D; hideCoachMark=true; maf-session-id=CB0A0E3D-53D5-C80F-04CE-2E2377A7D0FF; mafuae-preferred-delivery-area=19%2033A%20St%20-%20Al%20Rashidiya%20 - %20Dubai%20; prevAreaCode=19%2033A%20St%20-%20Al%20Rashidiya%20 - %20Dubai%20; guest-session-token=aOTnKRB7qXnobya0Pn_-DppGGlE; ak_bmsc=63C9E467B8B6AFA52A6442554529FD98~000000000000000000000000000000~YAAQB/cSAvJXVDWOAQAALw1ZPRdGGQ51xlc+tewsiszcEVSljx7PYvA+m0uQXzoSPMet6kIrPBIiRWN3DNZ8y8yakgiCCEMqp1l5rf5ewxN6/fqw2mvlGhJ3jF/qx4dFmM0psN709243Nnhir1EWs4qsOz/baneHkf88XVuXxNTWhIu3GbGGHzk1roWVweVWQ/WHiugiJ8GyABYGxgsBb2klyRXwS16cfSYQe6YS0/pBJnbmnoAM+G7GlyQ3gPaUarOmqdm7C3h65Xg/9UGpw9qJy9cq2iKmOqUGKbN5slYCS+WExU8VRsue4OSBj6rPV/2JBqxOOrOoO+9HjRqxeprBWHuaUfNtnsIvA924DsmffwHbo7WnjcC9vJjOcqv8jBzHcvi+BFv/YymaNOPOGAOfIskE9haQZcBIK4sxI/C/dQA3+i/6jV1B2+XuyhXsDVbXTauI2a+IWMA0SfC+XBx3/Ww0f96ftK0Hsf32azJGlfiG7pCtdGNfnI2qrHUNOrYjcX2EGCWSSVvj3D1w2LLwySEHrFUi9Eo4CZmw1LP/N5UZ876NI2++7SM=; bm_sz=21053646DC0DE539A442AA346FCE4598~YAAQjA/EF8CF9zmOAQAAnwhUPReUsSfAUvQERXGJmUxXKG0vp85fHNP9ie3C8bG2jAxtHgtp67GIy7SJUEvusEHaBFbIEnJyqFqK5oceX/fQ7Qcfc2CowSKEHFVLR6nHRhwumxajAdEvwfZcUW9m+9ekysIlvMEhdsyFnoHNN5pReozSw5SaAdbmwCuq/sjHYuQ3wWq1iqgyGj66YVFYxw/8FBl/1V7ZoLBWDAcWC+V/1E1U+MPgPz348K5nznqYkaqg6tBnjkZXm6x1CyvLvqOuoHGVbam9XC5ZvY2EAwUxsJKzhldfhW9h4zqDn8WeA5L8LjxRD37zyXPzfqswt5aTz+4hNUJni+l83iDjqm5NyTF2iHCkK+Fyx1xdSA==~3163188~4534578; page_type=product-details; bm_sv=4F13F203E84E4379385694D196A9B1A7~YAAQyvcSAtUn4jWOAQAANNJqPRefJrYrWmkp4/1OMJrS3my0DzodqmYk68H1ov3Ugz6afAsOCRuDKu8XUuxhG7fwQ3ZyhvxBcomHuE3wbefQGg5CwfObr9cc/bDmkokoPl50lrZ9hWdeekxLoO/UA64jIs3ZYG07SPezU6Z/rXOC7pfHX5BWxsX7KpgSWZoiip8e1jZS2MCc5lincbUOwZ9Y+ihfCxC1thBkO/rxumApTFDt0UrvO0whoG3VW1w475KJJJcucQ==~1; _gcl_au=1.1.885303438.1710425902; bm_mi=DFA2131AB1451EF81402AACE8B962A88~YAAQjA/EFwyG9zmOAQAATDlUPRe3dUtjQUoLoS4LGMOlTPKTChs5Hj6GMbcsvxJSDQQ5c7j445Q0V39fWoQqhfMp4su/F7pMbtQvQY+j3BJ6LUbUVfhBez1lOhGUKKN3HzRx8Zpr9SY3L5pyFolAeDH7L3GT6UHmeiv2cCxgfxH+6MKpZpo66yngy/fy7N6d1QCyL05V79g+SXfcD3OTHQGpGCSwghXVq1cfeuYgTk7g9E32CxPDrK81Bauioyt1WVBjinfvaY0FDC8i6i43a4uQ3pVPO1B0LE/VMg23yGunvhoNztxXrPE+mV5K5xJR2sFzbzEb4v+8xPms5SKyPtI4fY4Dzll/fSFOcNi7z1zSiEyByrh6gw0uIbswhiSNLcCBgS1V+WP9uwBBQ2NJZpxfavlQzQ==~1; OptanonAlertBoxClosed=2024-03-14T14:42:37.947Z; lat=25.2280695; long=55.38268790000001; __cf_bm=a3yccbzyTlVtGvgSheaIN.FVyVV_L4hpFPlVx4zoFBs-1710440785-1.0.1.1-yXHRpOQ3sKB2tcnpVnITLCtC8Wl9bPOVl7Z0d7SPB.1ksZMHorjhq52MtjPTWgs.Sw9quTP5aJMKRMxVTuZ3tK4w5NH2_6cp8oP_eXsgXK0; AWSALB=m0TQTdjZ42+MTUapJ1HHeBTuKF9beFZbepEavZyt95eIU5cCN+IOEbofyGSMKGJBXsuMXICm/CxdfDZofsnWnecIUBOUVunoX40nA1zw7YTB6SqGj5yxE61PzmeZ; AWSALBCORS=m0TQTdjZ42+MTUapJ1HHeBTuKF9beFZbepEavZyt95eIU5cCN+IOEbofyGSMKGJBXsuMXICm/CxdfDZofsnWnecIUBOUVunoX40nA1zw7YTB6SqGj5yxE61PzmeZ',\n",
    "  'Upgrade-Insecure-Requests': '1',\n",
    "  'Sec-Fetch-Dest': 'document',\n",
    "  'Sec-Fetch-Mode': 'navigate',\n",
    "  'Sec-Fetch-Site': 'none',\n",
    "  'Sec-Fetch-User': '?1',\n",
    "  'Sec-GPC': '1'\n",
    "}"
   ]
  },
  {
   "cell_type": "code",
   "execution_count": 4,
   "id": "99e98bdc-d2bb-46d6-bde6-1c868dab9590",
   "metadata": {},
   "outputs": [
    {
     "name": "stdout",
     "output_type": "stream",
     "text": [
      "{'data': {'id': '34ab0ea0-6a8d-4368-8daa-c4a8f5833dfe', 'name': 'Pampers Premium Care Newborn Taped Diapers, Size 2, 3-8kg, 46 Diapers', 'parent_id': '34ab0ea0-6a8d-4368-8daa-c4a8f5833dfe', 'parent_name': 'Pampers Premium Care Newborn Taped Diapers, Size 2, 3-8kg, 46 Diapers', 'image_url': 'https://images.deliveryhero.io/image/talabat-nv/Pampers/8001090267313_1.jpg', 'description': \"Pampers Premium Care Newborn Baby Taped Diaper is soft and gentle on your little one's skin. It offers unique softest absorption and ultimate skin protection to ensure your baby will have a leak-free comfort. \\nDesigned in German labs, Pampers Premium Care Diapers have been voted the softest diapers in the GCC by moms. Their cotton-like softness and built-in lotion keep your baby's skin healthy and soft while helping prevent skin irritation. \\n\\nWhat is the difference between Pampers and Pampers Premium Care? Pampers Premium Care Baby Diapers come with a special layer to ensure extra absorption and prevent runny or messiness. This extra layer helps distribute wetness evenly, thereby ensuring dryness and less bulk. \\n\\nWhich age can Pampers Premium Care diapers be used for? Pampers Size 2 Premium Care Newborn Taped Diapers are designed to provide comfortable and ultimate skin protection care to babies weighing from 3-8kg, making them a must for newborn baby items. Additionally, their unique navel cut will protect your little one's belly with a perfectly contoured fit, making them comfortable for your baby all through the day. \\nPampers Premium Care Diapers also come with a wetness indicator that changes from yellow to blue, signalling that it might be time to change the nappies. No wonder Pampers baby diaper is a preferred choice of moms around the world. \\n\\nFeatures & Benefits:\\nULTIMATE SKIN PROTECTION & UNIQUE SOFTEST ABSORPTION: Pampers Premium Care Newborn Taped Diapers come with cotton-like softness and built-in lotion to ensure unique softest absorption for ultimate skin protection. \\nSOFTEST DIAPER IN THE GCC: Pampers Premium Care Baby Diapers provide all round soft and stretchy sides, gently wrapping your baby in silky softness to give an extra comfortable fit. They protect your baby’s delicate belly and comfortably snug their body. No wonder Pampers Premium Care Diapers are the best diapers in the GCC. \\nNAVEL CUT: Specifically designed for newborns, Pampers Baby Diapers Size 2 come with navel cut that will protect your baby's belly with a perfectly contoured fit to always ensure their comfort. \\nBREATHABLE MATERIALS: These diapers are made with a lotion that helps protect your baby from skin irritation. The breathable materials with micropores let fresh air in and humid air out allowing the skin to breathe freely. \\nRUNNY-MESS ABSORPTION: The only diaper lined with a unique Absorb-Away Layer. The Premium Care Diaper technology will pull wetness and mess away from your baby’s skin to ensure an even better protection against irritation. \\nQUICK DRY SYSTEM: Driven by its super absorbent quilts, Pampers Premium Care Diapers pull away wetness and provide soft and silky feel to your baby’s skin. \\nWETNESS INDICATOR: Made with features you and your baby will love, these Pampers diapers come with a handy wetness indicator that simply goes from yellow to blue, so you always know when it might be time to change. \", 'vendor_id': '3e4a1b63-2010-4818-a132-d1060e39e18b', 'chain_id': '', 'price': 39.45, 'original_price': 39.45, 'pricing_details': {'original_price': 39.45, 'price': 39.45, 'highlight_style': 'default'}, 'volume_score': 0, 'estimated_available_timestamp': '', 'global_catalog_id': '34ab0ea0-6a8d-4368-8daa-c4a8f5833dfe', 'global_catalog_vendor_id': '3e4a1b63-2010-4818-a132-d1060e39e18b', 'is_available': True, 'stock_amount': 4, 'image_urls': [{'url': 'https://images.deliveryhero.io/image/talabat-nv/Pampers/8001090267313_1.jpg'}, {'url': 'https://images.deliveryhero.io/image/talabat-nv/Pampers/8001090267313_2.jpg'}, {'url': 'https://images.deliveryhero.io/image/talabat-nv/Pampers/8001090267313_3.jpg'}, {'url': 'https://images.deliveryhero.io/image/talabat-nv/Pampers/8001090267313_4.jpg'}, {'url': 'https://images.deliveryhero.io/image/talabat-nv/Pampers/8001090267313_5.jpg'}, {'url': 'https://images.deliveryhero.io/image/talabat-nv/Pampers/8001090267313_.jpg'}, {'url': 'https://images.deliveryhero.io/image/talabat-nv/Pampers/8001090267313_7.jpg'}, {'url': 'https://images.deliveryhero.io/image/talabat-nv/Pampers/8001090267313_8.jpg'}], 'tags': ['pampers', 'babyp', 'pampersjune', 'pampbra', '62'], 'attributes': [], 'characteristics': {'originalPrice': '39.450000', 'available': 'false', 'salesBuffer': '0', 'pieceBarcodes': '08001090267313', 'chainProductId': '514839', 'sku': '907611', 'masterCode': 'KW87U2WA', 'brand': '', 'weightValue': '1000.00', 'weightUnit': 'g', 'lengthInCm': '18.00', 'widthInCm': '11.80', 'heightInCm': '37.80', 'numberOfUnits': '1', 'contentsValue': '46.00', 'contentsUnit': 'pieces', 'shelfLifeInDays': '0', 'isPackagedFood': 'false', 'pharmacyPrescription': 'NONE', 'vendor_pos_integrated': 'false', 'sold_by_weight': 'false', 'manufacturer_safety_information': '', 'dosage_information_health_warning': '', 'restricted_substance_warning': '', 'vatRate': '5.00', 'ageLimit': '0', 'baseUnit': 'piece', 'baseContentValue': '1', 'pricePerBaseUnit': '0.8576', 'freshnessGuaranteeInDays': '0', 'maximumSalesQuantity': '0'}, 'sku': '907611', 'vat': {'type': '', 'value': 5}, 'group_ids': [], 'packaging_charge': 0, 'category_id': '6a47f957-17ad-49dc-b0cb-b5cea0103d65', 'display_tags': [], 'extended_info': {'stored_at': {'title': 'Stored at', 'text': '20° - 25°', 'description': 'This product is stored at the ideal temperature to keep it fresh'}, 'country': {'title': 'Country', 'code': ''}, 'content_unit': {'title': 'Pack size', 'text': '46 Pieces'}, 'tags': [], 'shelf_life': {'text': ''}, 'net_contents_description': {'text': ''}}}}\n"
     ]
    }
   ],
   "source": [
    "response = requests.get(url, headers=headers)\n",
    "data_product = response.json()\n",
    "print(data_product)"
   ]
  },
  {
   "cell_type": "code",
   "execution_count": 5,
   "id": "dc07aa52-2523-41f6-bad4-2b15c310711c",
   "metadata": {},
   "outputs": [],
   "source": [
    "title = data_product['data'].get('name', '')\n",
    "description = data_product['data'].get('description', '')\n",
    "characteristics = data_product['data'].get('characteristics', '')\n",
    "brand = characteristics.get('brand', '')\n",
    "final_price = data_product['data'].get('price', '')\n",
    "old_price = data_product['data'].get('original_price', '')\n",
    "image = data_product['data']['image_url']\n",
    "images = data_product['data']['image_urls']\n",
    "q_images = len(data_product['data']['image_urls']) - 1 if data_product['data'].get('image_urls', 0) != 0 or data_product['data'].get('image_urls', 0) != None else 0\n",
    "pack_size = data_product['data']['extended_info']['content_unit']['text']\n",
    "sku = data_product['data']['sku']"
   ]
  },
  {
   "cell_type": "code",
   "execution_count": 6,
   "id": "c9fac34d-58ed-4655-ab8f-022b4ffeb2f6",
   "metadata": {},
   "outputs": [
    {
     "name": "stdout",
     "output_type": "stream",
     "text": [
      "Url: https://api.talabat.com/grocery/v1/vendors/3e4a1b63-2010-4818-a132-d1060e39e18b/products/34ab0ea0-6a8d-4368-8daa-c4a8f5833dfe?brand=talabat&country_code=ae&language_code=en_AE\n",
      "Title:Pampers Premium Care Newborn Taped Diapers, Size 2, 3-8kg, 46 Diapers\n",
      "Description:Pampers Premium Care Newborn Baby Taped Diaper is soft and gentle on your little one's skin. It offers unique softest absorption and ultimate skin protection to ensure your baby will have a leak-free comfort. \n",
      "Designed in German labs, Pampers Premium Care Diapers have been voted the softest diapers in the GCC by moms. Their cotton-like softness and built-in lotion keep your baby's skin healthy and...\n",
      "Brand: \n",
      "LandingImage:https://images.deliveryhero.io/image/talabat-nv/Pampers/8001090267313_1.jpg\n",
      "QImages:7\n",
      "PackSize:46 Pieces\n",
      "Sku:907611\n"
     ]
    }
   ],
   "source": [
    "print(f\"Url: {url}\")\n",
    "print(f\"Title:{title}\")\n",
    "print(f\"Description:{description[0:400]}...\")\n",
    "print(f\"Brand: {brand}\")\n",
    "print(f\"LandingImage:{image}\")\n",
    "print(f\"QImages:{q_images}\")\n",
    "print(f\"PackSize:{pack_size}\")\n",
    "print(f\"Sku:{sku}\")"
   ]
  },
  {
   "cell_type": "code",
   "execution_count": 7,
   "id": "e9642f9d-67c0-48ee-99c3-0a6a5061d78d",
   "metadata": {},
   "outputs": [],
   "source": [
    "def get_product(url, headers):\n",
    "    response = requests.get(url, headers=headers)\n",
    "    try:\n",
    "        data_product = response.json()\n",
    "        print(data_product)\n",
    "        title = data_product['data'].get('name', '')\n",
    "        description = data_product['data'].get('description', '')\n",
    "        characteristics = data_product['data'].get('characteristics', '')\n",
    "        brand = characteristics.get('brand', '')\n",
    "        final_price = data_product['data'].get('price', '')\n",
    "        old_price = data_product['data'].get('original_price', '')\n",
    "\n",
    "        print(f\"Url: {url}\")\n",
    "        print(f\"Title:{title}\")\n",
    "        # print(f\"Description:{description}\")\n",
    "        print(f\"Characteristics: {characteristics}\")\n",
    "        print(f\"Brand: {brand}\")\n",
    "        print(f\"FinalPrice:{final_price}\")\n",
    "        print(f\"OldPrice:{old_price}\\n\")\n",
    "    except Exception as e:\n",
    "        print(f\"Url: {url}\")\n",
    "        print(f\"Error - {e}\\n\")"
   ]
  },
  {
   "cell_type": "code",
   "execution_count": 8,
   "id": "32f588a0-341a-49a1-ac2c-3417a8c11991",
   "metadata": {},
   "outputs": [
    {
     "name": "stdout",
     "output_type": "stream",
     "text": [
      "{'name': 'ResourceNotFoundException', 'message': 'Resource 98450117-d546-41de-a817-189e60756b06 of type ProductId not found', 'debug_id': '53efa0febd3172246e50026cb25ab01d', 'details': None}\n",
      "Url: https://api.talabat.com/grocery/v1/vendors/3e4a1b63-2010-4818-a132-d1060e39e18b/products/98450117-d546-41de-a817-189e60756b06?brand=talabat&country_code=ae&language_code=en_AE\n",
      "Error - 'data'\n",
      "\n",
      "{'data': {'id': '3cd8edae-6c59-4fbe-86b2-2a0a68684eea', 'name': 'Clorox Liquid Bleach 950 ml', 'parent_id': '3cd8edae-6c59-4fbe-86b2-2a0a68684eea', 'parent_name': 'Clorox Liquid Bleach 950 ml', 'image_url': 'https://images.deliveryhero.io/image/darkstores/groceries-catalog/products-uae/UAE_6281065013202.jpg', 'description': '• POWERFUL DISINFECTANT: Clorox Bleach kills 99.9% of viruses & bacteria* and removes common allergens around your household. (*HIV 1, Ebola, Hepatitis A, Avian Influenza Type A, MRSA, Influenza A, Influenza A2, Salmonella Choleraesius) \\n• ONE PRODUCT, MANY USAGES: Clorox Bleach is an all-in-one cleaning alternative that eliminates common germs around your home and office. Use our multipurpose cleaner to clean and disinfect kitchen counters, dishes, sinks, bathroom surfaces, clothes and more\\n• MULTI-SURFACE CLEANER: Our Bleach can be used for cleaning and disinfecting a wide range of hard nonporous surfaces like bathtubs, showers, floors, walls tiles and drains. You can also disinfect your plastic and wooden cutting boards and use on children’s plastic toys\\n• TOUGH STAIN REMOVER : Clorox Bleach is your go-to solution to remove household stains. Use it every day to keep your house clean and shiny.\\n• GIVES YOU THE WHITEST WHITES: Clorox Bleach is the perfect choice to remove stains from your laundry. Its anti-yellowing formula leaves your clothes with the whitest whites. Dilute Clorox Bleach with water and use it to disinfect and whiten your clothes.', 'vendor_id': '3e4a1b63-2010-4818-a132-d1060e39e18b', 'chain_id': '', 'price': 8.25, 'original_price': 8.25, 'pricing': {'original_price': 8.25, 'packaging_charge': 0, 'Price': 8.25, 'highlight_style': 'default'}, 'volume_score': 0, 'estimated_available_timestamp': '', 'global_catalog_id': '3cd8edae-6c59-4fbe-86b2-2a0a68684eea', 'global_catalog_vendor_id': '3e4a1b63-2010-4818-a132-d1060e39e18b', 'is_available': True, 'stock_amount': 11, 'image_urls': [{'url': 'https://images.deliveryhero.io/image/darkstores/groceries-catalog/products-uae/UAE_6281065013202.jpg'}, {'url': \"https://images.deliveryhero.io/image/talabat-nv/Netscribe%20Images(don't%20touch)/Other%201/6281065013202_1.jpg\"}, {'url': 'https://images.deliveryhero.io/image/talabat-nv/Regional_Images/Lulu_Web_Scrapped/6281065013202.0_2.jpg'}], 'tags': ['clorox'], 'attributes': [], 'characteristics': {'originalPrice': '8.250000', 'available': 'false', 'salesBuffer': '0', 'pieceBarcodes': '06281065013202', 'chainProductId': '1597', 'sku': '901954', 'masterCode': 'KWXI43Y8', 'brand': '', 'weightValue': '950.00', 'weightUnit': 'g', 'lengthInCm': '8.60', 'widthInCm': '8.60', 'heightInCm': '25.80', 'numberOfUnits': '1', 'contentsValue': '950.00', 'contentsUnit': 'ml', 'shelfLifeInDays': '0', 'isPackagedFood': 'false', 'pharmacyPrescription': 'NONE', 'vendor_pos_integrated': 'false', 'sold_by_weight': 'false', 'manufacturer_safety_information': '', 'dosage_information_health_warning': '', 'restricted_substance_warning': '', 'vatRate': '5.00', 'ageLimit': '0', 'baseUnit': 'l', 'baseContentValue': '1', 'pricePerBaseUnit': '8.6842', 'freshnessGuaranteeInDays': '0', 'maximumSalesQuantity': '0'}, 'sku': '901954', 'vat': {'type': '', 'value': 5}, 'group_ids': [], 'packaging_charge': 0, 'category_id': '7a3f11f1-08f2-4c57-ad03-cffe387ebcd0', 'display_tags': [], 'extended_info': {'stored_at': {'title': 'Stored at', 'text': '20° - 25°', 'description': 'This product is stored at the ideal temperature to keep it fresh'}, 'country': {'title': 'Country', 'code': ''}, 'content_unit': {'title': 'Pack size', 'text': '950 ml'}, 'tags': [], 'shelf_life': {'text': ''}, 'net_contents_description': {'text': ''}}}}\n",
      "Url: https://api.talabat.com/grocery/v1/vendors/3e4a1b63-2010-4818-a132-d1060e39e18b/products/3cd8edae-6c59-4fbe-86b2-2a0a68684eea?brand=talabat&country_code=ae&language_code=en_AE\n",
      "Title:Clorox Liquid Bleach 950 ml\n",
      "Characteristics: {'originalPrice': '8.250000', 'available': 'false', 'salesBuffer': '0', 'pieceBarcodes': '06281065013202', 'chainProductId': '1597', 'sku': '901954', 'masterCode': 'KWXI43Y8', 'brand': '', 'weightValue': '950.00', 'weightUnit': 'g', 'lengthInCm': '8.60', 'widthInCm': '8.60', 'heightInCm': '25.80', 'numberOfUnits': '1', 'contentsValue': '950.00', 'contentsUnit': 'ml', 'shelfLifeInDays': '0', 'isPackagedFood': 'false', 'pharmacyPrescription': 'NONE', 'vendor_pos_integrated': 'false', 'sold_by_weight': 'false', 'manufacturer_safety_information': '', 'dosage_information_health_warning': '', 'restricted_substance_warning': '', 'vatRate': '5.00', 'ageLimit': '0', 'baseUnit': 'l', 'baseContentValue': '1', 'pricePerBaseUnit': '8.6842', 'freshnessGuaranteeInDays': '0', 'maximumSalesQuantity': '0'}\n",
      "Brand: \n",
      "FinalPrice:8.25\n",
      "OldPrice:8.25\n",
      "\n",
      "{'name': 'ResourceNotFoundException', 'message': 'Resource 98450117-d546-41de-a817-189e60756b06 of type ProductId not found', 'debug_id': '2b559a47e882daf273518d6cf3a1940d', 'details': None}\n",
      "Url: https://api.talabat.com/grocery/v1/vendors/3e4a1b63-2010-4818-a132-d1060e39e18b/products/98450117-d546-41de-a817-189e60756b06?brand=talabat&country_code=ae&language_code=en_AE\n",
      "Error - 'data'\n",
      "\n",
      "{'name': 'ResourceNotFoundException', 'message': 'Resource 86dc225e-a457-403c-8f4c-068b8235ee5f of type ProductId not found', 'debug_id': 'd5deb6b04ac6e50d34644918beaca98c', 'details': None}\n",
      "Url: https://api.talabat.com/grocery/v1/vendors/3e4a1b63-2010-4818-a132-d1060e39e18b/products/86dc225e-a457-403c-8f4c-068b8235ee5f?brand=talabat&country_code=ae&language_code=en_AE\n",
      "Error - 'data'\n",
      "\n",
      "{'data': {'id': 'e2fc107e-b8cf-4491-90fb-f595721e10fa', 'name': 'Head & Shoulders Classic Clean Anti-Dandruff Shampoo, 400ml', 'parent_id': 'e2fc107e-b8cf-4491-90fb-f595721e10fa', 'parent_name': 'Head & Shoulders Classic Clean Anti-Dandruff Shampoo, 400ml', 'image_url': 'https://images.deliveryhero.io/image/talabat-nv/Regional_Images_2024/Hero_Images/5011321360945.png', 'description': 'Get rid of dandruff with Head & Shoulders Classic Clean anti-dandruff shampoo. Equipped with formula containing pyrithione zinc, Classic Clean shampoo fights dandruff better than a typical anti-dandruff shampoo (vs. competitor anti-dandruff shampoo with 1 percent pyrithione zinc). Head & Shoulders shampoos with 3 Action Formula cleanse, protect and moisturize your scalp and hair (with regular use), so you can stay up to 100 percent dandruff free (visible dandruff, with daily use).\\nFeatures and Benefits:\\n\\nUp to 100 percent dandruff free hair (visible dandruff, with daily use)\\nWith Clinically Tested Pyrithione Zinc Formula\\nFights dandruff better than a typical anti-dandruff shampoo\\n3 Action Formula: cleanses, protects and moisturizes hair and scalp (with regular use)\\nFor A Deep, Clean Feeling And Healthy-Looking Hair\\n', 'vendor_id': '3e4a1b63-2010-4818-a132-d1060e39e18b', 'chain_id': '', 'price': 25.75, 'original_price': 25.75, 'pricing': {'original_price': 25.75, 'packaging_charge': 0, 'Price': 25.75, 'highlight_style': 'default'}, 'volume_score': 0, 'estimated_available_timestamp': '', 'global_catalog_id': 'e2fc107e-b8cf-4491-90fb-f595721e10fa', 'global_catalog_vendor_id': '3e4a1b63-2010-4818-a132-d1060e39e18b', 'is_available': True, 'stock_amount': 3, 'image_urls': [{'url': 'https://images.deliveryhero.io/image/talabat-nv/Regional_Images_2024/Hero_Images/5011321360945.png'}, {'url': 'https://images.deliveryhero.io/image/talabat-nv/P_G/5011321360945.jpg'}, {'url': 'https://images.deliveryhero.io/image/talabat-nv/P_G/5011321360945_1.jpg'}, {'url': 'https://images.deliveryhero.io/image/talabat-nv/P_G/5011321360945_2.jpg'}, {'url': 'https://images.deliveryhero.io/image/talabat-nv/P_G/5011321360945_3.jpg'}, {'url': 'https://images.deliveryhero.io/image/talabat-nv/P_G/5011321360945_4.jpg'}, {'url': 'https://images.deliveryhero.io/image/talabat-nv/P_G/5011321360945_5.jpg'}, {'url': 'https://images.deliveryhero.io/image/talabat-nv/P_G/5011321360945_6.jpg'}, {'url': 'https://images.deliveryhero.io/image/talabat-nv/P_G/5011321360945_7.jpg'}], 'tags': ['hair', 'erer'], 'attributes': [], 'characteristics': {'originalPrice': '25.750000', 'available': 'false', 'salesBuffer': '0', 'pieceBarcodes': '05011321360945', 'chainProductId': '1973', 'sku': '902002', 'masterCode': 'KW11A506', 'brand': '', 'weightValue': '440.00', 'weightUnit': 'g', 'lengthInCm': '4.20', 'widthInCm': '7.40', 'heightInCm': '21.00', 'numberOfUnits': '1', 'contentsValue': '400.00', 'contentsUnit': 'ml', 'shelfLifeInDays': '0', 'isPackagedFood': 'false', 'pharmacyPrescription': 'NONE', 'vendor_pos_integrated': 'false', 'sold_by_weight': 'false', 'manufacturer_safety_information': '', 'dosage_information_health_warning': '', 'restricted_substance_warning': '', 'vatRate': '5.00', 'ageLimit': '0', 'baseUnit': 'l', 'baseContentValue': '1', 'pricePerBaseUnit': '64.3750', 'freshnessGuaranteeInDays': '0', 'maximumSalesQuantity': '0'}, 'sku': '902002', 'vat': {'type': '', 'value': 5}, 'group_ids': [], 'packaging_charge': 0, 'category_id': '3570065e-aa05-4ad6-b6ee-d71cb431fc1a', 'display_tags': [], 'extended_info': {'stored_at': {'title': 'Stored at', 'text': '20° - 25°', 'description': 'This product is stored at the ideal temperature to keep it fresh'}, 'country': {'title': 'Country', 'code': 'qa'}, 'content_unit': {'title': 'Pack size', 'text': '400 ml'}, 'tags': [], 'shelf_life': {'text': ''}, 'net_contents_description': {'text': ''}}}}\n",
      "Url: https://api.talabat.com/grocery/v1/vendors/3e4a1b63-2010-4818-a132-d1060e39e18b/products/e2fc107e-b8cf-4491-90fb-f595721e10fa?brand=talabat&country_code=ae&language_code=en_AE\n",
      "Title:Head & Shoulders Classic Clean Anti-Dandruff Shampoo, 400ml\n",
      "Characteristics: {'originalPrice': '25.750000', 'available': 'false', 'salesBuffer': '0', 'pieceBarcodes': '05011321360945', 'chainProductId': '1973', 'sku': '902002', 'masterCode': 'KW11A506', 'brand': '', 'weightValue': '440.00', 'weightUnit': 'g', 'lengthInCm': '4.20', 'widthInCm': '7.40', 'heightInCm': '21.00', 'numberOfUnits': '1', 'contentsValue': '400.00', 'contentsUnit': 'ml', 'shelfLifeInDays': '0', 'isPackagedFood': 'false', 'pharmacyPrescription': 'NONE', 'vendor_pos_integrated': 'false', 'sold_by_weight': 'false', 'manufacturer_safety_information': '', 'dosage_information_health_warning': '', 'restricted_substance_warning': '', 'vatRate': '5.00', 'ageLimit': '0', 'baseUnit': 'l', 'baseContentValue': '1', 'pricePerBaseUnit': '64.3750', 'freshnessGuaranteeInDays': '0', 'maximumSalesQuantity': '0'}\n",
      "Brand: \n",
      "FinalPrice:25.75\n",
      "OldPrice:25.75\n",
      "\n"
     ]
    }
   ],
   "source": [
    "for id in ids:\n",
    "    url = f\"https://api.talabat.com/grocery/v1/vendors/3e4a1b63-2010-4818-a132-d1060e39e18b/products/{id}?brand=talabat&country_code=ae&language_code=en_AE\"\n",
    "    get_product(url, headers)"
   ]
  },
  {
   "cell_type": "code",
   "execution_count": 2,
   "id": "5737265a-0046-406e-8bb7-934e8f019236",
   "metadata": {},
   "outputs": [
    {
     "name": "stdout",
     "output_type": "stream",
     "text": [
      "{'age_limit': 0, 'attributes': [], 'category_id': 'd2649800-3947-44fa-af7d-5304ed7fa894', 'chain_id': '', 'characteristics': {'ageLimit': '0', 'available': 'false', 'baseContentValue': '1', 'baseUnit': 'kg', 'brand': '', 'chainProductId': '370558', 'contentsUnit': 'g', 'contentsValue': '180.00', 'dosage_information_health_warning': '', 'freshnessGuaranteeInDays': '0', 'heightInCm': '3.40', 'isPackagedFood': 'false', 'lengthInCm': '11.40', 'manufacturer_safety_information': '', 'masterCode': 'BHD40JVT', 'maximumSalesQuantity': '0', 'net_contents_description': '{\"ar\":\"\",\"en\":\"\",\"ku\":\"\"}', 'numberOfUnits': '1', 'originalPrice': '12.265000', 'pharmacyPrescription': 'NONE', 'pieceBarcodes': '07622210624840', 'pricePerBaseUnit': '68.1389', 'restricted_substance_warning': '', 'salesBuffer': '0', 'shelfLifeInDays': '0', 'sku': '906421', 'sold_by_weight': 'false', 'vatRate': '5.00', 'vendor_pos_integrated': 'false', 'weightUnit': 'g', 'weightValue': '240.00', 'widthInCm': '8.40'}, 'description': 'Made with pasturised milk and real cream, Philadelphia Original Cream Cheese has the fresh and creamy taste. Philadelphia is fantastically versatile, whether you are spreading it into wholesome sliced bread topped with sliced avocado or grilled chicken, or stirring it into your pasta for a lighter sauce. Suitable for vegetarians.', 'display_tags': [], 'estimated_available_timestamp': '', 'extended_info': {'content_unit': {'text': '180 g', 'title': 'Pack size'}, 'country': {'code': 'us', 'title': 'Country'}, 'net_contents_description': {'text': ''}, 'shelf_life': {'text': ''}, 'stored_at': {'description': 'This product is stored at the ideal temperature to keep it fresh', 'text': '5°', 'title': 'Stored at'}, 'tags': []}, 'id': 'ebd99a01-68ee-4e97-bb03-61d9beef9306', 'image_url': 'https://images.deliveryhero.io/image/talabat-nv/Regional_Images/Tmart_Images/7622210624840.jpg', 'image_urls': [{'url': 'https://images.deliveryhero.io/image/talabat-nv/Regional_Images/Tmart_Images/7622210624840.jpg'}], 'is_sponsored': False, 'name': 'Philadelphia Cream Cheese 180 g', 'original_price': 12.265, 'parent_id': 'ebd99a01-68ee-4e97-bb03-61d9beef9306', 'parent_name': 'Philadelphia Cream Cheese 180 g', 'price': 12.265, 'pricing_details': {'highlight_style': 'default', 'original_price': 12.265, 'price': 12.265}, 'sku': '906421', 'stock_amount': 9, 'tags': ['philadelphia'], 'variants': {'group_id': '65c1019c62e625a2a20b793d', 'variants_group': {'id': 'dimensions_variant', 'name': 'Size', 'options': [{'id': '180_g', 'layout_type': 'small', 'name': '180g', 'product_attributes': {'id': 'ebd99a01-68ee-4e97-bb03-61d9beef9306', 'image_url': 'https://images.deliveryhero.io/image/talabat-nv/Regional_Images/Tmart_Images/7622210624840.jpg', 'original_price': 12.265, 'price': 12.265}}, {'id': '280_g', 'layout_type': 'small', 'name': '280g', 'product_attributes': {'id': '36da717c-81c1-45ea-8ea5-c4c496cd2e3e', 'image_url': 'https://images.deliveryhero.io/image/talabat-nv/Regional_Images/Lulu_Web_Scrapped/7622210624918.0_0.jpg', 'original_price': 18.1, 'price': 18.1}}]}}, 'vendor_id': '4b4f686b-0d68-4286-a0e4-b06a2c1567ea'}\n"
     ]
    }
   ],
   "source": [
    "url = \"https://api.talabat.com/grocery/v2/ae/pages/vendors/4b4f686b-0d68-4286-a0e4-b06a2c1567ea/product-details?isDarkstore=true&productId=ebd99a01-68ee-4e97-bb03-61d9beef9306\"\n",
    "headers = {\n",
    "  'accept-encoding': 'gzip',\n",
    "  'accept-language': 'en-US',\n",
    "  'appbrand': '1',\n",
    "  'host': 'api.talabat.com',\n",
    "  'newrelic': 'eyJ2IjpbMCwyXSwiZCI6eyJ0eSI6Ik1vYmlsZSIsImFjIjoiOTM4OTU4IiwiYXAiOiI0MTQ0NjE2MzgiLCJ0ciI6ImRmMTZjMDdjMjU2MTRiYzA5ZWZhNTRjZjdiZWI1OWRlIiwiaWQiOiI1MTI3OGNhZDJiOTU0N2VjIiwidGkiOjE3MTUzNjI4MDg1NzEsInRrIjoiMzQ2MDgwIn19',\n",
    "  'traceparent': '00-df16c07c25614bc09efa54cf7beb59de-51278cad2b9547ec-00',\n",
    "  'tracestate': '346080@nr=0-2-938958-414461638-51278cad2b9547ec----1715362808571',\n",
    "  'user-agent': 'Dart/2.19 (dart:io)',\n",
    "  'x-device-framework': 'flutter',\n",
    "  'x-device-source': '6',\n",
    "  'x-device-version': '10.442',\n",
    "  'x-perseusclientid': '1711459087436.182339997051444231.txpOK01DXW',\n",
    "  'x-perseussessionid': '1715362136412.532262559751316382.OiA5Br59sw',\n",
    "  'x-weightables-enabled': 'true',\n",
    "}\n",
    "response = requests.get(url, headers=headers)\n",
    "data_product = response.json()\n",
    "print(data_product['product'])"
   ]
  },
  {
   "cell_type": "code",
   "execution_count": 4,
   "id": "39bdecd7-c93f-4404-bc2a-11b28bf3710d",
   "metadata": {},
   "outputs": [],
   "source": [
    "import requests\n",
    "\n",
    "url = \"https://api.talabat.com/grocery/v2/ae/pages/vendors/4b4f686b-0d68-4286-a0e4-b06a2c1567ea/product-details?isDarkstore=true&productId=ebd99a01-68ee-4e97-bb03-61d9beef9306\"\n",
    "payload = {}\n",
    "headers = {\n",
    "  'accept-encoding': 'gzip',\n",
    "  'accept-language': 'en-US',\n",
    "  'appbrand': '1',\n",
    "  'host': 'api.talabat.com',\n",
    "  'newrelic': 'eyJ2IjpbMCwyXSwiZCI6eyJ0eSI6Ik1vYmlsZSIsImFjIjoiOTM4OTU4IiwiYXAiOiI0MTQ0NjE2MzgiLCJ0ciI6ImRmMTZjMDdjMjU2MTRiYzA5ZWZhNTRjZjdiZWI1OWRlIiwiaWQiOiI1MTI3OGNhZDJiOTU0N2VjIiwidGkiOjE3MTUzNjI4MDg1NzEsInRrIjoiMzQ2MDgwIn19',\n",
    "  'traceparent': '00-df16c07c25614bc09efa54cf7beb59de-51278cad2b9547ec-00',\n",
    "  'tracestate': '346080@nr=0-2-938958-414461638-51278cad2b9547ec----1715362808571',\n",
    "  'user-agent': 'Dart/2.19 (dart:io)',\n",
    "  'x-device-framework': 'flutter',\n",
    "  'x-device-source': '6',\n",
    "  'x-device-version': '10.442',\n",
    "  'x-perseusclientid': '1711459087436.182339997051444231.txpOK01DXW',\n",
    "  'x-perseussessionid': '1715362136412.532262559751316382.OiA5Br59sw',\n",
    "  'x-weightables-enabled': 'true',\n",
    "}\n",
    "\n",
    "response = requests.request(\"GET\", url, headers=headers, data=payload)\n",
    "data = response.json()\n",
    "data_product = data['product'] # data_product = data_product.get('product')"
   ]
  },
  {
   "cell_type": "code",
   "execution_count": 5,
   "id": "b08687d1-0274-4394-b0c7-65b59ce9e945",
   "metadata": {},
   "outputs": [
    {
     "name": "stdout",
     "output_type": "stream",
     "text": [
      "{'age_limit': 0, 'attributes': [], 'category_id': 'd2649800-3947-44fa-af7d-5304ed7fa894', 'chain_id': '', 'characteristics': {'ageLimit': '0', 'available': 'false', 'baseContentValue': '1', 'baseUnit': 'kg', 'brand': '', 'chainProductId': '370558', 'contentsUnit': 'g', 'contentsValue': '180.00', 'dosage_information_health_warning': '', 'freshnessGuaranteeInDays': '0', 'heightInCm': '3.40', 'isPackagedFood': 'false', 'lengthInCm': '11.40', 'manufacturer_safety_information': '', 'masterCode': 'BHD40JVT', 'maximumSalesQuantity': '0', 'net_contents_description': '{\"ar\":\"\",\"en\":\"\",\"ku\":\"\"}', 'numberOfUnits': '1', 'originalPrice': '12.265000', 'pharmacyPrescription': 'NONE', 'pieceBarcodes': '07622210624840', 'pricePerBaseUnit': '68.1389', 'restricted_substance_warning': '', 'salesBuffer': '0', 'shelfLifeInDays': '0', 'sku': '906421', 'sold_by_weight': 'false', 'vatRate': '5.00', 'vendor_pos_integrated': 'false', 'weightUnit': 'g', 'weightValue': '240.00', 'widthInCm': '8.40'}, 'description': 'Made with pasturised milk and real cream, Philadelphia Original Cream Cheese has the fresh and creamy taste. Philadelphia is fantastically versatile, whether you are spreading it into wholesome sliced bread topped with sliced avocado or grilled chicken, or stirring it into your pasta for a lighter sauce. Suitable for vegetarians.', 'display_tags': [], 'estimated_available_timestamp': '', 'extended_info': {'content_unit': {'text': '180 g', 'title': 'Pack size'}, 'country': {'code': 'us', 'title': 'Country'}, 'net_contents_description': {'text': ''}, 'shelf_life': {'text': ''}, 'stored_at': {'description': 'This product is stored at the ideal temperature to keep it fresh', 'text': '5°', 'title': 'Stored at'}, 'tags': []}, 'id': 'ebd99a01-68ee-4e97-bb03-61d9beef9306', 'image_url': 'https://images.deliveryhero.io/image/talabat-nv/Regional_Images/Tmart_Images/7622210624840.jpg', 'image_urls': [{'url': 'https://images.deliveryhero.io/image/talabat-nv/Regional_Images/Tmart_Images/7622210624840.jpg'}], 'is_sponsored': False, 'name': 'Philadelphia Cream Cheese 180 g', 'original_price': 12.265, 'parent_id': 'ebd99a01-68ee-4e97-bb03-61d9beef9306', 'parent_name': 'Philadelphia Cream Cheese 180 g', 'price': 12.265, 'pricing_details': {'highlight_style': 'default', 'original_price': 12.265, 'price': 12.265}, 'sku': '906421', 'stock_amount': 9, 'tags': ['philadelphia'], 'variants': {'group_id': '65c1019c62e625a2a20b793d', 'variants_group': {'id': 'dimensions_variant', 'name': 'Size', 'options': [{'id': '180_g', 'layout_type': 'small', 'name': '180g', 'product_attributes': {'id': 'ebd99a01-68ee-4e97-bb03-61d9beef9306', 'image_url': 'https://images.deliveryhero.io/image/talabat-nv/Regional_Images/Tmart_Images/7622210624840.jpg', 'original_price': 12.265, 'price': 12.265}}, {'id': '280_g', 'layout_type': 'small', 'name': '280g', 'product_attributes': {'id': '36da717c-81c1-45ea-8ea5-c4c496cd2e3e', 'image_url': 'https://images.deliveryhero.io/image/talabat-nv/Regional_Images/Lulu_Web_Scrapped/7622210624918.0_0.jpg', 'original_price': 18.1, 'price': 18.1}}]}}, 'vendor_id': '4b4f686b-0d68-4286-a0e4-b06a2c1567ea'}\n"
     ]
    }
   ],
   "source": [
    "print(data_product)"
   ]
  },
  {
   "cell_type": "code",
   "execution_count": 8,
   "id": "67a66ccc-942c-4f36-b988-8064b5bd2c92",
   "metadata": {},
   "outputs": [],
   "source": [
    "# print(data_product['product'])\n",
    "title = data_product.get('name', '')\n",
    "description = data_product.get('description', '')\n",
    "characteristics = data_product.get('characteristics', '')\n",
    "available = characteristics.get('available', '')\n",
    "stock_amount = data_product.get('stock_amount', '')\n",
    "stock = 1 if stock_amount != 0 else 0\n",
    "brand = characteristics.get('brand', '')\n",
    "final_price = data_product.get('price', '')\n",
    "old_price = data_product.get('original_price', '')\n",
    "final_price = round(final_price, 1)\n",
    "old_price = round(old_price, 1)\n",
    "image = data_product['image_url']\n",
    "images = data_product['image_urls']\n",
    "q_images = len(data_product.get('image_urls', 0)) - 1 if data_product.get('image_urls', 0) != 0 or data_product.get('image_urls', 0) != None else 0\n",
    "contents_value = characteristics.get('contentsValue','')\n",
    "contents_unit = characteristics.get('contentsUnit','')\n",
    "pack_size = f\"{contents_value} {contents_unit}\"\n",
    "sku = data_product.get('sku', '')\n",
    "\n",
    "# if stock != 0 or stock != None or stock != False:\n",
    "#     stock = 1\n",
    "# else:\n",
    "#     stock = 0"
   ]
  },
  {
   "cell_type": "code",
   "execution_count": 9,
   "id": "60a9d1ee-df4f-4e8a-b817-8ef1fffbf3c1",
   "metadata": {},
   "outputs": [
    {
     "name": "stdout",
     "output_type": "stream",
     "text": [
      "FinalPrice: 12.3\n",
      "OldPrice: 12.3\n",
      "Url: https://api.talabat.com/grocery/v2/ae/pages/vendors/4b4f686b-0d68-4286-a0e4-b06a2c1567ea/product-details?isDarkstore=true&productId=ebd99a01-68ee-4e97-bb03-61d9beef9306\n",
      "Title:Philadelphia Cream Cheese 180 g\n",
      "Description:Made with pasturised milk and real cream, Philadelphia Original Cream Cheese has the fresh and creamy taste. Philadelphia is fantastically versatile, whether you are spreading it into wholesome sliced bread topped with sliced avocado or grilled chicken, or stirring it into your pasta for a lighter sauce. Suitable for vegetarians....\n",
      "Brand: \n",
      "Characteristics: {'ageLimit': '0', 'available': 'false', 'baseContentValue': '1', 'baseUnit': 'kg', 'brand': '', 'chainProductId': '370558', 'contentsUnit': 'g', 'contentsValue': '180.00', 'dosage_information_health_warning': '', 'freshnessGuaranteeInDays': '0', 'heightInCm': '3.40', 'isPackagedFood': 'false', 'lengthInCm': '11.40', 'manufacturer_safety_information': '', 'masterCode': 'BHD40JVT', 'maximumSalesQuantity': '0', 'net_contents_description': '{\"ar\":\"\",\"en\":\"\",\"ku\":\"\"}', 'numberOfUnits': '1', 'originalPrice': '12.265000', 'pharmacyPrescription': 'NONE', 'pieceBarcodes': '07622210624840', 'pricePerBaseUnit': '68.1389', 'restricted_substance_warning': '', 'salesBuffer': '0', 'shelfLifeInDays': '0', 'sku': '906421', 'sold_by_weight': 'false', 'vatRate': '5.00', 'vendor_pos_integrated': 'false', 'weightUnit': 'g', 'weightValue': '240.00', 'widthInCm': '8.40'}\n",
      "LandingImage:https://images.deliveryhero.io/image/talabat-nv/Regional_Images/Tmart_Images/7622210624840.jpg\n",
      "QImages:0\n",
      "PackSize:180.00 g\n",
      "Sku:906421\n",
      "Stock:1\n",
      "Available:false\n"
     ]
    }
   ],
   "source": [
    "print(f\"FinalPrice: {final_price}\")\n",
    "print(f\"OldPrice: {old_price}\")\n",
    "print(f\"Url: {url}\")\n",
    "print(f\"Title:{title}\")\n",
    "print(f\"Description:{description[0:400]}...\")\n",
    "print(f\"Brand: {brand}\")\n",
    "print(f\"Characteristics: {characteristics}\")\n",
    "print(f\"LandingImage:{image}\")\n",
    "print(f\"QImages:{q_images}\")\n",
    "print(f\"PackSize:{pack_size}\")\n",
    "print(f\"Sku:{sku}\")\n",
    "print(f\"Stock:{stock}\")\n",
    "print(f\"Available:{available}\")"
   ]
  },
  {
   "cell_type": "markdown",
   "id": "40e037df-25ed-43bc-b08a-988653923d46",
   "metadata": {},
   "source": [
    "# Descarga de imagen"
   ]
  },
  {
   "cell_type": "code",
   "execution_count": 101,
   "id": "65c525c4-a447-41e2-b8d6-f18fdd8ea572",
   "metadata": {},
   "outputs": [],
   "source": [
    "import requests\n",
    "\n",
    "url = \"https://api.talabat.com/grocery/v2/ae/pages/vendors/4b4f686b-0d68-4286-a0e4-b06a2c1567ea/product-details?isDarkstore=true&productId=ff8facbf-96c7-4c7f-8d80-4b21b809422d\"\n",
    "\n",
    "payload = {}\n",
    "headers = {\n",
    "  'accept-encoding': 'gzip',\n",
    "  'accept-language': 'en-US',\n",
    "  'appbrand': '1',\n",
    "  'host': 'api.talabat.com',\n",
    "  'newrelic': 'eyJ2IjpbMCwyXSwiZCI6eyJ0eSI6Ik1vYmlsZSIsImFjIjoiOTM4OTU4IiwiYXAiOiI0MTQ0NjE2MzgiLCJ0ciI6ImRmMTZjMDdjMjU2MTRiYzA5ZWZhNTRjZjdiZWI1OWRlIiwiaWQiOiI1MTI3OGNhZDJiOTU0N2VjIiwidGkiOjE3MTUzNjI4MDg1NzEsInRrIjoiMzQ2MDgwIn19',\n",
    "  'traceparent': '00-df16c07c25614bc09efa54cf7beb59de-51278cad2b9547ec-00',\n",
    "  'tracestate': '346080@nr=0-2-938958-414461638-51278cad2b9547ec----1715362808571',\n",
    "  'user-agent': 'Dart/2.19 (dart:io)',\n",
    "  'x-device-framework': 'flutter',\n",
    "  'x-device-source': '6',\n",
    "  'x-device-version': '10.442',\n",
    "  'x-perseusclientid': '1711459087436.182339997051444231.txpOK01DXW',\n",
    "  'x-perseussessionid': '1715362136412.532262559751316382.OiA5Br59sw',\n",
    "  'x-weightables-enabled': 'true',\n",
    "}\n",
    "\n",
    "response = requests.request(\"GET\", url, headers=headers, data=payload)\n",
    "path = f\"A:\\\\BeOn_Repositories\\\\imagenes_talabat\"\n",
    "data = response.json()\n",
    "data_product = data['product']\n",
    "image = data_product.get('image_url','')\n",
    "title = data_product.get('name', '')\n",
    "file_name = f\"{path}\\\\TalabatApp_{title}.jpg\""
   ]
  },
  {
   "cell_type": "code",
   "execution_count": 102,
   "id": "72fce628-eba0-4b31-8105-dab6f0623c3c",
   "metadata": {},
   "outputs": [
    {
     "name": "stdout",
     "output_type": "stream",
     "text": [
      "LandingImage: https://images.deliveryhero.io/image/talabat-nv/Regional_Images/Tmart_Uae/New/5283005903490.MAIN.jpg\n"
     ]
    }
   ],
   "source": [
    "print(f\"LandingImage: {image}\")"
   ]
  },
  {
   "cell_type": "code",
   "execution_count": 106,
   "id": "2229d497-a042-49d0-afa9-da73db6ebd42",
   "metadata": {},
   "outputs": [],
   "source": [
    "headers = {\n",
    "  'Cookie': '__cf_bm=mqBBpsxdC9YF2cmp.KmnVbBBv7se9LYk0dwAQa3a05M-1715801928-1.0.1.1-ghQ5WVxoPFgs_h5xsooLBEWOmab2qFqEYjeXijb9GzCU2yof5GqqPBDInT0DmVQO22oyvodivtj47zGW9gQ_ZA; _cfuvid=Amzn1.9hBeuDx7p9ESwhxh6kqD2IKIscwc3qIYvGtHo-1715801928709-0.0.1.1-604800000'\n",
    "}"
   ]
  },
  {
   "cell_type": "code",
   "execution_count": 107,
   "id": "dd988f75-b904-4b79-8a1c-45add44f0475",
   "metadata": {},
   "outputs": [],
   "source": [
    "response_image = requests.get(image)"
   ]
  },
  {
   "cell_type": "code",
   "execution_count": 108,
   "id": "66b5318e-775a-4b40-971e-810350b3bf86",
   "metadata": {},
   "outputs": [],
   "source": [
    "with open(file_name, \"wb\") as f:\n",
    "    f.write(response_image.content)"
   ]
  },
  {
   "cell_type": "markdown",
   "id": "108a5405-9cf4-4693-b12f-86b21b63a0eb",
   "metadata": {},
   "source": [
    "# Headers"
   ]
  },
  {
   "cell_type": "code",
   "execution_count": 35,
   "id": "ca17500b-e6cc-4d95-8a97-4b3a41b2507e",
   "metadata": {},
   "outputs": [
    {
     "name": "stdout",
     "output_type": "stream",
     "text": [
      "Url: https://api.talabat.com/grocery/v1/vendors/3287c581-06dd-482d-9027-fa4b0fda4394/products/0ddd4d61-09df-45b4-b978-fde8db645223?brand=talabat&country_code=ae&language_code=en_AE\n",
      "Title:Oreo Original Milk's Favorite Cookies 147.2 g\n",
      "FinalPrice: 4.75\n",
      "OldPrice: 4.75\n",
      "Stock: 1\n",
      "Description:Indulge in the classic taste of Oreo Cookies Original, packaged in a 147.2g box, perfect for sharing or satisfying your sweet tooth. Each cookie is meticulously crafted, featuring two deliciously rich, chocolate-flavored wafers sandwiching a smooth, creamy vanilla filling. The result is a delightful crunch and a burst of flavor with every bite. These cookies are perfect for dunking in a glass of c...\n",
      "Brand: \n",
      "LandingImage:https://images.deliveryhero.io/image/talabat-nv/Regional_Images/Tmart_Oman/07622201698256.png\n",
      "QImages:0\n",
      "PackSize:147 g\n",
      "Sku:900085\n"
     ]
    }
   ],
   "source": [
    "#AlHosn\n",
    "url = \"https://api.talabat.com/grocery/v1/vendors/3287c581-06dd-482d-9027-fa4b0fda4394/products/0ddd4d61-09df-45b4-b978-fde8db645223?brand=talabat&country_code=ae&language_code=en_AE\"\n",
    "payload = {}\n",
    "headers = {\n",
    "  'accept-encoding': 'gzip',\n",
    "  'accept-language': 'en-US',\n",
    "  'appbrand': '1',\n",
    "  'authtokentype': 'guest',\n",
    "  'brandtype': '1',\n",
    "  'connection': 'Keep-Alive',\n",
    "  'host': 'api.talabat.com',\n",
    "  'newrelic': 'eyJ2IjpbMCwyXSwiZCI6eyJ0eSI6Ik1vYmlsZSIsImFjIjoiOTM4OTU4IiwiYXAiOiI0MTQ0NjE2MzgiLCJ0ciI6IjUzYjZjNDU3MTYwMTQyZjFhNzZmYmZhZWNmZDAxZjYxIiwiaWQiOiJkODM4YjU2YjQxNTg0ZjI5IiwidGkiOjE3MTY5MDM0MTI5MTIsInRrIjoiMzQ2MDgwIn19',\n",
    "  'traceparent': '00-53b6c457160142f1a76fbfaecfd01f61-d838b56b41584f29-00',\n",
    "  'tracestate': '346080@nr=0-2-938958-414461638-d838b56b41584f29----1716903412912',\n",
    "  'user-agent': 'okhttp/4.10.0',\n",
    "  'x-device-id': 'e95299ca0874b933',\n",
    "  'x-device-source': '6',\n",
    "  'x-device-version': '10.442',\n",
    "  'x-newrelic-id': 'XQUPWFNbGwcBUFVUBgcEXg==',\n",
    "  'x-perseusclientid': '1711459087436.182339997051444231.txpOK01DXW',\n",
    "  'x-perseussessionid': '1716899275229.349773314211336524.9byIxFVNTo',\n",
    "  'x-talabat-android-installation-path': 'L2RhdGEvdXNlci8wL2NvbS50YWxhYmF0',\n",
    "  'x-talabat-android-package-name': 'com.talabat',\n",
    "  'Cookie': '__cf_bm=8dRvEqhSyCBN7Tm._tc._CSgyUeC6Dxq.rjK3z9WOaQ-1716902104-1.0.1.1-RhH.KvkoHsNNqcLaaLk5.sP7sdV3vLEwh3tm8aWXiGbMJ4NuXsVkEbWJqJbpdNXL_0vgrUSDRvw6fZ6YEYPBV0CHhgygSSmnl5wK79Zco9Y; AWSALB=dFRtsd6YBEi98FtRTgdz0pBfaTlXBxdl1wzPyLKRF8ry445Op6dJFHRZt7GvBswm/vNdumxo3xXuNlQKdTo+Q5U4nprqPXSO0HORQIegtiFq62DIsOfJ2PKhKFqn; AWSALBCORS=dFRtsd6YBEi98FtRTgdz0pBfaTlXBxdl1wzPyLKRF8ry445Op6dJFHRZt7GvBswm/vNdumxo3xXuNlQKdTo+Q5U4nprqPXSO0HORQIegtiFq62DIsOfJ2PKhKFqn'\n",
    "}\n",
    "response = requests.request(\"GET\", url, headers=headers, data=payload)\n",
    "data_product = response.json() # data_product = data_product.get('product')\n",
    "title = data_product['data'].get('name', '')\n",
    "description = data_product['data'].get('description', '')\n",
    "characteristics = data_product['data'].get('characteristics', '')\n",
    "brand = characteristics.get('brand', '')\n",
    "final_price = data_product['data'].get('price', '')\n",
    "old_price = data_product['data'].get('original_price', '')\n",
    "image = data_product['data']['image_url']\n",
    "images = data_product['data']['image_urls']\n",
    "q_images = len(data_product['data']['image_urls']) - 1 if data_product['data'].get('image_urls', 0) != 0 or data_product['data'].get('image_urls', 0) != None else 0\n",
    "pack_size = data_product['data']['extended_info']['content_unit']['text']\n",
    "sku = data_product['data']['sku']\n",
    "stock_amount = data_product.get('stock_amount', '')\n",
    "stock = 1 if stock_amount != 0 else 0\n",
    "print(f\"Url: {url}\")\n",
    "print(f\"Title:{title}\")\n",
    "print(f\"FinalPrice: {final_price}\")\n",
    "print(f\"OldPrice: {old_price}\")\n",
    "print(f\"Stock: {stock}\")\n",
    "print(f\"Description:{description[0:400]}...\")\n",
    "print(f\"Brand: {brand}\")\n",
    "print(f\"LandingImage:{image}\")\n",
    "print(f\"QImages:{q_images}\")\n",
    "print(f\"PackSize:{pack_size}\")\n",
    "print(f\"Sku:{sku}\")"
   ]
  },
  {
   "cell_type": "code",
   "execution_count": 34,
   "id": "39886e79-6804-4e24-a3e3-5deaf09ddc4f",
   "metadata": {},
   "outputs": [
    {
     "name": "stdout",
     "output_type": "stream",
     "text": [
      "Url: https://api.talabat.com/grocery/v1/vendors/4b4f686b-0d68-4286-a0e4-b06a2c1567ea/products/5b15f90e-3854-4833-95ba-9ba7cdacf7ec?brand=talabat&country_code=ae&language_code=en_AE\n",
      "Title:Oreo Chocolate Creme Flavoured Playful Cookies, 12x38g\n",
      "FinalPrice: 16.5\n",
      "OldPrice: 16.5\n",
      "Stock: 1\n",
      "Description:Orea Choco Crème Biscuit, Ingredients: Wheat Flour (Gluten), Sugar, Non-Hydrogenated Vegetable Oils (Palm Fruit), Fat-Reduced Cocoa Powder, Glucose Syrup, Raising Agents ( Sodium And Ammonium Bicarbonates), Salt, Emulsifer (Soya Lecithin), Vanillin Flavouring....\n",
      "Brand: \n",
      "LandingImage:https://images.deliveryhero.io/image/talabat-nv/Regional_Images/NVF-10-07-2023/7622201764548.jpg\n",
      "QImages:0\n",
      "PackSize:38 g\n",
      "Sku:906378\n"
     ]
    }
   ],
   "source": [
    "#AlShamkha\n",
    "url = \"https://api.talabat.com/grocery/v1/vendors/4b4f686b-0d68-4286-a0e4-b06a2c1567ea/products/5b15f90e-3854-4833-95ba-9ba7cdacf7ec?brand=talabat&country_code=ae&language_code=en_AE\"\n",
    "payload = {}\n",
    "headers = {\n",
    "  'accept-encoding': 'gzip',\n",
    "  'accept-language': 'en-US',\n",
    "  'appbrand': '1',\n",
    "  'authtokentype': 'guest',\n",
    "  'brandtype': '1',\n",
    "  'connection': 'Keep-Alive',\n",
    "  'host': 'api.talabat.com',\n",
    "  'newrelic': 'eyJ2IjpbMCwyXSwiZCI6eyJ0eSI6Ik1vYmlsZSIsImFjIjoiOTM4OTU4IiwiYXAiOiI0MTQ0NjE2MzgiLCJ0ciI6ImZhNWNlM2M0ZDI0ZjQ0YTlhZGY5YTcxMjFhNDFhOTRhIiwiaWQiOiI3N2I2ZWM2ZDI4ODQ0MzUxIiwidGkiOjE3MTY5MDMwMTAwNTcsInRrIjoiMzQ2MDgwIn19',\n",
    "  'traceparent': '00-fa5ce3c4d24f44a9adf9a7121a41a94a-77b6ec6d28844351-00',\n",
    "  'tracestate': '346080@nr=0-2-938958-414461638-77b6ec6d28844351----1716903010054',\n",
    "  'user-agent': 'okhttp/4.10.0',\n",
    "  'x-device-id': 'e95299ca0874b933',\n",
    "  'x-device-source': '6',\n",
    "  'x-device-version': '10.442',\n",
    "  'x-newrelic-id': 'XQUPWFNbGwcBUFVUBgcEXg==',\n",
    "  'x-perseusclientid': '1711459087436.182339997051444231.txpOK01DXW',\n",
    "  'x-perseussessionid': '1716899275229.349773314211336524.9byIxFVNTo',\n",
    "  'x-talabat-android-installation-path': 'L2RhdGEvdXNlci8wL2NvbS50YWxhYmF0',\n",
    "  'x-talabat-android-package-name': 'com.talabat',\n",
    "  'Cookie': '__cf_bm=8dRvEqhSyCBN7Tm._tc._CSgyUeC6Dxq.rjK3z9WOaQ-1716902104-1.0.1.1-RhH.KvkoHsNNqcLaaLk5.sP7sdV3vLEwh3tm8aWXiGbMJ4NuXsVkEbWJqJbpdNXL_0vgrUSDRvw6fZ6YEYPBV0CHhgygSSmnl5wK79Zco9Y; AWSALB=X9W+r7DLK196J6JEN+2rq8vYa/7T+k5knksEuhZzSlVyI8DQ6IqoQEj0ffUIFJXRl7GykFjeQgEqgP+QeX4MtI4jhdXnKFSvvSgsLVJ8QVbGGG4RRlwq/FFqpW3/; AWSALBCORS=X9W+r7DLK196J6JEN+2rq8vYa/7T+k5knksEuhZzSlVyI8DQ6IqoQEj0ffUIFJXRl7GykFjeQgEqgP+QeX4MtI4jhdXnKFSvvSgsLVJ8QVbGGG4RRlwq/FFqpW3/'\n",
    "}\n",
    "response = requests.request(\"GET\", url, headers=headers, data=payload)\n",
    "data_product = response.json() # data_product = data_product.get('product')\n",
    "title = data_product['data'].get('name', '')\n",
    "description = data_product['data'].get('description', '')\n",
    "characteristics = data_product['data'].get('characteristics', '')\n",
    "brand = characteristics.get('brand', '')\n",
    "final_price = data_product['data'].get('price', '')\n",
    "old_price = data_product['data'].get('original_price', '')\n",
    "image = data_product['data']['image_url']\n",
    "images = data_product['data']['image_urls']\n",
    "q_images = len(data_product['data']['image_urls']) - 1 if data_product['data'].get('image_urls', 0) != 0 or data_product['data'].get('image_urls', 0) != None else 0\n",
    "pack_size = data_product['data']['extended_info']['content_unit']['text']\n",
    "sku = data_product['data']['sku']\n",
    "stock_amount = data_product.get('stock_amount', '')\n",
    "stock = 1 if stock_amount != 0 else 0\n",
    "print(f\"Url: {url}\")\n",
    "print(f\"Title:{title}\")\n",
    "print(f\"FinalPrice: {final_price}\")\n",
    "print(f\"OldPrice: {old_price}\")\n",
    "print(f\"Stock: {stock}\")\n",
    "print(f\"Description:{description[0:400]}...\")\n",
    "print(f\"Brand: {brand}\")\n",
    "print(f\"LandingImage:{image}\")\n",
    "print(f\"QImages:{q_images}\")\n",
    "print(f\"PackSize:{pack_size}\")\n",
    "print(f\"Sku:{sku}\")"
   ]
  },
  {
   "cell_type": "code",
   "execution_count": 33,
   "id": "8b9afb0e-c2dd-43cd-8890-9dc77bee2065",
   "metadata": {},
   "outputs": [
    {
     "name": "stdout",
     "output_type": "stream",
     "text": [
      "Url: https://api.talabat.com/grocery/v1/vendors/3e4a1b63-2010-4818-a132-d1060e39e18b/products/85f81f95-44cf-408f-93f9-c3cf5908abba?brand=talabat&country_code=ae&language_code=en_AE\n",
      "Title:Oreo Original Milk's Favorite Cookies 358.8 g\n",
      "FinalPrice: 11.5\n",
      "OldPrice: 11.5\n",
      "Stock: 1\n",
      "Description:• Made using premium ingredients for safe consumption\n",
      "• Ideal choice for on-the-go relish\n",
      "• Can be eaten as is or with milk\n",
      "• Perfect for making cheesecakes and other desserts\n",
      "• Flaky, crumbly texture delights your taste buds\n",
      "• Infused with vanilla filling for a creamy snacking experience...\n",
      "Brand: \n",
      "LandingImage:https://images.deliveryhero.io/image/talabat-nv/Regional_Images/Tmart_Oman/07622201707118.png\n",
      "QImages:0\n",
      "PackSize:358.80 g\n",
      "Sku:901757\n"
     ]
    }
   ],
   "source": [
    "#AlWarqa1\n",
    "url = \"https://api.talabat.com/grocery/v1/vendors/3e4a1b63-2010-4818-a132-d1060e39e18b/products/85f81f95-44cf-408f-93f9-c3cf5908abba?brand=talabat&country_code=ae&language_code=en_AE\"\n",
    "\n",
    "payload = {}\n",
    "headers = {\n",
    "  'accept-encoding': 'gzip',\n",
    "  'accept-language': 'en-US',\n",
    "  'appbrand': '1',\n",
    "  'authtokentype': 'guest',\n",
    "  'brandtype': '1',\n",
    "  'connection': 'Keep-Alive',\n",
    "  'host': 'api.talabat.com',\n",
    "  'newrelic': 'eyJ2IjpbMCwyXSwiZCI6eyJ0eSI6Ik1vYmlsZSIsImFjIjoiOTM4OTU4IiwiYXAiOiI0MTQ0NjE2MzgiLCJ0ciI6IjQ1OTEzYjhiZGM4YTQ0NTk4NmZmOWE4OTJlYjkyMGI0IiwiaWQiOiI5NmY3NmUzNzI4ZjY0Yjg5IiwidGkiOjE3MTY5MDI1MzcyOTQsInRrIjoiMzQ2MDgwIn19',\n",
    "  'traceparent': '00-45913b8bdc8a445986ff9a892eb920b4-96f76e3728f64b89-00',\n",
    "  'tracestate': '346080@nr=0-2-938958-414461638-96f76e3728f64b89----1716902537294',\n",
    "  'user-agent': 'okhttp/4.10.0',\n",
    "  'x-device-id': 'e95299ca0874b933',\n",
    "  'x-device-source': '6',\n",
    "  'x-device-version': '10.442',\n",
    "  'x-newrelic-id': 'XQUPWFNbGwcBUFVUBgcEXg==',\n",
    "  'x-perseusclientid': '1711459087436.182339997051444231.txpOK01DXW',\n",
    "  'x-perseussessionid': '1716899275229.349773314211336524.9byIxFVNTo',\n",
    "  'x-talabat-android-installation-path': 'L2RhdGEvdXNlci8wL2NvbS50YWxhYmF0',\n",
    "  'x-talabat-android-package-name': 'com.talabat',\n",
    "  'Cookie': '__cf_bm=8dRvEqhSyCBN7Tm._tc._CSgyUeC6Dxq.rjK3z9WOaQ-1716902104-1.0.1.1-RhH.KvkoHsNNqcLaaLk5.sP7sdV3vLEwh3tm8aWXiGbMJ4NuXsVkEbWJqJbpdNXL_0vgrUSDRvw6fZ6YEYPBV0CHhgygSSmnl5wK79Zco9Y; AWSALB=iGH7cKBet6P17RUFgHBdWA3SgapkVdbXsUDaDL60Szc5cQtvjJqxbCeOO5LFynWgtEP3gK8tzPOynt2ZTZxNiBxkh2OecIuTifc+6nM+JiDdekTl3044/xtJrEyf; AWSALBCORS=iGH7cKBet6P17RUFgHBdWA3SgapkVdbXsUDaDL60Szc5cQtvjJqxbCeOO5LFynWgtEP3gK8tzPOynt2ZTZxNiBxkh2OecIuTifc+6nM+JiDdekTl3044/xtJrEyf'\n",
    "}\n",
    "response = requests.request(\"GET\", url, headers=headers, data=payload)\n",
    "data_product = response.json() # data_product = data_product.get('product')\n",
    "title = data_product['data'].get('name', '')\n",
    "description = data_product['data'].get('description', '')\n",
    "characteristics = data_product['data'].get('characteristics', '')\n",
    "brand = characteristics.get('brand', '')\n",
    "final_price = data_product['data'].get('price', '')\n",
    "old_price = data_product['data'].get('original_price', '')\n",
    "image = data_product['data']['image_url']\n",
    "images = data_product['data']['image_urls']\n",
    "q_images = len(data_product['data']['image_urls']) - 1 if data_product['data'].get('image_urls', 0) != 0 or data_product['data'].get('image_urls', 0) != None else 0\n",
    "pack_size = data_product['data']['extended_info']['content_unit']['text']\n",
    "sku = data_product['data']['sku']\n",
    "stock_amount = data_product.get('stock_amount', '')\n",
    "stock = 1 if stock_amount != 0 else 0\n",
    "brand = characteristics.get('brand', '')\n",
    "if 'No Brand' == brand or brand == None:\n",
    "    brand = ''\n",
    "print(f\"Url: {url}\")\n",
    "print(f\"Title:{title}\")\n",
    "print(f\"FinalPrice: {final_price}\")\n",
    "print(f\"OldPrice: {old_price}\")\n",
    "print(f\"Stock: {stock}\")\n",
    "print(f\"Description:{description[0:400]}...\")\n",
    "print(f\"Brand: {brand}\")\n",
    "print(f\"LandingImage:{image}\")\n",
    "print(f\"QImages:{q_images}\")\n",
    "print(f\"PackSize:{pack_size}\")\n",
    "print(f\"Sku:{sku}\")"
   ]
  },
  {
   "cell_type": "code",
   "execution_count": 32,
   "id": "f1256307-eb63-488d-a4db-93a6dc1da8f2",
   "metadata": {},
   "outputs": [
    {
     "name": "stdout",
     "output_type": "stream",
     "text": [
      "Url: https://api.talabat.com/grocery/v1/vendors/f2a9da55-9bcb-4f16-a647-0952aff7f180/products/36d706fa-079d-4f12-b8fd-573b5e94337a?brand=talabat&country_code=ae&language_code=en_AE\n",
      "Title:Oreo Original Milk's Favorite Cookies 147.2 g\n",
      "FinalPrice: 4.75\n",
      "OldPrice: 4.75\n",
      "Stock: 1\n",
      "Description:Indulge in the classic taste of Oreo Cookies Original, packaged in a 147.2g box, perfect for sharing or satisfying your sweet tooth. Each cookie is meticulously crafted, featuring two deliciously rich, chocolate-flavored wafers sandwiching a smooth, creamy vanilla filling. The result is a delightful crunch and a burst of flavor with every bite. These cookies are perfect for dunking in a glass of c...\n",
      "Brand: \n",
      "LandingImage:https://images.deliveryhero.io/image/talabat-nv/Regional_Images/Tmart_Oman/07622201698256.png\n",
      "QImages:0\n",
      "PackSize:147 g\n",
      "Sku:900085\n"
     ]
    }
   ],
   "source": [
    "#BussinesBay\n",
    "url = \"https://api.talabat.com/grocery/v1/vendors/f2a9da55-9bcb-4f16-a647-0952aff7f180/products/36d706fa-079d-4f12-b8fd-573b5e94337a?brand=talabat&country_code=ae&language_code=en_AE\"\n",
    "payload = {}\n",
    "headers = {\n",
    "  'accept-encoding': 'gzip',\n",
    "  'accept-language': 'en-US',\n",
    "  'appbrand': '1',\n",
    "  'authtokentype': 'guest',\n",
    "  'brandtype': '1',\n",
    "  'connection': 'Keep-Alive',\n",
    "  'host': 'api.talabat.com',\n",
    "  'newrelic': 'eyJ2IjpbMCwyXSwiZCI6eyJ0eSI6Ik1vYmlsZSIsImFjIjoiOTM4OTU4IiwiYXAiOiI0MTQ0NjE2MzgiLCJ0ciI6ImMxYTZjYjAxMzMyYjQ3NjI4NjlmOTNkZDVmNjk0OTBmIiwiaWQiOiI2YTRkOGEwNTZhYzU0MmY1IiwidGkiOjE3MTY5MDIyNzk0MzAsInRrIjoiMzQ2MDgwIn19',\n",
    "  'traceparent': '00-c1a6cb01332b4762869f93dd5f69490f-6a4d8a056ac542f5-00',\n",
    "  'tracestate': '346080@nr=0-2-938958-414461638-6a4d8a056ac542f5----1716902279430',\n",
    "  'user-agent': 'okhttp/4.10.0',\n",
    "  'x-device-id': 'e95299ca0874b933',\n",
    "  'x-device-source': '6',\n",
    "  'x-device-version': '10.442',\n",
    "  'x-newrelic-id': 'XQUPWFNbGwcBUFVUBgcEXg==',\n",
    "  'x-perseusclientid': '1711459087436.182339997051444231.txpOK01DXW',\n",
    "  'x-perseussessionid': '1716899275229.349773314211336524.9byIxFVNTo',\n",
    "  'x-talabat-android-installation-path': 'L2RhdGEvdXNlci8wL2NvbS50YWxhYmF0',\n",
    "  'x-talabat-android-package-name': 'com.talabat',\n",
    "}\n",
    "response = requests.request(\"GET\", url, headers=headers, data=payload)\n",
    "data_product = response.json() # data_product = data_product.get('product')\n",
    "title = data_product['data'].get('name', '')\n",
    "description = data_product['data'].get('description', '')\n",
    "characteristics = data_product['data'].get('characteristics', '')\n",
    "brand = characteristics.get('brand', '')\n",
    "final_price = data_product['data'].get('price', '')\n",
    "old_price = data_product['data'].get('original_price', '')\n",
    "image = data_product['data']['image_url']\n",
    "images = data_product['data']['image_urls']\n",
    "q_images = len(data_product['data']['image_urls']) - 1 if data_product['data'].get('image_urls', 0) != 0 or data_product['data'].get('image_urls', 0) != None else 0\n",
    "pack_size = data_product['data']['extended_info']['content_unit']['text']\n",
    "sku = data_product['data']['sku']\n",
    "stock_amount = data_product.get('stock_amount', '')\n",
    "stock = 1 if stock_amount != 0 else 0\n",
    "brand = characteristics.get('brand', '')\n",
    "if 'No Brand' == brand or brand == None:\n",
    "    brand = ''\n",
    "print(f\"Url: {url}\")\n",
    "print(f\"Title:{title}\")\n",
    "print(f\"FinalPrice: {final_price}\")\n",
    "print(f\"OldPrice: {old_price}\")\n",
    "print(f\"Stock: {stock}\")\n",
    "print(f\"Description:{description[0:400]}...\")\n",
    "print(f\"Brand: {brand}\")\n",
    "print(f\"LandingImage:{image}\")\n",
    "print(f\"QImages:{q_images}\")\n",
    "print(f\"PackSize:{pack_size}\")\n",
    "print(f\"Sku:{sku}\")"
   ]
  },
  {
   "cell_type": "code",
   "execution_count": 36,
   "id": "ec323077-fc52-4d8d-9550-df4fce5da166",
   "metadata": {},
   "outputs": [
    {
     "name": "stdout",
     "output_type": "stream",
     "text": [
      "Url: https://api.talabat.com/grocery/v1/vendors/f58fe865-a5eb-4cfc-add6-0bf9293514d9/products/9d1e6485-2384-4270-bc69-eccc34efce7e?brand=talabat&country_code=ae&language_code=en_AE\n",
      "Title:Oreo Original Milk's Favorite Cookies 147.2 g\n",
      "FinalPrice: 4.75\n",
      "OldPrice: 4.75\n",
      "Stock: 1\n",
      "Description:Indulge in the classic taste of Oreo Cookies Original, packaged in a 147.2g box, perfect for sharing or satisfying your sweet tooth. Each cookie is meticulously crafted, featuring two deliciously rich, chocolate-flavored wafers sandwiching a smooth, creamy vanilla filling. The result is a delightful crunch and a burst of flavor with every bite. These cookies are perfect for dunking in a glass of c...\n",
      "Brand: \n",
      "LandingImage:https://images.deliveryhero.io/image/talabat-nv/Regional_Images/Tmart_Oman/07622201698256.png\n",
      "QImages:0\n",
      "PackSize:147 g\n",
      "Sku:900085\n"
     ]
    }
   ],
   "source": [
    "#Muwaiha\n",
    "url = \"https://api.talabat.com/grocery/v1/vendors/f58fe865-a5eb-4cfc-add6-0bf9293514d9/products/9d1e6485-2384-4270-bc69-eccc34efce7e?brand=talabat&country_code=ae&language_code=en_AE\"\n",
    "payload = {}\n",
    "headers = {\n",
    "  'accept-encoding': 'gzip',\n",
    "  'accept-language': 'en-US',\n",
    "  'appbrand': '1',\n",
    "  'authtokentype': 'guest',\n",
    "  'brandtype': '1',\n",
    "  'connection': 'Keep-Alive',\n",
    "  'host': 'api.talabat.com',\n",
    "  'newrelic': 'eyJ2IjpbMCwyXSwiZCI6eyJ0eSI6Ik1vYmlsZSIsImFjIjoiOTM4OTU4IiwiYXAiOiI0MTQ0NjE2MzgiLCJ0ciI6IjRlZjc5NzUzNTIyMTQ4MTJhNjJjMzFlNmZjN2MxMGViIiwiaWQiOiJlZWMwN2RhMmZhZjM0YjViIiwidGkiOjE3MTY5MDM3NDQ2MTEsInRrIjoiMzQ2MDgwIn19',\n",
    "  'traceparent': '00-4ef7975352214812a62c31e6fc7c10eb-eec07da2faf34b5b-00',\n",
    "  'tracestate': '346080@nr=0-2-938958-414461638-eec07da2faf34b5b----1716903744611',\n",
    "  'user-agent': 'okhttp/4.10.0',\n",
    "  'x-device-id': 'e95299ca0874b933',\n",
    "  'x-device-source': '6',\n",
    "  'x-device-version': '10.442',\n",
    "  'x-newrelic-id': 'XQUPWFNbGwcBUFVUBgcEXg==',\n",
    "  'x-perseusclientid': '1711459087436.182339997051444231.txpOK01DXW',\n",
    "  'x-perseussessionid': '1716899275229.349773314211336524.9byIxFVNTo',\n",
    "  'x-talabat-android-installation-path': 'L2RhdGEvdXNlci8wL2NvbS50YWxhYmF0',\n",
    "  'x-talabat-android-package-name': 'com.talabat',\n",
    "  'Cookie': '__cf_bm=8dRvEqhSyCBN7Tm._tc._CSgyUeC6Dxq.rjK3z9WOaQ-1716902104-1.0.1.1-RhH.KvkoHsNNqcLaaLk5.sP7sdV3vLEwh3tm8aWXiGbMJ4NuXsVkEbWJqJbpdNXL_0vgrUSDRvw6fZ6YEYPBV0CHhgygSSmnl5wK79Zco9Y; AWSALB=neLI0iTbw0vuRxOLjaGG2M6+94FJyz88QKLPXIEDnEPQ5IqIeZ7wAi2GUUD0p9WysFe5HQE+iWFbMOgB7N/1knIVKWkX8j8IBtn0fRBmaeR1LAR0SO82xTIIJHW9; AWSALBCORS=neLI0iTbw0vuRxOLjaGG2M6+94FJyz88QKLPXIEDnEPQ5IqIeZ7wAi2GUUD0p9WysFe5HQE+iWFbMOgB7N/1knIVKWkX8j8IBtn0fRBmaeR1LAR0SO82xTIIJHW9'\n",
    "}\n",
    "response = requests.request(\"GET\", url, headers=headers, data=payload)\n",
    "data_product = response.json() # data_product = data_product.get('product')\n",
    "title = data_product['data'].get('name', '')\n",
    "description = data_product['data'].get('description', '')\n",
    "characteristics = data_product['data'].get('characteristics', '')\n",
    "brand = characteristics.get('brand', '')\n",
    "final_price = data_product['data'].get('price', '')\n",
    "old_price = data_product['data'].get('original_price', '')\n",
    "image = data_product['data']['image_url']\n",
    "images = data_product['data']['image_urls']\n",
    "q_images = len(data_product['data']['image_urls']) - 1 if data_product['data'].get('image_urls', 0) != 0 or data_product['data'].get('image_urls', 0) != None else 0\n",
    "pack_size = data_product['data']['extended_info']['content_unit']['text']\n",
    "sku = data_product['data']['sku']\n",
    "stock_amount = data_product.get('stock_amount', '')\n",
    "stock = 1 if stock_amount != 0 else 0\n",
    "brand = characteristics.get('brand', '')\n",
    "if 'No Brand' == brand or brand == None:\n",
    "    brand = ''\n",
    "print(f\"Url: {url}\")\n",
    "print(f\"Title:{title}\")\n",
    "print(f\"FinalPrice: {final_price}\")\n",
    "print(f\"OldPrice: {old_price}\")\n",
    "print(f\"Stock: {stock}\")\n",
    "print(f\"Description:{description[0:400]}...\")\n",
    "print(f\"Brand: {brand}\")\n",
    "print(f\"LandingImage:{image}\")\n",
    "print(f\"QImages:{q_images}\")\n",
    "print(f\"PackSize:{pack_size}\")\n",
    "print(f\"Sku:{sku}\")"
   ]
  }
 ],
 "metadata": {
  "kernelspec": {
   "display_name": ".venv",
   "language": "python",
   "name": "python3"
  },
  "language_info": {
   "codemirror_mode": {
    "name": "ipython",
    "version": 3
   },
   "file_extension": ".py",
   "mimetype": "text/x-python",
   "name": "python",
   "nbconvert_exporter": "python",
   "pygments_lexer": "ipython3",
   "version": "3.12.8"
  }
 },
 "nbformat": 4,
 "nbformat_minor": 5
}
