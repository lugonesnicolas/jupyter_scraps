{
 "cells": [
  {
   "cell_type": "code",
   "execution_count": 3,
   "id": "4a88a6cf-916c-4591-a58f-27b1f26db4dd",
   "metadata": {},
   "outputs": [
    {
     "name": "stdout",
     "output_type": "stream",
     "text": [
      "<Response [500]>\n"
     ]
    }
   ],
   "source": [
    "import requests\n",
    "\n",
    "url = \"https://api.talabat.com/grocery/v2/ae/pages/vendors/4b4f686b-0d68-4286-a0e4-b06a2c1567ea/product-details?isDarkstore=true&productId=19a09e5c-d9c2-4b09-8532-8ef083f5cfbf\"\n",
    "\n",
    "payload = {}\n",
    "headers = {\n",
    "  'accept-encoding': 'gzip',\n",
    "  'accept-language': 'en-US',\n",
    "  'appbrand': '1',\n",
    "  'host': 'api.talabat.com',\n",
    "  'newrelic': 'eyJ2IjpbMCwyXSwiZCI6eyJ0eSI6Ik1vYmlsZSIsImFjIjoiOTM4OTU4IiwiYXAiOiI0MTQ0NjE2MzgiLCJ0ciI6ImRmMTZjMDdjMjU2MTRiYzA5ZWZhNTRjZjdiZWI1OWRlIiwiaWQiOiI1MTI3OGNhZDJiOTU0N2VjIiwidGkiOjE3MTUzNjI4MDg1NzEsInRrIjoiMzQ2MDgwIn19',\n",
    "  'traceparent': '00-df16c07c25614bc09efa54cf7beb59de-51278cad2b9547ec-00',\n",
    "  'tracestate': '346080@nr=0-2-938958-414461638-51278cad2b9547ec----1715362808571',\n",
    "  'user-agent': 'Dart/2.19 (dart:io)',\n",
    "  'x-device-framework': 'flutter',\n",
    "  'x-device-source': '6',\n",
    "  'x-device-version': '10.442',\n",
    "  'x-perseusclientid': '1711459087436.182339997051444231.txpOK01DXW',\n",
    "  'x-perseussessionid': '1715362136412.532262559751316382.OiA5Br59sw',\n",
    "  'x-weightables-enabled': 'true',\n",
    "}\n",
    "\n",
    "response = requests.request(\"GET\", url, headers=headers, data=payload)\n",
    "print(response)"
   ]
  },
  {
   "cell_type": "code",
   "execution_count": null,
   "id": "4f536002-7f5b-49f7-b12d-9907415c2664",
   "metadata": {},
   "outputs": [],
   "source": [
    "path = f\"A:\\\\BeOn_Repositories\\\\imagenes_talabat\"\n",
    "data = response.json()\n",
    "data_product = data['product']\n",
    "image = data_product.get('image_url','')\n",
    "title = data_product.get('name', '')\n",
    "file_name = f\"{path}\\\\TalabatApp_{title}.jpg\"\n",
    "file_name = file_name.replace(' ', '_')"
   ]
  },
  {
   "cell_type": "code",
   "execution_count": 5,
   "id": "7b48fb9d-c960-4f00-9c9b-5c494ff7d7e1",
   "metadata": {},
   "outputs": [
    {
     "name": "stdout",
     "output_type": "stream",
     "text": [
      "https://images.deliveryhero.io/image/talabat-nv/Regional_Images/Tmart_Uae/New/5283005903490.MAIN.jpg\n"
     ]
    }
   ],
   "source": [
    "print(image)"
   ]
  },
  {
   "cell_type": "code",
   "execution_count": 2,
   "id": "5b384323-3672-46f7-8fd7-4d11fe314805",
   "metadata": {},
   "outputs": [],
   "source": [
    "response_image = requests.get(image)"
   ]
  },
  {
   "cell_type": "code",
   "execution_count": 3,
   "id": "b355b0fc-2027-4789-aaf1-7149ca166bd4",
   "metadata": {},
   "outputs": [
    {
     "name": "stdout",
     "output_type": "stream",
     "text": [
      "Imagen Descargada: A:\\BeOn_Repositories\\imagenes_talabat\\TalabatApp_Halabi_Super_Extra_Can_400_g.jpg\n"
     ]
    }
   ],
   "source": [
    "try:\n",
    "    with open(file_name, \"wb\") as f:\n",
    "        f.write(response_image.content)\n",
    "    print(f\"Imagen Descargada: {file_name}\")\n",
    "except Exception as e:\n",
    "    print(f\"No se puedo descargar la Imagen: {file_name}\")"
   ]
  },
  {
   "cell_type": "code",
   "execution_count": null,
   "id": "e281dcf7-5a13-4f3e-bc90-749b60d5a23c",
   "metadata": {},
   "outputs": [],
   "source": []
  }
 ],
 "metadata": {
  "kernelspec": {
   "display_name": "Python 3 (ipykernel)",
   "language": "python",
   "name": "python3"
  },
  "language_info": {
   "codemirror_mode": {
    "name": "ipython",
    "version": 3
   },
   "file_extension": ".py",
   "mimetype": "text/x-python",
   "name": "python",
   "nbconvert_exporter": "python",
   "pygments_lexer": "ipython3",
   "version": "3.11.3"
  }
 },
 "nbformat": 4,
 "nbformat_minor": 5
}
