{
 "cells": [
  {
   "cell_type": "code",
   "execution_count": 62,
   "id": "9da10e1b-758d-40f5-871b-f01047beb3f2",
   "metadata": {},
   "outputs": [],
   "source": [
    "import requests\n",
    "from bs4 import BeautifulSoup"
   ]
  },
  {
   "cell_type": "code",
   "execution_count": 63,
   "id": "89305b83-6b80-4dab-9feb-f771da531f1a",
   "metadata": {},
   "outputs": [],
   "source": [
    "url = \"https://www.carrefouruae.com/mafuae/en/sparkling-juice/freez-mix-tamarind-275ml/p/1992344?list_name=search%7C1992344&offer=offer_carrefour_\""
   ]
  },
  {
   "cell_type": "code",
   "execution_count": 64,
   "id": "bf68e516-2cc4-4ff8-9f36-b55ba8c81b81",
   "metadata": {},
   "outputs": [],
   "source": [
    "payload = {}\n",
    "headers = {\n",
    "  'User-Agent': 'Mozilla/5.0 (Windows NT 10.0; Win64; x64; rv:124.0) Gecko/20100101 Firefox/124.0',\n",
    "  'Accept': 'text/html,application/xhtml+xml,application/xml;q=0.9,image/avif,image/webp, image/jpg,*/*;q=0.8',\n",
    "  'Accept-Language': 'es-AR,es;q=0.8,en-US;q=0.5,en;q=0.3',\n",
    "  'Accept-Encoding': 'gzip, deflate, br',\n",
    "  'Connection': 'keep-alive',\n",
    "  'Cookie': 'cart_api=v2; _abck=59F693FA2C262E4EB9B6DF0D13FE55B8~0~YAAQsfcSAsd+vsWOAQAACMsf0gvBg8lR3lFYMtkgHqe7MT3QpNwfqyVqZL301CIWOPUjlIKvxZeA4CEM9xn5usdtFbhC8DaRGAT3XejOmHmjHhziQV3n8cWI4c1pWnSwwa9CbC/pOFvrA+oa+9Mo5SFCmFh7VTlPQXbdq+YvN72MoCG6RSlghfmccxa9c+RvlBH2epLfksS3lpUGdAduc5W0RHxkGE2X/HIyJZePeF8a8jD58gKuA3ZpZrtXQiysn2pie4aTXmySXpV+J4vR8KLKovPBDp4rPMibBpI/ucWcKR6hazs0RGRM7qrl/VJnrSk5DJ7uB0j9Deh16DoEK3QDhZzAhs/8DMhPwfMWaM7cR3zCpBs/W7c+y4bsXGwasWde7MlyjiZmQrdAXraiG1ott2Mt1pathCCJQ3AajayG36HasYqDR8UhqA==~-1~-1~-1; storeInfo=mafuae|en|AED; ab.storage.sessionId.e6577fac-30b0-4270-a5df-788ef16dc4cd=%7B%22g%22%3A%22c9adca74-736e-573c-d57e-54a2c1b01cae%22%2C%22e%22%3A1712938247613%2C%22c%22%3A1712932579754%2C%22l%22%3A1712936447613%7D; _gcl_au=1.1.815232262.1712160149; OptanonConsent=isGpcEnabled=1&datestamp=Fri+Apr+12+2024+12%3A36%3A52+GMT-0300+(hora+est%C3%A1ndar+de+Argentina)&version=202301.2.0&hosts=&groups=C0004%3A1%2CC0001%3A1%2CC0002%3A1%2CC0003%3A1&landingPath=NotLandingPage&consentId=08177a2b-5907-472a-9d4e-689bda57b886; lat=25.1165217; long=55.2058276; maf-session-id=4BC4216A-85B3-F6D4-7715-1C64A97D9285; mafuae-preferred-delivery-area=Etqan%20-%20Al%20Barsha%20 - %20Al%20Barsha%201%20; prevAreaCode=Etqan%20-%20Al%20Barsha%20 - %20Al%20Barsha%201%20; mafuae-cart=d2d5873e-d31c-411a-9e9e-0f4810bc38d0; bm_sz=82E5780E405483BDFED1CF2E2BBCC113~YAAQyvcSAkck+Z6OAQAAX+b30hdOQL2vnij+GIXB2pF8wl1Y4HLdMclJBWp/zVbMgncfmGRwJtHvHtcvc30YibaxRV7GcHvtCAlHo9ZR2Bn4p7omwZROm38gxXWewxtkP/02GAcd04iaMmtYlyKgHox/gLyKj0sdBtSgQDNEs+gvMrNLiy99KtTPV0eIPdNXnr3SjxR77UE3iwQ1DlKzizUKfO66X3S6JvQcOcmRQve+AO5aANSYZeRHYDUZYKnxPd6NWRkDGh+HvhJfxI4gD6Af4CCLk94dKcvqxxqleG5t+kD/6CUdJwCTL+PM3RnjFwnmBxi6Yl9xLMW7kw22VUIb8BFlU0wH1tjU+/fuclLH9ZuGnzvPGIOgk4C/+fa4/74RhS/1dexwd04InQXhzLR5fghJsxXLqgnu3/j6EmVzJq05IZnxpZ30a5kwOx0+gzRfTOXYsJQVJDT46JHOIeUbQV24TUmICQwDj8nTvTZyrfnYCEMFXF7nSxcDtJ5RWN13RGazFNW7f8VQdYQyxUojbryQBxUJTWRCs9xF0z7XYoUSODttvSAJuHXm0/LCrHOQ9JEjizkeF3jQs+Cqq7ajbxL2hkWsTrFWP+BJtwfeqLXFbdk2fWQ=~3294769~4536390; page_type=product-details; guest-session-token=lM500_g78KDHOP8_34lBdmBtbCM; search_type=search_native; app_version=v4; hideCoachMark=true; OptanonAlertBoxClosed=2024-04-12T15:04:17.133Z; _abck=59F693FA2C262E4EB9B6DF0D13FE55B8~-1~YAAQxfcSAqn1dcWOAQAALCxN0wu4TtDAO2EXKQyCYFbwvLQky349JIVu495qgbdDceoBe8JXUbzQzlNDXpnZuifoCTA1JMhaOM0eTrW9kBNYSDz8OOZO84dJwEj8a2SBxWGOaDzr4CpHHi11gsO4cqPwo55bjTEXuPa+WLv1MpcxYhZ0dfpa2wyPRJAKMUQaskvJ33OEICy3AzcffQVICoi3oiiinPuW1hStVQ9K+n0CPt0bOIZdoI+Jm9wptyxE9MH1R+rXsiBzYdYpu2M7vxVddQL9oMOrGwXVCAiKKhr3V49EK560K6/bXqOxg4eEl2b0rP4s6FxOAa1iDHJED82vbD07/l288ZXsbr+ezjNyiUOeSZ1+ucuctMrAzSjPd5+sYyZzfU6a67GeEItxpA==~0~-1~-1; ak_bmsc=D91C022343BF3498F218DC71FA53122A~000000000000000000000000000000~YAAQxfcSAqr1dcWOAQAALCxN0xc/pPc6h5eMNT7o5c0gTIUww6SEx92y6BKVzhf/TXiXkXp1OXmqawFIoR+e96BnnTc6VYknT6Ll94YvasPLK2x4ZNZUNuOXEzGLGoLhACyfmpjuNx6aVlRPZe1BVEyLtei5Qt/SApmX5RGht3Q/LrFESoPV9bmXp7OB8lLtr+yiNWYEv91sy6WcOawtvyInBpyEjOkoG7FGw8B9h/PZ2VGwyo44puktqsSFwRi/dC+9wlHnEvR5h4XxHcHWuUtzNJdXyDMqKJ+Z/+hva/Q/szCfYMYfMynJRZPZ/lNqnRrVwGJBH+lZe/C6Pn6kKYLIGTaJ0/6nYVztfYd/ykNZ7yfUmvFc3TlshBixMy2PwUGe2w==; bm_sz=82E5780E405483BDFED1CF2E2BBCC113~YAAQxfcSAqz1dcWOAQAALCxN0xc6QkDdk3hemfNUAaq6ybP9x2yIO5hNn6DtlpC9YujN+9Arx0keoU+fh7u/N99Pjg3LUSZFSfLaWX/eKrhCt6hTVDkw7f2iD+yycvtraw/OF5rE79aOq3qRs2VAKJuRgOEueI5dxA/JxMT0pXV87LbArjN+3wR5zb6tT5qAdUAaOv0GU0VdlbAri0N1SncPyruaFjl+Qq4oLmxhC51gDLbw2W1MyH09rcJe5SzXdRl7zE7lAg/FzZyOzIJFI5NcMAAHbsWeUdx/oh3UcFd7ev/RHh5Hy2lXmTdCyKcD3dry7QC5qUC19Xd2NJhCFxsyh22xcUMkQKp6v2E+rXB/8t/iZCHvFZdB5llmH1gLVB7jHx33h3qfxFWtlr60HngH2xvMSTDfGdygxgsXakKDg9jIl/EzJlMH7XS4uOaINaZseuVdJqeJ8C7n2m5AWJvIm+17AodF2P1wGCe9/xoBBzHP2ByqVZLGTQVoRi96CLKtenW8vRUUNtIfMbXKeFB3w/4Bu+++sZ847VFGdVaXUYH5Fo/TANfok/B6MaUy2GXT3wp1OxN7Dka8zYFxT3zWOACqBARHB9tXchbeKwRlUAxH0+lzmbgYVA==~3294769~4536390; cart_api=v2; storeInfo=mafuae|en|AED',\n",
    "  'Upgrade-Insecure-Requests': '1',\n",
    "  'Sec-Fetch-Dest': 'document',\n",
    "  'Sec-Fetch-Mode': 'navigate',\n",
    "  'Sec-Fetch-Site': 'none',\n",
    "  'Sec-Fetch-User': '?1',\n",
    "  'Sec-GPC': '1'\n",
    "}"
   ]
  },
  {
   "cell_type": "code",
   "execution_count": 65,
   "id": "22cb4043-1428-4fdc-aa77-8a70c274311b",
   "metadata": {},
   "outputs": [],
   "source": [
    "headers_image = {\n",
    "  'User-Agent': 'Mozilla/5.0 (Windows NT 10.0; Win64; x64; rv:124.0) Gecko/20100101 Firefox/124.0',\n",
    "  'Accept': 'text/html,application/xhtml+xml,application/xml;q=0.9,image/avif,image/webp, image/jpg,*/*;q=0.8',\n",
    "  'Accept-Language': 'en-US;q=0.5,en;q=0.3',\n",
    "  'Accept-Encoding': 'gzip, deflate, br',\n",
    "  'Connection': 'keep-alive',\n",
    "  'Upgrade-Insecure-Requests': '1',\n",
    "  'Sec-Fetch-Mode': 'navigate',\n",
    "}"
   ]
  },
  {
   "cell_type": "code",
   "execution_count": 66,
   "id": "862aef5c-6f7b-421d-86d1-943fbc9449f8",
   "metadata": {},
   "outputs": [],
   "source": [
    "response = requests.request(\"GET\", url, headers=headers, data=payload)\n",
    "html_content = response.text\n",
    "soup = BeautifulSoup(html_content, \"html.parser\")"
   ]
  },
  {
   "cell_type": "code",
   "execution_count": 67,
   "id": "fae97f2f-f3f3-418b-a7b2-3e8748e1ec54",
   "metadata": {},
   "outputs": [
    {
     "name": "stdout",
     "output_type": "stream",
     "text": [
      "Image:https://cdnprod.mafretailproxy.com/sys-master-root/h43/h51/50081173372958/480Wx480H_1992344_main.jpg\n"
     ]
    }
   ],
   "source": [
    "image = soup.find(\"div\", class_=\"css-1c2pck7\").img['src'] if soup.find(\"div\", class_=\"css-1c2pck7\").img != None else ''\n",
    "print(f\"Image:{image}\")"
   ]
  },
  {
   "cell_type": "code",
   "execution_count": 78,
   "id": "3c071da9-8e31-47f1-9242-957d44ce5d1a",
   "metadata": {},
   "outputs": [
    {
     "name": "stdout",
     "output_type": "stream",
     "text": [
      "<Response [200]>\n"
     ]
    }
   ],
   "source": [
    "response_image = requests.request(\"GET\", image, headers=headers_image, data=payload, stream=True)\n",
    "print(response_image)"
   ]
  },
  {
   "cell_type": "code",
   "execution_count": 79,
   "id": "dd5ca2ce-dabd-4ae2-9a64-647dd4a6e591",
   "metadata": {},
   "outputs": [],
   "source": [
    "path = f\"A:\\\\BeOn_Repositories\\\\imagenes_carrefour\"\n",
    "file_name = f\"{path}\\\\test.avif\""
   ]
  },
  {
   "cell_type": "code",
   "execution_count": 80,
   "id": "638c72b7-8c30-4d85-abf6-fe2dc170dc11",
   "metadata": {},
   "outputs": [
    {
     "name": "stdout",
     "output_type": "stream",
     "text": [
      "Imagen descargada, Url:https://cdnprod.mafretailproxy.com/sys-master-root/h43/h51/50081173372958/480Wx480H_1992344_main.jpg\n",
      "\n"
     ]
    }
   ],
   "source": [
    "with open(file_name, \"wb\") as f:\n",
    "    f.write(response_image.content)\n",
    "print(f\"Imagen descargada, Url:{image}\\n\")"
   ]
  },
  {
   "cell_type": "code",
   "execution_count": null,
   "id": "45235523-56a0-480b-9fa9-abaec6fff652",
   "metadata": {},
   "outputs": [],
   "source": []
  }
 ],
 "metadata": {
  "kernelspec": {
   "display_name": "Python 3 (ipykernel)",
   "language": "python",
   "name": "python3"
  },
  "language_info": {
   "codemirror_mode": {
    "name": "ipython",
    "version": 3
   },
   "file_extension": ".py",
   "mimetype": "text/x-python",
   "name": "python",
   "nbconvert_exporter": "python",
   "pygments_lexer": "ipython3",
   "version": "3.11.3"
  }
 },
 "nbformat": 4,
 "nbformat_minor": 5
}
