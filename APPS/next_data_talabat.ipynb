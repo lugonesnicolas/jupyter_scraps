{
 "cells": [
  {
   "cell_type": "code",
   "execution_count": 28,
   "id": "1d27a677-a829-4f4c-a5dc-476fa18a1802",
   "metadata": {},
   "outputs": [],
   "source": [
    "import requests\n",
    "from bs4 import BeautifulSoup\n",
    "import json"
   ]
  },
  {
   "cell_type": "code",
   "execution_count": 18,
   "id": "7e8ebbf6-29c1-4708-983d-447dcd741fd8",
   "metadata": {},
   "outputs": [],
   "source": [
    "url = 'https://www.talabat.com/uae/grocery/648679/talabat-mart-al-warqa-1/product/always-dreamzzz-thick-night-new-trio-feminine-pads-24-pads/s/901995?aid=1241'"
   ]
  },
  {
   "cell_type": "code",
   "execution_count": 19,
   "id": "8c53f66f-bdd1-4744-b5cf-421be70823d5",
   "metadata": {},
   "outputs": [],
   "source": [
    "headers = {\n",
    "  'User-Agent': 'Mozilla/5.0 (Windows NT 10.0; Win64; x64; rv:123.0) Gecko/20100101 Firefox/123.0',\n",
    "  'Accept': 'text/html,application/xhtml+xml,application/xml;q=0.9,image/avif,image/webp,*/*;q=0.8',\n",
    "  'Accept-Language': 'es-AR,es;q=0.8,en-US;q=0.5,en;q=0.3',\n",
    "  'Accept-Encoding': 'gzip, deflate, br',\n",
    "  'Connection': 'keep-alive',\n",
    "  'Cookie': 'AWSALB=Yilk7G81zTiA87WWj9XYCzQzJzibvM9BQmXx9RwJhuHUCMLcfT4D4HvpwZcihbrkMSu1xRYaYZ81aYLCswwnmhC83GI6SYJba1J1F+i/kWT8EHaHlykEGpK2EeV7; AWSALBCORS=Yilk7G81zTiA87WWj9XYCzQzJzibvM9BQmXx9RwJhuHUCMLcfT4D4HvpwZcihbrkMSu1xRYaYZ81aYLCswwnmhC83GI6SYJba1J1F+i/kWT8EHaHlykEGpK2EeV7; tlb_lng=en; tlb_country=uae; dhhPerseusGuestId=1710442306876.393551404705963400.gctdh5cslee; perseusRolloutSplit=4; dhhPerseusGuestId=1710442306876.393551404705963400.gctdh5cslee; cf_clearance=3RBJTH6XYbWtKQ3pimqVxXkoe8xNL7VQJQ52VlC0_O4-1710804731-1.0.1.1-Z8uzWbb3dEU_iJ6k64RZXqmouVfXkEVzmNkyr9ZPrFtm0kb.oFXOWLCXxIVimAzWMGGhoGZE5C0JvPTqbq1Uig; _gcl_au=1.1.1826749091.1710442309; next-i18next=en; tlb_area=%7B%22id%22%3A1241%2C%22name%22%3A%22Al%20Warqa%201%22%2C%22slug%22%3A%22AL-WARQA-1%22%2C%22fromMap%22%3Atrue%2C%22lngt%22%3A55.4056356%2C%22ltd%22%3A25.1874594%2C%22ipse%22%3Atrue%2C%22displayName%22%3A%22Al%20Warqa%201%2C%2018C%20Street%22%7D; __cf_bm=.MFddX2k5ShQavmkZp1yMbxEDytLqBhdcKSrz.rqnE8-1710804828-1.0.1.1-YXbM222nTDJkqSuHkGl_3rx3z5.Z57RgIqACpQPyhSh13ANRlo8UUAG9VKtLS1fIR1Gos_daSid.4an3n.a8EuUFTxhVZGDuYbIlwiesWA8; dhhPerseusSessionId=1710804741227.278990316037569500.v5hcfafgwod; tlb_vertical=1; dhhPerseusHitId=1710804899483.759024214828934400.4skbpvhcs23; AWSALB=2JnVBT1h5DOUAYxaSI/P/WSNc9N4sdUGQVkPK7YwPEmY6b3nF63JSgRukH9HeuDjfnlZgxSbPh/ZLp+SohgkqJeT5G0VjcNKBRBjuINdm/Lc4yYahhwhAx0beNPj; AWSALBCORS=2JnVBT1h5DOUAYxaSI/P/WSNc9N4sdUGQVkPK7YwPEmY6b3nF63JSgRukH9HeuDjfnlZgxSbPh/ZLp+SohgkqJeT5G0VjcNKBRBjuINdm/Lc4yYahhwhAx0beNPj; next-i18next=en; tlb_country=uae; tlb_lng=en',\n",
    "  'Upgrade-Insecure-Requests': '1',\n",
    "  'Sec-Fetch-Dest': 'document',\n",
    "  'Sec-Fetch-Mode': 'navigate',\n",
    "  'Sec-Fetch-Site': 'none',\n",
    "  'Sec-Fetch-User': '?1',\n",
    "  'Sec-GPC': '1',\n",
    "  'TE': 'trailers'\n",
    "}"
   ]
  },
  {
   "cell_type": "code",
   "execution_count": 20,
   "id": "e4c287ce-ed4f-47a4-87d5-ea3c84b741dc",
   "metadata": {},
   "outputs": [],
   "source": [
    "response = requests.request(\"GET\", url, headers=headers)\n",
    "html_content = response.text\n",
    "soup = BeautifulSoup(html_content, \"html.parser\")"
   ]
  },
  {
   "cell_type": "code",
   "execution_count": 47,
   "id": "e31026f2-4b17-4664-a545-02aa84749fab",
   "metadata": {},
   "outputs": [],
   "source": [
    "data = soup.find('script', id='__NEXT_DATA__').text\n",
    "data = json.loads(data)"
   ]
  },
  {
   "cell_type": "code",
   "execution_count": 48,
   "id": "6c35fed3-f5c7-418a-975a-be01ce97918f",
   "metadata": {},
   "outputs": [],
   "source": [
    "id = data[\"props\"][\"pageProps\"][\"initialState\"][\"item\"][\"id\"]"
   ]
  },
  {
   "cell_type": "code",
   "execution_count": 53,
   "id": "df7acca9-a405-4fe1-9e12-e7c04d0d9b05",
   "metadata": {},
   "outputs": [
    {
     "name": "stdout",
     "output_type": "stream",
     "text": [
      "https://api.talabat.com/grocery/v1/vendors/3e4a1b63-2010-4818-a132-d1060e39e18b/products/52535b5a-3419-4347-b60c-777662c06084?brand=talabat&country_code=ae&language_code=en_AE\n"
     ]
    }
   ],
   "source": [
    "url_app = f\"https://api.talabat.com/grocery/v1/vendors/3e4a1b63-2010-4818-a132-d1060e39e18b/products/{id}?brand=talabat&country_code=ae&language_code=en_AE\"\n",
    "print(url_app)"
   ]
  },
  {
   "cell_type": "code",
   "execution_count": 50,
   "id": "b4145f73-86eb-428c-8b6a-371c7fb2add7",
   "metadata": {},
   "outputs": [],
   "source": [
    "headers = {\n",
    "  'User-Agent': 'Mozilla/5.0 (Windows NT 10.0; Win64; x64; rv:123.0) Gecko/20100101 Firefox/123.0',\n",
    "  'Accept': 'text/html,application/xhtml+xml,application/xml;q=0.9,image/avif,image/webp,*/*;q=0.8',\n",
    "  'Accept-Language': 'es-AR,es;q=0.8,en-US;q=0.5,en;q=0.3',\n",
    "  'Accept-Encoding': 'gzip, deflate, br',\n",
    "  'Connection': 'keep-alive',\n",
    "  'Cookie': 'cart_api=v2; _abck=59F693FA2C262E4EB9B6DF0D13FE55B8~0~YAAQyvcSAogN4jWOAQAAXiVqPQunryhm2VrehJwFWGtFCp8ufcagrPeSIl55ijflh3sG6N2y97wAeTB0Sh8NCo5kUfhAe6+aWXe+s9QIxqas/GMEmxBqazFF2HY6poVX0LdkSHslYJdwQZCPLVALZXCRO6JJeputl3kGNCbUgVLu9cH5IKImvgyju7k5SvbDdyrrqF5r87J+yIRxSbhQrQTfB0nHYl1S42x+svEAWPBEHoGYx49OB5jQMwQi4ZzQdcCMIU2PCVDtzwUrpnSpqBLw0ToaJfZIKena9CSLEfaAT9hlk849YSZjhrzZxuEJE5ZoFpyDFdDO5m2AcHRJpueAeNnLLwqL99hEpRki44qzXk39AbpCaklyBfI0UyzVDSe9lk0T+Ly7yIy5XsBG2coWEbcrvg/9GYognn5t3w==~-1~-1~-1; storeInfo=mafuae|en|AED; OptanonConsent=isGpcEnabled=1&datestamp=Thu+Mar+14+2024+11%3A43%3A14+GMT-0300+(hora+est%C3%A1ndar+de+Argentina)&version=202301.2.0&hosts=&groups=C0004%3A1%2CC0001%3A1%2CC0002%3A1%2CC0003%3A1&consentId=ccb02f39-f0b2-4416-b38b-a3192a1b75c6&landingPath=NotLandingPage; mafuae-web-preferred-delivery-area=\"Dubai Festival City - Dubai\"; ab.storage.sessionId.e6577fac-30b0-4270-a5df-788ef16dc4cd=%7B%22g%22%3A%2274607fef-9dd7-545f-316f-7f3a034a19a2%22%2C%22e%22%3A1710429192420%2C%22c%22%3A1710425901302%2C%22l%22%3A1710427392420%7D; hideCoachMark=true; maf-session-id=CB0A0E3D-53D5-C80F-04CE-2E2377A7D0FF; mafuae-preferred-delivery-area=19%2033A%20St%20-%20Al%20Rashidiya%20 - %20Dubai%20; prevAreaCode=19%2033A%20St%20-%20Al%20Rashidiya%20 - %20Dubai%20; guest-session-token=aOTnKRB7qXnobya0Pn_-DppGGlE; ak_bmsc=63C9E467B8B6AFA52A6442554529FD98~000000000000000000000000000000~YAAQB/cSAvJXVDWOAQAALw1ZPRdGGQ51xlc+tewsiszcEVSljx7PYvA+m0uQXzoSPMet6kIrPBIiRWN3DNZ8y8yakgiCCEMqp1l5rf5ewxN6/fqw2mvlGhJ3jF/qx4dFmM0psN709243Nnhir1EWs4qsOz/baneHkf88XVuXxNTWhIu3GbGGHzk1roWVweVWQ/WHiugiJ8GyABYGxgsBb2klyRXwS16cfSYQe6YS0/pBJnbmnoAM+G7GlyQ3gPaUarOmqdm7C3h65Xg/9UGpw9qJy9cq2iKmOqUGKbN5slYCS+WExU8VRsue4OSBj6rPV/2JBqxOOrOoO+9HjRqxeprBWHuaUfNtnsIvA924DsmffwHbo7WnjcC9vJjOcqv8jBzHcvi+BFv/YymaNOPOGAOfIskE9haQZcBIK4sxI/C/dQA3+i/6jV1B2+XuyhXsDVbXTauI2a+IWMA0SfC+XBx3/Ww0f96ftK0Hsf32azJGlfiG7pCtdGNfnI2qrHUNOrYjcX2EGCWSSVvj3D1w2LLwySEHrFUi9Eo4CZmw1LP/N5UZ876NI2++7SM=; bm_sz=21053646DC0DE539A442AA346FCE4598~YAAQjA/EF8CF9zmOAQAAnwhUPReUsSfAUvQERXGJmUxXKG0vp85fHNP9ie3C8bG2jAxtHgtp67GIy7SJUEvusEHaBFbIEnJyqFqK5oceX/fQ7Qcfc2CowSKEHFVLR6nHRhwumxajAdEvwfZcUW9m+9ekysIlvMEhdsyFnoHNN5pReozSw5SaAdbmwCuq/sjHYuQ3wWq1iqgyGj66YVFYxw/8FBl/1V7ZoLBWDAcWC+V/1E1U+MPgPz348K5nznqYkaqg6tBnjkZXm6x1CyvLvqOuoHGVbam9XC5ZvY2EAwUxsJKzhldfhW9h4zqDn8WeA5L8LjxRD37zyXPzfqswt5aTz+4hNUJni+l83iDjqm5NyTF2iHCkK+Fyx1xdSA==~3163188~4534578; page_type=product-details; bm_sv=4F13F203E84E4379385694D196A9B1A7~YAAQyvcSAtUn4jWOAQAANNJqPRefJrYrWmkp4/1OMJrS3my0DzodqmYk68H1ov3Ugz6afAsOCRuDKu8XUuxhG7fwQ3ZyhvxBcomHuE3wbefQGg5CwfObr9cc/bDmkokoPl50lrZ9hWdeekxLoO/UA64jIs3ZYG07SPezU6Z/rXOC7pfHX5BWxsX7KpgSWZoiip8e1jZS2MCc5lincbUOwZ9Y+ihfCxC1thBkO/rxumApTFDt0UrvO0whoG3VW1w475KJJJcucQ==~1; _gcl_au=1.1.885303438.1710425902; bm_mi=DFA2131AB1451EF81402AACE8B962A88~YAAQjA/EFwyG9zmOAQAATDlUPRe3dUtjQUoLoS4LGMOlTPKTChs5Hj6GMbcsvxJSDQQ5c7j445Q0V39fWoQqhfMp4su/F7pMbtQvQY+j3BJ6LUbUVfhBez1lOhGUKKN3HzRx8Zpr9SY3L5pyFolAeDH7L3GT6UHmeiv2cCxgfxH+6MKpZpo66yngy/fy7N6d1QCyL05V79g+SXfcD3OTHQGpGCSwghXVq1cfeuYgTk7g9E32CxPDrK81Bauioyt1WVBjinfvaY0FDC8i6i43a4uQ3pVPO1B0LE/VMg23yGunvhoNztxXrPE+mV5K5xJR2sFzbzEb4v+8xPms5SKyPtI4fY4Dzll/fSFOcNi7z1zSiEyByrh6gw0uIbswhiSNLcCBgS1V+WP9uwBBQ2NJZpxfavlQzQ==~1; OptanonAlertBoxClosed=2024-03-14T14:42:37.947Z; lat=25.2280695; long=55.38268790000001; __cf_bm=a3yccbzyTlVtGvgSheaIN.FVyVV_L4hpFPlVx4zoFBs-1710440785-1.0.1.1-yXHRpOQ3sKB2tcnpVnITLCtC8Wl9bPOVl7Z0d7SPB.1ksZMHorjhq52MtjPTWgs.Sw9quTP5aJMKRMxVTuZ3tK4w5NH2_6cp8oP_eXsgXK0; AWSALB=m0TQTdjZ42+MTUapJ1HHeBTuKF9beFZbepEavZyt95eIU5cCN+IOEbofyGSMKGJBXsuMXICm/CxdfDZofsnWnecIUBOUVunoX40nA1zw7YTB6SqGj5yxE61PzmeZ; AWSALBCORS=m0TQTdjZ42+MTUapJ1HHeBTuKF9beFZbepEavZyt95eIU5cCN+IOEbofyGSMKGJBXsuMXICm/CxdfDZofsnWnecIUBOUVunoX40nA1zw7YTB6SqGj5yxE61PzmeZ',\n",
    "  'Upgrade-Insecure-Requests': '1',\n",
    "  'Sec-Fetch-Dest': 'document',\n",
    "  'Sec-Fetch-Mode': 'navigate',\n",
    "  'Sec-Fetch-Site': 'none',\n",
    "  'Sec-Fetch-User': '?1',\n",
    "  'Sec-GPC': '1'\n",
    "}"
   ]
  },
  {
   "cell_type": "code",
   "execution_count": 52,
   "id": "7b8c6734-720e-4333-8bea-b7c1c59703d6",
   "metadata": {},
   "outputs": [
    {
     "name": "stdout",
     "output_type": "stream",
     "text": [
      "Title:Always Dreamzzz Thick Night New Trio Feminine Pads, 24 Pads\n",
      "Description:Short Description:\n",
      "• Upto 100% dry and clean \n",
      "• Night with wings \n",
      "• Anti-leakage barrier for exceptional protection\n",
      "\n",
      "Long Description:\n",
      "Always night pads has improved dry topsheet, softer to the skin and extra absorbent core + in the center to absorb liquid right where it is needed. Anti leakage barriers in the front, back and center for exceptional protection from leaks.\n",
      "\n",
      "Benefits:\n",
      "• Stretchable wings\n",
      "• 75% bigger at the back for protection throughout night\n",
      "• Anti leakage barriers for exceptional protection from leaks\n",
      "\n",
      "How To Use:\n",
      "Use as required.\n",
      "FinalPrice:21.5\n",
      "OldPrice:21.5\n",
      "\n"
     ]
    }
   ],
   "source": [
    "response = requests.get(url_app, headers=headers)\n",
    "data_product = response.json()\n",
    "title = data_product['data'].get('name', '')\n",
    "description = data_product['data'].get('description', '')\n",
    "final_price = data_product['data'].get('price', '')\n",
    "old_price = data_product['data'].get('original_price', '')\n",
    "\n",
    "print(f\"Title:{title}\")\n",
    "print(f\"Description:{description}\")\n",
    "print(f\"FinalPrice:{final_price}\")\n",
    "print(f\"OldPrice:{old_price}\\n\")"
   ]
  },
  {
   "cell_type": "code",
   "execution_count": null,
   "id": "cbbbc065-155d-4706-b6a0-5f5edb31b806",
   "metadata": {},
   "outputs": [],
   "source": []
  }
 ],
 "metadata": {
  "kernelspec": {
   "display_name": "Python 3 (ipykernel)",
   "language": "python",
   "name": "python3"
  },
  "language_info": {
   "codemirror_mode": {
    "name": "ipython",
    "version": 3
   },
   "file_extension": ".py",
   "mimetype": "text/x-python",
   "name": "python",
   "nbconvert_exporter": "python",
   "pygments_lexer": "ipython3",
   "version": "3.11.3"
  }
 },
 "nbformat": 4,
 "nbformat_minor": 5
}
