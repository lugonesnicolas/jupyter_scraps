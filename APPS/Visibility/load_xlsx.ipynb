{
 "cells": [
  {
   "cell_type": "code",
   "execution_count": 14,
   "id": "1b2a440a-f06b-42b1-afcf-d1a50e032602",
   "metadata": {},
   "outputs": [],
   "source": [
    "import pandas as pd\n",
    "import openpyxl"
   ]
  },
  {
   "cell_type": "code",
   "execution_count": 15,
   "id": "57967339-ebbb-4e03-af58-9611e07770b1",
   "metadata": {},
   "outputs": [],
   "source": [
    "df = pd.read_excel(\"A:\\BeOn_Repositories\\excels_visibility\\\\search_noon_availables.xlsx\")\n",
    "df_aux = df"
   ]
  },
  {
   "cell_type": "code",
   "execution_count": 16,
   "id": "5e7860af-e130-42a2-8c00-41666f9a4b18",
   "metadata": {},
   "outputs": [
    {
     "name": "stdout",
     "output_type": "stream",
     "text": [
      "   UrlId                                  Title     Keyword  \\\n",
      "0  67823     AE - Noon APP UAE - Search pampers     pampers   \n",
      "1  67824  AE - Noon APP UAE - Search baby wipes  baby wipes   \n",
      "2  67824  AE - Noon APP UAE - Search baby wipes  baby wipes   \n",
      "3  67824  AE - Noon APP UAE - Search baby wipes  baby wipes   \n",
      "4  67826      AE - Noon APP UAE - Search diaper      diaper   \n",
      "5  67841     AE - Noon APP UAE - Search shampoo     shampoo   \n",
      "\n",
      "              Status   Etailer                Fecha  \n",
      "0  Imagen Disponible  Noon App  2024_06_12_15_22_57  \n",
      "1  Imagen Disponible  Noon App  2024_06_12_15_23_07  \n",
      "2  Imagen Disponible  Noon App  2024_06_12_15_23_11  \n",
      "3  Imagen Disponible  Noon App  2024_06_12_15_23_16  \n",
      "4  Imagen Disponible  Noon App  2024_06_12_15_23_35  \n",
      "5  Imagen Disponible  Noon App  2024_06_12_15_25_07  \n"
     ]
    }
   ],
   "source": [
    "print(df)"
   ]
  },
  {
   "cell_type": "code",
   "execution_count": 17,
   "id": "6295815e-75ef-472a-b230-ccbc89f64817",
   "metadata": {},
   "outputs": [
    {
     "name": "stdout",
     "output_type": "stream",
     "text": [
      "   UrlId                                  Title     Keyword  \\\n",
      "0  67823     AE - Noon APP UAE - Search pampers     pampers   \n",
      "1  67824  AE - Noon APP UAE - Search baby wipes  baby wipes   \n",
      "2  67824  AE - Noon APP UAE - Search baby wipes  baby wipes   \n",
      "3  67824  AE - Noon APP UAE - Search baby wipes  baby wipes   \n",
      "4  67826      AE - Noon APP UAE - Search diaper      diaper   \n",
      "5  67841     AE - Noon APP UAE - Search shampoo     shampoo   \n",
      "\n",
      "              Status   Etailer                Fecha  \n",
      "0  Imagen Disponible  Noon App  2024_06_12_15_22_57  \n",
      "1  Imagen Disponible  Noon App  2024_06_12_15_23_07  \n",
      "2  Imagen Disponible  Noon App  2024_06_12_15_23_11  \n",
      "3  Imagen Disponible  Noon App  2024_06_12_15_23_16  \n",
      "4  Imagen Disponible  Noon App  2024_06_12_15_23_35  \n",
      "5  Imagen Disponible  Noon App  2024_06_12_15_25_07  \n"
     ]
    }
   ],
   "source": [
    "print(df_aux)"
   ]
  },
  {
   "cell_type": "code",
   "execution_count": 18,
   "id": "1b093a82-4167-4f85-a810-b3e204ecac57",
   "metadata": {},
   "outputs": [],
   "source": [
    "# Combinar datos\n",
    "df_concat = pd.concat([df, df_aux], ignore_index=True)"
   ]
  },
  {
   "cell_type": "code",
   "execution_count": 19,
   "id": "29019e75-b69f-4ac3-9131-b8448d960138",
   "metadata": {},
   "outputs": [
    {
     "name": "stdout",
     "output_type": "stream",
     "text": [
      "    UrlId                                  Title     Keyword  \\\n",
      "0   67823     AE - Noon APP UAE - Search pampers     pampers   \n",
      "1   67824  AE - Noon APP UAE - Search baby wipes  baby wipes   \n",
      "2   67824  AE - Noon APP UAE - Search baby wipes  baby wipes   \n",
      "3   67824  AE - Noon APP UAE - Search baby wipes  baby wipes   \n",
      "4   67826      AE - Noon APP UAE - Search diaper      diaper   \n",
      "5   67841     AE - Noon APP UAE - Search shampoo     shampoo   \n",
      "6   67823     AE - Noon APP UAE - Search pampers     pampers   \n",
      "7   67824  AE - Noon APP UAE - Search baby wipes  baby wipes   \n",
      "8   67824  AE - Noon APP UAE - Search baby wipes  baby wipes   \n",
      "9   67824  AE - Noon APP UAE - Search baby wipes  baby wipes   \n",
      "10  67826      AE - Noon APP UAE - Search diaper      diaper   \n",
      "11  67841     AE - Noon APP UAE - Search shampoo     shampoo   \n",
      "\n",
      "               Status   Etailer                Fecha  \n",
      "0   Imagen Disponible  Noon App  2024_06_12_15_22_57  \n",
      "1   Imagen Disponible  Noon App  2024_06_12_15_23_07  \n",
      "2   Imagen Disponible  Noon App  2024_06_12_15_23_11  \n",
      "3   Imagen Disponible  Noon App  2024_06_12_15_23_16  \n",
      "4   Imagen Disponible  Noon App  2024_06_12_15_23_35  \n",
      "5   Imagen Disponible  Noon App  2024_06_12_15_25_07  \n",
      "6   Imagen Disponible  Noon App  2024_06_12_15_22_57  \n",
      "7   Imagen Disponible  Noon App  2024_06_12_15_23_07  \n",
      "8   Imagen Disponible  Noon App  2024_06_12_15_23_11  \n",
      "9   Imagen Disponible  Noon App  2024_06_12_15_23_16  \n",
      "10  Imagen Disponible  Noon App  2024_06_12_15_23_35  \n",
      "11  Imagen Disponible  Noon App  2024_06_12_15_25_07  \n"
     ]
    }
   ],
   "source": [
    "print(df_concat)"
   ]
  },
  {
   "cell_type": "code",
   "execution_count": 20,
   "id": "5a23cc70-ca48-46ed-bfa5-2e285c637842",
   "metadata": {},
   "outputs": [],
   "source": [
    "df_concat.to_excel(f'A:\\BeOn_Repositories\\excels_visibility\\\\search_noon_availables.xlsx', index=False)"
   ]
  }
 ],
 "metadata": {
  "kernelspec": {
   "display_name": "Python 3 (ipykernel)",
   "language": "python",
   "name": "python3"
  },
  "language_info": {
   "codemirror_mode": {
    "name": "ipython",
    "version": 3
   },
   "file_extension": ".py",
   "mimetype": "text/x-python",
   "name": "python",
   "nbconvert_exporter": "python",
   "pygments_lexer": "ipython3",
   "version": "3.11.3"
  }
 },
 "nbformat": 4,
 "nbformat_minor": 5
}
