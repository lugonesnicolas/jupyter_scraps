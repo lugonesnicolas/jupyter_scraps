{
 "cells": [
  {
   "cell_type": "code",
   "execution_count": 23,
   "id": "4d81ae18-cf66-40cf-b885-421f6c75eb63",
   "metadata": {},
   "outputs": [],
   "source": [
    "import re\n",
    "import time\n",
    "import requests\n",
    "from scrapy import Request\n",
    "from scrapy.selector import Selector\n",
    "from selenium import webdriver\n",
    "from selenium.webdriver.chrome.options import Options\n",
    "from bs4 import BeautifulSoup"
   ]
  },
  {
   "cell_type": "code",
   "execution_count": 24,
   "id": "46049c21-e51c-4e6c-a209-d334253bb6c4",
   "metadata": {},
   "outputs": [],
   "source": [
    "chrome_options = webdriver.FirefoxOptions()\n",
    "# chrome_options.add_argument(\"--headless\")  # Enable headless mode"
   ]
  },
  {
   "cell_type": "code",
   "execution_count": 25,
   "id": "6f4e4fb3-74d8-4ab5-a8d0-f46bb42e407d",
   "metadata": {},
   "outputs": [],
   "source": [
    "url='https://www.masonline.com.ar/pure-de-tomate-great-value-520-gr/p'"
   ]
  },
  {
   "cell_type": "code",
   "execution_count": 26,
   "id": "f54b81f2-7ac1-4061-b0e9-d7dc54567d6b",
   "metadata": {},
   "outputs": [],
   "source": [
    "driver = webdriver.Firefox(options=chrome_options)\n",
    "driver.get(url)\n",
    "html = driver.page_source"
   ]
  },
  {
   "cell_type": "code",
   "execution_count": 27,
   "id": "cf769b3e-f41f-4bae-b05d-352e3e4acb22",
   "metadata": {},
   "outputs": [],
   "source": [
    "driver.quit()"
   ]
  },
  {
   "cell_type": "code",
   "execution_count": 28,
   "id": "4fd460cd-b491-4528-9599-3729350ff93e",
   "metadata": {},
   "outputs": [
    {
     "name": "stdout",
     "output_type": "stream",
     "text": [
      "<Selector query=None data='<html lang=\"es-AR\"><head><style type=...'>\n"
     ]
    }
   ],
   "source": [
    "selector = Selector(text=html)\n",
    "soup = BeautifulSoup(html, \"html.parser\")\n",
    "print(selector)\n",
    "# print(soup)"
   ]
  },
  {
   "cell_type": "code",
   "execution_count": 29,
   "id": "c28b3de2-636f-4384-9b5c-817625f54785",
   "metadata": {},
   "outputs": [],
   "source": [
    "price_container = selector.css('div.valtech-gdn-dynamic-product-0-x-weighablePriceWrapper:nth-child(1)')"
   ]
  },
  {
   "cell_type": "code",
   "execution_count": 34,
   "id": "bf68c37f-3478-42bc-9498-c8a91a92d25f",
   "metadata": {},
   "outputs": [],
   "source": [
    "final_price = price_container.css('div.valtech-gdn-dynamic-product-0-x-dynamicProductPrice.mb4::text').getall()\n",
    "old_price = price_container.css('span.mt4.valtech-gdn-dynamic-product-0-x-weighableListPrice::text').getall()\n",
    "if final_price == None:\n",
    "    final_price = price_container.css('div.valtech-gdn-dynamic-product-0-x-weighablePriceWrapper:nth-child(1) > div:nth-child(1)::text').getall()"
   ]
  },
  {
   "cell_type": "code",
   "execution_count": 35,
   "id": "fde89f66-f904-4f32-a0f8-16afb77afa4b",
   "metadata": {},
   "outputs": [
    {
     "name": "stdout",
     "output_type": "stream",
     "text": [
      "FINAL PRICE:['$', '699,00']\n",
      "OLD PRICE:['$', '771,21']\n"
     ]
    }
   ],
   "source": [
    "print(f\"FINAL PRICE:{final_price}\")\n",
    "print(f\"OLD PRICE:{old_price}\")"
   ]
  },
  {
   "cell_type": "code",
   "execution_count": 38,
   "id": "18f8422a-a2d0-4dcf-9e51-13575c1e6b71",
   "metadata": {},
   "outputs": [],
   "source": [
    "final_price = soup.select(\"div.valtech-gdn-dynamic-product-0-x-dynamicProductPrice.mb4\")\n",
    "old_price = soup.select('span.mt4.valtech-gdn-dynamic-product-0-x-weighableListPrice')\n",
    "if final_price == None:\n",
    "    final_price = soup.select('mt4 valtech-gdn-dynamic-product-0-x-weighableListPrice')"
   ]
  },
  {
   "cell_type": "code",
   "execution_count": 39,
   "id": "9354282d-5496-494f-834d-f2c3d1dca046",
   "metadata": {},
   "outputs": [
    {
     "name": "stdout",
     "output_type": "stream",
     "text": [
      "$699,00\n",
      "$771,21\n"
     ]
    }
   ],
   "source": [
    "print(final_price[0].text)\n",
    "print(old_price[0].text)"
   ]
  },
  {
   "cell_type": "code",
   "execution_count": null,
   "id": "fa53d166-be89-4afe-9c0c-336aed2e28f9",
   "metadata": {},
   "outputs": [],
   "source": []
  }
 ],
 "metadata": {
  "kernelspec": {
   "display_name": "Python 3 (ipykernel)",
   "language": "python",
   "name": "python3"
  },
  "language_info": {
   "codemirror_mode": {
    "name": "ipython",
    "version": 3
   },
   "file_extension": ".py",
   "mimetype": "text/x-python",
   "name": "python",
   "nbconvert_exporter": "python",
   "pygments_lexer": "ipython3",
   "version": "3.11.3"
  }
 },
 "nbformat": 4,
 "nbformat_minor": 5
}
