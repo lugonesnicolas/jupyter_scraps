{
 "cells": [
  {
   "cell_type": "markdown",
   "id": "25a6123f-1e36-4567-b428-9883b9cd06df",
   "metadata": {},
   "source": [
    "# Scrapear Amazon con Selenium y Scrapy"
   ]
  },
  {
   "cell_type": "code",
   "execution_count": 1,
   "id": "9641f2e9-6e1c-427f-8b93-2d1457251ad9",
   "metadata": {},
   "outputs": [],
   "source": [
    "import re\n",
    "from scrapy import Request\n",
    "from scrapy.selector import Selector\n",
    "from selenium import webdriver\n",
    "from selenium.webdriver.chrome.options import Options"
   ]
  },
  {
   "cell_type": "code",
   "execution_count": 2,
   "id": "ae5e31ed-bf96-4308-aec7-2d322501d0fe",
   "metadata": {},
   "outputs": [],
   "source": [
    "chrome_options = webdriver.ChromeOptions()\n",
    "# chrome_options.add_argument(\"--headless\")  # Enable headless mode"
   ]
  },
  {
   "cell_type": "markdown",
   "id": "0e096d57-1d33-4cc1-aa59-5eae9c31907c",
   "metadata": {},
   "source": [
    "## Url a procesar"
   ]
  },
  {
   "cell_type": "code",
   "execution_count": 3,
   "id": "0cc87844-1dca-46a8-863f-4ddbf50189d7",
   "metadata": {},
   "outputs": [],
   "source": [
    "url='https://www.amazon.ae/Duracell-1-45V-Zinc-Hearing-Batteries/dp/B0BJFH3YYL/ref=sr_1_1?crid=3GKZLLF8NTSUL&keywords=B0BJFH3YYL&qid=1707493734&sprefix=b08njlhgdh%2Caps%2C256&sr=8-1'"
   ]
  },
  {
   "cell_type": "code",
   "execution_count": 4,
   "id": "1c062bbf-0836-4fbd-aaaa-4b5c1c6f01e5",
   "metadata": {},
   "outputs": [],
   "source": [
    "driver = webdriver.Chrome(options=chrome_options)"
   ]
  },
  {
   "cell_type": "code",
   "execution_count": 5,
   "id": "04330ae5-c7b5-4a09-9a18-a4507efda98d",
   "metadata": {},
   "outputs": [],
   "source": [
    "driver.get(url)"
   ]
  },
  {
   "cell_type": "code",
   "execution_count": 6,
   "id": "ecc229f2-0f19-4c52-8282-aef1af637522",
   "metadata": {},
   "outputs": [],
   "source": [
    "html = driver.page_source"
   ]
  },
  {
   "cell_type": "code",
   "execution_count": 7,
   "id": "04ac0572-8652-40ce-a403-d35b5a76b234",
   "metadata": {},
   "outputs": [],
   "source": [
    "driver.quit()"
   ]
  },
  {
   "cell_type": "code",
   "execution_count": 8,
   "id": "07051cf9-22ef-45ef-adb9-79b003fbcdf3",
   "metadata": {},
   "outputs": [],
   "source": [
    "selector = Selector(text=html)\n",
    "response = selector"
   ]
  },
  {
   "cell_type": "code",
   "execution_count": 9,
   "id": "9df86741-dfbb-426c-aa5b-09619577b359",
   "metadata": {},
   "outputs": [
    {
     "name": "stdout",
     "output_type": "stream",
     "text": [
      "<Selector query=None data='<html lang=\"en-ae\" class=\" a-js a-aud...'>\n"
     ]
    }
   ],
   "source": [
    "print(selector)"
   ]
  },
  {
   "cell_type": "markdown",
   "id": "7ec7446f-4415-4f2a-a44b-0425723f4b30",
   "metadata": {},
   "source": [
    "## Extraccion de la informacion"
   ]
  },
  {
   "cell_type": "markdown",
   "id": "9257fe26-6465-46f1-a00a-ab3d86e51433",
   "metadata": {},
   "source": [
    "Titulo"
   ]
  },
  {
   "cell_type": "code",
   "execution_count": 10,
   "id": "669a4f05-4b5c-4722-bfc7-661072fb9188",
   "metadata": {},
   "outputs": [
    {
     "name": "stdout",
     "output_type": "stream",
     "text": [
      "        Duracell | 1.45V Zinc Air Hearing Aid Batteries Size 675 Pack of 6       \n"
     ]
    }
   ],
   "source": [
    "title = selector.css('#productTitle::text').get()\n",
    "print(title)"
   ]
  },
  {
   "cell_type": "markdown",
   "id": "5f84a6db-c8d9-4192-8a06-c566a0e12f26",
   "metadata": {},
   "source": [
    "Precio"
   ]
  },
  {
   "cell_type": "code",
   "execution_count": 11,
   "id": "0be95c5f-14d3-4994-91b6-8c5070ceb605",
   "metadata": {},
   "outputs": [
    {
     "name": "stdout",
     "output_type": "stream",
     "text": [
      "None\n"
     ]
    }
   ],
   "source": [
    "price = selector.css('#newAccordionRow_0 > div:nth-child(1) > div:nth-child(1) > h5:nth-child(2) > div:nth-child(2) > div:nth-child(1) > div:nth-child(1) > div:nth-child(1) > div:nth-child(1) > span:nth-child(1) > span:nth-child(1)::text').get()\n",
    "print(price)"
   ]
  },
  {
   "cell_type": "markdown",
   "id": "e8b4d6d7-8493-45a5-b13e-2faee7b1c8a0",
   "metadata": {},
   "source": [
    "Best Sellers Rank"
   ]
  },
  {
   "cell_type": "code",
   "execution_count": 12,
   "id": "e456a6e3-a07a-41e2-a17f-420d8930b300",
   "metadata": {},
   "outputs": [
    {
     "name": "stdout",
     "output_type": "stream",
     "text": [
      "0\n"
     ]
    }
   ],
   "source": [
    "category_best_sellers_rank_container = selector.css(\"#productDetails_detailBullets_sections1 > tbody > tr > td > span\")\n",
    "best_sellers_rank_element = category_best_sellers_rank_container.css(\"span span\")\n",
    "print(len(best_sellers_rank_element))"
   ]
  },
  {
   "cell_type": "code",
   "execution_count": 13,
   "id": "f7dede76-3782-4480-bde8-7ef073e9881d",
   "metadata": {},
   "outputs": [],
   "source": [
    "for i in best_sellers_rank_element:\n",
    "    print(i)"
   ]
  },
  {
   "cell_type": "code",
   "execution_count": 14,
   "id": "f699f685-43cf-4b5d-ad92-1702e8a163d6",
   "metadata": {},
   "outputs": [],
   "source": [
    "best_sellers_rank_content = []\n",
    "for i in best_sellers_rank_element:\n",
    "    pattern = r\">([^<]+)<\"\n",
    "    matches = re.findall(pattern, i.extract(), re.DOTALL)\n",
    "    cadena = \"\".join(matches)\n",
    "    best_sellers_rank_content.append(cadena)"
   ]
  },
  {
   "cell_type": "code",
   "execution_count": 15,
   "id": "c28ba61c-d2d8-44bc-8db8-8e2fd438e74e",
   "metadata": {},
   "outputs": [
    {
     "name": "stdout",
     "output_type": "stream",
     "text": [
      "[]\n"
     ]
    }
   ],
   "source": [
    "print(best_sellers_rank_content)"
   ]
  },
  {
   "cell_type": "code",
   "execution_count": 16,
   "id": "284e5a40-79dc-4dba-9f0c-770e823a7171",
   "metadata": {},
   "outputs": [
    {
     "name": "stdout",
     "output_type": "stream",
     "text": [
      "[]\n",
      "0\n"
     ]
    }
   ],
   "source": [
    "contenedor = selector.css(\"#productDetails_detailBullets_sections1 > td > span\")\n",
    "print(contenedor)\n",
    "print(len(contenedor))"
   ]
  },
  {
   "cell_type": "code",
   "execution_count": 17,
   "id": "25f70934-21c4-4fd5-bdee-7ef7e656abbf",
   "metadata": {},
   "outputs": [
    {
     "name": "stdout",
     "output_type": "stream",
     "text": [
      "[]\n"
     ]
    }
   ],
   "source": [
    "span = contenedor.css('span span').getall()\n",
    "print(span)"
   ]
  },
  {
   "cell_type": "code",
   "execution_count": 18,
   "id": "cb5a76bb-c210-4f9c-8722-565a9f6c5cb4",
   "metadata": {},
   "outputs": [],
   "source": [
    "list = []\n",
    "for i in span:\n",
    "    if i != ' ' and i != '  ' and i != '':\n",
    "        print(f\"{i}\\n\")\n",
    "        list.append(i)\n",
    "        "
   ]
  },
  {
   "cell_type": "code",
   "execution_count": 19,
   "id": "a5c9a34c-1f3e-4cd0-9fd1-d7eee0182a06",
   "metadata": {},
   "outputs": [],
   "source": [
    "list_clean = []\n",
    "for i in list:\n",
    "    pattern = r\">([^<]+)<\"\n",
    "    matches = re.findall(pattern, i, re.DOTALL)\n",
    "    cadena = \"\".join(matches)\n",
    "    list_clean.append(cadena)"
   ]
  },
  {
   "cell_type": "code",
   "execution_count": 20,
   "id": "c9e5a51b-4390-4b27-940e-5c3d38cbd286",
   "metadata": {},
   "outputs": [
    {
     "name": "stdout",
     "output_type": "stream",
     "text": [
      "[]\n"
     ]
    }
   ],
   "source": [
    "print(list_clean)"
   ]
  },
  {
   "cell_type": "markdown",
   "id": "795da918-8222-4ab2-9c6f-c3ae2cd6e97b",
   "metadata": {},
   "source": [
    "# Capturar otros provedores del producto"
   ]
  },
  {
   "cell_type": "code",
   "execution_count": 21,
   "id": "77cc0099-1182-4938-b110-29415f8bda2c",
   "metadata": {},
   "outputs": [],
   "source": [
    "others_sellers = selector.css('.mbcMerchantName::text').get()"
   ]
  },
  {
   "cell_type": "code",
   "execution_count": 22,
   "id": "a976430e-7a50-49ea-9a72-05cdd59eb93f",
   "metadata": {},
   "outputs": [
    {
     "name": "stdout",
     "output_type": "stream",
     "text": [
      " Smart Shop ⭐⭐⭐⭐⭐ \n"
     ]
    }
   ],
   "source": [
    "print(others_sellers)"
   ]
  },
  {
   "cell_type": "code",
   "execution_count": 23,
   "id": "591da640-3433-4d86-a503-3410ac50dab9",
   "metadata": {},
   "outputs": [],
   "source": [
    "others_offer = selector.css('div.a-section.a-spacing-none span.a-size-small.mbcMerchantName::text').getall()"
   ]
  },
  {
   "cell_type": "code",
   "execution_count": 24,
   "id": "3ea4d296-76e6-47c1-b51a-de1113f85973",
   "metadata": {},
   "outputs": [
    {
     "name": "stdout",
     "output_type": "stream",
     "text": [
      "[' Smart Shop ⭐⭐⭐⭐⭐ ', ' BELLEZA TOUCH ', ' ALAWAD Store DXB ']\n"
     ]
    }
   ],
   "source": [
    "print(others_offer)"
   ]
  },
  {
   "cell_type": "code",
   "execution_count": 25,
   "id": "35c65c29-c930-4cac-bcf3-6085ca2f1bf9",
   "metadata": {},
   "outputs": [
    {
     "name": "stdout",
     "output_type": "stream",
     "text": [
      " Smart Shop ⭐⭐⭐⭐⭐ \n",
      " BELLEZA TOUCH \n",
      " ALAWAD Store DXB \n"
     ]
    }
   ],
   "source": [
    "for i in others_offer:\n",
    "    print(i)"
   ]
  },
  {
   "cell_type": "code",
   "execution_count": 26,
   "id": "01d2c648-82ba-42d9-8b9a-3c38b47d8bcb",
   "metadata": {},
   "outputs": [],
   "source": [
    "brand_store_href = selector.css('#bylineInfo::attr(href)').get()\n",
    "brand_store_link = f\"https://www.amazon.ae{brand_store_href}\""
   ]
  },
  {
   "cell_type": "code",
   "execution_count": 27,
   "id": "471ae23a-7a60-416a-beee-13afa66591f7",
   "metadata": {},
   "outputs": [
    {
     "name": "stdout",
     "output_type": "stream",
     "text": [
      "https://www.amazon.ae/stores/Duracell/page/8126018F-4B33-4E27-8353-534BE8B54BA5?ref_=ast_bln\n"
     ]
    }
   ],
   "source": [
    "print(brand_store_link)"
   ]
  },
  {
   "cell_type": "code",
   "execution_count": 28,
   "id": "983b742d-610a-427d-aae4-1940c0217e6a",
   "metadata": {},
   "outputs": [
    {
     "name": "stdout",
     "output_type": "stream",
     "text": [
      "[<Selector query=\"descendant-or-self::div[(@class and contains(concat(' ', normalize-space(@class), ' '), ' a-box-inner ')) and (@class and contains(concat(' ', normalize-space(@class), ' '), ' a-padding-small '))]/descendant-or-self::*/span[@class and contains(concat(' ', normalize-space(@class), ' '), ' a-declarative ')]/descendant-or-self::*/div[@class and contains(concat(' ', normalize-space(@class), ' '), ' a-row ')]\" data='<div class=\"a-row\">              <spa...'>, <Selector query=\"descendant-or-self::div[(@class and contains(concat(' ', normalize-space(@class), ' '), ' a-box-inner ')) and (@class and contains(concat(' ', normalize-space(@class), ' '), ' a-padding-small '))]/descendant-or-self::*/span[@class and contains(concat(' ', normalize-space(@class), ' '), ' a-declarative ')]/descendant-or-self::*/div[@class and contains(concat(' ', normalize-space(@class), ' '), ' a-row ')]\" data='<div class=\"a-row\">              <spa...'>]\n"
     ]
    }
   ],
   "source": [
    "others_offer_container = selector.css('div.a-box-inner.a-padding-small span.a-declarative div.a-row')                                    \n",
    "print(others_offer_container)"
   ]
  },
  {
   "cell_type": "code",
   "execution_count": 29,
   "id": "ac95320b-9115-467b-b9ce-ff84e4b4d3b5",
   "metadata": {},
   "outputs": [
    {
     "name": "stdout",
     "output_type": "stream",
     "text": [
      "[' AED\\xa035.15 ', ' AED\\xa035.50 ', ' AED\\xa025.56 ']\n"
     ]
    }
   ],
   "source": [
    "others_price = selector.css('div.a-box-inner.a-padding-small span.a-declarative div.a-row span.a-size-medium.a-color-price::text').getall()\n",
    "print(others_price)"
   ]
  },
  {
   "cell_type": "code",
   "execution_count": 30,
   "id": "e0045d83-2b84-49f4-99ea-2d1a4fa5fe62",
   "metadata": {},
   "outputs": [
    {
     "name": "stdout",
     "output_type": "stream",
     "text": [
      " AED 25.56 \n"
     ]
    }
   ],
   "source": [
    "amazon_price = others_offer_container[2].css('span.a-size-medium.a-color-price::text').get()\n",
    "print(amazon_price)"
   ]
  },
  {
   "cell_type": "code",
   "execution_count": 31,
   "id": "6341d4b7-a3b1-46cb-b69f-b1bd82013783",
   "metadata": {},
   "outputs": [
    {
     "name": "stdout",
     "output_type": "stream",
     "text": [
      "OTHERS OFFER:[' Smart Shop ⭐⭐⭐⭐⭐ ', ' BELLEZA TOUCH ', ' ALAWAD Store DXB ']\n",
      "\n",
      " Smart Shop ⭐⭐⭐⭐⭐ \n",
      " BELLEZA TOUCH \n",
      " ALAWAD Store DXB \n"
     ]
    }
   ],
   "source": [
    "others_offer_container = selector.css('div.a-box-inner.a-padding-small span.a-declarative div.a-row')         \n",
    "print(f\"OTHERS OFFER:{others_offer}\\n\")\n",
    "for i in others_offer_container:\n",
    "    title_store = i.css('div.a-section.a-spacing-none span.a-size-small.mbcMerchantName::text').get()\n",
    "    print(title_store)\n",
    "    if 'Amazon.ae' in title_store:\n",
    "        final_price = i.css('span.a-size-medium.a-color-price::text').get()\n",
    "        is_transmed = True\n",
    "        print(f\"Encontre un Strore Transmed\")"
   ]
  },
  {
   "cell_type": "code",
   "execution_count": 47,
   "id": "61a34189-5c81-4e66-adbf-69e9116a23e5",
   "metadata": {},
   "outputs": [],
   "source": [
    "def get_data_css(response, css: str):\n",
    "    data = response.css(css).get()\n",
    "    if data == None:\n",
    "        data = \"No se pudo extraer el dato\"\n",
    "    return data"
   ]
  },
  {
   "cell_type": "code",
   "execution_count": 48,
   "id": "79989409-0fce-43ba-82b4-bb6aac01640a",
   "metadata": {},
   "outputs": [],
   "source": [
    "rating = get_data_css(response=selector, css=\"#acrPopover > span.a-declarative > a > span.a-size-base.a-color-base::text\")\n",
    "q_rating = get_data_css(response=selector, css=\"#acrCustomerReviewText::text\")"
   ]
  },
  {
   "cell_type": "code",
   "execution_count": 49,
   "id": "eb4cd0eb-ca60-4087-8f2d-282618a3f7e1",
   "metadata": {},
   "outputs": [
    {
     "name": "stdout",
     "output_type": "stream",
     "text": [
      "Rating: 4.1 \n",
      "QRating:90,321 ratings\n"
     ]
    }
   ],
   "source": [
    "print(f\"Rating:{rating}\")\n",
    "print(f\"QRating:{q_rating}\")"
   ]
  },
  {
   "cell_type": "code",
   "execution_count": null,
   "id": "4b748418-9f3f-4833-a4af-53f43c52981b",
   "metadata": {},
   "outputs": [],
   "source": []
  }
 ],
 "metadata": {
  "kernelspec": {
   "display_name": "Python 3 (ipykernel)",
   "language": "python",
   "name": "python3"
  },
  "language_info": {
   "codemirror_mode": {
    "name": "ipython",
    "version": 3
   },
   "file_extension": ".py",
   "mimetype": "text/x-python",
   "name": "python",
   "nbconvert_exporter": "python",
   "pygments_lexer": "ipython3",
   "version": "3.11.3"
  }
 },
 "nbformat": 4,
 "nbformat_minor": 5
}
