{
 "cells": [
  {
   "cell_type": "code",
   "execution_count": 1,
   "id": "053627eb-c00c-414b-90a4-3a299377d10d",
   "metadata": {},
   "outputs": [],
   "source": [
    "# Importacion de librerias\n",
    "import time\n",
    "import requests\n",
    "from bs4 import BeautifulSoup\n",
    "from selenium import webdriver\n",
    "from selenium.webdriver.common.by import By\n",
    "from selenium.webdriver.common.keys import Keys\n",
    "from selenium.webdriver.chrome.options import Options"
   ]
  },
  {
   "cell_type": "code",
   "execution_count": 6,
   "id": "9496ace8-65a2-4d35-9ef7-7e4c4116fd5a",
   "metadata": {},
   "outputs": [],
   "source": [
    "# Opciones del navegador\n",
    "options = Options()\n",
    "options.add_argument(\"--start-maximized\")"
   ]
  },
  {
   "cell_type": "code",
   "execution_count": 7,
   "id": "18f90dbc-25dc-4c42-9557-f80ecb21a5ed",
   "metadata": {},
   "outputs": [],
   "source": [
    "# Test con Selenium\n",
    "url = \"https://www.ubereats.com/store/jumbo-el-llano/UEHpnrDqXVOpEIutF4Cmpg/ae6f66b3-cff8-5e33-9f67-56ddbfe62bab?diningMode=DELIVERY&pl=JTdCJTIyYWRkcmVzcyUyMiUzQSUyMkVsJTIwTGxhbm8lMjIlMkMlMjJyZWZlcmVuY2UlMjIlM0ElMjJDaElKcXhUNUJQWGJZcFlSMmlyYnlqd0xmRzQlMjIlMkMlMjJyZWZlcmVuY2VUeXBlJTIyJTNBJTIyZ29vZ2xlX3BsYWNlcyUyMiUyQyUyMmxhdGl0dWRlJTIyJTNBLTMzLjQ4OTM5MDclMkMlMjJsb25naXR1ZGUlMjIlM0EtNzAuNjUxODU1NyU3RA%3D%3D\"\n",
    "driver = webdriver.Chrome(options=options)\n",
    "driver.get(url)"
   ]
  },
  {
   "cell_type": "code",
   "execution_count": 8,
   "id": "9fd1520e-84bf-4620-919a-2ebf157c6e00",
   "metadata": {},
   "outputs": [],
   "source": [
    "# # Localizar la etiqueta `<input>`\n",
    "# elemento_input = driver.find_element(By.CSS_SELECTOR, \"div.be.bf.bg.bh.ea.eb.ec.al.cg.ed.ee.ef.da.eg.bn.co.ds.b1\")\n",
    "# elemento_input.click()\n",
    "# time.sleep(5)"
   ]
  },
  {
   "cell_type": "code",
   "execution_count": 26,
   "id": "47ac39d2-2343-4cf6-ad3e-fc892095bf3e",
   "metadata": {},
   "outputs": [],
   "source": [
    "# try:\n",
    "#     elemento = driver.find_element(By.CSS_SELECTOR, \"#root > div:nth-child(2) > div > div > div:nth-child(2) > div > div > div > div > div.ch.jc > div > div.al.cj.ly.d8.ky.be.di.fo.fp.b1.i1 > input\")\n",
    "# except:\n",
    "#     elemento = driver.find_element(By.CSS_SELECTOR, \"#root > div:nth-child(2) > div > div > div:nth-child(2) > div > div > div > div > div.ch.je\")\n",
    "# # Agregar texto al campo de entrada\n",
    "# elemento.send_keys(\"El llano\")\n",
    "# time.sleep(5)"
   ]
  },
  {
   "cell_type": "code",
   "execution_count": 10,
   "id": "2b9b6151-0138-4940-b9ac-c6c603b9714f",
   "metadata": {},
   "outputs": [],
   "source": [
    "# button = driver.find_element(By.CSS_SELECTOR, \"#root > div:nth-child(2) > div > div > div:nth-child(2) > div > div > div > div > ul > button:nth-child(3)\")\n",
    "# button.click()"
   ]
  },
  {
   "cell_type": "code",
   "execution_count": 2,
   "id": "49c17f4c-4ebe-4431-b76c-bf95b7f53757",
   "metadata": {},
   "outputs": [],
   "source": [
    "url = \"https://www.ubereats.com/store/jumbo-el-llano/UEHpnrDqXVOpEIutF4Cmpg/ae6f66b3-cff8-5e33-9f67-56ddbfe62bab/50b5fc6c-4cd0-5e59-89b2-411ebcc4765b/2d47ac9a-09c2-530b-af02-6a8b9a960caf?storeSearchQuery=Sedal\"\n",
    "url = \"https://www.ubereats.com/store/jumbo-el-llano/UEHpnrDqXVOpEIutF4Cmpg/8871de9d-4782-5fb6-a40f-21872c82f249/fbd9b8a7-4f19-57b6-b779-983817f857d1/0648b3d8-7b88-5a8b-b303-26e7a3114822?storeSearchQuery=dove%204\"\n",
    "# driver.get(url)"
   ]
  },
  {
   "cell_type": "code",
   "execution_count": 12,
   "id": "3bc04ceb-312d-4df7-8ebc-42fe49a7558f",
   "metadata": {},
   "outputs": [],
   "source": [
    "html = driver.page_source\n",
    "driver.quit()\n",
    "soup = BeautifulSoup(html, \"lxml\")"
   ]
  },
  {
   "cell_type": "code",
   "execution_count": 24,
   "id": "18a8855a-4ab6-4e43-826c-acf9dbb7214a",
   "metadata": {},
   "outputs": [],
   "source": [
    "title = soup.select_one(\"div.h3 h1.h4\").text if soup.select_one(\".h4\") != None else ''\n",
    "final_price = soup.select_one(\"span.hb:nth-child(1)\").text if soup.select_one(\"span.hb:nth-child(1)\") != None else 0\n",
    "final_price = float(final_price.replace(\"CLP\", '').replace(\",\", \"\"))"
   ]
  },
  {
   "cell_type": "code",
   "execution_count": 25,
   "id": "602fcbe9-f38c-41a4-ab6a-9ec85f292954",
   "metadata": {},
   "outputs": [
    {
     "name": "stdout",
     "output_type": "stream",
     "text": [
      "Title: Dove pack desodorantes aerosol (4 un)\n",
      "FinalPrice: 9999.0\n"
     ]
    }
   ],
   "source": [
    "print(f\"Title: {title}\")\n",
    "print(f\"FinalPrice: {final_price}\")"
   ]
  },
  {
   "cell_type": "code",
   "execution_count": 3,
   "id": "137c92dc-dcd7-44c3-a360-abd457c2be40",
   "metadata": {},
   "outputs": [],
   "source": [
    "response = requests.get(url)\n",
    "html = response.text\n",
    "soup = BeautifulSoup(html, \"lxml\")"
   ]
  },
  {
   "cell_type": "code",
   "execution_count": 4,
   "id": "80fc3b18-79c7-4a0e-a99a-dd7740d2ea09",
   "metadata": {},
   "outputs": [
    {
     "name": "stderr",
     "output_type": "stream",
     "text": [
      "IOPub data rate exceeded.\n",
      "The Jupyter server will temporarily stop sending output\n",
      "to the client in order to avoid crashing it.\n",
      "To change this limit, set the config variable\n",
      "`--ServerApp.iopub_data_rate_limit`.\n",
      "\n",
      "Current values:\n",
      "ServerApp.iopub_data_rate_limit=1000000.0 (bytes/sec)\n",
      "ServerApp.rate_limit_window=3.0 (secs)\n",
      "\n"
     ]
    }
   ],
   "source": [
    "print(soup)"
   ]
  },
  {
   "cell_type": "code",
   "execution_count": 5,
   "id": "aa651810-141e-45b4-93e9-5bb202885c73",
   "metadata": {},
   "outputs": [
    {
     "ename": "AttributeError",
     "evalue": "'NoneType' object has no attribute 'text'",
     "output_type": "error",
     "traceback": [
      "\u001b[1;31m---------------------------------------------------------------------------\u001b[0m",
      "\u001b[1;31mAttributeError\u001b[0m                            Traceback (most recent call last)",
      "Cell \u001b[1;32mIn[5], line 1\u001b[0m\n\u001b[1;32m----> 1\u001b[0m title \u001b[38;5;241m=\u001b[39m \u001b[43msoup\u001b[49m\u001b[38;5;241;43m.\u001b[39;49m\u001b[43mselect_one\u001b[49m\u001b[43m(\u001b[49m\u001b[38;5;124;43m\"\u001b[39;49m\u001b[38;5;124;43mdiv.h3 h1.h4\u001b[39;49m\u001b[38;5;124;43m\"\u001b[39;49m\u001b[43m)\u001b[49m\u001b[38;5;241;43m.\u001b[39;49m\u001b[43mtext\u001b[49m \u001b[38;5;28;01mif\u001b[39;00m soup\u001b[38;5;241m.\u001b[39mselect_one(\u001b[38;5;124m\"\u001b[39m\u001b[38;5;124m.h4\u001b[39m\u001b[38;5;124m\"\u001b[39m) \u001b[38;5;241m!=\u001b[39m \u001b[38;5;28;01mNone\u001b[39;00m \u001b[38;5;28;01melse\u001b[39;00m \u001b[38;5;124m'\u001b[39m\u001b[38;5;124m'\u001b[39m\n\u001b[0;32m      2\u001b[0m \u001b[38;5;28mprint\u001b[39m(\u001b[38;5;124mf\u001b[39m\u001b[38;5;124m\"\u001b[39m\u001b[38;5;124mTitle: \u001b[39m\u001b[38;5;132;01m{\u001b[39;00mtitle\u001b[38;5;132;01m}\u001b[39;00m\u001b[38;5;124m\"\u001b[39m)\n",
      "\u001b[1;31mAttributeError\u001b[0m: 'NoneType' object has no attribute 'text'"
     ]
    }
   ],
   "source": [
    "title = soup.select_one(\"div.h3 h1.h4\").text if soup.select_one(\".h4\") != None else ''\n",
    "print(f\"Title: {title}\")"
   ]
  },
  {
   "cell_type": "code",
   "execution_count": null,
   "id": "4390713b-b33e-46a6-8230-b70abefb4147",
   "metadata": {},
   "outputs": [],
   "source": []
  }
 ],
 "metadata": {
  "kernelspec": {
   "display_name": "Python 3 (ipykernel)",
   "language": "python",
   "name": "python3"
  },
  "language_info": {
   "codemirror_mode": {
    "name": "ipython",
    "version": 3
   },
   "file_extension": ".py",
   "mimetype": "text/x-python",
   "name": "python",
   "nbconvert_exporter": "python",
   "pygments_lexer": "ipython3",
   "version": "3.11.3"
  }
 },
 "nbformat": 4,
 "nbformat_minor": 5
}
