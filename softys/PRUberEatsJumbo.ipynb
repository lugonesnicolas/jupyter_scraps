{
 "cells": [
  {
   "cell_type": "code",
   "execution_count": 1,
   "id": "053627eb-c00c-414b-90a4-3a299377d10d",
   "metadata": {},
   "outputs": [],
   "source": [
    "# Importacion de librerias\n",
    "import time\n",
    "import requests\n",
    "from bs4 import BeautifulSoup\n",
    "from selenium import webdriver\n",
    "from selenium.webdriver.common.by import By\n",
    "from selenium.webdriver.common.keys import Keys"
   ]
  },
  {
   "cell_type": "code",
   "execution_count": 2,
   "id": "18f90dbc-25dc-4c42-9557-f80ecb21a5ed",
   "metadata": {},
   "outputs": [],
   "source": [
    "# Test con Selenium\n",
    "url = \"https://www.ubereats.com/store/jumbo-el-llano/UEHpnrDqXVOpEIutF4Cmpg/ae6f66b3-cff8-5e33-9f67-56ddbfe62bab?diningMode=DELIVERY\"\n",
    "driver = webdriver.Chrome()\n",
    "driver.get(url)\n",
    "time.sleep(1)"
   ]
  },
  {
   "cell_type": "code",
   "execution_count": 10,
   "id": "9fd1520e-84bf-4620-919a-2ebf157c6e00",
   "metadata": {},
   "outputs": [],
   "source": [
    "# Localizar la etiqueta `<input>`\n",
    "elemento_input = driver.find_element(By.CSS_SELECTOR, \"div.be.bf.bg.bh.ea.eb.ec.al.cg.ed.ee.ef.da.eg.bn.co.ds.b1\")\n",
    "elemento_input.click()"
   ]
  },
  {
   "cell_type": "code",
   "execution_count": 21,
   "id": "47ac39d2-2343-4cf6-ad3e-fc892095bf3e",
   "metadata": {},
   "outputs": [
    {
     "ename": "NoSuchElementException",
     "evalue": "Message: no such element: Unable to locate element: {\"method\":\"css selector\",\"selector\":\".cg b0 al gn cj n2 n3 n4 n5 bl hc d4 g6 da hy go n6\"}\n  (Session info: chrome=126.0.6478.128); For documentation on this error, please visit: https://www.selenium.dev/documentation/webdriver/troubleshooting/errors#no-such-element-exception\nStacktrace:\n\tGetHandleVerifier [0x00007FF65DB7EEB2+31554]\n\t(No symbol) [0x00007FF65DAF7EE9]\n\t(No symbol) [0x00007FF65D9B872A]\n\t(No symbol) [0x00007FF65DA08434]\n\t(No symbol) [0x00007FF65DA0853C]\n\t(No symbol) [0x00007FF65DA4F6A7]\n\t(No symbol) [0x00007FF65DA2D06F]\n\t(No symbol) [0x00007FF65DA4C977]\n\t(No symbol) [0x00007FF65DA2CDD3]\n\t(No symbol) [0x00007FF65D9FA33B]\n\t(No symbol) [0x00007FF65D9FAED1]\n\tGetHandleVerifier [0x00007FF65DE88B2D+3217341]\n\tGetHandleVerifier [0x00007FF65DED5AF3+3532675]\n\tGetHandleVerifier [0x00007FF65DECB0F0+3489152]\n\tGetHandleVerifier [0x00007FF65DC2E786+750614]\n\t(No symbol) [0x00007FF65DB0376F]\n\t(No symbol) [0x00007FF65DAFEB24]\n\t(No symbol) [0x00007FF65DAFECB2]\n\t(No symbol) [0x00007FF65DAEE17F]\n\tBaseThreadInitThunk [0x00007FFB8084257D+29]\n\tRtlUserThreadStart [0x00007FFB823CAF28+40]\n",
     "output_type": "error",
     "traceback": [
      "\u001b[1;31m---------------------------------------------------------------------------\u001b[0m",
      "\u001b[1;31mNoSuchElementException\u001b[0m                    Traceback (most recent call last)",
      "Cell \u001b[1;32mIn[21], line 4\u001b[0m\n\u001b[0;32m      2\u001b[0m \u001b[38;5;66;03m# Agregar texto al campo de entrada\u001b[39;00m\n\u001b[0;32m      3\u001b[0m elemento\u001b[38;5;241m.\u001b[39msend_keys(\u001b[38;5;124m\"\u001b[39m\u001b[38;5;124mEl llano\u001b[39m\u001b[38;5;124m\"\u001b[39m)\n\u001b[1;32m----> 4\u001b[0m button \u001b[38;5;241m=\u001b[39m \u001b[43mdriver\u001b[49m\u001b[38;5;241;43m.\u001b[39;49m\u001b[43mfind_element\u001b[49m\u001b[43m(\u001b[49m\u001b[43mBy\u001b[49m\u001b[38;5;241;43m.\u001b[39;49m\u001b[43mCLASS_NAME\u001b[49m\u001b[43m,\u001b[49m\u001b[43m \u001b[49m\u001b[38;5;124;43m\"\u001b[39;49m\u001b[38;5;124;43mcg b0 al gn cj n2 n3 n4 n5 bl hc d4 g6 da hy go n6\u001b[39;49m\u001b[38;5;124;43m\"\u001b[39;49m\u001b[43m)\u001b[49m\n\u001b[0;32m      5\u001b[0m button\u001b[38;5;241m.\u001b[39mclick()\n",
      "File \u001b[1;32mA:\\BeOn_Repositories\\amazon_jupyter\\venv\\Lib\\site-packages\\selenium\\webdriver\\remote\\webdriver.py:741\u001b[0m, in \u001b[0;36mWebDriver.find_element\u001b[1;34m(self, by, value)\u001b[0m\n\u001b[0;32m    738\u001b[0m     by \u001b[38;5;241m=\u001b[39m By\u001b[38;5;241m.\u001b[39mCSS_SELECTOR\n\u001b[0;32m    739\u001b[0m     value \u001b[38;5;241m=\u001b[39m \u001b[38;5;124mf\u001b[39m\u001b[38;5;124m'\u001b[39m\u001b[38;5;124m[name=\u001b[39m\u001b[38;5;124m\"\u001b[39m\u001b[38;5;132;01m{\u001b[39;00mvalue\u001b[38;5;132;01m}\u001b[39;00m\u001b[38;5;124m\"\u001b[39m\u001b[38;5;124m]\u001b[39m\u001b[38;5;124m'\u001b[39m\n\u001b[1;32m--> 741\u001b[0m \u001b[38;5;28;01mreturn\u001b[39;00m \u001b[38;5;28;43mself\u001b[39;49m\u001b[38;5;241;43m.\u001b[39;49m\u001b[43mexecute\u001b[49m\u001b[43m(\u001b[49m\u001b[43mCommand\u001b[49m\u001b[38;5;241;43m.\u001b[39;49m\u001b[43mFIND_ELEMENT\u001b[49m\u001b[43m,\u001b[49m\u001b[43m \u001b[49m\u001b[43m{\u001b[49m\u001b[38;5;124;43m\"\u001b[39;49m\u001b[38;5;124;43musing\u001b[39;49m\u001b[38;5;124;43m\"\u001b[39;49m\u001b[43m:\u001b[49m\u001b[43m \u001b[49m\u001b[43mby\u001b[49m\u001b[43m,\u001b[49m\u001b[43m \u001b[49m\u001b[38;5;124;43m\"\u001b[39;49m\u001b[38;5;124;43mvalue\u001b[39;49m\u001b[38;5;124;43m\"\u001b[39;49m\u001b[43m:\u001b[49m\u001b[43m \u001b[49m\u001b[43mvalue\u001b[49m\u001b[43m}\u001b[49m\u001b[43m)\u001b[49m[\u001b[38;5;124m\"\u001b[39m\u001b[38;5;124mvalue\u001b[39m\u001b[38;5;124m\"\u001b[39m]\n",
      "File \u001b[1;32mA:\\BeOn_Repositories\\amazon_jupyter\\venv\\Lib\\site-packages\\selenium\\webdriver\\remote\\webdriver.py:347\u001b[0m, in \u001b[0;36mWebDriver.execute\u001b[1;34m(self, driver_command, params)\u001b[0m\n\u001b[0;32m    345\u001b[0m response \u001b[38;5;241m=\u001b[39m \u001b[38;5;28mself\u001b[39m\u001b[38;5;241m.\u001b[39mcommand_executor\u001b[38;5;241m.\u001b[39mexecute(driver_command, params)\n\u001b[0;32m    346\u001b[0m \u001b[38;5;28;01mif\u001b[39;00m response:\n\u001b[1;32m--> 347\u001b[0m     \u001b[38;5;28;43mself\u001b[39;49m\u001b[38;5;241;43m.\u001b[39;49m\u001b[43merror_handler\u001b[49m\u001b[38;5;241;43m.\u001b[39;49m\u001b[43mcheck_response\u001b[49m\u001b[43m(\u001b[49m\u001b[43mresponse\u001b[49m\u001b[43m)\u001b[49m\n\u001b[0;32m    348\u001b[0m     response[\u001b[38;5;124m\"\u001b[39m\u001b[38;5;124mvalue\u001b[39m\u001b[38;5;124m\"\u001b[39m] \u001b[38;5;241m=\u001b[39m \u001b[38;5;28mself\u001b[39m\u001b[38;5;241m.\u001b[39m_unwrap_value(response\u001b[38;5;241m.\u001b[39mget(\u001b[38;5;124m\"\u001b[39m\u001b[38;5;124mvalue\u001b[39m\u001b[38;5;124m\"\u001b[39m, \u001b[38;5;28;01mNone\u001b[39;00m))\n\u001b[0;32m    349\u001b[0m     \u001b[38;5;28;01mreturn\u001b[39;00m response\n",
      "File \u001b[1;32mA:\\BeOn_Repositories\\amazon_jupyter\\venv\\Lib\\site-packages\\selenium\\webdriver\\remote\\errorhandler.py:229\u001b[0m, in \u001b[0;36mErrorHandler.check_response\u001b[1;34m(self, response)\u001b[0m\n\u001b[0;32m    227\u001b[0m         alert_text \u001b[38;5;241m=\u001b[39m value[\u001b[38;5;124m\"\u001b[39m\u001b[38;5;124malert\u001b[39m\u001b[38;5;124m\"\u001b[39m]\u001b[38;5;241m.\u001b[39mget(\u001b[38;5;124m\"\u001b[39m\u001b[38;5;124mtext\u001b[39m\u001b[38;5;124m\"\u001b[39m)\n\u001b[0;32m    228\u001b[0m     \u001b[38;5;28;01mraise\u001b[39;00m exception_class(message, screen, stacktrace, alert_text)  \u001b[38;5;66;03m# type: ignore[call-arg]  # mypy is not smart enough here\u001b[39;00m\n\u001b[1;32m--> 229\u001b[0m \u001b[38;5;28;01mraise\u001b[39;00m exception_class(message, screen, stacktrace)\n",
      "\u001b[1;31mNoSuchElementException\u001b[0m: Message: no such element: Unable to locate element: {\"method\":\"css selector\",\"selector\":\".cg b0 al gn cj n2 n3 n4 n5 bl hc d4 g6 da hy go n6\"}\n  (Session info: chrome=126.0.6478.128); For documentation on this error, please visit: https://www.selenium.dev/documentation/webdriver/troubleshooting/errors#no-such-element-exception\nStacktrace:\n\tGetHandleVerifier [0x00007FF65DB7EEB2+31554]\n\t(No symbol) [0x00007FF65DAF7EE9]\n\t(No symbol) [0x00007FF65D9B872A]\n\t(No symbol) [0x00007FF65DA08434]\n\t(No symbol) [0x00007FF65DA0853C]\n\t(No symbol) [0x00007FF65DA4F6A7]\n\t(No symbol) [0x00007FF65DA2D06F]\n\t(No symbol) [0x00007FF65DA4C977]\n\t(No symbol) [0x00007FF65DA2CDD3]\n\t(No symbol) [0x00007FF65D9FA33B]\n\t(No symbol) [0x00007FF65D9FAED1]\n\tGetHandleVerifier [0x00007FF65DE88B2D+3217341]\n\tGetHandleVerifier [0x00007FF65DED5AF3+3532675]\n\tGetHandleVerifier [0x00007FF65DECB0F0+3489152]\n\tGetHandleVerifier [0x00007FF65DC2E786+750614]\n\t(No symbol) [0x00007FF65DB0376F]\n\t(No symbol) [0x00007FF65DAFEB24]\n\t(No symbol) [0x00007FF65DAFECB2]\n\t(No symbol) [0x00007FF65DAEE17F]\n\tBaseThreadInitThunk [0x00007FFB8084257D+29]\n\tRtlUserThreadStart [0x00007FFB823CAF28+40]\n"
     ]
    }
   ],
   "source": [
    "elemento = driver.find_element(By.CSS_SELECTOR, \"div.al.cj.lz.d8.kz.be.di.fo.fp.b1.i0 > input\")\n",
    "# Agregar texto al campo de entrada\n",
    "elemento.send_keys(\"El llano\")\n",
    "button = driver.find_element(By.CLASS_NAME, \"cg b0 al gn cj n2 n3 n4 n5 bl hc d4 g6 da hy go n6\")\n",
    "button.click()"
   ]
  },
  {
   "cell_type": "code",
   "execution_count": 4,
   "id": "3bc04ceb-312d-4df7-8ebc-42fe49a7558f",
   "metadata": {},
   "outputs": [],
   "source": [
    "html = driver.page_source\n",
    "driver.quit()\n",
    "soup = BeautifulSoup(html, \"lxml\")"
   ]
  },
  {
   "cell_type": "code",
   "execution_count": null,
   "id": "18a8855a-4ab6-4e43-826c-acf9dbb7214a",
   "metadata": {},
   "outputs": [],
   "source": []
  }
 ],
 "metadata": {
  "kernelspec": {
   "display_name": "Python 3 (ipykernel)",
   "language": "python",
   "name": "python3"
  },
  "language_info": {
   "codemirror_mode": {
    "name": "ipython",
    "version": 3
   },
   "file_extension": ".py",
   "mimetype": "text/x-python",
   "name": "python",
   "nbconvert_exporter": "python",
   "pygments_lexer": "ipython3",
   "version": "3.11.3"
  }
 },
 "nbformat": 4,
 "nbformat_minor": 5
}
