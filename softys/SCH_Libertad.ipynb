{
 "cells": [
  {
   "cell_type": "code",
   "execution_count": 1,
   "id": "7e7a2ce4-35de-4ddb-b730-555ac608f6c6",
   "metadata": {},
   "outputs": [],
   "source": [
    "# Importacion de librerias\n",
    "import time\n",
    "import requests\n",
    "from bs4 import BeautifulSoup\n",
    "from selenium import webdriver\n",
    "from selenium.webdriver.common.by import By"
   ]
  },
  {
   "cell_type": "code",
   "execution_count": 2,
   "id": "b45e74df-502c-4349-9f77-ef00e7de01d3",
   "metadata": {},
   "outputs": [],
   "source": [
    "# Test con Selenium\n",
    "url = \"https://www.hiperlibertad.com.ar/lays?_q=lays&map=ft&sc=2\"\n",
    "driver = webdriver.Chrome()\n",
    "driver.get(url)\n",
    "time.sleep(1)"
   ]
  },
  {
   "cell_type": "code",
   "execution_count": 3,
   "id": "58bd2186-3ffe-4d44-9665-9eef36ce0466",
   "metadata": {},
   "outputs": [],
   "source": [
    "html = driver.page_source\n",
    "driver.quit()\n",
    "soup = BeautifulSoup(html, \"lxml\")"
   ]
  },
  {
   "cell_type": "code",
   "execution_count": 4,
   "id": "c6e33457-98da-4579-b406-e851a982b715",
   "metadata": {},
   "outputs": [],
   "source": [
    "product_list = soup.select(\"a.vtex-product-summary-2-x-clearLink.vtex-product-summary-2-x-clearLink--defaultShelf.vtex-product-summary-2-x-clearLink--cross-selling-shelf.vtex-product-summary-2-x-clearLink--custom-landing-shelf.h-100.flex.flex-column article\")"
   ]
  },
  {
   "cell_type": "code",
   "execution_count": 7,
   "id": "72e26851-9615-4ad0-8634-77bd817c9a85",
   "metadata": {},
   "outputs": [
    {
     "name": "stdout",
     "output_type": "stream",
     "text": [
      "Title: LAYS MAYONESA 77G \n",
      "Brand: Mir\n",
      "FinalPrice: 2651.0\n",
      "OldPrice: 0\n",
      "\n",
      "Title: Papas fritas Lays Clásicas x 85 g \n",
      "Brand: Lay's\n",
      "FinalPrice: 1784.3\n",
      "OldPrice: 2549.0\n",
      "\n",
      "Title: Papas fritas Lays Clásicas x 134 g \n",
      "Brand: Lay's\n",
      "FinalPrice: 4222.0\n",
      "OldPrice: 0\n",
      "\n",
      "Title: Papas fritas Lays Clásicas x 40 g \n",
      "Brand: Lay's\n",
      "FinalPrice: 1726.0\n",
      "OldPrice: 0\n",
      "\n",
      "Title: Papas fritas Lays Clásicas x 230 g \n",
      "Brand: Lay's\n",
      "FinalPrice: 6620.0\n",
      "OldPrice: 0\n",
      "\n",
      "Title: Papas fritas sabor a queso y cebolla Lays x 34 g \n",
      "Brand: Lay's\n",
      "FinalPrice: 1665.0\n",
      "OldPrice: 0\n",
      "\n",
      "Title: LAYS ACANALADAS FLAMIN HOT 30 \n",
      "Brand: Mir\n",
      "FinalPrice: 1495.01\n",
      "OldPrice: 0\n",
      "\n",
      "Title: Papas fritas sabor a ketchup Lays x 34 g \n",
      "Brand: Lay's\n",
      "FinalPrice: 1726.0\n",
      "OldPrice: 0\n",
      "\n",
      "Title: Papas fritas sabor a jamón serrano Lays x 122 g \n",
      "Brand: Lay's\n",
      "FinalPrice: 4021.0\n",
      "OldPrice: 0\n",
      "\n",
      "Title: Papas fritas sabor a ketchup Lays x 77 g \n",
      "Brand: Lay's\n",
      "FinalPrice: 2633.0\n",
      "OldPrice: 0\n",
      "\n",
      "Title: LAYS ACANALADAS FLAMIN HOT 70 \n",
      "Brand: Mir\n",
      "FinalPrice: 1996.4\n",
      "OldPrice: 2852.0\n",
      "\n"
     ]
    }
   ],
   "source": [
    "for i in product_list:\n",
    "    title = i.select_one(\"span.vtex-product-summary-2-x-productBrand.vtex-product-summary-2-x-productBrand--defaultShelf-name.vtex-product-summary-2-x-brandName.vtex-product-summary-2-x-brandName--defaultShelf-name.t-body\").text if i.select_one(\"span.vtex-product-summary-2-x-productBrand.vtex-product-summary-2-x-productBrand--defaultShelf-name.vtex-product-summary-2-x-brandName.vtex-product-summary-2-x-brandName--defaultShelf-name.t-body\") != None else ''\n",
    "    brand = i.select_one(\"span.vtex-product-summary-2-x-productBrandName.vtex-product-summary-2-x-productBrandName--defaultShelf-brand\").text if i.select_one(\"span.vtex-product-summary-2-x-productBrandName.vtex-product-summary-2-x-productBrandName--defaultShelf-brand\") != None else ''\n",
    "    final_price = i.select_one(\"span.vtex-product-price-1-x-sellingPriceValue span.vtex-product-price-1-x-currencyContainer\").text if i.select_one(\"span.vtex-product-price-1-x-sellingPriceValue span.vtex-product-price-1-x-currencyContainer\") != None else 0\n",
    "    final_price = float(final_price.replace(\"$\", \"\").replace(\".\", \"\").replace(\",\", \".\").strip()) if final_price != 0 else final_price\n",
    "    old_price = i.select_one(\"span.vtex-product-price-1-x-listPrice\").text if i.select_one(\"span.vtex-product-price-1-x-listPrice\") != None else 0\n",
    "    old_price = float(old_price.replace(\"$\", \"\").replace(\".\", \"\").replace(\",\", \".\").strip()) if old_price != 0 else old_price\n",
    "\n",
    "    print(f\"Title: {title}\")\n",
    "    print(f\"Brand: {brand}\")\n",
    "    print(f\"FinalPrice: {final_price}\")\n",
    "    print(f\"OldPrice: {old_price}\\n\")"
   ]
  },
  {
   "cell_type": "code",
   "execution_count": null,
   "id": "2d4a4f65-6986-446b-9cdb-e4e8c4b58a3a",
   "metadata": {},
   "outputs": [],
   "source": []
  }
 ],
 "metadata": {
  "kernelspec": {
   "display_name": "Python 3 (ipykernel)",
   "language": "python",
   "name": "python3"
  },
  "language_info": {
   "codemirror_mode": {
    "name": "ipython",
    "version": 3
   },
   "file_extension": ".py",
   "mimetype": "text/x-python",
   "name": "python",
   "nbconvert_exporter": "python",
   "pygments_lexer": "ipython3",
   "version": "3.11.3"
  }
 },
 "nbformat": 4,
 "nbformat_minor": 5
}
