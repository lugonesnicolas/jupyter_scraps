{
 "cells": [
  {
   "cell_type": "code",
   "execution_count": 4,
   "id": "80a9d49e-5ebe-4495-9d65-da4b3ff76778",
   "metadata": {},
   "outputs": [],
   "source": [
    "# Importacion de librerias a usar\n",
    "import requests\n",
    "from bs4 import BeautifulSoup"
   ]
  },
  {
   "cell_type": "code",
   "execution_count": 5,
   "id": "176f4221-3dbd-45be-af83-c1268c2344c9",
   "metadata": {},
   "outputs": [],
   "source": [
    "# Headers\n",
    "url = 'https://www.clubsoftys.com.ar/papel-higienico-higienol-doble-hoja-duo-50-mts-4-un/p'\n",
    "payload = {}\n",
    "headers = {\n",
    "  'User-Agent': 'Mozilla/5.0 (Windows NT 10.0; Win64; x64; rv:127.0) Gecko/20100101 Firefox/127.0',\n",
    "  'Accept': 'text/html,application/xhtml+xml,application/xml;q=0.9,image/avif,image/webp,*/*;q=0.8',\n",
    "  'Accept-Language': 'es-AR,es;q=0.8,en-US;q=0.5,en;q=0.3',\n",
    "  'Accept-Encoding': 'gzip, deflate, br, zstd',\n",
    "  'Referer': 'https://www.google.com/',\n",
    "  'DNT': '1',\n",
    "  'Sec-GPC': '1',\n",
    "  'Upgrade-Insecure-Requests': '1',\n",
    "  'Sec-Fetch-Dest': 'document',\n",
    "  'Sec-Fetch-Mode': 'navigate',\n",
    "  'Sec-Fetch-Site': 'cross-site',\n",
    "  'Sec-Fetch-User': '?1',\n",
    "  'Connection': 'keep-alive',\n",
    "  'Cookie': 'visid_incap_3032622=l6leGVDASqaEMYSruvQurZZ+cWYAAAAAQUIPAAAAAABDGCH4c+IJUzQWFoUIYrYH; checkout.vtex.com=__ofid=4a3e954cd25348c08795a17f14f844bd; janus_sid=86c0bb99-f8f9-4091-996f-55a7f9738314; nlbi_3032622=D7o0EmxkICxSWjdk9OtJRwAAAADVh6L0zyu7O1+O5qgU9pMn; incap_ses_129_3032622=iM/xNsIdpyEoShup40zKAaJ+cWYAAAAA4g31gtqa1k+ueCbT2wfVvA==; biggy-session-softysar=G1ZzYvgCKSoZCvUhiFAPq; biggy-anonymous=SPy5J1hvBZObu2S8hmK2q; biggy-event-queue=; VtexRCSessionIdv7=cb985ed3-cca1-4912-8651-b2c881194229; VtexRCMacIdv7=54160203-5669-4545-9f70-1ba8a31f7253; VtexWorkspace=master^%^3A-; nlbi_3032622=aA/GEJTgCTYLArqN9OtJRwAAAAA9b7eviNd+vn5yd5F1cayQ; VtexWorkspace=master%3A-'\n",
    "}"
   ]
  },
  {
   "cell_type": "code",
   "execution_count": 7,
   "id": "ed9a191c-b07e-43e6-bbda-9eddae6a7e2a",
   "metadata": {},
   "outputs": [],
   "source": [
    "# Conexión  via https a la pagina\n",
    "response = requests.request(\"GET\", url, headers=headers, data=payload)\n",
    "soup = BeautifulSoup(response.text, \"html.parser\")"
   ]
  },
  {
   "cell_type": "code",
   "execution_count": 27,
   "id": "beb203c9-798e-4148-9df8-eee68a5301fc",
   "metadata": {},
   "outputs": [],
   "source": [
    "# Parseo de la informacion nescesaria\n",
    "title = soup.select_one(\".vtex-store-components-3-x-productBrand\").text if soup.select_one(\".vtex-store-components-3-x-productBrand\") != None else ''\n",
    "old_price = soup.select_one(\".vtex-product-price-1-x-listPriceValue\").text if soup.select_one(\".vtex-product-price-1-x-listPriceValue\") != None else 0\n",
    "final_price = soup.select_one(\".vtex-product-price-1-x-sellingPriceValue\").text if soup.select_one(\".vtex-product-price-1-x-sellingPriceValue\") != None else 0\n",
    "description = soup.select_one(\"div.vtex-store-components-3-x-container\").text if soup.select_one(\"div.vtex-store-components-3-x-container\") != None else ''\n",
    "q_images = len(soup.select(\"div.vtex-store-components-3-x-productImagesThumb\")) - 1 if soup.select(\"div.vtex-store-components-3-x-productImagesThumb\") != None else 0\n",
    "sku = soup.select_one(\".vtex-product-identifier-0-x-product-identifier__value\").text if soup.select_one(\".vtex-product-identifier-0-x-product-identifier__value\") != None else ''"
   ]
  },
  {
   "cell_type": "code",
   "execution_count": 29,
   "id": "6e86ee5a-5cb3-43d6-9289-81ade5ee4878",
   "metadata": {},
   "outputs": [
    {
     "name": "stdout",
     "output_type": "stream",
     "text": [
      "----Title: Papel Higienico Higienol Doble Hoja Duo 50 mts 4 un \n",
      "----FinalPrice: $ 3.865,20\n",
      "----OldPrice: $ 6.442,00\n",
      "----Description: Higienol Dúo presenta una revolucionaria innovación, sustituyendo el centro habitual de cartón por un práctico mini rollo de papel higiénico portable. Con Dúo podés llevar la calidad de Higienol a todas partes.Mostrar más\n",
      "----SKU: 7790250015529\n",
      "----QImages: 1\n"
     ]
    }
   ],
   "source": [
    "# Datos Obtenidos\n",
    "print(f\"----Title: {title}\")\n",
    "print(f\"----FinalPrice: {final_price}\")\n",
    "print(f\"----OldPrice: {old_price}\")\n",
    "print(f\"----Description: {description}\")\n",
    "print(f\"----SKU: {sku}\")\n",
    "print(f\"----QImages: {q_images}\")"
   ]
  },
  {
   "cell_type": "code",
   "execution_count": null,
   "id": "3a05cc0f-ca32-42ea-85e1-41ca89bc9ad4",
   "metadata": {},
   "outputs": [],
   "source": []
  }
 ],
 "metadata": {
  "kernelspec": {
   "display_name": "Python 3 (ipykernel)",
   "language": "python",
   "name": "python3"
  },
  "language_info": {
   "codemirror_mode": {
    "name": "ipython",
    "version": 3
   },
   "file_extension": ".py",
   "mimetype": "text/x-python",
   "name": "python",
   "nbconvert_exporter": "python",
   "pygments_lexer": "ipython3",
   "version": "3.11.3"
  }
 },
 "nbformat": 4,
 "nbformat_minor": 5
}
