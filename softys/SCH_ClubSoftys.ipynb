{
 "cells": [
  {
   "cell_type": "code",
   "execution_count": 1,
   "id": "bd074e49-bc94-4d28-b6fe-47a519be7182",
   "metadata": {},
   "outputs": [],
   "source": [
    "# Importacion de librerias\n",
    "import time\n",
    "import requests\n",
    "from bs4 import BeautifulSoup\n",
    "from selenium import webdriver\n",
    "from selenium.webdriver.common.by import By"
   ]
  },
  {
   "cell_type": "code",
   "execution_count": 5,
   "id": "c1eca9c0-5384-47b9-8705-3b125000b481",
   "metadata": {},
   "outputs": [],
   "source": [
    "# Test con Selenium\n",
    "url = \"https://www.clubsoftys.com.ar/Toallitas humedas?_q=Toallitas humedas&map=ft\"\n",
    "driver = webdriver.Chrome()\n",
    "driver.get(url)\n",
    "time.sleep(1)\n",
    "html = driver.page_source\n",
    "driver.quit()\n",
    "soup = BeautifulSoup(html, \"lxml\")"
   ]
  },
  {
   "cell_type": "code",
   "execution_count": 6,
   "id": "1f5a868e-006d-435d-a9c6-3a451cc99d1a",
   "metadata": {},
   "outputs": [],
   "source": [
    "product_list = soup.select(\"a.vtex-product-summary-2-x-clearLink\")"
   ]
  },
  {
   "cell_type": "code",
   "execution_count": 7,
   "id": "53f77c65-7d7f-44e4-a97d-f6a4f216674c",
   "metadata": {},
   "outputs": [
    {
     "name": "stdout",
     "output_type": "stream",
     "text": [
      "Title: Toallas humedas Babysec Premium 50 un \n",
      "FinalPrice: 2377.6\n",
      "OldPrice: 2377.6\n",
      "\n"
     ]
    }
   ],
   "source": [
    "for i in product_list:\n",
    "    title = i.select_one(\"span.vtex-product-summary-2-x-productBrand\").text if i.select_one(\"span.vtex-product-summary-2-x-productBrand\") != None else ''\n",
    "    final_price = i.select_one(\"span.vtex-product-price-1-x-sellingPrice\").text if i.select_one(\"span.vtex-product-price-1-x-sellingPrice\") != None else 0\n",
    "    final_price = float(final_price.replace(\"$\", \"\").replace(\".\", \"\").replace(\",\", \".\").strip()) if final_price != 0 else final_price\n",
    "    old_price = i.select_one(\"span.vtex-product-price-1-x-currencyContainer.vtex-product-price-1-x-currencyContainer--summary\").text if i.select_one(\"span.vtex-product-price-1-x-currencyContainer.vtex-product-price-1-x-currencyContainer--summary\") != None else 0\n",
    "    old_price = float(old_price.replace(\"$\", \"\").replace(\".\", \"\").replace(\",\", \".\").strip()) if old_price != 0 else old_price\n",
    "    \n",
    "    print(f\"Title: {title}\")\n",
    "    print(f\"FinalPrice: {final_price}\")\n",
    "    print(f\"OldPrice: {old_price}\\n\")\n",
    "    "
   ]
  },
  {
   "cell_type": "code",
   "execution_count": null,
   "id": "2ae99c31-0d88-492b-b2e1-467e702a21a6",
   "metadata": {},
   "outputs": [],
   "source": []
  }
 ],
 "metadata": {
  "kernelspec": {
   "display_name": "Python 3 (ipykernel)",
   "language": "python",
   "name": "python3"
  },
  "language_info": {
   "codemirror_mode": {
    "name": "ipython",
    "version": 3
   },
   "file_extension": ".py",
   "mimetype": "text/x-python",
   "name": "python",
   "nbconvert_exporter": "python",
   "pygments_lexer": "ipython3",
   "version": "3.11.3"
  }
 },
 "nbformat": 4,
 "nbformat_minor": 5
}
