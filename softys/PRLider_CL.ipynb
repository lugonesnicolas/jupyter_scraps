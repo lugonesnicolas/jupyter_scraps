{
 "cells": [
  {
   "cell_type": "code",
   "execution_count": 1,
   "id": "dfcf6d4f-16e5-4ee0-9d33-9250ec7ad424",
   "metadata": {},
   "outputs": [],
   "source": [
    "# Importacion de librerias a usar\n",
    "import re\n",
    "import requests\n",
    "from bs4 import BeautifulSoup"
   ]
  },
  {
   "cell_type": "code",
   "execution_count": 2,
   "id": "adc784c1-d972-43bd-b506-12aeef1cb0e3",
   "metadata": {},
   "outputs": [],
   "source": [
    "# Headers\n",
    "url = \"https://www.lider.cl/supermercado/product/sku/618731/dove-men-antitranspirante-dove-men-invisible-dry-en-aerosol-150-ml\"\n",
    "url = f\"https://apps.lider.cl/supermercado/bff/products/{618731}?appId=BuySmart&ts=1720703982484\"\n",
    "\n",
    "payload = {}\n",
    "headers = {\n",
    "  'User-Agent': 'Mozilla/5.0 (Windows NT 10.0; Win64; x64; rv:127.0) Gecko/20100101 Firefox/127.0',\n",
    "  'Accept': 'application/json, text/plain, */*',\n",
    "  'Accept-Language': 'es-AR,es;q=0.8,en-US;q=0.5,en;q=0.3',\n",
    "  'Accept-Encoding': 'gzip, deflate, br, zstd',\n",
    "  'tenant': 'supermercado',\n",
    "  'x-channel': 'SOD',\n",
    "  'Origin': 'https://www.lider.cl',\n",
    "  'DNT': '1',\n",
    "  'Sec-GPC': '1',\n",
    "  'Connection': 'keep-alive',\n",
    "  'Referer': 'https://www.lider.cl/',\n",
    "  'Sec-Fetch-Dest': 'empty',\n",
    "  'Sec-Fetch-Mode': 'cors',\n",
    "  'Sec-Fetch-Site': 'same-site',\n",
    "  'TE': 'trailers'\n",
    "}"
   ]
  },
  {
   "cell_type": "code",
   "execution_count": 3,
   "id": "46170376-841a-4859-8627-5903851af294",
   "metadata": {},
   "outputs": [],
   "source": [
    "# Conexión  via https a la pagina\n",
    "response = requests.request(\"GET\", url, headers=headers, data=payload)\n",
    "data = response.json()"
   ]
  },
  {
   "cell_type": "code",
   "execution_count": 4,
   "id": "2bcf3e42-2edd-4407-ac80-03bad830f744",
   "metadata": {},
   "outputs": [
    {
     "name": "stdout",
     "output_type": "stream",
     "text": [
      "{'ID': 'PROD_618731', 'attributes': {'volumetricWeight': '1', 'department': '2', 'contentUom': '150 ml', 'sellerType': '1P', 'defaultQuantity': '1', 'soldByWeight': 'false'}, 'brand': 'Dove Men', 'description': 'Desodorante  Invisible Dry En Aerosol', 'destacado': False, 'displayName': 'Desodorante  Invisible Dry En Aerosol, 150 ml', 'gtin13': '7791293048031', 'images': {'defaultImage': 'https://images.lider.cl/wmtcl?source=url[file:/productos/618731a.png]&scale=size[180x180]&sink', 'smallImage': 'https://images.lider.cl/wmtcl?source=url[file:/productos/618731a.png]&scale=size[180x180]&sink', 'mediumImage': 'https://images.lider.cl/wmtcl?source=url[file:/productos/618731a.png]&scale=size[450x450]&sink', 'largeImage': 'https://images.lider.cl/wmtcl?source=url[file:/productos/618731a.png]&scale=size[2000x2000]&sink', 'availableImages': ['https://images.lider.cl/wmtcl?source=url[file:/productos/618731a.png]&scale=size[2000x2000]&sink', 'https://images.lider.cl/wmtcl?source=url[file:/productos/618731bb.jpg]&scale=size[2000x2000]&sink', 'https://images.lider.cl/wmtcl?source=url[file:/productos/618731b.png]&scale=size[2000x2000]&sink', 'https://images.lider.cl/wmtcl?source=url[file:/productos/618731cc.jpg]&scale=size[2000x2000]&sink', 'https://images.lider.cl/wmtcl?source=url[file:/productos/618731dd.jpg]&scale=size[2000x2000]&sink', 'https://images.lider.cl/wmtcl?source=url[file:/productos/618731ee.jpg]&scale=size[2000x2000]&sink', 'https://images.lider.cl/wmtcl?source=url[file:/productos/618731ff.jpg]&scale=size[2000x2000]&sink']}, 'isMKP': False, 'itemNumber': '5024994', 'keyword': ['WM10', 'SOD', 'connect_1', 'connectsemana11', 'test1', 'descategorizarconenct625', 'connectSOD12', 'zarrs28', 'zarrs30', 'limpiezaconnect14', 'connectsemana14', 'Apitest', 'CARGASTEP1505', 'w22c', 'WCYB23', 'WM10'], 'leadTime': 0, 'longDescription': '¿Quieres tener la certeza total de que tu ropa estará libre de manchas blancas y amarillas? El Antitranspirante en aerosol Dove Men+Care Invisible Dry te brinda una protección completa contra la transpiración y el mal olor. Con este antitranspirante para hombre no tendrás que preocuparte de arruinar tus camisas favoritas. Su fórmula sin manchas protege la ropa de manchas blancas y amarillas. Dove Men+Care Invisible Dry está diseñado para combatir las manchas y protegerte ante cualquier situación. La protección de tus axilas también es una prioridad de este antitranspirante. El clima cálido no es problema para nuestra tecnología triple acción, ya que te protege de la transpiración y mal olor por hasta 72 horas. Además, su aroma duradero te brinda una sensación de frescura en las axilas desde la primera aplicación. Tus axilas necesitan cuidado y protección diaria para que siempre se sientan mejor. Enriquecido con ¼ de crema humectante, el objetivo de este antitranspirante es hidratar tu piel. Dejarás la piel de tus axilas con una sensación de humectación y cuidado. Modo de uso: Solo necesitas agitar el antitranspirante y sostenerlo a 15 cm de distancia de tu piel antes de rociarlo sobre las axilas limpias y secas. ¡Y ya puedes disfrutar de la frescura perdurable y protección contra la transpiración y el mal olor hasta por 72 horas! Los productos Dove Men+Care no testea en animales en ningún lugar del mundo (Cruelty Free).', 'max': 18, 'nutritionalInformation': {'ingredients': '', 'nutritionalAttributes': [], 'seals': [], 'servingSize': '', 'servingsPerContainer': 0}, 'posicion': 0, 'rankedOffers': [], 'sites': ['gr.walmart.cl'], 'sku': '618731', 'specifications': [{'name': 'Descripción', 'order': 1, 'value': 'Desodorante  Invisible Dry En Aerosol'}, {'name': 'Marca', 'order': 2, 'value': 'Dove Men'}, {'name': 'Tipo de producto', 'order': 3, 'value': 'Desodorante Hombre'}, {'name': 'País de origen', 'order': 4, 'value': 'AR'}, {'name': 'Razón Social del Proveedor', 'order': 5, 'value': 'Unilever'}, {'name': 'Contenido neto', 'order': 6, 'value': '150ml'}, {'name': 'Tipo de envase', 'order': 7, 'value': 'Desechable'}, {'name': 'Formato', 'order': 8, 'value': 'Spray'}, {'name': 'Unidades por paquete', 'order': 9, 'value': '1'}, {'name': 'Incluye', 'order': 10, 'value': 'Antitranspirante DOVE Men Invisible Dry en aerosol 150 ml'}, {'name': 'Hipoalergénico', 'order': 11, 'value': 'No'}, {'name': 'Beneficios de uso', 'order': 12, 'value': 'Descubrí en este antitranspirante nuestra protección de 72 horas contra la transpiración y mal olor.'}, {'name': 'Tiempo de protección', 'order': 13, 'value': '72h'}], 'vendorId': '', 'wfsEligible': False, 'winningOffer': {'country': '', 'internationalSeller': False, 'sellerId': '', 'sellerName': '', 'sellerType': ''}, 'price': {'BasePricePerUm': 'Precio x Kg : $33.333', 'BasePriceReference': 3890, 'BasePriceSales': 3000, 'BasePriceTLMC': 0, 'packPrice': 0, 'packSize': 0}, 'discount': 23, 'defaultQuantity': 1, 'promotion': {'isCombinable': False, 'id': '26069e0a-c35d-490d-b5e4-fe64131392db'}, 'tags': {'campaignTags': [], 'attributeTags': [], 'deliveryTags': []}, 'categorias': ['Perfumería y Salud/Cuidado Hombre/Desodorantes', 'Perfumería y Salud/Cuidado Hombre', 'Perfumería y Salud', 'Activaciones/Supermercado/Super 91', 'Activaciones/Supermercado', 'Activaciones', 'Activaciones/Supermercado/Especiales Belleza y Cuidado Familiar', 'Activaciones/Supermercado', 'Activaciones', 'Activaciones/Supermercado/Precios Bajos', 'Activaciones/Supermercado', 'Activaciones', 'Activaciones/Supermercado/Especial Cuidado Personal', 'Activaciones/Supermercado', 'Activaciones', 'Activaciones/Supermercado/Especial Cuidado Familiar', 'Activaciones/Supermercado', 'Activaciones', 'Activaciones/Connect/Connect 22', 'Activaciones/Connect', 'Activaciones', 'Activaciones/Connect/Connect 70', 'Activaciones/Connect', 'Activaciones', 'Activaciones/Connect/Connect 77', 'Activaciones/Connect', 'Activaciones', 'Campañas/Landing Promocional 2/Llamado Promocional 33', 'Campañas/Landing Promocional 2', 'Campañas', 'Productos a Mil/Productos a 3000/Belleza y cuidado personal a 3000', 'Productos a Mil/Productos a 3000', 'Productos a Mil'], 'makePublic': True, 'available': False}\n"
     ]
    }
   ],
   "source": [
    "print(data)"
   ]
  },
  {
   "cell_type": "code",
   "execution_count": 5,
   "id": "613fccfd-2d69-4706-a471-44b352723cf4",
   "metadata": {},
   "outputs": [],
   "source": [
    "# Parseo de la informacion nescesaria\n",
    "title = data.get(\"displayName\", \"\") if data.get(\"displayName\", \"\") != None else \"\"\n",
    "description = data.get(\"longDescription\", \"\") if data.get(\"longDescription\", \"\") != None else \"\"\n",
    "description = description.replace(\"<strong>\", \" \").replace(\"&nbsp;\", \"\").replace(\"; &nbsp\", \"\").replace(\":&nbsp\", \"\").replace(\"&nbsp\", \"\")\n",
    "# Eliminamos todas las ocurrencias del patrón\n",
    "description = re.sub(r'<.*?>', '', description)\n",
    "price = data.get(\"price\", 0) if data.get(\"price\", 0) != None else 0\n",
    "final_price = price.get(\"BasePriceSales\", 0) if price.get(\"BasePriceSales\", 0) != None else 0\n",
    "old_price = price.get(\"BasePriceReference\", 0) if price.get(\"BasePriceReference\", 0) != None else 0\n",
    "brand = data.get(\"brand\", \"\") if data.get(\"brand\", \"\") != None else \"\"\n",
    "images = data.get(\"images\", \"\") if data.get(\"images\", \"\") != None else \"\"\n",
    "q_images = len(images.get(\"availableImages\", 0)) - 1 if len(images.get(\"availableImages\", 0)) != None else 0\n",
    "stock = 1 if data.get(\"available\", 0) != False else 0"
   ]
  },
  {
   "cell_type": "code",
   "execution_count": 6,
   "id": "c0dbc856-6539-4fe0-abad-095de42df9b7",
   "metadata": {},
   "outputs": [
    {
     "name": "stdout",
     "output_type": "stream",
     "text": [
      "----Title: Desodorante  Invisible Dry En Aerosol, 150 ml\n",
      "----Brand: Dove Men\n",
      "----Description: ¿Quieres tener la certeza total de que tu ropa estará libre de manchas blancas y amarillas? El Antitranspirante en aerosol Dove Men+Care Invisible Dry te brinda una protección completa contra la transpiración y el mal olor. Con este antitranspirante para hombre no tendrás que preocuparte de arruinar tus camisas favoritas. Su fórmula sin manchas protege la ropa de manchas blancas y amarillas. Dove Men+Care Invisible Dry está diseñado para combatir las manchas y protegerte ante cualquier situación. La protección de tus axilas también es una prioridad de este antitranspirante. El clima cálido no es problema para nuestra tecnología triple acción, ya que te protege de la transpiración y mal olor por hasta 72 horas. Además, su aroma duradero te brinda una sensación de frescura en las axilas desde la primera aplicación. Tus axilas necesitan cuidado y protección diaria para que siempre se sientan mejor. Enriquecido con ¼ de crema humectante, el objetivo de este antitranspirante es hidratar tu piel. Dejarás la piel de tus axilas con una sensación de humectación y cuidado. Modo de uso: Solo necesitas agitar el antitranspirante y sostenerlo a 15 cm de distancia de tu piel antes de rociarlo sobre las axilas limpias y secas. ¡Y ya puedes disfrutar de la frescura perdurable y protección contra la transpiración y el mal olor hasta por 72 horas! Los productos Dove Men+Care no testea en animales en ningún lugar del mundo (Cruelty Free).\n",
      "----FinalPrice:3000\n",
      "----OldPrice: 3890\n",
      "----Stock: 0\n",
      "----Images: 6\n"
     ]
    }
   ],
   "source": [
    "print(f\"----Title: {title}\")\n",
    "print(f\"----Brand: {brand}\")\n",
    "print(f\"----Description: {description}\")\n",
    "print(f\"----FinalPrice:{final_price}\")\n",
    "print(f\"----OldPrice: {old_price}\")\n",
    "print(f\"----Stock: {stock}\")\n",
    "print(f\"----Images: {q_images}\")"
   ]
  },
  {
   "cell_type": "code",
   "execution_count": 7,
   "id": "63625a97-e936-4641-aaf0-e60084035099",
   "metadata": {},
   "outputs": [
    {
     "name": "stdout",
     "output_type": "stream",
     "text": [
      "El SKU es: 304071\n"
     ]
    }
   ],
   "source": [
    "url = \"https://www.lider.cl/supermercado/product/sku/304071/Soft-Suavizante-L%C3%ADquido-Classic\"\n",
    "# Aplicamos el patrón a la URL utilizando re.search()\n",
    "resultado = re.search(r\"/sku/(\\d+)/\", url)\n",
    "\n",
    "# Si encontramos una coincidencia, extraemos el grupo capturado (el número de SKU)\n",
    "if resultado:\n",
    "    sku = resultado.group(1)\n",
    "    print(\"El SKU es:\", sku)\n",
    "else:\n",
    "    print(\"No se encontró el SKU en la URL.\")"
   ]
  },
  {
   "cell_type": "code",
   "execution_count": null,
   "id": "144a813d-6e04-4741-be10-e3920c848b6a",
   "metadata": {},
   "outputs": [],
   "source": []
  }
 ],
 "metadata": {
  "kernelspec": {
   "display_name": "venv",
   "language": "python",
   "name": "python3"
  },
  "language_info": {
   "codemirror_mode": {
    "name": "ipython",
    "version": 3
   },
   "file_extension": ".py",
   "mimetype": "text/x-python",
   "name": "python",
   "nbconvert_exporter": "python",
   "pygments_lexer": "ipython3",
   "version": "3.11.3"
  }
 },
 "nbformat": 4,
 "nbformat_minor": 5
}
