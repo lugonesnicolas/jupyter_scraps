{
 "cells": [
  {
   "cell_type": "code",
   "execution_count": 28,
   "id": "dfcf6d4f-16e5-4ee0-9d33-9250ec7ad424",
   "metadata": {},
   "outputs": [],
   "source": [
    "# Importacion de librerias a usar\n",
    "import requests\n",
    "from bs4 import BeautifulSoup"
   ]
  },
  {
   "cell_type": "code",
   "execution_count": 29,
   "id": "adc784c1-d972-43bd-b506-12aeef1cb0e3",
   "metadata": {},
   "outputs": [],
   "source": [
    "# Headers\n",
    "url = \"https://apps.lider.cl/supermercado/bff/products/485196?appId=BuySmart&ts=1718825409374\"\n",
    "payload = {}\n",
    "headers = {\n",
    "  'User-Agent': 'Mozilla/5.0 (Windows NT 10.0; Win64; x64; rv:127.0) Gecko/20100101 Firefox/127.0',\n",
    "  'Accept': 'application/json, text/plain, */*',\n",
    "  'Accept-Language': 'es-AR,es;q=0.8,en-US;q=0.5,en;q=0.3',\n",
    "  'Accept-Encoding': 'gzip, deflate, br, zstd',\n",
    "  'X-FlowId': '506df4e2-43de-466b-9b59-a896c0c51472',\n",
    "  'tenant': 'supermercado',\n",
    "  'X-SessionId': '45106cf3-82dd-4ddf-b240-d65f4777732a',\n",
    "  'x-channel': 'SOD',\n",
    "  'Origin': 'https://www.lider.cl',\n",
    "  'DNT': '1',\n",
    "  'Sec-GPC': '1',\n",
    "  'Connection': 'keep-alive',\n",
    "  'Referer': 'https://www.lider.cl/',\n",
    "  'Cookie': 'TSe3289311027=08645be6c4ab20002e12f29aa20362e701de4fddce087819db0b88e11a060c7a234c299d6d33365e0812e8ec53113000a8aa4eef08c8aebb5f8e93b560c353477cb7add7c73108b573950eb35c4fb9e7d40a974f55525e776bd1a90fc7d1e96e; vtc=WR3PBAfvratwlpWHFIIamo; bstc=WR3PBAfvratwlpWHFIIamo; xpa=; xpm=3^%^2B1718824465^%^2BWR3PBAfvratwlpWHFIIamo~^%^2B1; exp-ck=1; TS017e8d10=0190de338f700f42a50fa7c1a80af2f43c05f3ce77502a4227e96b348213898a9b0ad2aea28033999208fa57d05fb782d987763053; TS01fffdff=0190de338f700f42a50fa7c1a80af2f43c05f3ce77502a4227e96b348213898a9b0ad2aea28033999208fa57d05fb782d987763053; dtCookie=v_4_srv_54_sn_7VFSIBI8TQLOMAVH79F47SFHS5S8BFRV_app-3A43a5284704382d12_1_ol_0_perc_100000_mul_1_rcs-3Acss_1; rxVisitor=1718824465691CGRQJC10K1M7IR24762SRO4EB03DCRVQ; dtPC=54$425408446_946h17vKAWFFBHKWUUAEMBKUGDPSERGGKJOMWSC-0e0; rxvt=1718827209374^|1718824465692; dtSa=-; pxcts=24ebc8f3-2e70-11ef-9e47-cced2e0c31d4; _pxvid=24ebbd43-2e70-11ef-9e47-1f4b9aa3af1a; TS01cc7ea9=0152e3700cc7e2563bab74b40250cbe499b851f35a639c682a895bf0283dfe54362380af34ea0ae25e0cc107509f4a2f3a6222cb4d; _px3=5b1d00454641fabcd4c28174a20604faeff7eef6a03bc210fb1bc8e3cb7826cf:hPmKYalSlkjYbRkqWZ1Qq6ynbvoBJMmPwFqimSMPH1dy9wos4FD1DoaaP1AYuPG/k7WjIVLpNPePwHdHdaA8Xw==:1000:AT11WIMAj5pjmEKJ/QeY600/Vb132zY068oEOIHJhQoqwWQblOFH5Xf/7GeVk8yqIlo3XL9kuDleHijfyvGZNaotXi4K5gCf3b7bBT1hepRQCl0GJWoUwZC4JTXxIUOJySpO65YmdjCnWSS6K8tkSC+1VOIBdhlAKMMcGGzDAI8dgn3xnBCzZWD6MAf8ubc0yvgNv1rJZ0XPW+TzRCJ5RRXoElag+RxJBDIT9uAw/Jk=; TS017e8d10=012b2f7068571930f8dae6899dc806f1217bb4fe26c9883539bb729ff73e4c65842efb3d2762b872b1b72faa198472a79b66e0c3fe; TS01fffdff=012b2f7068571930f8dae6899dc806f1217bb4fe26c9883539bb729ff73e4c65842efb3d2762b872b1b72faa198472a79b66e0c3fe; bstc=WR3PBAfvratwlpWHFIIamo; exp-ck=1; vtc=WR3PBAfvratwlpWHFIIamo; xpa=; xpm=3%2B1718825469%2BWR3PBAfvratwlpWHFIIamo~%2B1; TS01cc7ea9=012b2f7068571930f8dae6899dc806f1217bb4fe26c9883539bb729ff73e4c65842efb3d2762b872b1b72faa198472a79b66e0c3fe; TSe3289311027=08e53f0268ab2000213957748df78bda8c0dbdd168b1c60ca6ed94f2414a5a9955e2239d51e11f3208d2aa926e1130001a8193accd09c6e43a9d84389978a7e0b86ce316e78785a1d5edaba313e27130d920535ae5286ded3e0c5cd69fd638ec',\n",
    "  'Sec-Fetch-Dest': 'empty',\n",
    "  'Sec-Fetch-Mode': 'cors',\n",
    "  'Sec-Fetch-Site': 'same-site',\n",
    "  'TE': 'trailers'\n",
    "}"
   ]
  },
  {
   "cell_type": "code",
   "execution_count": 30,
   "id": "46170376-841a-4859-8627-5903851af294",
   "metadata": {},
   "outputs": [],
   "source": [
    "# Conexión  via https a la pagina\n",
    "response = requests.request(\"GET\", url, headers=headers, data=payload)\n",
    "data = response.json()"
   ]
  },
  {
   "cell_type": "code",
   "execution_count": 31,
   "id": "2bcf3e42-2edd-4407-ac80-03bad830f744",
   "metadata": {},
   "outputs": [
    {
     "name": "stdout",
     "output_type": "stream",
     "text": [
      "{'ID': 'PROD_485196', 'attributes': {'volumetricWeight': '1', 'sellerType': '1P', 'soldByWeight': 'false', 'contentUom': '108 g', 'department': '92', 'defaultQuantity': '1'}, 'brand': 'Oreo', 'description': 'Galletas De Chocolate Crema Vainilla', 'destacado': False, 'displayName': 'Galletas De Chocolate Crema Vainilla, 108 g', 'gtin13': '7622201693091', 'images': {'defaultImage': 'https://images.lider.cl/wmtcl?source=url[file:/productos/485196aa.jpg]&scale=size[180x180]&sink', 'smallImage': 'https://images.lider.cl/wmtcl?source=url[file:/productos/485196aa.jpg]&scale=size[180x180]&sink', 'mediumImage': 'https://images.lider.cl/wmtcl?source=url[file:/productos/485196aa.jpg]&scale=size[450x450]&sink', 'largeImage': 'https://images.lider.cl/wmtcl?source=url[file:/productos/485196aa.jpg]&scale=size[2000x2000]&sink', 'availableImages': ['https://images.lider.cl/wmtcl?source=url[file:/productos/485196aa.jpg]&scale=size[2000x2000]&sink', 'https://images.lider.cl/wmtcl?source=url[file:/productos/485196b.jpg]&scale=size[2000x2000]&sink', 'https://images.lider.cl/wmtcl?source=url[file:/productos/485196cc.jpg]&scale=size[2000x2000]&sink', 'https://images.lider.cl/wmtcl?source=url[file:/productos/485196dd.jpg]&scale=size[2000x2000]&sink', 'https://images.lider.cl/wmtcl?source=url[file:/productos/485196ee.jpg]&scale=size[2000x2000]&sink', 'https://images.lider.cl/wmtcl?source=url[file:/productos/485196f.jpg]&scale=size[2000x2000]&sink']}, 'isMKP': False, 'itemNumber': '117285', 'keyword': ['SOD', 'Oreo', 'CLN_CNT_W34', 'cachodenuevo', 'Clean_Categories_W39', 'mil', '', 'connect_semana9', 'CONNECT10', 'test1', 'connect630', 'limpiezaconnect14', 'Apitest', 'plrp16', 'CARGASTEP1505', 'WCYB23', 'preciosimperdibles'], 'leadTime': 0, 'longDescription': '<hr /><p>Galletas de Chocolate con Crema de Vainilla, 108g<br /></p><hr /><p><span style=\"color:#FF0000\"><strong>Contiene: </strong>GLUTEN<br /><strong>Fue elaborado en líneas que procesaron: </strong>LECHE<br /></span></p>', 'max': 24, 'nutritionalInformation': {'ingredients': 'Galleta [Harina De Trigo Fortificada (Hierro, Niacina, Zinc, Tiamina, Riboflavina Y Ácido Fólico), Azúcar, Aceite Vegetal (Palma), Cacao En Polvo, Jarabe De Azúcar Invertido, Leudantes (Bicarbonato De Sodio, Bicarbonato De Amonio), Sal, Lecitina De Girasol (Emulsionante), Saborizante Artificial (Vainillina)]; Crema [Azúcar, Manteca Vegetal (Palma), Saborizante Artificial (Vainillina), Lecitina De Girasol (Emulsionante)].Contiene: Trigo (Gluten). Puede Contener Leche', 'nutritionalAttributes': [{'isBold': 1, 'isPrimary': 1, 'nutrientType': 'Energía', 'quantity': 480, 'quantityPerPortion': 170, 'sequenceNumber': 0}, {'isBold': 1, 'isPrimary': 1, 'nutrientType': 'Azúcares Totales', 'quantity': 40, 'quantityPerPortion': 14, 'sequenceNumber': 9}, {'isBold': 1, 'isPrimary': 1, 'nutrientType': 'Sodio', 'quantity': 450, 'quantityPerPortion': 160, 'sequenceNumber': 10}, {'isBold': 1, 'isPrimary': 1, 'nutrientType': 'Proteínas', 'quantity': 4, 'quantityPerPortion': 1.5, 'sequenceNumber': 1}, {'isBold': 1, 'isPrimary': 1, 'nutrientType': 'Grasas Totales', 'quantity': 20, 'quantityPerPortion': 7, 'sequenceNumber': 2}, {'isBold': 0, 'isPrimary': 0, 'nutrientType': 'Grasas Saturadas', 'quantity': 9, 'quantityPerPortion': 3, 'sequenceNumber': 3}, {'isBold': 0, 'isPrimary': 0, 'nutrientType': 'Grasas Monoinsaturadas', 'quantity': 8, 'quantityPerPortion': 3, 'sequenceNumber': 4}, {'isBold': 0, 'isPrimary': 0, 'nutrientType': 'Grasas Polinsaturadas', 'quantity': 2, 'quantityPerPortion': 1, 'sequenceNumber': 5}, {'isBold': 0, 'isPrimary': 0, 'nutrientType': 'Ac. Grasos Trans', 'quantity': 0, 'quantityPerPortion': 0, 'sequenceNumber': 6}, {'isBold': 1, 'isPrimary': 1, 'nutrientType': 'Colesterol', 'quantity': 0, 'quantityPerPortion': 0, 'sequenceNumber': 7}, {'isBold': 1, 'isPrimary': 1, 'nutrientType': 'Hidratos de Carbono Disp.', 'quantity': 68, 'quantityPerPortion': 25, 'sequenceNumber': 8}], 'seals': ['ALTO EN AZUCARES', 'ALTO EN CALORIAS', 'ALTO EN GRASAS SATURADAS', 'ALTO EN SODIO'], 'servingSize': '36g (4 galletas)', 'servingsPerContainer': 3}, 'posicion': 0, 'rankedOffers': [], 'sites': ['gr.walmart.cl'], 'sku': '485196', 'specifications': [{'name': 'Descripción', 'order': 1, 'value': 'Galletas De Chocolate Crema Vainilla'}, {'name': 'Marca', 'order': 2, 'value': 'Oreo'}, {'name': 'Tipo de producto', 'order': 3, 'value': 'Galletas'}, {'name': 'País de origen', 'order': 4, 'value': 'PE'}, {'name': 'Condición alimentaria', 'order': 5, 'value': 'Libre de Maní'}, {'name': 'Contenido neto', 'order': 6, 'value': '108G'}, {'name': 'Cobertura', 'order': 7, 'value': 'No'}, {'name': 'Denominación dietética', 'order': 8, 'value': 'No'}, {'name': 'Alérgenos declarados', 'order': 9, 'value': 'CONTIENE: TRIGO (GLUTEN). PUEDE CONTENER LECHE.'}, {'name': 'Orgánico', 'order': 10, 'value': 'No'}, {'name': 'Condición alimentaria', 'order': 11, 'value': 'Libre de Peces'}, {'name': 'Condición alimentaria', 'order': 12, 'value': 'Libre de Lactosa'}, {'name': 'Agregados', 'order': 13, 'value': 'Relleno sabor Vainilla'}, {'name': 'Condición alimentaria', 'order': 14, 'value': 'Libre de Soya'}, {'name': 'Advertencias de almacenamiento', 'order': 15, 'value': 'CONSÉRVESE EN LUGAR FRESCO Y SECO'}, {'name': 'Condición alimentaria', 'order': 16, 'value': 'Libre de Huevo'}, {'name': 'Condición alimentaria', 'order': 17, 'value': 'Libre de Mariscos'}, {'name': 'Condición alimentaria', 'order': 18, 'value': 'Libre de Sulfitos'}, {'name': 'Unidades por paquete', 'order': 19, 'value': '1'}, {'name': 'Tipo de envase', 'order': 20, 'value': 'Desechable'}, {'name': 'Presentación', 'order': 21, 'value': 'Paquete'}, {'name': 'Condición alimentaria', 'order': 22, 'value': 'Libre de Nueces de Árbol'}, {'name': 'Vegano', 'order': 23, 'value': 'No'}], 'vendorId': '', 'wfsEligible': False, 'winningOffer': {'country': '', 'internationalSeller': False, 'sellerId': '', 'sellerName': '', 'sellerType': ''}, 'price': {'BasePricePerUm': 'Precio x Kg : $7.314', 'BasePriceReference': 790, 'BasePriceSales': 790, 'BasePriceTLMC': 0, 'packPrice': 2000, 'packSize': 3}, 'discount': 0, 'defaultQuantity': 1, 'promotion': {'isCombinable': True, 'id': 'caf6f10e-6b55-4e2b-8724-bbf8d3e72f47'}, 'tags': {'campaignTags': [], 'attributeTags': ['combinaVariedades'], 'deliveryTags': []}, 'categorias': ['Desayunos y Dulces/Galletas y Colaciones Dulces/Galletas Colación', 'Desayunos y Dulces/Galletas y Colaciones Dulces', 'Desayunos y Dulces', 'Activaciones/Connect/Connect 557', 'Activaciones/Connect', 'Activaciones', 'Activaciones/Connect/Connect 567', 'Activaciones/Connect', 'Activaciones', 'Activaciones/Connect/Connect 572', 'Activaciones/Connect', 'Activaciones', 'Activaciones/Connect/Connect 593', 'Activaciones/Connect', 'Activaciones', 'Activaciones/Connect/Connect 904', 'Activaciones/Connect', 'Activaciones', 'Activaciones/Connect/Connect 932', 'Activaciones/Connect', 'Activaciones', 'Activaciones/Connect/Connect 934', 'Activaciones/Connect', 'Activaciones', 'Activaciones/Supermercado/Supermercado 39', 'Activaciones/Supermercado', 'Activaciones', 'Activaciones/Supermercado/Supermercado 75', 'Activaciones/Supermercado', 'Activaciones', 'Campañas/Landing Promocional 1/HASTA 35% AHORRO EN GALLETAS', 'Campañas/Landing Promocional 1', 'Campañas', 'Campañas/Landing Promocional 2/Llamado Promocional 19', 'Campañas/Landing Promocional 2', 'Campañas', 'Productos a 1000 2000 y 3000/Productos a 2000/Chocolates y  galletas  a 2000', 'Productos a 1000 2000 y 3000/Productos a 2000', 'Productos a 1000 2000 y 3000', 'Productos a 1000 2000 y 3000/Destacados Trafico/Destacados Galletas', 'Productos a 1000 2000 y 3000/Destacados Trafico', 'Productos a 1000 2000 y 3000', 'Precios Imperdibles/Cereales dulces y chocolates/Dulces y Chocolates', 'Precios Imperdibles/Cereales dulces y chocolates', 'Precios Imperdibles'], 'makePublic': True, 'available': True}\n"
     ]
    }
   ],
   "source": [
    "print(data)"
   ]
  },
  {
   "cell_type": "code",
   "execution_count": 32,
   "id": "613fccfd-2d69-4706-a471-44b352723cf4",
   "metadata": {},
   "outputs": [],
   "source": [
    "# Parseo de la informacion nescesaria\n",
    "title = data.get(\"displayName\", '') if data.get(\"displayName\", '') != None else ''"
   ]
  },
  {
   "cell_type": "code",
   "execution_count": 33,
   "id": "c0dbc856-6539-4fe0-abad-095de42df9b7",
   "metadata": {},
   "outputs": [
    {
     "name": "stdout",
     "output_type": "stream",
     "text": [
      "----Title: Galletas De Chocolate Crema Vainilla, 108 g\n"
     ]
    }
   ],
   "source": [
    "print(f\"----Title: {title}\")"
   ]
  },
  {
   "cell_type": "code",
   "execution_count": null,
   "id": "63625a97-e936-4641-aaf0-e60084035099",
   "metadata": {},
   "outputs": [],
   "source": []
  }
 ],
 "metadata": {
  "kernelspec": {
   "display_name": "Python 3 (ipykernel)",
   "language": "python",
   "name": "python3"
  },
  "language_info": {
   "codemirror_mode": {
    "name": "ipython",
    "version": 3
   },
   "file_extension": ".py",
   "mimetype": "text/x-python",
   "name": "python",
   "nbconvert_exporter": "python",
   "pygments_lexer": "ipython3",
   "version": "3.11.3"
  }
 },
 "nbformat": 4,
 "nbformat_minor": 5
}
