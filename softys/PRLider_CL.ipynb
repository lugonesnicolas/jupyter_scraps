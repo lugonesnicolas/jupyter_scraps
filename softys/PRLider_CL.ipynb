{
 "cells": [
  {
   "cell_type": "code",
   "execution_count": 1,
   "id": "dfcf6d4f-16e5-4ee0-9d33-9250ec7ad424",
   "metadata": {},
   "outputs": [],
   "source": [
    "# Importacion de librerias a usar\n",
    "import re\n",
    "import requests\n",
    "from bs4 import BeautifulSoup"
   ]
  },
  {
   "cell_type": "code",
   "execution_count": 66,
   "id": "adc784c1-d972-43bd-b506-12aeef1cb0e3",
   "metadata": {},
   "outputs": [],
   "source": [
    "# Headers\n",
    "url = \"https://apps.lider.cl/supermercado/bff/products/304071?appId=BuySmart&ts=1720703982484\"\n",
    "url = \"https://www.lider.cl/supermercado/product/sku/282785/dove-men-antitranspirante-dove-men-extra-fresh-en-aerosol-150-ml\"\n",
    "url = \"https://apps.lider.cl/supermercado/bff/products/4526361?appId=BuySmart&ts=1720703982484\"\n",
    "payload = {}\n",
    "headers = {\n",
    "  'User-Agent': 'Mozilla/5.0 (Windows NT 10.0; Win64; x64; rv:127.0) Gecko/20100101 Firefox/127.0',\n",
    "  'Accept': 'application/json, text/plain, */*',\n",
    "  'Accept-Language': 'es-AR,es;q=0.8,en-US;q=0.5,en;q=0.3',\n",
    "  'Accept-Encoding': 'gzip, deflate, br, zstd',\n",
    "  'tenant': 'supermercado',\n",
    "  'x-channel': 'SOD',\n",
    "  'Origin': 'https://www.lider.cl',\n",
    "  'DNT': '1',\n",
    "  'Sec-GPC': '1',\n",
    "  'Connection': 'keep-alive',\n",
    "  'Referer': 'https://www.lider.cl/',\n",
    "  'Sec-Fetch-Dest': 'empty',\n",
    "  'Sec-Fetch-Mode': 'cors',\n",
    "  'Sec-Fetch-Site': 'same-site',\n",
    "  'TE': 'trailers'\n",
    "}"
   ]
  },
  {
   "cell_type": "code",
   "execution_count": 67,
   "id": "46170376-841a-4859-8627-5903851af294",
   "metadata": {},
   "outputs": [],
   "source": [
    "# Conexión  via https a la pagina\n",
    "response = requests.request(\"GET\", url, headers=headers, data=payload)\n",
    "data = response.json()"
   ]
  },
  {
   "cell_type": "code",
   "execution_count": 68,
   "id": "2bcf3e42-2edd-4407-ac80-03bad830f744",
   "metadata": {},
   "outputs": [
    {
     "name": "stdout",
     "output_type": "stream",
     "text": [
      "{'ID': 'PROD_4526361', 'attributes': {'department': '2', 'soldByWeight': 'false', 'contentUom': '150 ml', 'volumetricWeight': '1', 'sellerType': '1P', 'defaultQuantity': '1'}, 'brand': 'Rexona Men', 'description': 'Clinical Desodorante en aerosol clean', 'destacado': False, 'displayName': 'Clinical Desodorante en aerosol clean, 150 ml', 'gtin13': '7506306214972', 'images': {'defaultImage': 'https://images.lider.cl/wmtcl?source=url[file:/productos/4526361aa.jpg]&scale=size[180x180]&sink', 'smallImage': 'https://images.lider.cl/wmtcl?source=url[file:/productos/4526361aa.jpg]&scale=size[180x180]&sink', 'mediumImage': 'https://images.lider.cl/wmtcl?source=url[file:/productos/4526361aa.jpg]&scale=size[450x450]&sink', 'largeImage': 'https://images.lider.cl/wmtcl?source=url[file:/productos/4526361aa.jpg]&scale=size[2000x2000]&sink', 'availableImages': ['https://images.lider.cl/wmtcl?source=url[file:/productos/4526361aa.jpg]&scale=size[2000x2000]&sink', 'https://images.lider.cl/wmtcl?source=url[file:/productos/4526361bb.jpg]&scale=size[2000x2000]&sink', 'https://images.lider.cl/wmtcl?source=url[file:/productos/4526361cc.jpg]&scale=size[2000x2000]&sink', 'https://images.lider.cl/wmtcl?source=url[file:/productos/4526361dd.jpg]&scale=size[2000x2000]&sink']}, 'isMKP': False, 'itemNumber': '5028085', 'keyword': ['WM10', 'test1', 'zarrs29', 'CARGASTEP1505', 'WM10'], 'leadTime': 0, 'longDescription': 'Protección más potente contra la transpiración. Con activo antitranspirante de alta eficacia que te protege 3 veces más que un antitranspirante normal. Si es clinical, tiene que ser Rexona.\\u200b\\nDermatológicamente probado. \\u200b\\nNo necesita reaplicación.\\u200b', 'max': 36, 'nutritionalInformation': {'ingredients': '', 'nutritionalAttributes': [], 'seals': [], 'servingSize': '', 'servingsPerContainer': 0}, 'posicion': 0, 'rankedOffers': [], 'sites': ['gr.walmart.cl'], 'sku': '4526361', 'specifications': [{'name': 'Descripción', 'order': 1, 'value': 'Clinical Desodorante en aerosol clean'}, {'name': 'Marca', 'order': 2, 'value': 'Rexona Men'}, {'name': 'Tipo de producto', 'order': 3, 'value': 'Desodorantes Hombre'}, {'name': 'País de origen', 'order': 4, 'value': 'FR'}, {'name': 'Tiempo de protección', 'order': 5, 'value': '96h'}, {'name': 'Razón Social del Proveedor', 'order': 6, 'value': 'Unilever'}, {'name': 'Contenido neto', 'order': 7, 'value': '150ml'}, {'name': 'Unidades por paquete', 'order': 8, 'value': '1'}, {'name': 'Formato', 'order': 9, 'value': 'Spray'}, {'name': 'Tipo de envase', 'order': 10, 'value': 'Desechable'}, {'name': 'Incluye', 'order': 11, 'value': 'Rexona Men Clinical Desodorante en aerosol clean 150ml'}, {'name': 'Vida útil', 'order': 12, 'value': '1050'}, {'name': 'Componentes', 'order': 13, 'value': 'BUTANE, ISOBUTANE, PROPANE, CYCLOMETHICONE, ALUMINUM SESQUICHLOROHYDRATE, CALCIUM CHLORIDE, GLYCINE, AQUA, PARFUM, PPG-14 BUTYL ETHER, DISTEARDIMONIUM HECTORITE, BHT, PROPYLENE CARBONATE, SODIUM STARCH OCTENYLSUCCINATE, HYDROLYZED CORN STARCH OCTENYLSUCCINATE, DIMETHICONOL, GELATIN CROSSPOLYMER, CITRONELLOL, COUMARIN, HEXYL CINNAMAL, LIMONENE, LINALOOL'}, {'name': 'Hipoalergénico', 'order': 14, 'value': 'No'}, {'name': 'Beneficios de uso', 'order': 15, 'value': 'No necesita reaplicación'}], 'vendorId': '', 'wfsEligible': False, 'winningOffer': {'country': '', 'internationalSeller': False, 'sellerId': '', 'sellerName': '', 'sellerType': ''}, 'price': {'BasePricePerUm': 'Precio x Kg : $43.846', 'BasePriceReference': 5390, 'BasePriceSales': 3990, 'BasePriceTLMC': 0, 'packPrice': 0, 'packSize': 0}, 'discount': 26, 'defaultQuantity': 1, 'promotion': {'isCombinable': False, 'id': '91ecb978-69b0-4cd2-8b48-2602a5f7537a'}, 'tags': {'campaignTags': [], 'attributeTags': [], 'deliveryTags': []}, 'categorias': ['Perfumería y Salud/Cuidado Hombre/Desodorantes', 'Perfumería y Salud/Cuidado Hombre', 'Perfumería y Salud'], 'makePublic': True, 'available': True}\n"
     ]
    }
   ],
   "source": [
    "print(data)"
   ]
  },
  {
   "cell_type": "code",
   "execution_count": 69,
   "id": "613fccfd-2d69-4706-a471-44b352723cf4",
   "metadata": {},
   "outputs": [],
   "source": [
    "# Parseo de la informacion nescesaria\n",
    "title = data.get(\"displayName\", \"\") if data.get(\"displayName\", \"\") != None else \"\"\n",
    "description = data.get(\"longDescription\", \"\") if data.get(\"longDescription\", \"\") != None else \"\"\n",
    "description = description.replace(\"<strong>\", \" \").replace(\"&nbsp;\", \"\").replace(\"; &nbsp\", \"\").replace(\":&nbsp\", \"\").replace(\"&nbsp\", \"\")\n",
    "# Eliminamos todas las ocurrencias del patrón\n",
    "description = re.sub(r'<.*?>', '', description)\n",
    "price = data.get(\"price\", 0) if data.get(\"price\", 0) != None else 0\n",
    "final_price = price.get(\"BasePriceSales\", 0) if price.get(\"BasePriceSales\", 0) != None else 0\n",
    "old_price = price.get(\"BasePriceReference\", 0) if price.get(\"BasePriceReference\", 0) != None else 0\n",
    "brand = data.get(\"brand\", \"\") if data.get(\"brand\", \"\") != None else \"\"\n",
    "images = data.get(\"images\", \"\") if data.get(\"images\", \"\") != None else \"\"\n",
    "q_images = len(images.get(\"availableImages\", 0)) - 1 if len(images.get(\"availableImages\", 0)) != None else 0\n",
    "stock = 1 if data.get(\"available\", 0) != False else 0"
   ]
  },
  {
   "cell_type": "code",
   "execution_count": 70,
   "id": "c0dbc856-6539-4fe0-abad-095de42df9b7",
   "metadata": {},
   "outputs": [
    {
     "name": "stdout",
     "output_type": "stream",
     "text": [
      "----Title: Clinical Desodorante en aerosol clean, 150 ml\n",
      "----Brand: Rexona Men\n",
      "----Description: Protección más potente contra la transpiración. Con activo antitranspirante de alta eficacia que te protege 3 veces más que un antitranspirante normal. Si es clinical, tiene que ser Rexona.​\n",
      "Dermatológicamente probado. ​\n",
      "No necesita reaplicación.​\n",
      "----FinalPrice:3990\n",
      "----OldPrice: 5390\n",
      "----Stock: 1\n",
      "----Images: 3\n"
     ]
    }
   ],
   "source": [
    "print(f\"----Title: {title}\")\n",
    "print(f\"----Brand: {brand}\")\n",
    "print(f\"----Description: {description}\")\n",
    "print(f\"----FinalPrice:{final_price}\")\n",
    "print(f\"----OldPrice: {old_price}\")\n",
    "print(f\"----Stock: {stock}\")\n",
    "print(f\"----Images: {q_images}\")"
   ]
  },
  {
   "cell_type": "code",
   "execution_count": 31,
   "id": "63625a97-e936-4641-aaf0-e60084035099",
   "metadata": {},
   "outputs": [
    {
     "name": "stdout",
     "output_type": "stream",
     "text": [
      "El SKU es: 304071\n"
     ]
    }
   ],
   "source": [
    "url = \"https://www.lider.cl/supermercado/product/sku/304071/Soft-Suavizante-L%C3%ADquido-Classic\"\n",
    "# Aplicamos el patrón a la URL utilizando re.search()\n",
    "resultado = re.search(r\"/sku/(\\d+)/\", url)\n",
    "\n",
    "# Si encontramos una coincidencia, extraemos el grupo capturado (el número de SKU)\n",
    "if resultado:\n",
    "    sku = resultado.group(1)\n",
    "    print(\"El SKU es:\", sku)\n",
    "else:\n",
    "    print(\"No se encontró el SKU en la URL.\")"
   ]
  },
  {
   "cell_type": "code",
   "execution_count": null,
   "id": "144a813d-6e04-4741-be10-e3920c848b6a",
   "metadata": {},
   "outputs": [],
   "source": []
  }
 ],
 "metadata": {
  "kernelspec": {
   "display_name": "Python 3 (ipykernel)",
   "language": "python",
   "name": "python3"
  },
  "language_info": {
   "codemirror_mode": {
    "name": "ipython",
    "version": 3
   },
   "file_extension": ".py",
   "mimetype": "text/x-python",
   "name": "python",
   "nbconvert_exporter": "python",
   "pygments_lexer": "ipython3",
   "version": "3.11.3"
  }
 },
 "nbformat": 4,
 "nbformat_minor": 5
}
