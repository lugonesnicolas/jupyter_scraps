{
 "cells": [
  {
   "cell_type": "code",
   "execution_count": 1,
   "id": "dfcf6d4f-16e5-4ee0-9d33-9250ec7ad424",
   "metadata": {},
   "outputs": [],
   "source": [
    "# Importacion de librerias a usar\n",
    "import requests\n",
    "from bs4 import BeautifulSoup"
   ]
  },
  {
   "cell_type": "code",
   "execution_count": 7,
   "id": "adc784c1-d972-43bd-b506-12aeef1cb0e3",
   "metadata": {},
   "outputs": [],
   "source": [
    "# Headers\n",
    "url = \"https://apps.lider.cl/supermercado/bff/products/906030?appId=BuySmart&ts=1720703982484\"\n",
    "payload = {}\n",
    "headers = {\n",
    "  'User-Agent': 'Mozilla/5.0 (Windows NT 10.0; Win64; x64; rv:127.0) Gecko/20100101 Firefox/127.0',\n",
    "  'Accept': 'application/json, text/plain, */*',\n",
    "  'Accept-Language': 'es-AR,es;q=0.8,en-US;q=0.5,en;q=0.3',\n",
    "  'Accept-Encoding': 'gzip, deflate, br, zstd',\n",
    "  'X-FlowId': '506df4e2-43de-466b-9b59-a896c0c51472',\n",
    "  'tenant': 'supermercado',\n",
    "  'X-SessionId': '45106cf3-82dd-4ddf-b240-d65f4777732a',\n",
    "  'x-channel': 'SOD',\n",
    "  'Origin': 'https://www.lider.cl',\n",
    "  'DNT': '1',\n",
    "  'Sec-GPC': '1',\n",
    "  'Connection': 'keep-alive',\n",
    "  'Referer': 'https://www.lider.cl/',\n",
    "  'Cookie': 'TSe3289311027=08645be6c4ab20002e12f29aa20362e701de4fddce087819db0b88e11a060c7a234c299d6d33365e0812e8ec53113000a8aa4eef08c8aebb5f8e93b560c353477cb7add7c73108b573950eb35c4fb9e7d40a974f55525e776bd1a90fc7d1e96e; vtc=WR3PBAfvratwlpWHFIIamo; bstc=WR3PBAfvratwlpWHFIIamo; xpa=; xpm=3^%^2B1718824465^%^2BWR3PBAfvratwlpWHFIIamo~^%^2B1; exp-ck=1; TS017e8d10=0190de338f700f42a50fa7c1a80af2f43c05f3ce77502a4227e96b348213898a9b0ad2aea28033999208fa57d05fb782d987763053; TS01fffdff=0190de338f700f42a50fa7c1a80af2f43c05f3ce77502a4227e96b348213898a9b0ad2aea28033999208fa57d05fb782d987763053; dtCookie=v_4_srv_54_sn_7VFSIBI8TQLOMAVH79F47SFHS5S8BFRV_app-3A43a5284704382d12_1_ol_0_perc_100000_mul_1_rcs-3Acss_1; rxVisitor=1718824465691CGRQJC10K1M7IR24762SRO4EB03DCRVQ; dtPC=54$425408446_946h17vKAWFFBHKWUUAEMBKUGDPSERGGKJOMWSC-0e0; rxvt=1718827209374^|1718824465692; dtSa=-; pxcts=24ebc8f3-2e70-11ef-9e47-cced2e0c31d4; _pxvid=24ebbd43-2e70-11ef-9e47-1f4b9aa3af1a; TS01cc7ea9=0152e3700cc7e2563bab74b40250cbe499b851f35a639c682a895bf0283dfe54362380af34ea0ae25e0cc107509f4a2f3a6222cb4d; _px3=5b1d00454641fabcd4c28174a20604faeff7eef6a03bc210fb1bc8e3cb7826cf:hPmKYalSlkjYbRkqWZ1Qq6ynbvoBJMmPwFqimSMPH1dy9wos4FD1DoaaP1AYuPG/k7WjIVLpNPePwHdHdaA8Xw==:1000:AT11WIMAj5pjmEKJ/QeY600/Vb132zY068oEOIHJhQoqwWQblOFH5Xf/7GeVk8yqIlo3XL9kuDleHijfyvGZNaotXi4K5gCf3b7bBT1hepRQCl0GJWoUwZC4JTXxIUOJySpO65YmdjCnWSS6K8tkSC+1VOIBdhlAKMMcGGzDAI8dgn3xnBCzZWD6MAf8ubc0yvgNv1rJZ0XPW+TzRCJ5RRXoElag+RxJBDIT9uAw/Jk=; TS017e8d10=012b2f7068571930f8dae6899dc806f1217bb4fe26c9883539bb729ff73e4c65842efb3d2762b872b1b72faa198472a79b66e0c3fe; TS01fffdff=012b2f7068571930f8dae6899dc806f1217bb4fe26c9883539bb729ff73e4c65842efb3d2762b872b1b72faa198472a79b66e0c3fe; bstc=WR3PBAfvratwlpWHFIIamo; exp-ck=1; vtc=WR3PBAfvratwlpWHFIIamo; xpa=; xpm=3%2B1718825469%2BWR3PBAfvratwlpWHFIIamo~%2B1; TS01cc7ea9=012b2f7068571930f8dae6899dc806f1217bb4fe26c9883539bb729ff73e4c65842efb3d2762b872b1b72faa198472a79b66e0c3fe; TSe3289311027=08e53f0268ab2000213957748df78bda8c0dbdd168b1c60ca6ed94f2414a5a9955e2239d51e11f3208d2aa926e1130001a8193accd09c6e43a9d84389978a7e0b86ce316e78785a1d5edaba313e27130d920535ae5286ded3e0c5cd69fd638ec',\n",
    "  'Sec-Fetch-Dest': 'empty',\n",
    "  'Sec-Fetch-Mode': 'cors',\n",
    "  'Sec-Fetch-Site': 'same-site',\n",
    "  'TE': 'trailers'\n",
    "}"
   ]
  },
  {
   "cell_type": "code",
   "execution_count": 8,
   "id": "46170376-841a-4859-8627-5903851af294",
   "metadata": {},
   "outputs": [],
   "source": [
    "# Conexión  via https a la pagina\n",
    "response = requests.request(\"GET\", url, headers=headers, data=payload)\n",
    "data = response.json()"
   ]
  },
  {
   "cell_type": "code",
   "execution_count": 9,
   "id": "2bcf3e42-2edd-4407-ac80-03bad830f744",
   "metadata": {},
   "outputs": [
    {
     "name": "stdout",
     "output_type": "stream",
     "text": [
      "{'ID': 'PROD_906030', 'attributes': {'contentUom': '100 g', 'sellerType': '1P', 'volumetricWeight': '1', 'department': '1', 'defaultQuantity': '1', 'soldByWeight': 'false'}, 'brand': 'Milka', 'description': 'Chocolate Relleno Con Oreo', 'destacado': False, 'displayName': 'Chocolate Relleno Con Oreo, 100 g', 'gtin13': '7622201688370', 'images': {'defaultImage': 'https://images.lider.cl/wmtcl?source=url[file:/productos/906030aa.jpg]&scale=size[180x180]&sink', 'smallImage': 'https://images.lider.cl/wmtcl?source=url[file:/productos/906030aa.jpg]&scale=size[180x180]&sink', 'mediumImage': 'https://images.lider.cl/wmtcl?source=url[file:/productos/906030aa.jpg]&scale=size[450x450]&sink', 'largeImage': 'https://images.lider.cl/wmtcl?source=url[file:/productos/906030aa.jpg]&scale=size[2000x2000]&sink', 'availableImages': ['https://images.lider.cl/wmtcl?source=url[file:/productos/906030aa.jpg]&scale=size[2000x2000]&sink', 'https://images.lider.cl/wmtcl?source=url[file:/productos/906030bb.jpg]&scale=size[2000x2000]&sink', 'https://images.lider.cl/wmtcl?source=url[file:/productos/906030cc.jpg]&scale=size[2000x2000]&sink', 'https://images.lider.cl/wmtcl?source=url[file:/productos/906030dd.jpg]&scale=size[2000x2000]&sink', 'https://images.lider.cl/wmtcl?source=url[file:/productos/906030ee.jpg]&scale=size[2000x2000]&sink', 'https://images.lider.cl/wmtcl?source=url[file:/productos/906030ff.jpg]&scale=size[2000x2000]&sink', 'https://images.lider.cl/wmtcl?source=url[file:/productos/906030g.jpg]&scale=size[2000x2000]&sink']}, 'isMKP': False, 'itemNumber': '119808', 'keyword': ['14F', 'San Valentin', 'San Valentín', 'día del amor', 'SOD', 'Milka', 'CLN_CNT_W34', 'cachodenuevo', 'connect_semana9', 'CONNECT10', 'connectsemana11', 'test1', 'testApi', 'limpiezaconnect14', 'Apitest', 'plrp16', 'CARGASTEP1505', 'WCYB23'], 'leadTime': 0, 'longDescription': '<hr /><p>Chocolate de Leche en Barra Relleno Oreo Milka, 100g<br /></p><hr /><p><span style=\"color:#FF0000\"><strong>Contiene: </strong>SOYA, GLUTEN, LECHE, FRUTOS SECOS<br /></span></p>', 'max': 48, 'nutritionalInformation': {'ingredients': 'Azúcar, Grasa Vegetal Fraccionada (Palma Y Girasol), Leche Descremada En Polvo, Manteca De Cacao, Harina De Trigo, Pasta De Cacao, Suero De Leche En Polvo, Grasa Anhidra De Leche, Aceite Vegetal (Palma Y Palmiste), Cacao En Polvo, Jarabe De Glucosa Y Fructosa, Almidón De Trigo, Pasta De Avellana, Sal, Emulsionante (Lecitina De Soya), Leudantes (Bicarbonato De Potasio, Bicarbonato De Amonio, Bicarbonato De Sodio), Saborizante Idéntico Al Natural Vainillina.  Relleno Sabor Vainilla (39%) Trocitos De Galletas Sabor A Chocolate (12%).Contiene Leche, Avellana, Derivados De Soya Y De Trigo (Gluten).Puede Contener Almendra, Centeno (Gluten), Cebada (Gluten) Y Avena (Gluten).', 'nutritionalAttributes': [{'isBold': 1, 'isPrimary': 1, 'nutrientType': 'Energía', 'quantity': 560, 'quantityPerPortion': 112, 'sequenceNumber': 0}, {'isBold': 1, 'isPrimary': 1, 'nutrientType': 'Azúcares Totales', 'quantity': 49, 'quantityPerPortion': 10, 'sequenceNumber': 9}, {'isBold': 1, 'isPrimary': 1, 'nutrientType': 'Sodio', 'quantity': 131, 'quantityPerPortion': 26, 'sequenceNumber': 10}, {'isBold': 1, 'isPrimary': 1, 'nutrientType': 'Proteínas', 'quantity': 4.8, 'quantityPerPortion': 1, 'sequenceNumber': 1}, {'isBold': 1, 'isPrimary': 1, 'nutrientType': 'Grasas Totales', 'quantity': 35, 'quantityPerPortion': 7.1, 'sequenceNumber': 2}, {'isBold': 0, 'isPrimary': 0, 'nutrientType': 'Grasas Saturadas', 'quantity': 20, 'quantityPerPortion': 4, 'sequenceNumber': 3}, {'isBold': 0, 'isPrimary': 0, 'nutrientType': 'Grasas Monoinsaturadas', 'quantity': 9.6, 'quantityPerPortion': 1.9, 'sequenceNumber': 4}, {'isBold': 0, 'isPrimary': 0, 'nutrientType': 'Grasas Polinsaturadas', 'quantity': 1.9, 'quantityPerPortion': 0.4, 'sequenceNumber': 5}, {'isBold': 0, 'isPrimary': 0, 'nutrientType': 'Ac. Grasos Trans', 'quantity': 0, 'quantityPerPortion': 0, 'sequenceNumber': 6}, {'isBold': 1, 'isPrimary': 1, 'nutrientType': 'Colesterol', 'quantity': 12, 'quantityPerPortion': 2.4, 'sequenceNumber': 7}, {'isBold': 1, 'isPrimary': 1, 'nutrientType': 'Hidratos de Carbono Disp.', 'quantity': 56, 'quantityPerPortion': 11, 'sequenceNumber': 8}], 'seals': ['ALTO EN AZUCARES', 'ALTO EN CALORIAS', 'ALTO EN GRASAS SATURADAS'], 'servingSize': '20g (3 cuadraditos)', 'servingsPerContainer': 5}, 'posicion': 0, 'rankedOffers': [], 'sites': ['gr.walmart.cl'], 'sku': '906030', 'specifications': [{'name': 'Descripción', 'order': 1, 'value': 'Chocolate Relleno Con Oreo'}, {'name': 'Marca', 'order': 2, 'value': 'Milka'}, {'name': 'Tipo de producto', 'order': 3, 'value': 'Chocolate'}, {'name': 'País de origen', 'order': 4, 'value': 'DE'}, {'name': 'Tipo de envase', 'order': 5, 'value': 'Reciclable'}, {'name': 'Presentación', 'order': 6, 'value': 'tableta'}, {'name': 'Condición alimentaria', 'order': 7, 'value': 'Libre de Huevo'}, {'name': 'Condición alimentaria', 'order': 8, 'value': 'Vegetariano'}, {'name': 'Condición alimentaria', 'order': 9, 'value': 'Libre de Mariscos'}, {'name': 'Condición alimentaria', 'order': 10, 'value': 'Libre de Peces'}, {'name': 'Contenido neto', 'order': 11, 'value': '100Gr'}, {'name': 'Condición alimentaria', 'order': 12, 'value': 'Libre de Maní'}, {'name': 'Condición alimentaria', 'order': 13, 'value': 'Libre de Sulfitos'}, {'name': 'Advertencias de almacenamiento', 'order': 14, 'value': 'Conservar en lugar fresco y secoCondiciones de almacenaje: ambiente'}, {'name': 'Vegano', 'order': 15, 'value': 'No'}, {'name': 'Alérgenos declarados', 'order': 16, 'value': 'CONTIENE LECHE, AVELLANA, DERIVADOS DE SOYA Y DE TRIGO (GLUTEN).\\nPUEDE CONTENER ALMENDRA, CENTENO (GLUTEN), CEBADA (GLUTEN) Y AVENA\\n(GLUTEN).'}, {'name': 'Orgánico', 'order': 17, 'value': 'No'}, {'name': 'Condición alimentaria', 'order': 18, 'value': 'Libre de Nueces de Árbol'}], 'vendorId': '', 'wfsEligible': False, 'winningOffer': {'country': '', 'internationalSeller': False, 'sellerId': '', 'sellerName': '', 'sellerType': ''}, 'price': {'BasePricePerUm': 'Precio x Kg : $15.499', 'BasePriceReference': 2150, 'BasePriceSales': 1550, 'BasePriceTLMC': 0, 'packPrice': 0, 'packSize': 0}, 'discount': 28, 'defaultQuantity': 1, 'promotion': {'isCombinable': False, 'id': 'eec52784-ba22-42f7-a938-95a0de69dbd9'}, 'tags': {'campaignTags': [], 'attributeTags': [], 'deliveryTags': []}, 'categorias': ['Desayunos y Dulces/Chocolates y Candy/Chocolates', 'Desayunos y Dulces/Chocolates y Candy', 'Desayunos y Dulces', 'Activaciones/Supermercado/Dulces y Colaciones', 'Activaciones/Supermercado', 'Activaciones', 'Activaciones/Supermercado/Precios Bajos', 'Activaciones/Supermercado', 'Activaciones', 'Activaciones/Supermercado/Mes de la Dulzura', 'Activaciones/Supermercado', 'Activaciones', 'Activaciones/Connect/Connect 642', 'Activaciones/Connect', 'Activaciones', 'Campañas/Landing Promocional 2/Llamado Promocional 1', 'Campañas/Landing Promocional 2', 'Campañas', 'Chocolates/Variedad/Tableta rellena', 'Chocolates/Variedad', 'Chocolates', 'Chocolates/Tipos/Con leche', 'Chocolates/Tipos', 'Chocolates'], 'makePublic': True, 'available': True}\n"
     ]
    }
   ],
   "source": [
    "print(data)"
   ]
  },
  {
   "cell_type": "code",
   "execution_count": 35,
   "id": "613fccfd-2d69-4706-a471-44b352723cf4",
   "metadata": {},
   "outputs": [],
   "source": [
    "# Parseo de la informacion nescesaria\n",
    "title = data.get(\"displayName\", \"\") if data.get(\"displayName\", \"\") != None else \"\"\n",
    "description = data.get(\"description\", \"\") if data.get(\"description\", \"\") != None else \"\"\n",
    "price = data.get(\"price\", 0) if data.get(\"price\", 0) != None else 0\n",
    "final_price = price.get(\"BasePriceSales\", 0) if price.get(\"BasePriceSales\", 0) != None else 0\n",
    "old_price = price.get(\"BasePriceReference\", 0) if price.get(\"BasePriceReference\", 0) != None else 0\n",
    "brand = data.get(\"brand\", \"\") if data.get(\"brand\", \"\") != None else \"\"\n",
    "images = data.get(\"images\", \"\") if data.get(\"images\", \"\") != None else \"\"\n",
    "q_images = len(images.get(\"availableImages\", 0)) - 1 if len(images.get(\"availableImages\", 0)) != None else 0\n",
    "stock = 1 if data.get(\"available\", 0) != False else 0"
   ]
  },
  {
   "cell_type": "code",
   "execution_count": 36,
   "id": "c0dbc856-6539-4fe0-abad-095de42df9b7",
   "metadata": {},
   "outputs": [
    {
     "name": "stdout",
     "output_type": "stream",
     "text": [
      "----Title: Chocolate Relleno Con Oreo, 100 g\n",
      "----Brand: Milka\n",
      "----Description: Chocolate Relleno Con Oreo\n",
      "----FinalPrice:1550\n",
      "----OldPrice: 2150\n",
      "----Stock: 1\n",
      "----Images: 6\n"
     ]
    }
   ],
   "source": [
    "print(f\"----Title: {title}\")\n",
    "print(f\"----Brand: {brand}\")\n",
    "print(f\"----Description: {description}\")\n",
    "print(f\"----FinalPrice:{final_price}\")\n",
    "print(f\"----OldPrice: {old_price}\")\n",
    "print(f\"----Stock: {stock}\")\n",
    "print(f\"----Images: {q_images}\")"
   ]
  },
  {
   "cell_type": "code",
   "execution_count": null,
   "id": "63625a97-e936-4641-aaf0-e60084035099",
   "metadata": {},
   "outputs": [],
   "source": []
  }
 ],
 "metadata": {
  "kernelspec": {
   "display_name": "Python 3 (ipykernel)",
   "language": "python",
   "name": "python3"
  },
  "language_info": {
   "codemirror_mode": {
    "name": "ipython",
    "version": 3
   },
   "file_extension": ".py",
   "mimetype": "text/x-python",
   "name": "python",
   "nbconvert_exporter": "python",
   "pygments_lexer": "ipython3",
   "version": "3.11.3"
  }
 },
 "nbformat": 4,
 "nbformat_minor": 5
}
