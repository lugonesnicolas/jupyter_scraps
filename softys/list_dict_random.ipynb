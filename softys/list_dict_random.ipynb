{
 "cells": [
  {
   "cell_type": "code",
   "execution_count": 1,
   "id": "c302bba5-3afe-4b21-ada3-27f84d71a926",
   "metadata": {},
   "outputs": [],
   "source": [
    "import random\n",
    "import logging"
   ]
  },
  {
   "cell_type": "code",
   "execution_count": 2,
   "id": "3d9604bd-ff39-41ea-ade1-3326e7cb0ef7",
   "metadata": {},
   "outputs": [],
   "source": [
    "# Funcion que setea los el logger y el archivo de logs\n",
    "def configurar_logging(nombre_archivo):\n",
    "    \"\"\"\n",
    "    Configura el logging con un manejador de archivo y un formato personalizado.\n",
    "\n",
    "    Args:\n",
    "        nombre_archivo (str): Nombre del archivo donde se guardarán los logs.\n",
    "    \"\"\"\n",
    "    # Crea un logger con el nombre del script actual\n",
    "    logger = logging.getLogger(__name__)\n",
    "\n",
    "    # Configura el nivel de registro (en este caso, INFO)\n",
    "    logger.setLevel(logging.DEBUG)\n",
    "\n",
    "    # Crea un manejador de archivo\n",
    "    file_handler = logging.FileHandler(nombre_archivo)\n",
    "\n",
    "    # Define el formato del mensaje\n",
    "    formatter = logging.Formatter('%(asctime)s - %(levelname)s - %(name)s - %(message)s')\n",
    "\n",
    "    # Aplica el formato al manejador\n",
    "    file_handler.setFormatter(formatter)\n",
    "\n",
    "    # Agrega el manejador al logger\n",
    "    logger.addHandler(file_handler)\n",
    "    \n",
    "    return logger"
   ]
  },
  {
   "cell_type": "code",
   "execution_count": 3,
   "id": "dd0d163e-16ab-43c8-a8d5-2b825ef17537",
   "metadata": {},
   "outputs": [],
   "source": [
    "logger_test = configurar_logging(\"test_batches.log\")"
   ]
  },
  {
   "cell_type": "code",
   "execution_count": 4,
   "id": "d6ec8c40-8fa5-4c4c-a8b0-e97022e61f21",
   "metadata": {},
   "outputs": [],
   "source": [
    "logger_test.info(f\"Inicio del proceso\")"
   ]
  },
  {
   "cell_type": "code",
   "execution_count": 5,
   "id": "3f06ef80-81e8-4ac5-aad0-05324dc40753",
   "metadata": {},
   "outputs": [],
   "source": [
    "nombres = [\"María\", \"Juan\", \"Pedro\", \"Ana\", \"Carlos\", \"Sofia\", \"Roberto\", \"Sandra\", \"Miguel\", \"Isabel\"]\n",
    "apellidos = [\"García\", \"López\", \"Martínez\", \"Pérez\", \"González\", \"Romero\", \"Sánchez\", \"Fernández\", \"Alonso\", \"Moreno\"]"
   ]
  },
  {
   "cell_type": "code",
   "execution_count": 6,
   "id": "0cb6a7f6-0281-4121-bbc2-266df465f75e",
   "metadata": {},
   "outputs": [],
   "source": [
    "lista_diccionarios = []\n",
    "for i in range(98):\n",
    "    nombre = random.choice(nombres)\n",
    "    apellido = random.choice(apellidos)\n",
    "\n",
    "    # Crea un diccionario con el nombre y apellido actuales\n",
    "    diccionario = {\"id\": i+1, \"nombre\": nombre, \"apellido\": apellido}\n",
    "\n",
    "    # Agrega el diccionario a la lista\n",
    "    lista_diccionarios.append(diccionario)"
   ]
  },
  {
   "cell_type": "code",
   "execution_count": 7,
   "id": "df1c54d5-2f7c-447a-9ed5-990a7f84faa3",
   "metadata": {},
   "outputs": [
    {
     "name": "stdout",
     "output_type": "stream",
     "text": [
      "[{'id': 1, 'nombre': 'Sandra', 'apellido': 'Sánchez'}, {'id': 2, 'nombre': 'Carlos', 'apellido': 'Martínez'}, {'id': 3, 'nombre': 'Sofia', 'apellido': 'Fernández'}, {'id': 4, 'nombre': 'Isabel', 'apellido': 'López'}, {'id': 5, 'nombre': 'Juan', 'apellido': 'Romero'}, {'id': 6, 'nombre': 'Sandra', 'apellido': 'Sánchez'}, {'id': 7, 'nombre': 'Ana', 'apellido': 'Alonso'}, {'id': 8, 'nombre': 'Sandra', 'apellido': 'Sánchez'}, {'id': 9, 'nombre': 'Carlos', 'apellido': 'Moreno'}, {'id': 10, 'nombre': 'Sandra', 'apellido': 'García'}, {'id': 11, 'nombre': 'Sofia', 'apellido': 'Moreno'}, {'id': 12, 'nombre': 'María', 'apellido': 'Romero'}, {'id': 13, 'nombre': 'María', 'apellido': 'Sánchez'}, {'id': 14, 'nombre': 'Isabel', 'apellido': 'García'}, {'id': 15, 'nombre': 'Pedro', 'apellido': 'López'}, {'id': 16, 'nombre': 'María', 'apellido': 'González'}, {'id': 17, 'nombre': 'Roberto', 'apellido': 'García'}, {'id': 18, 'nombre': 'Juan', 'apellido': 'Alonso'}, {'id': 19, 'nombre': 'Isabel', 'apellido': 'Martínez'}, {'id': 20, 'nombre': 'Ana', 'apellido': 'Alonso'}, {'id': 21, 'nombre': 'Miguel', 'apellido': 'Martínez'}, {'id': 22, 'nombre': 'María', 'apellido': 'García'}, {'id': 23, 'nombre': 'Roberto', 'apellido': 'García'}, {'id': 24, 'nombre': 'Carlos', 'apellido': 'López'}, {'id': 25, 'nombre': 'Sandra', 'apellido': 'García'}, {'id': 26, 'nombre': 'Sandra', 'apellido': 'Sánchez'}, {'id': 27, 'nombre': 'Sofia', 'apellido': 'Fernández'}, {'id': 28, 'nombre': 'Carlos', 'apellido': 'Sánchez'}, {'id': 29, 'nombre': 'Carlos', 'apellido': 'González'}, {'id': 30, 'nombre': 'Sandra', 'apellido': 'Fernández'}, {'id': 31, 'nombre': 'Sofia', 'apellido': 'Pérez'}, {'id': 32, 'nombre': 'Miguel', 'apellido': 'Romero'}, {'id': 33, 'nombre': 'Sandra', 'apellido': 'García'}, {'id': 34, 'nombre': 'Ana', 'apellido': 'González'}, {'id': 35, 'nombre': 'Isabel', 'apellido': 'Alonso'}, {'id': 36, 'nombre': 'Carlos', 'apellido': 'Martínez'}, {'id': 37, 'nombre': 'Pedro', 'apellido': 'Fernández'}, {'id': 38, 'nombre': 'Carlos', 'apellido': 'López'}, {'id': 39, 'nombre': 'Ana', 'apellido': 'García'}, {'id': 40, 'nombre': 'Carlos', 'apellido': 'López'}, {'id': 41, 'nombre': 'Miguel', 'apellido': 'García'}, {'id': 42, 'nombre': 'Carlos', 'apellido': 'Martínez'}, {'id': 43, 'nombre': 'Juan', 'apellido': 'González'}, {'id': 44, 'nombre': 'Sofia', 'apellido': 'García'}, {'id': 45, 'nombre': 'María', 'apellido': 'Sánchez'}, {'id': 46, 'nombre': 'Ana', 'apellido': 'Pérez'}, {'id': 47, 'nombre': 'Miguel', 'apellido': 'Fernández'}, {'id': 48, 'nombre': 'Sandra', 'apellido': 'Fernández'}, {'id': 49, 'nombre': 'Ana', 'apellido': 'Romero'}, {'id': 50, 'nombre': 'Sofia', 'apellido': 'Pérez'}]\n",
      "\n",
      "[{'id': 51, 'nombre': 'Sandra', 'apellido': 'Martínez'}, {'id': 52, 'nombre': 'Isabel', 'apellido': 'García'}, {'id': 53, 'nombre': 'Roberto', 'apellido': 'Alonso'}, {'id': 54, 'nombre': 'María', 'apellido': 'López'}, {'id': 55, 'nombre': 'María', 'apellido': 'González'}, {'id': 56, 'nombre': 'Isabel', 'apellido': 'Sánchez'}, {'id': 57, 'nombre': 'Sandra', 'apellido': 'Romero'}, {'id': 58, 'nombre': 'María', 'apellido': 'Sánchez'}, {'id': 59, 'nombre': 'Pedro', 'apellido': 'Romero'}, {'id': 60, 'nombre': 'Sofia', 'apellido': 'González'}, {'id': 61, 'nombre': 'Isabel', 'apellido': 'Romero'}, {'id': 62, 'nombre': 'Roberto', 'apellido': 'Alonso'}, {'id': 63, 'nombre': 'Ana', 'apellido': 'López'}, {'id': 64, 'nombre': 'Ana', 'apellido': 'González'}, {'id': 65, 'nombre': 'María', 'apellido': 'Pérez'}, {'id': 66, 'nombre': 'Carlos', 'apellido': 'Fernández'}, {'id': 67, 'nombre': 'Sandra', 'apellido': 'Moreno'}, {'id': 68, 'nombre': 'Ana', 'apellido': 'Fernández'}, {'id': 69, 'nombre': 'Carlos', 'apellido': 'López'}, {'id': 70, 'nombre': 'Isabel', 'apellido': 'Alonso'}, {'id': 71, 'nombre': 'Roberto', 'apellido': 'Moreno'}, {'id': 72, 'nombre': 'Pedro', 'apellido': 'Martínez'}, {'id': 73, 'nombre': 'Ana', 'apellido': 'Martínez'}, {'id': 74, 'nombre': 'Sofia', 'apellido': 'Sánchez'}, {'id': 75, 'nombre': 'Sandra', 'apellido': 'López'}, {'id': 76, 'nombre': 'Isabel', 'apellido': 'García'}, {'id': 77, 'nombre': 'Juan', 'apellido': 'Fernández'}, {'id': 78, 'nombre': 'Ana', 'apellido': 'Pérez'}, {'id': 79, 'nombre': 'Carlos', 'apellido': 'López'}, {'id': 80, 'nombre': 'Isabel', 'apellido': 'García'}, {'id': 81, 'nombre': 'Isabel', 'apellido': 'Romero'}, {'id': 82, 'nombre': 'Miguel', 'apellido': 'López'}, {'id': 83, 'nombre': 'Sandra', 'apellido': 'Romero'}, {'id': 84, 'nombre': 'Sandra', 'apellido': 'Moreno'}, {'id': 85, 'nombre': 'Pedro', 'apellido': 'Sánchez'}, {'id': 86, 'nombre': 'María', 'apellido': 'Sánchez'}, {'id': 87, 'nombre': 'María', 'apellido': 'García'}, {'id': 88, 'nombre': 'Carlos', 'apellido': 'Moreno'}, {'id': 89, 'nombre': 'Pedro', 'apellido': 'López'}, {'id': 90, 'nombre': 'Miguel', 'apellido': 'González'}, {'id': 91, 'nombre': 'Sofia', 'apellido': 'Fernández'}, {'id': 92, 'nombre': 'Juan', 'apellido': 'Sánchez'}, {'id': 93, 'nombre': 'Juan', 'apellido': 'Sánchez'}, {'id': 94, 'nombre': 'Ana', 'apellido': 'Moreno'}, {'id': 95, 'nombre': 'Sofia', 'apellido': 'Martínez'}, {'id': 96, 'nombre': 'Isabel', 'apellido': 'Martínez'}, {'id': 97, 'nombre': 'Carlos', 'apellido': 'Martínez'}, {'id': 98, 'nombre': 'Ana', 'apellido': 'Pérez'}]\n",
      "\n"
     ]
    }
   ],
   "source": [
    "id_aux = 0 # Id que guarda la posicion decimal\n",
    "contador = 0 # Movimiento en la lista\n",
    "for i in lista_diccionarios:\n",
    "    contador += 1\n",
    "    if contador % 50 == 0: # Cada 10 indices imprimimos en pantalla\n",
    "        print(f\"{lista_diccionarios[id_aux:contador]}\\n\")\n",
    "        logger_test.debug(f\"Se cargo 1 lote\")\n",
    "        id_aux = contador \n",
    "        \n",
    "    elif contador == len(lista_diccionarios) and contador % 50 != 0: # Si el ultimo batch no llega a 10 se imprime aca\n",
    "        print(f\"{lista_diccionarios[id_aux:contador]}\\n\")\n",
    "        logger_test.debug(f\"Se cargo el ultimo lote\")\n",
    "logger_test.info(f\"Se cargaron {contador} registros\")"
   ]
  },
  {
   "cell_type": "code",
   "execution_count": null,
   "id": "86d9a80d-9c48-4e78-ae08-2038c0907798",
   "metadata": {},
   "outputs": [],
   "source": []
  }
 ],
 "metadata": {
  "kernelspec": {
   "display_name": "Python 3 (ipykernel)",
   "language": "python",
   "name": "python3"
  },
  "language_info": {
   "codemirror_mode": {
    "name": "ipython",
    "version": 3
   },
   "file_extension": ".py",
   "mimetype": "text/x-python",
   "name": "python",
   "nbconvert_exporter": "python",
   "pygments_lexer": "ipython3",
   "version": "3.11.3"
  }
 },
 "nbformat": 4,
 "nbformat_minor": 5
}
