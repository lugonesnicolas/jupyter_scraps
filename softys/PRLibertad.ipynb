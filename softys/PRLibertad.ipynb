{
 "cells": [
  {
   "cell_type": "code",
   "execution_count": 1,
   "id": "09a216dd-1083-4c6c-9734-4ed20a229b0b",
   "metadata": {},
   "outputs": [],
   "source": [
    "# Importacion de librerias\n",
    "import time\n",
    "import logging\n",
    "import requests\n",
    "from bs4 import BeautifulSoup\n",
    "from selenium import webdriver\n",
    "from selenium.webdriver.common.by import By"
   ]
  },
  {
   "cell_type": "code",
   "execution_count": 9,
   "id": "7ecfc1f0-8509-4f38-aa08-b13130b02a55",
   "metadata": {},
   "outputs": [],
   "source": [
    "url = \"https://www.hiperlibertad.com.ar/galletitas-pepitos-con-chips-de-chocolate-357g-pack-x-3-unidades-de-119g/p\""
   ]
  },
  {
   "cell_type": "markdown",
   "id": "1efb7bc8-7492-451c-8ec2-567293a32027",
   "metadata": {},
   "source": [
    "# Logger"
   ]
  },
  {
   "cell_type": "code",
   "execution_count": 3,
   "id": "9b3977ea-cffa-40df-9ac2-fec6a5a47fba",
   "metadata": {},
   "outputs": [],
   "source": [
    "# Configurar controlador de registro para consola\n",
    "# logger = logging.getLogger(__name__)\n",
    "# logger.setLevel(logging.DEBUG)\n",
    "# formatter = logging.Formatter('%(asctime)s - %(name)s - %(levelname)s - %(message)s')\n",
    "\n",
    "# # Configurar controlador de registro para archivo\n",
    "# file_handler = logging.FileHandler('PR_AR_Libertad.log')\n",
    "# file_handler.setLevel(logging.DEBUG)\n",
    "# file_handler.setFormatter(formatter)\n",
    "# logger.addHandler(file_handler)"
   ]
  },
  {
   "cell_type": "code",
   "execution_count": 3,
   "id": "c51a6a61-b9ed-4386-b696-ff6d2193efb7",
   "metadata": {},
   "outputs": [],
   "source": [
    "# Funcion que setea los el logger y el archivo de logs\n",
    "def configurar_logging(nombre_archivo):\n",
    "    \"\"\"\n",
    "    Configura el logging con un manejador de archivo y un formato personalizado.\n",
    "\n",
    "    Args:\n",
    "        nombre_archivo (str): Nombre del archivo donde se guardarán los logs.\n",
    "    \"\"\"\n",
    "    # Crea un logger con el nombre del script actual\n",
    "    logger = logging.getLogger(__name__)\n",
    "\n",
    "    # Configura el nivel de registro (en este caso, INFO)\n",
    "    logger.setLevel(logging.INFO)\n",
    "\n",
    "    # Crea un manejador de archivo\n",
    "    file_handler = logging.FileHandler(nombre_archivo)\n",
    "\n",
    "    # Define el formato del mensaje\n",
    "    formatter = logging.Formatter('%(asctime)s - %(levelname)s - %(name)s - %(message)s')\n",
    "\n",
    "    # Aplica el formato al manejador\n",
    "    file_handler.setFormatter(formatter)\n",
    "\n",
    "    # Agrega el manejador al logger\n",
    "    logger.addHandler(file_handler)\n",
    "    \n",
    "    return logger"
   ]
  },
  {
   "cell_type": "markdown",
   "id": "c526b9fd-8289-400f-8a94-90076cbec807",
   "metadata": {},
   "source": [
    "# Selenium"
   ]
  },
  {
   "cell_type": "code",
   "execution_count": 5,
   "id": "cb71fc2f-4f35-40f2-816a-8357816d0058",
   "metadata": {},
   "outputs": [],
   "source": [
    "logger = configurar_logging(\"test.log\")"
   ]
  },
  {
   "cell_type": "code",
   "execution_count": 10,
   "id": "e9af200b-af10-418d-b228-9fe49bb0cbcd",
   "metadata": {},
   "outputs": [],
   "source": [
    "# Test con Selenium\n",
    "# logger.debug(f\"Inicio del Scraper\")\n",
    "driver = webdriver.Chrome()\n",
    "driver.get(url)"
   ]
  },
  {
   "cell_type": "code",
   "execution_count": 11,
   "id": "c34ebf89-4425-4041-afb7-cf69d4052679",
   "metadata": {},
   "outputs": [],
   "source": [
    "time.sleep(1.5)\n",
    "html = driver.page_source\n",
    "driver.quit()\n",
    "soup = BeautifulSoup(html, \"lxml\")"
   ]
  },
  {
   "cell_type": "code",
   "execution_count": 23,
   "id": "3ded4112-8db4-46d8-abcb-8ea34e73e487",
   "metadata": {},
   "outputs": [
    {
     "name": "stdout",
     "output_type": "stream",
     "text": [
      "I: <img alt=\"GALLETAS-PEPITOS-TRIPACK-X-357-Gr-1-40251\" class=\"vtex-store-components-3-x-thumbImg vtex-store-components-3-x-thumbImg--pdp-images w-100 h-auto db\" crossorigin=\"anonymous\" itemprop=\"thumbnail\" src=\"https://hiperlibertad.vtexassets.com/arquivos/ids/209181-150-auto?v=638191785995830000&amp;width=150&amp;height=auto&amp;aspect=true\"/>\n",
      "I: <img alt=\"Galletitas-Pepitos-con-Chips-de-Chocolate-357g-Pack-x-3-unidades-de-119g-3-40251\" class=\"vtex-store-components-3-x-thumbImg vtex-store-components-3-x-thumbImg--pdp-images w-100 h-auto db\" crossorigin=\"anonymous\" itemprop=\"thumbnail\" src=\"https://hiperlibertad.vtexassets.com/arquivos/ids/224335-150-auto?v=638503690342770000&amp;width=150&amp;height=auto&amp;aspect=true\"/>\n",
      "I: <img alt=\"Galletitas-Pepitos-con-Chips-de-Chocolate-357g-Pack-x-3-unidades-de-119g-4-40251\" class=\"vtex-store-components-3-x-thumbImg vtex-store-components-3-x-thumbImg--pdp-images w-100 h-auto db\" crossorigin=\"anonymous\" itemprop=\"thumbnail\" src=\"https://hiperlibertad.vtexassets.com/arquivos/ids/224336-150-auto?v=638503690345270000&amp;width=150&amp;height=auto&amp;aspect=true\"/>\n",
      "I: <img class=\"vtex-store-components-3-x-thumbImg vtex-store-components-3-x-thumbImg--pdp-images vtex-store-components-3-x-thumbImg--video vtex-store-components-3-x-thumbImg--pdp-images--video w-100 h-auto db\" itemprop=\"thumbnail\"/>\n"
     ]
    }
   ],
   "source": [
    "# Parseo de la informacion nescesaria\n",
    "brand = soup.select_one(\".vtex-store-components-3-x-productBrandName\").text if soup.select_one(\".vtex-store-components-3-x-productBrandName\") != None else ''\n",
    "title = soup.select_one(\".vtex-store-components-3-x-productBrand\").text if soup.select_one(\".vtex-store-components-3-x-productBrand\") != None else ''\n",
    "description = soup.select_one(\".vtex-store-components-3-x-productDescriptionText\").text.replace(\"Mostrar más\", \"\") if soup.select_one(\".vtex-store-components-3-x-productDescriptionText\") != None else ''\n",
    "old_price = soup.select_one(\".vtex-product-price-1-x-currencyContainer--pdp-list-price\").text if soup.select_one(\".vtex-product-price-1-x-currencyContainer--pdp-list-price\") != None else 0\n",
    "old_price = float(old_price.replace(\"$\", \"\").replace(\".\", \"\").replace(\",\", \".\").strip()) if old_price != 0 else old_price\n",
    "final_price = soup.select_one(\".vtex-product-price-1-x-currencyContainer--pdp-selling-price\").text if soup.select_one(\".vtex-product-price-1-x-currencyContainer--pdp-selling-price\") != None else 0\n",
    "final_price = float(final_price.replace(\"$\", \"\").replace(\".\", \"\").replace(\",\", \".\").strip()) if final_price != 0 else final_price\n",
    "try:\n",
    "    q_images_container = soup.select(\"div.swiper-wrapper div.swiper-slide figure img\") if soup.select_one(\"div.swiper-wrapper div.swiper-slide figure img\") != None else []\n",
    "    count_images = 0\n",
    "    for i in q_images_container:\n",
    "        print(f\"I: {i}\")\n",
    "        count_images = count_images + 1 if i.get('src', None) != None else count_images\n",
    "    q_images = count_images - 1 if count_images > 1 else 0\n",
    "except Exception as e:\n",
    "    print(f\"Advertencia no se pudieron contar las imagenes - {e}\")"
   ]
  },
  {
   "cell_type": "code",
   "execution_count": 24,
   "id": "d22d1e6c-bce2-4d1a-b2b2-c2c8319f7201",
   "metadata": {},
   "outputs": [
    {
     "name": "stdout",
     "output_type": "stream",
     "text": [
      "----Title: Galletitas Pepitos con Chips de Chocolate 357g Pack x 3 unidades de 119g \n",
      "----Brand: Pepitos\n",
      "----FinalPrice: 2869.0\n",
      "----OldPrice: 4649.0\n",
      "----Description: ¿Ya tenés tus Galletitas Dulces Pepitos para hoy? Agregá al carrito tus cookies favoritas, hechas con chispas del más rico chocolate Cadbury. Aprovechá el tripack y llevá 3 paquetes de galletitas Pepitos al mejor precio. Comprá online y recibilo en casa para disfrutar cuando vos quieras. Consultá ingredientes y Tabla Nutricional al dorso del empaque.\n",
      "----QImages: 2\n"
     ]
    }
   ],
   "source": [
    "# Datos Obtenidos\n",
    "print(f\"----Title: {title}\")\n",
    "print(f\"----Brand: {brand}\")\n",
    "print(f\"----FinalPrice: {final_price}\")\n",
    "print(f\"----OldPrice: {old_price}\")\n",
    "print(f\"----Description: {description}\")\n",
    "print(f\"----QImages: {q_images}\")\n",
    "# logger.info(f\"Url: {url}, procesada correctamente\")\n",
    "# logger.info(f\"Mensaje de test!\")\n",
    "# logger.error('Ocurrio un error')"
   ]
  },
  {
   "cell_type": "code",
   "execution_count": 10,
   "id": "dc9d4f63-8804-4175-9441-d15cea74b093",
   "metadata": {},
   "outputs": [],
   "source": [
    "# Configura el logging con el nombre del archivo de logs deseado\n",
    "# logger_t = configurar_logging(\"log_test.log\")\n",
    "# logger_t.info(f\"Mensaje de test!\")"
   ]
  },
  {
   "cell_type": "code",
   "execution_count": 26,
   "id": "d3b4bd89-516b-4f18-bd78-1fc0da944421",
   "metadata": {},
   "outputs": [
    {
     "name": "stdout",
     "output_type": "stream",
     "text": [
      "0\n"
     ]
    }
   ],
   "source": [
    "try:\n",
    "    q_images_container = soup.select(\"div.swiper-wrapper div.swiper-slide figure img\")\n",
    "    count_images = 0\n",
    "    for i in q_images_container:\n",
    "        count_images = count_images + 1 if i.get('src', None) != None else count_images\n",
    "    q_images = count_images if count_images != 1 else 0\n",
    "except Exception as e:\n",
    "    print(f\"Advertencia no se pudieron contar las imagenes - {e}\")\n",
    "    \n",
    "print(q_images)"
   ]
  }
 ],
 "metadata": {
  "kernelspec": {
   "display_name": ".venv",
   "language": "python",
   "name": "python3"
  },
  "language_info": {
   "codemirror_mode": {
    "name": "ipython",
    "version": 3
   },
   "file_extension": ".py",
   "mimetype": "text/x-python",
   "name": "python",
   "nbconvert_exporter": "python",
   "pygments_lexer": "ipython3",
   "version": "3.12.8"
  }
 },
 "nbformat": 4,
 "nbformat_minor": 5
}
