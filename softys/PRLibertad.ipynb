{
 "cells": [
  {
   "cell_type": "code",
   "execution_count": 1,
   "id": "09a216dd-1083-4c6c-9734-4ed20a229b0b",
   "metadata": {},
   "outputs": [],
   "source": [
    "# Importacion de librerias\n",
    "import time\n",
    "import logging\n",
    "import requests\n",
    "from bs4 import BeautifulSoup\n",
    "from selenium import webdriver\n",
    "from selenium.webdriver.common.by import By"
   ]
  },
  {
   "cell_type": "code",
   "execution_count": 2,
   "id": "7ecfc1f0-8509-4f38-aa08-b13130b02a55",
   "metadata": {},
   "outputs": [],
   "source": [
    "url = \"https://www.hiperlibertad.com.ar/galletitas-oreo-rellenas-con-crema-sabor-original-118g/p\""
   ]
  },
  {
   "cell_type": "markdown",
   "id": "1efb7bc8-7492-451c-8ec2-567293a32027",
   "metadata": {},
   "source": [
    "# Logger"
   ]
  },
  {
   "cell_type": "code",
   "execution_count": 3,
   "id": "9b3977ea-cffa-40df-9ac2-fec6a5a47fba",
   "metadata": {},
   "outputs": [],
   "source": [
    "# Configurar controlador de registro para consola\n",
    "# logger = logging.getLogger(__name__)\n",
    "# logger.setLevel(logging.DEBUG)\n",
    "# formatter = logging.Formatter('%(asctime)s - %(name)s - %(levelname)s - %(message)s')\n",
    "\n",
    "# # Configurar controlador de registro para archivo\n",
    "# file_handler = logging.FileHandler('PR_AR_Libertad.log')\n",
    "# file_handler.setLevel(logging.DEBUG)\n",
    "# file_handler.setFormatter(formatter)\n",
    "# logger.addHandler(file_handler)"
   ]
  },
  {
   "cell_type": "code",
   "execution_count": 4,
   "id": "c51a6a61-b9ed-4386-b696-ff6d2193efb7",
   "metadata": {},
   "outputs": [],
   "source": [
    "# Funcion que setea los el logger y el archivo de logs\n",
    "def configurar_logging(nombre_archivo):\n",
    "    \"\"\"\n",
    "    Configura el logging con un manejador de archivo y un formato personalizado.\n",
    "\n",
    "    Args:\n",
    "        nombre_archivo (str): Nombre del archivo donde se guardarán los logs.\n",
    "    \"\"\"\n",
    "    # Crea un logger con el nombre del script actual\n",
    "    logger = logging.getLogger(__name__)\n",
    "\n",
    "    # Configura el nivel de registro (en este caso, INFO)\n",
    "    logger.setLevel(logging.INFO)\n",
    "\n",
    "    # Crea un manejador de archivo\n",
    "    file_handler = logging.FileHandler(nombre_archivo)\n",
    "\n",
    "    # Define el formato del mensaje\n",
    "    formatter = logging.Formatter('%(asctime)s - %(levelname)s - %(name)s - %(message)s')\n",
    "\n",
    "    # Aplica el formato al manejador\n",
    "    file_handler.setFormatter(formatter)\n",
    "\n",
    "    # Agrega el manejador al logger\n",
    "    logger.addHandler(file_handler)\n",
    "    \n",
    "    return logger"
   ]
  },
  {
   "cell_type": "markdown",
   "id": "c526b9fd-8289-400f-8a94-90076cbec807",
   "metadata": {},
   "source": [
    "# Selenium"
   ]
  },
  {
   "cell_type": "code",
   "execution_count": 5,
   "id": "cb71fc2f-4f35-40f2-816a-8357816d0058",
   "metadata": {},
   "outputs": [],
   "source": [
    "logger = configurar_logging(\"test.log\")"
   ]
  },
  {
   "cell_type": "code",
   "execution_count": 6,
   "id": "e9af200b-af10-418d-b228-9fe49bb0cbcd",
   "metadata": {},
   "outputs": [],
   "source": [
    "# Test con Selenium\n",
    "logger.debug(f\"Inicio del Scraper\")\n",
    "driver = webdriver.Chrome()\n",
    "driver.get(url)"
   ]
  },
  {
   "cell_type": "code",
   "execution_count": 7,
   "id": "c34ebf89-4425-4041-afb7-cf69d4052679",
   "metadata": {},
   "outputs": [],
   "source": [
    "time.sleep(1)\n",
    "html = driver.page_source\n",
    "driver.quit()\n",
    "soup = BeautifulSoup(html, \"lxml\")"
   ]
  },
  {
   "cell_type": "code",
   "execution_count": 8,
   "id": "3ded4112-8db4-46d8-abcb-8ea34e73e487",
   "metadata": {},
   "outputs": [],
   "source": [
    "# Parseo de la informacion nescesaria\n",
    "brand = soup.select_one(\".vtex-store-components-3-x-productBrandName\").text if soup.select_one(\".vtex-store-components-3-x-productBrandName\") != None else ''\n",
    "title = soup.select_one(\".vtex-store-components-3-x-productBrand\").text if soup.select_one(\".vtex-store-components-3-x-productBrand\") != None else ''\n",
    "description = soup.select_one(\".vtex-store-components-3-x-productDescriptionText\").text if soup.select_one(\".vtex-store-components-3-x-productDescriptionText\") != None else ''\n",
    "old_price = soup.select_one(\".vtex-product-price-1-x-currencyContainer--pdp-list-price\").text if soup.select_one(\".vtex-product-price-1-x-currencyContainer--pdp-list-price\") != None else 0\n",
    "final_price = soup.select_one(\".vtex-product-price-1-x-currencyContainer--pdp-selling-price\").text if soup.select_one(\".vtex-product-price-1-x-currencyContainer--pdp-selling-price\") != None else 0"
   ]
  },
  {
   "cell_type": "code",
   "execution_count": 9,
   "id": "d22d1e6c-bce2-4d1a-b2b2-c2c8319f7201",
   "metadata": {},
   "outputs": [
    {
     "name": "stdout",
     "output_type": "stream",
     "text": [
      "----Title: Galletitas Oreo Rellenas con Crema Sabor Original 118g \n",
      "----Brand: Oreo\n",
      "----FinalPrice: $ 1.482,00\n",
      "----OldPrice: 0\n",
      "----Description: Esta es una señal para frenar y agregar tus Oreo al carrito. Para el desayuno, para merendar en familia, para snackear en el recreo del colegio o en la facultadd o para compartir con amigos. Comprá online y recibilo en casa. Para mayor información, consultá las calorías y Tabla Nutricional al dorso del empaque.Mostrar más\n"
     ]
    }
   ],
   "source": [
    "# Datos Obtenidos\n",
    "print(f\"----Title: {title}\")\n",
    "print(f\"----Brand: {brand}\")\n",
    "print(f\"----FinalPrice: {final_price}\")\n",
    "print(f\"----OldPrice: {old_price}\")\n",
    "print(f\"----Description: {description}\")\n",
    "logger.info(f\"Url: {url}, procesada correctamente\")\n",
    "logger.info(f\"Mensaje de test!\")\n",
    "logger.error('Ocurrio un error')"
   ]
  },
  {
   "cell_type": "code",
   "execution_count": 10,
   "id": "dc9d4f63-8804-4175-9441-d15cea74b093",
   "metadata": {},
   "outputs": [],
   "source": [
    "# Configura el logging con el nombre del archivo de logs deseado\n",
    "logger_t = configurar_logging(\"log_test.log\")\n",
    "logger_t.info(f\"Mensaje de test!\")"
   ]
  },
  {
   "cell_type": "code",
   "execution_count": null,
   "id": "d3b4bd89-516b-4f18-bd78-1fc0da944421",
   "metadata": {},
   "outputs": [],
   "source": []
  }
 ],
 "metadata": {
  "kernelspec": {
   "display_name": "Python 3 (ipykernel)",
   "language": "python",
   "name": "python3"
  },
  "language_info": {
   "codemirror_mode": {
    "name": "ipython",
    "version": 3
   },
   "file_extension": ".py",
   "mimetype": "text/x-python",
   "name": "python",
   "nbconvert_exporter": "python",
   "pygments_lexer": "ipython3",
   "version": "3.11.3"
  }
 },
 "nbformat": 4,
 "nbformat_minor": 5
}
