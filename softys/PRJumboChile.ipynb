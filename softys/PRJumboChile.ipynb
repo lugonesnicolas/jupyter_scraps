{
 "cells": [
  {
   "cell_type": "code",
   "execution_count": 1,
   "id": "64c9ead8-1338-4bbf-b92f-9b42f5edbd11",
   "metadata": {},
   "outputs": [],
   "source": [
    "# Importacion de librerias a usar\n",
    "import re\n",
    "import requests\n",
    "from bs4 import BeautifulSoup"
   ]
  },
  {
   "cell_type": "code",
   "execution_count": 2,
   "id": "ce2e4dcb-9db2-4a37-a543-e8cd6001cfb9",
   "metadata": {},
   "outputs": [],
   "source": [
    "# Headers\n",
    "url = \"https://sm-web-api.ecomm.cencosud.com/catalog/api/v1/product/bebida-coca-cola-oreo-sin-azucar-350-ml?sc=11\"\n",
    "\n",
    "payload = {}\n",
    "headers = {\n",
    "  'User-Agent': 'Mozilla/5.0 (Windows NT 10.0; Win64; x64; rv:128.0) Gecko/20100101 Firefox/128.0',\n",
    "  'Accept': 'application/json, text/plain, */*',\n",
    "  'Accept-Language': 'es-AR,es;q=0.8,en-US;q=0.5,en;q=0.3',\n",
    "  'Accept-Encoding': 'gzip, deflate, br, zstd',\n",
    "  'Referer': 'https://www.jumbo.cl/',\n",
    "  'x-e-commerce': 'jumbo',\n",
    "  'x-consumer': 'jumbo',\n",
    "  'apiKey': 'WlVnnB7c1BblmgUPOfg',\n",
    "  'Origin': 'https://www.jumbo.cl',\n",
    "  'DNT': '1',\n",
    "  'Sec-GPC': '1',\n",
    "  'Sec-Fetch-Dest': 'empty',\n",
    "  'Sec-Fetch-Mode': 'cors',\n",
    "  'Sec-Fetch-Site': 'cross-site',\n",
    "  'Connection': 'keep-alive'\n",
    "}"
   ]
  },
  {
   "cell_type": "code",
   "execution_count": 3,
   "id": "1b6e5ef9-43d1-449c-a6a7-b048316ebd9d",
   "metadata": {},
   "outputs": [],
   "source": [
    "# Conexión  via https a la pagina\n",
    "response = requests.request(\"GET\", url, headers=headers, data=payload)\n",
    "data = response.json()\n",
    "data_product = data[0]"
   ]
  },
  {
   "cell_type": "code",
   "execution_count": 4,
   "id": "22d99daf-7826-47af-9c39-32e2d3fc6baa",
   "metadata": {},
   "outputs": [
    {
     "name": "stdout",
     "output_type": "stream",
     "text": [
      "{'productId': '140879', 'productName': 'Bebida Coca-Cola Oreo Sin Azúcar 350 ml', 'productReference': '2005355', 'brand': 'Coca-Cola', 'categoriesIds': ['/189/190/194/'], 'productClusters': {'1022': 'Google Shopping', '1059': 'All Products', '1237': 'SCRAPERBebidas', '5888': '5888 Shortcut Rubro Bebidas Gaseosas', '10542': '10542 MiCupon_Bebidas gaseosas', '18082': '18082 EC oreo cocacola', '18224': '18224 EC Vitrina Andina bebidas y Aguas', '18372': '18372  EC Banner Andina Bebidas y Aguas', '18408': '18408 EC oreo coke', '18409': '18409 EC cocacola oreo', '18415': '18415  EC landing Oreo Carrusel completo', '18417': '18417 EC Landing Oreo Coca latas', '18421': '18421 EC Landing Oreo Completo', '18731': '18371_Cencomedia_ BANNER PASILLO ANDINA', '19111': '19111  EC Vitrina Diageo Coca cola hasta el 30 dic'}, 'linkText': 'bebida-coca-cola-oreo-sin-azucar-350-ml', 'metaTagDescription': '', 'categories': ['/Bebidas, Aguas y Jugos/Bebidas Gaseosas/Bebidas Light o Zero Azúcar/'], 'description': 'Disfruta la nueva Coke-Creations Coca-Cola Oreo DESTINY. BBFs por tiempo limitado.', 'clusterHighlights': {'1022': 'Google Shopping', '1059': 'All Products', '1237': 'SCRAPERBebidas', '5888': '5888 Shortcut Rubro Bebidas Gaseosas', '10542': '10542 MiCupon_Bebidas gaseosas', '18082': '18082 EC oreo cocacola', '18224': '18224 EC Vitrina Andina bebidas y Aguas', '18372': '18372  EC Banner Andina Bebidas y Aguas', '18408': '18408 EC oreo coke', '18409': '18409 EC cocacola oreo', '18415': '18415  EC landing Oreo Carrusel completo', '18417': '18417 EC Landing Oreo Coca latas', '18421': '18421 EC Landing Oreo Completo', '18731': '18371_Cencomedia_ BANNER PASILLO ANDINA', '19111': '19111  EC Vitrina Diageo Coca cola hasta el 30 dic'}, 'items': [{'itemId': '141172', 'name': 'Bebida Coca-Cola Oreo Sin Azúcar 350 ml', 'unitMultiplier': 1, 'measurementUnit': 'un', 'complementName': '', 'images': [{'imageUrl': 'https://jumbo.vtexassets.com/arquivos/ids/970808/COCA-COLA-DES-350.jpg?v=638621999859830000', 'imageTag': '<img src=\"~/arquivos/ids/970808-#width#-#height#/COCA-COLA-DES-350.jpg?v=638621999859830000\" width=\"#width#\" height=\"#height#\" alt=\"\" id=\"\" />'}], 'referenceId': [{'Key': 'RefId', 'Value': '2005355'}], 'ean': '7801610002162', 'sellers': [{'sellerId': '1', 'sellerName': 'Jumbo Chile', 'commertialOffer': {'Price': 1090, 'ListPrice': 1090, 'PriceWithoutDiscount': 1090, 'AvailableQuantity': 0}}]}], 'Condiciones Alimentarias': ['Apto para APLV', 'Libre de Lactosa', 'Vegano', 'Vegetariano', 'Libre de Soya', 'Libre de Huevo', 'Libre de Peces', 'Libre de Mariscos', 'Libre de Maní', 'Libre de Frutos Secos', 'Libre de Nueces', 'Libre de Trigo'], 'Ingredientes': ['Agua carbonatada,  Caramelo iv,  Saborizantes naturales,  ácido fosfórico,  Benzoato de sodio,  Acesulfamo de potasio,  Citrato de sodio,  Cloruro de sodio,  Aspartamo,  Cafeína,  Sucralosa,  Fenilalanina'], 'Id Grupo': ['260202003'], 'Grupo Sap': ['LATA'], 'Id Subrubro': ['260202'], 'Subrubro': ['SUBRUBRO BEBIDAS GASEOSAS COLA ZERO'], 'SkuData': ['{\"141172\":{\"ref_id\":\"2005355\",\"cart_limit\":\"12\",\"allow_notes\":true,\"allow_substitute\":true,\"measurement_unit\":\"un\",\"unit_multiplier\":1,\"promotions\":[],\"measurement_unit_un\":\"lt\",\"unit_multiplier_un\":0.35,\"measurement_unit_selector\":false,\"release_data\":{\"date_release\":\"06-12-2016 00:00\",\"date_release_end\":\"05-01-2017 00:00\",\"is_new\":false},\"promotionData\":{\"promotionName\":\"\",\"promotionShortDescription\":\"\",\"promotionDescription\":\"\",\"promotionFeature\":\"\"}}}'], 'Contenido Drenado': ['350 ml'], 'Contenido Neto': ['350 ml'], 'Tipo de Producto': ['Bebidas Gaseosas Zero'], 'Refrigerado': ['No'], 'Origen': ['Nacional'], 'Pack-Unitario': ['Pack'], 'Cantidad': ['1 un.'], 'Envase': ['Lata'], 'Gasificado': ['Sí'], 'País de Origen': ['Chile'], 'Sabor': ['Oreo'], 'Tamaño': ['Individual'], 'Contenido': ['Menor a 1 lt'], 'Porción': ['1 Vaso (200 ml)'], 'Porciones por envase': ['2'], 'Energía (kCal)': ['0.3 / 0.6'], 'Proteínas (g)': ['0 / 0'], 'Grasas Totales (g)': ['0 / 0'], 'Hidratos de Carbono disponibles (g)': ['0 / 0'], 'Azúcares totales (g)': ['0 / 0'], 'Sodio (mg)': ['16 / 32'], 'Ficha Técnica': ['Tipo de Producto', 'Cantidad', 'Envase', 'Gasificado', 'País de Origen', 'Sabor', 'Tamaño', 'Contenido'], 'Información Nutricional (por 100 g / por porción)': ['Porción', 'Porciones por envase', 'Energía (kCal)', 'Proteínas (g)', 'Grasas Totales (g)', 'Hidratos de Carbono disponibles (g)', 'Azúcares totales (g)', 'Sodio (mg)']}\n"
     ]
    }
   ],
   "source": [
    "print(data_product)"
   ]
  },
  {
   "cell_type": "code",
   "execution_count": 8,
   "id": "d1da8e68-4ab2-41f0-992a-4ffed7dae75b",
   "metadata": {},
   "outputs": [
    {
     "name": "stdout",
     "output_type": "stream",
     "text": [
      "Title: Bebida Coca-Cola Oreo Sin Azúcar 350 ml\n",
      "Description: Disfruta la nueva Coke-Creations Coca-Cola Oreo DESTINY. BBFs por tiempo limitado.\n",
      "Brand: Coca-Cola\n",
      "FinalPrice: 1090\n",
      "OldPrice: 0\n"
     ]
    }
   ],
   "source": [
    "title = data_product.get(\"productName\", \"\") if data_product.get(\"productName\", \"\") != None else \"\"\n",
    "brand = data_product.get(\"brand\", \"\") if data_product.get(\"brand\", \"\") != None else \"\"\n",
    "description = data_product.get(\"description\", \"\")\n",
    "items = data_product.get(\"items\", \"\")\n",
    "try:\n",
    "    final_price = items[0].get(\"sellers\", \"\")[0].get(\"commertialOffer\", \"\").get(\"Price\")\n",
    "except Exception as e:\n",
    "    final_price = 0\n",
    "try:\n",
    "    old_price = items[0].get(\"sellers\", \"\")[0].get(\"commertialOffer\", \"\").get(\"ListPrice\")\n",
    "except Exception as e:\n",
    "    old_price = 0\n",
    "if final_price == old_price:\n",
    "    old_price = 0\n",
    "\n",
    "print(f\"Title: {title}\")\n",
    "print(f\"Description: {description}\")\n",
    "print(f\"Brand: {brand}\")\n",
    "print(f\"FinalPrice: {final_price}\")\n",
    "print(f\"OldPrice: {old_price}\")"
   ]
  },
  {
   "cell_type": "code",
   "execution_count": 6,
   "id": "771eca30-a6e7-4155-87d9-aa0c8ef8f337",
   "metadata": {},
   "outputs": [
    {
     "name": "stdout",
     "output_type": "stream",
     "text": [
      "1090\n"
     ]
    }
   ],
   "source": [
    "print(final_price)"
   ]
  },
  {
   "cell_type": "code",
   "execution_count": 9,
   "id": "e374e74b-4d87-4219-b576-8c6d7b809e06",
   "metadata": {},
   "outputs": [
    {
     "name": "stdout",
     "output_type": "stream",
     "text": [
      "----Title: Bebida Coca-Cola Oreo Sin Azúcar 350 ml\n",
      "----FinalPrice: 1090\n",
      "----OldPrice: 0\n",
      "----Description: Disfruta la nueva Coke-Creations Coca-Cola Oreo DESTINY. BBFs por tiempo limitado.\n"
     ]
    }
   ],
   "source": [
    "# Datos Obtenidos\n",
    "print(f\"----Title: {title}\")\n",
    "print(f\"----FinalPrice: {final_price}\")\n",
    "print(f\"----OldPrice: {old_price}\")\n",
    "print(f\"----Description: {description}\")\n",
    "# print(f\"----QImages: {q_images}\")"
   ]
  },
  {
   "cell_type": "code",
   "execution_count": 10,
   "id": "e8bdeb32-6364-4fc5-a2f6-0c5aace82751",
   "metadata": {},
   "outputs": [
    {
     "name": "stdout",
     "output_type": "stream",
     "text": [
      "Instrucciones de Uso: \n",
      "Advertencias: \n",
      "Acerca de la Marca: \n",
      "ComplementName: \n"
     ]
    }
   ],
   "source": [
    "instructions = data_product.get('Instrucciones de Uso', '') if data_product.get('Instrucciones de Uso', '')  != None else ''\n",
    "print(f\"Instrucciones de Uso: {data_product.get('Instrucciones de Uso', '')}\")\n",
    "warnings = data_product.get('Advertencias', '') if data_product.get('Advertencias', '') != None else ''\n",
    "print(f\"Advertencias: {data_product.get('Advertencias', '')}\")\n",
    "a_marca = data_product.get('Acerca de la marca', '') if data_product.get('Acerca de la marca', '') != None else ''\n",
    "print(f\"Acerca de la Marca: {data_product.get('Acerca de la marca', '')}\")\n",
    "try:\n",
    "    complement_name = data_product.get(\"items\", \"\")[0].get('complementName', '').replace(\"</li> \", \"\\n\")\n",
    "except:\n",
    "    complement_name = ''\n",
    "# complement_name = re.sub(r\"<[^>]*>\", \"\", complement_name)\n",
    "print(f\"ComplementName: {complement_name}\")"
   ]
  },
  {
   "cell_type": "code",
   "execution_count": 12,
   "id": "b2477a51-178f-40be-95b9-0d94779eaf83",
   "metadata": {},
   "outputs": [
    {
     "name": "stdout",
     "output_type": "stream",
     "text": [
      "Description: Disfruta la nueva Coke-Creations Coca-Cola Oreo DESTINY. BBFs por tiempo limitado.\n",
      "\n",
      "Instrucciones de Uso\n",
      "\n",
      "Advertencias\n",
      "\n",
      "Acerca de la Marca\n",
      "\n",
      "\n",
      "Instrucciones de Uso\n",
      "\n",
      "Advertencias\n",
      "\n",
      "Acerca de la Marca\n",
      "\n"
     ]
    }
   ],
   "source": [
    "description += \"\\n\\nInstrucciones de Uso\"\n",
    "for i in instructions:\n",
    "    description += f\"\\n{i}\"\n",
    "\n",
    "description += \"\\n\\nAdvertencias\"\n",
    "for i in warnings:\n",
    "    description += f\"\\n{i}\"\n",
    "\n",
    "description += \"\\n\\nAcerca de la Marca\"\n",
    "for i in a_marca:\n",
    "    description += f\"\\n{i}\"\n",
    "\n",
    "description += f\"\\n{complement_name}\"\n",
    "description  = re.sub(r\"<[^>]*>\", \"\", description)\n",
    "\n",
    "print(f\"Description: {description}\")"
   ]
  },
  {
   "cell_type": "code",
   "execution_count": 13,
   "id": "5c8d48e1-3956-4491-aa97-18659d657b96",
   "metadata": {},
   "outputs": [
    {
     "name": "stdout",
     "output_type": "stream",
     "text": [
      "Description: Disfruta la nueva Coke-Creations Coca-Cola Oreo DESTINY. BBFs por tiempo limitado.\n",
      "\n"
     ]
    }
   ],
   "source": [
    "description = data_product.get(\"description\", \"\") if data_product.get(\"description\", \"\") != None else ''\n",
    "description = description + \"\\n\\nInstrucciones de Uso\" if instructions != '' else description\n",
    "for i in instructions:\n",
    "    description += f\"\\n{i}\"\n",
    "\n",
    "description = description + \"\\n\\nAcerca de la Marca\" if a_marca != '' else description\n",
    "for i in a_marca:\n",
    "    description += f\"\\n{i}\"\n",
    "\n",
    "description += f\"\\n{complement_name}\"\n",
    "description  = re.sub(r\"<[^>]*>\", \"\", description)\n",
    "print(f\"Description: {description}\")"
   ]
  },
  {
   "cell_type": "code",
   "execution_count": 14,
   "id": "1196422e-2969-4332-a9ec-695c1771686a",
   "metadata": {},
   "outputs": [
    {
     "name": "stdout",
     "output_type": "stream",
     "text": [
      "QImages: 1\n"
     ]
    }
   ],
   "source": [
    "q_images = len(data_product.get('items', '')[0]['images'])\n",
    "print(f\"QImages: {q_images}\")"
   ]
  },
  {
   "cell_type": "code",
   "execution_count": 36,
   "id": "ecc0d174-746a-4745-8d96-527a8afd70c4",
   "metadata": {},
   "outputs": [
    {
     "name": "stdout",
     "output_type": "stream",
     "text": [
      "Stock: 0\n"
     ]
    }
   ],
   "source": [
    "try:\n",
    "    stock = data_product.get(\"items\", \"\")[0].get(\"sellers\", {})[0].get(\"commertialOffer\", \"\").get(\"AvailableQuantity\", 0) if data_product.get(\"items\", \"\")[0].get(\"sellers\", {})[0].get(\"commertialOffer\", \"\").get(\"AvailableQuantity\", 0) else 0\n",
    "except Exception as e:\n",
    "    print(f\"Error - {e}\")\n",
    "    stock = 0\n",
    "    \n",
    "print(f\"Stock: {stock}\")"
   ]
  },
  {
   "cell_type": "code",
   "execution_count": null,
   "id": "4d0b042e",
   "metadata": {},
   "outputs": [],
   "source": []
  },
  {
   "cell_type": "code",
   "execution_count": null,
   "id": "67c1337d",
   "metadata": {},
   "outputs": [],
   "source": []
  }
 ],
 "metadata": {
  "kernelspec": {
   "display_name": ".venv",
   "language": "python",
   "name": "python3"
  },
  "language_info": {
   "codemirror_mode": {
    "name": "ipython",
    "version": 3
   },
   "file_extension": ".py",
   "mimetype": "text/x-python",
   "name": "python",
   "nbconvert_exporter": "python",
   "pygments_lexer": "ipython3",
   "version": "3.12.8"
  }
 },
 "nbformat": 4,
 "nbformat_minor": 5
}
