{
 "cells": [
  {
   "cell_type": "code",
   "execution_count": 11,
   "id": "64c9ead8-1338-4bbf-b92f-9b42f5edbd11",
   "metadata": {},
   "outputs": [],
   "source": [
    "# Importacion de librerias a usar\n",
    "import requests\n",
    "from bs4 import BeautifulSoup"
   ]
  },
  {
   "cell_type": "code",
   "execution_count": 12,
   "id": "ce2e4dcb-9db2-4a37-a543-e8cd6001cfb9",
   "metadata": {},
   "outputs": [],
   "source": [
    "# Headers\n",
    "url = \"https://sm-web-api.ecomm.cencosud.com/catalog/api/v1/product/shampoo-dove-nutritive-solutions-oleo-nutricion-400-ml?sc=11\"\n",
    "\n",
    "payload = {}\n",
    "headers = {\n",
    "  'User-Agent': 'Mozilla/5.0 (Windows NT 10.0; Win64; x64; rv:128.0) Gecko/20100101 Firefox/128.0',\n",
    "  'Accept': 'application/json, text/plain, */*',\n",
    "  'Accept-Language': 'es-AR,es;q=0.8,en-US;q=0.5,en;q=0.3',\n",
    "  'Accept-Encoding': 'gzip, deflate, br, zstd',\n",
    "  'Referer': 'https://www.jumbo.cl/',\n",
    "  'x-e-commerce': 'jumbo',\n",
    "  'x-consumer': 'jumbo',\n",
    "  'apiKey': 'WlVnnB7c1BblmgUPOfg',\n",
    "  'Origin': 'https://www.jumbo.cl',\n",
    "  'DNT': '1',\n",
    "  'Sec-GPC': '1',\n",
    "  'Sec-Fetch-Dest': 'empty',\n",
    "  'Sec-Fetch-Mode': 'cors',\n",
    "  'Sec-Fetch-Site': 'cross-site',\n",
    "  'Connection': 'keep-alive'\n",
    "}"
   ]
  },
  {
   "cell_type": "code",
   "execution_count": 15,
   "id": "1b6e5ef9-43d1-449c-a6a7-b048316ebd9d",
   "metadata": {},
   "outputs": [],
   "source": [
    "# Conexión  via https a la pagina\n",
    "response = requests.request(\"GET\", url, headers=headers, data=payload)\n",
    "data = response.json()\n",
    "data_product = data[0] "
   ]
  },
  {
   "cell_type": "code",
   "execution_count": 19,
   "id": "d1da8e68-4ab2-41f0-992a-4ffed7dae75b",
   "metadata": {},
   "outputs": [
    {
     "name": "stdout",
     "output_type": "stream",
     "text": [
      "Title: Shampoo Dove Óleo Nutrición 400 ml\n",
      "Brand: Dove\n"
     ]
    }
   ],
   "source": [
    "title = data_product.get(\"productName\", \"\") if data_product.get(\"productName\", \"\") != None else \"\"\n",
    "brand = data_product.get(\"brand\", \"\") if data_product.get(\"brand\", \"\") != None else \"\"\n",
    "\n",
    "print(f\"Title: {title}\")\n",
    "print(f\"Brand: {brand}\")"
   ]
  },
  {
   "cell_type": "code",
   "execution_count": 50,
   "id": "771eca30-a6e7-4155-87d9-aa0c8ef8f337",
   "metadata": {},
   "outputs": [
    {
     "name": "stdout",
     "output_type": "stream",
     "text": [
      "2590\n"
     ]
    }
   ],
   "source": [
    "print(final_price)"
   ]
  },
  {
   "cell_type": "code",
   "execution_count": 51,
   "id": "e374e74b-4d87-4219-b576-8c6d7b809e06",
   "metadata": {},
   "outputs": [
    {
     "name": "stdout",
     "output_type": "stream",
     "text": [
      "----Title: Papas Fritas Lays Corte Americano 350 g\n",
      "----FinalPrice: 2590\n",
      "----OldPrice: 3289\n",
      "----Description: Todo comienza con papas cultivadas en la granja, cocinadas y sazonadas a la perfección. Por lo tanto, todas las papas fritas Lay's son perfectamente crujientes y llenas de sabor a papa fresca. La felicidad en cada bocado. Producto certificado Kosher.\n",
      "----QImages: 2\n"
     ]
    }
   ],
   "source": [
    "# Datos Obtenidos\n",
    "print(f\"----Title: {title}\")\n",
    "print(f\"----FinalPrice: {final_price}\")\n",
    "print(f\"----OldPrice: {old_price}\")\n",
    "print(f\"----Description: {description}\")\n",
    "print(f\"----QImages: {q_images}\")"
   ]
  },
  {
   "cell_type": "code",
   "execution_count": null,
   "id": "e8bdeb32-6364-4fc5-a2f6-0c5aace82751",
   "metadata": {},
   "outputs": [],
   "source": []
  }
 ],
 "metadata": {
  "kernelspec": {
   "display_name": "Python 3 (ipykernel)",
   "language": "python",
   "name": "python3"
  },
  "language_info": {
   "codemirror_mode": {
    "name": "ipython",
    "version": 3
   },
   "file_extension": ".py",
   "mimetype": "text/x-python",
   "name": "python",
   "nbconvert_exporter": "python",
   "pygments_lexer": "ipython3",
   "version": "3.11.3"
  }
 },
 "nbformat": 4,
 "nbformat_minor": 5
}
