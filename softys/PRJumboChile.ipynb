{
 "cells": [
  {
   "cell_type": "code",
   "execution_count": 12,
   "id": "64c9ead8-1338-4bbf-b92f-9b42f5edbd11",
   "metadata": {},
   "outputs": [],
   "source": [
    "# Importacion de librerias a usar\n",
    "import requests\n",
    "from bs4 import BeautifulSoup"
   ]
  },
  {
   "cell_type": "code",
   "execution_count": 13,
   "id": "ce2e4dcb-9db2-4a37-a543-e8cd6001cfb9",
   "metadata": {},
   "outputs": [],
   "source": [
    "# Headers\n",
    "url = \"https://sm-web-api.ecomm.cencosud.com/catalog/api/v1/product/lays-ta-350-gr-1949959?sc=11\"\n",
    "payload = {}\n",
    "headers = {\n",
    "  'User-Agent': 'Mozilla/5.0 (Windows NT 10.0; Win64; x64; rv:127.0) Gecko/20100101 Firefox/127.0',\n",
    "  'Accept': 'application/json, text/plain, */*',\n",
    "  'Accept-Language': 'es-AR,es;q=0.8,en-US;q=0.5,en;q=0.3',\n",
    "  'Accept-Encoding': 'gzip, deflate, br, zstd',\n",
    "  'Referer': 'https://www.jumbo.cl/',\n",
    "  'x-e-commerce': 'jumbo',\n",
    "  'x-consumer': 'jumbo',\n",
    "  'apiKey': 'WlVnnB7c1BblmgUPOfg',\n",
    "  'Origin': 'https://www.jumbo.cl',\n",
    "  'DNT': '1',\n",
    "  'Sec-GPC': '1',\n",
    "  'Sec-Fetch-Dest': 'empty',\n",
    "  'Sec-Fetch-Mode': 'cors',\n",
    "  'Sec-Fetch-Site': 'cross-site',\n",
    "  'Connection': 'keep-alive'\n",
    "}"
   ]
  },
  {
   "cell_type": "code",
   "execution_count": 20,
   "id": "1b6e5ef9-43d1-449c-a6a7-b048316ebd9d",
   "metadata": {},
   "outputs": [],
   "source": [
    "# Conexión  via https a la pagina\n",
    "response = requests.request(\"GET\", url, headers=headers, data=payload)\n",
    "data = response.json()\n",
    "data = data[0]"
   ]
  },
  {
   "cell_type": "code",
   "execution_count": 21,
   "id": "17187f26-c57c-4002-a1d5-3059227b8d80",
   "metadata": {},
   "outputs": [
    {
     "name": "stdout",
     "output_type": "stream",
     "text": [
      "{'productId': '123445', 'productName': 'Papas Fritas Lays Corte Americano 350 g', 'productReference': '1949959', 'brand': \"Lay's\", 'categoriesIds': ['/27/35/40/'], 'productClusters': {'192': '192 ciclo +FDM 21 junio', '369': '369 todas las ofertas de catalogo FDM mayo', '1022': 'Google Shopping', '1059': 'All Products', '1242': '1242  SCRAPERdespensa', '3862': '3862 Todo Exclusivas 16 al 22 mayo 2023', '4244': '4244 Shortcut Snacks Cocktail', '5455': '5455 NP CAT FDM Snack y Salsas', '5627': '5627 Catalogo FDM Mary', '5666': '5666 PEPSICO - Snacks hasta', '6087': '6087 Todo Ciclo 13 al 17 julio', '6131': '6131 Todo Ciclo + Prime  limpia', '6232': '6232 Arma tu picoteo- Fin de Semana de Fútbol', '6394': '6394 Snacks y salsas hasta', '7648': '7648 Todo Exclusivas 23 al 29 mayo 2023', '7945': '7945 Excl LAYS TA 350 GR 20% DESCTO', '9522': '9522_Cencomedia_Todo Pepsico 28 Dic', '9846': '9846 Ciclo +FDM 27 al 31 julio 2023', '9903': '9903_Cencomedia_PMAX Pepsico - 3 May', '9945': \"9945_Cencomedia_Mailing Pepsico Lay's - 14 May\", '9946': '9946_Cencomedia_Pepsico Bodegón Salado - 14 may', '9977': '9977_Cencomedia_PMAX Pepsico - 1 Jun', '10122': '10122_Cencomedia_PMAX Pepsico - 1 Jul', '10169': '10169 NP Jumbo days + ciclo mensual', '10184': '10184_Cencomedia_Super Precios - 26 Jul - 7 Ago', '10225': '10225_Cencomedia_3PM Pepsico - 31 Jul - 30 Ago', '10308': '10308 Todo Ciclo 4 + Cat fdm', '10350': '10350 Papas fritas Lays 350g y mayonesa Hell', '10354': '10354 ofertas Prime del 15 al 21 de agosto 2023', '10381': '10381 Todo exclusivas del 15 al 21 de agosto 2023', '10393': '10393 Todo Ciclo + Prime 17 agosto', '10394': '10394 Todas las ofertas del ciclo 4 y FDM', '10433': '10433 Excl Lays 350G $2299', '10490': '10490 Excl LAYS SELECCIONADAS HASTA 25% DESCTO', '10523': '10523_Cencomedia_FFPP Pepsico - 21 Ago  - 25 Sep', '10550': '10550 PAPAS FRITAS LAYS 350GR', '10551': '10551 Ofertas XL del 29-08-2023 al 25-09-2023', '10566': '10566 Todo Parrillero', '10576': '10576 FDM  Indispensables del 18', '10577': '10577 FDM Agosto sin alcohol', '10578': '10578 FDM Todos los llamados', '10579': '10579 FDM + Limpieza+ Parrillero', '10599': '10599 Snacks y salsas desde', '10611': '10611 Ver todas las ofertas Cencoblack', '10625': '10625 Vitrina Despensa', '10719': '10719 Todo ciclo + FDM 31 al 4 sept 2023', '10869': '10869 Papas fritas Lays corte ame', '10883': '10883 Todas las ofertas del ciclo 2 y FDM', '10951': '10951 PepsiCo - Oferta Everscrip productos selec', '11032': '11032 Lomo Liso al vacio', '11041': '11041 Arma tu picoteo hasta', '11050': '11050 Ofertas Exclusivas en Everscrip', '11118': '11118 Snacks y salsas hasta', '11132': '11132  CAT FDM Completo', '11208': '11208_Cencomedia_LDR Cyber Pepsico Coctel', '11277': '11277 SNACKS EVERCRISP Y LAYS HASTA', '11279': '11279 MILES DE PRODUCTOS CON HASTA', '11380': '11380 XL Todos los Productos', '11399': '11399 Ver todas las Ofertas XL Octubre', '11460': '11460 LAYS 350GR', '11481': '11481 Todas las papas fritas Lays', '11497': '11497 Todas las ofertas del ciclo 2 y FDM', '11517': '11517_Cencomedia_PMAX Pepsico Jumbo Octubre 23', '11518': '11518_Cencomedia_ADV Pepsico Jumbo Octubre 2023', '11564': '11564 pepsico marcaje', '11581': '11581  Todo Cyber Jumbo', '11655': '11655 Todas las ofertas del ciclo 3 y FDM', '11785': '11785 Pepsico - TODO PAPAS FRITAS LAYS', '11786': '11786 Spid TODO PAPAS FRITAS LAYS', '11963': '11963 Todas las ofertas del fdm', '11997': '11997 CAT FDM SNACKS,SALSAS,COND', '12003': '12003 Ver todo Ofertas XL Jumbo', '12053': '12053 Pack  Vitrina Front - Pepsico', '12085': '12085_Cencomedia_ ADV PEPSICO JUMBO NOVIEMBRE 23', '12149': '12149 Papas fritas Lays 380gr', '12186': '12186 Todas las ofertas Ciclo 2 + FDM', '12198': '12198_Cencomedia_Pepsico - 1 Oct - 31 Dic', '12247': '12247 lays', '12262': '12262 Pepsico derivacion de trafico lays artesanas', '12291': '12291  Ciclo Todas las ofertas + FDM', '12345': '12345 Productos seleccionados Evercrisp hasta 25%', '12352': '12352 Papas fritas Lays corte americano 350g', '12357': '12357  Prime Todos los productos 14 nov', '12384': '12384 Todo ciclo + FDM', '12385': '12385  Fondo surtido Clasificatorias Picoteo', '12413': \"12413 BlackFriday Lay's y Ramitas seleccionadas\", '12517': '12517  Black Friday Todas las ofertas', '12521': '12521 Todas las Ofertas XL Diciembre', '12543': '12543 OFERTA XL PAPAS FRITAS LAYS 350 GR', '12559': '12559 Todas las Ofertas XL Diciembre', '12614': '12614  Ciclo + FDM 19 AL 25 dic', '12618': '12618 BF-Lays y Ramitas Seleccionadas', '12638': '12638 Papas Fritas Selecc hasta 20% de descto', '12646': '12646 BOMBAZO -Todo Papas Fritas Lays 40% descto', '12699': '12699  Sabores Navidad Aperitivos', '12812': '12812-CICLO 2 - Todas las ofertas del ciclo y FDM', '12833': '12833 Papa Fritas seleccionadas hasta 30%  descto', '12915': '12915  Todo ciclo + FDM 13 al 18 sept', '12920': '12920 Papa Fritas seleccionadas hasta 30% descto', '12962': '12962  Todo Prime 26 dic al 01 Enero 2024', '12975': '12975_Cencomedia_ pepsico', '12977': '12977_Cencomedia_pmax jumbo diciembre', '12978': '12978_Cencomedia_ 3PM Lays Queso', '12979': '12979 - PAPAS FRITAS PEPSICO', '13040': '13040 - VITRINA DORITOS FLAMING HOT', '13063': '13063 Papas Lays seleccionadas hasta 25%', '13092': '13092 - MAILING PEPSICO', '13107': '13107 Ver todo Ofertas XL Jumbo', '13108': '13108 Fondo de surtido Arma tu tabla de picoteo', '13137': \"13137 - Papas fritas Lay's lisas\", '13154': '13154 Todas las ofertas del FDM Diciembre', '13218': '13218 Todas las ofertas de ciclo + FDM Enero 2024', '13250': '13250 PAPAS FRITAS LAYS 350GR 2X $4.190', '13307': '13307 FDM + Ciclo desde 11 al 15 enero 2024', '13347': '13347_Cencomedia_PMAX Pepsico Jumbo Enero 2024', '13394': '13394  Todo Ciclo + FDM 18 al 22 ene 2024', '13437': '13437 Todas las Ofertas Exclusivas 16/01 al 22/01', '13478': '13478 Todas las Ofertas Exclusivas 23/01 al 29/01', '13485': '13485 Todas las ofertas Prime', '13489': \"13489  Prime Papas fritas Lay's 350g\", '13514': '13514 - FDM + CICLO', '13574': '13574 - PAPAS FRITAS PEPSICO', '13669': '13669_Cencomedia_Pepsico Jumbo Febrero', '13671': '13671_Cencomedia_Pepsico Jumbo Febrero', '13707': '13707 Ciclo  LPM FEBRERO + CICLO 2', '13711': '13711-Ciclo -Todo Lays y Evercrisp 40%dcto', '13718': '13718-Ciclo -Todas las ofertas ciclo 2', '13821': '13821 Huincha Productos Seleccionados Cheezels', '13822': \"13822 Dsp gratis PEPSICO - ¡Lay's Stax\", '14045': '14045 Lay’s Portafolio', '15042': '15042 EC Vitrina - Semana del completo', '15086': '15086 EC Todos los llamados ciclo 1 + JO', '15087': '15087 EC Todos los llamados ciclo 1 + jo + prime', '15101': '15101_Cencomedia_JUMBO - PEPSICO - UEFA', '15153': '15153 EC Cencopay Mes Mayo 2024', '15190': '15190 EC Todos los llamados ciclo 2 + JO', '15192': '15192 EC Todos los llamados ciclo 2 + jo + prime', '15251': '2566_Cencomedia_ lays mayo', '15269': '15269 TODO LAYS Y EVERCRISP HASTA 30 % DESCTO', '15286': '15286 EC Ofertas exclusivas del 07 al 13 mayo 2024', '15323': '15323 EC Todos los llamados ciclo 3 + JO', '15326': '15326 EC Todos los llamados ciclo 3 + jo + prime', '15364': '15364 EC Todas las Ofertas Excl 13 al 20 de Mayo', '15426': '15426 EC Todos los llamados ciclo 4 + JO', '15427': '15427 EC Todos los llamados ciclo 4 + jo + prime', '15468': 'Todas las Ofertas Exclusivas 20/05 al 27/05', '15480': '15480 EC Ofertas Cencopay Junio', '15482': '15482 Todas las ofertas de jumbo ofertas junio', '15502': '15502_Cencomedia_Jumbo  -  Pepsico  3-5jun', '15508': '15508_Cencomedia_Mailing Pepsico Unilever 22may', '15511': '15511 EC Todas las ofertas ciclo 1 + fdm', '15555': '15555 EC Esp disfruta la copa con Lays', '15582': '15582  EC Cyber Todas las ofertas', '15588': '15588 AA Coup 202406B1 PAPAS FRITAS', '15661': '15661 EC Cyber TODO LAYS, KRYZPO, DORITOS', '15667': '15667 EC Cyber SNACKS SALADOS', '15684': '15684 EC Cyber TODO LAYS 30% DCTO', '15688': '15688_Cencomedia_Pepsico - Cyber - Junio 2024', '15768': '15768_Cencomedia_pepsico hasta 31 7 24', '15769': '15769_Cencomedia_Mailing UEFA-Copa America Pepsico', '15790': '15790 EC Ciclos todas las ofertas ciclo 2 + fdm', '15865': '15865_Cencomedia_Pepsico_Junio2024', '15887': '15887 EC CICLO 3 todas las ofertas ciclo 3 + fdm', '15981': '15981 EC FDS-¡Picoteo y pasión! Copa América', '15998': '15998 EC Ciclos todas las ofertas ciclo 4 + FDM'}, 'linkText': 'lays-ta-350-gr-1949959', 'metaTagDescription': None, 'categories': ['/Despensa/Cóctel y Snacks/Papas Fritas/'], 'description': \"Todo comienza con papas cultivadas en la granja, cocinadas y sazonadas a la perfección. Por lo tanto, todas las papas fritas Lay's son perfectamente crujientes y llenas de sabor a papa fresca. La felicidad en cada bocado. Producto certificado Kosher.\", 'Evento': ['Cyber'], 'clusterHighlights': {'192': '192 ciclo +FDM 21 junio', '369': '369 todas las ofertas de catalogo FDM mayo', '1022': 'Google Shopping', '1059': 'All Products', '1242': '1242  SCRAPERdespensa', '3862': '3862 Todo Exclusivas 16 al 22 mayo 2023', '4244': '4244 Shortcut Snacks Cocktail', '5455': '5455 NP CAT FDM Snack y Salsas', '5627': '5627 Catalogo FDM Mary', '5666': '5666 PEPSICO - Snacks hasta', '6087': '6087 Todo Ciclo 13 al 17 julio', '6131': '6131 Todo Ciclo + Prime  limpia', '6232': '6232 Arma tu picoteo- Fin de Semana de Fútbol', '6394': '6394 Snacks y salsas hasta', '7648': '7648 Todo Exclusivas 23 al 29 mayo 2023', '7945': '7945 Excl LAYS TA 350 GR 20% DESCTO', '9522': '9522_Cencomedia_Todo Pepsico 28 Dic', '9846': '9846 Ciclo +FDM 27 al 31 julio 2023', '9903': '9903_Cencomedia_PMAX Pepsico - 3 May', '9945': \"9945_Cencomedia_Mailing Pepsico Lay's - 14 May\", '9946': '9946_Cencomedia_Pepsico Bodegón Salado - 14 may', '9977': '9977_Cencomedia_PMAX Pepsico - 1 Jun', '10122': '10122_Cencomedia_PMAX Pepsico - 1 Jul', '10169': '10169 NP Jumbo days + ciclo mensual', '10184': '10184_Cencomedia_Super Precios - 26 Jul - 7 Ago', '10225': '10225_Cencomedia_3PM Pepsico - 31 Jul - 30 Ago', '10308': '10308 Todo Ciclo 4 + Cat fdm', '10350': '10350 Papas fritas Lays 350g y mayonesa Hell', '10354': '10354 ofertas Prime del 15 al 21 de agosto 2023', '10381': '10381 Todo exclusivas del 15 al 21 de agosto 2023', '10393': '10393 Todo Ciclo + Prime 17 agosto', '10394': '10394 Todas las ofertas del ciclo 4 y FDM', '10433': '10433 Excl Lays 350G $2299', '10490': '10490 Excl LAYS SELECCIONADAS HASTA 25% DESCTO', '10523': '10523_Cencomedia_FFPP Pepsico - 21 Ago  - 25 Sep', '10550': '10550 PAPAS FRITAS LAYS 350GR', '10551': '10551 Ofertas XL del 29-08-2023 al 25-09-2023', '10566': '10566 Todo Parrillero', '10576': '10576 FDM  Indispensables del 18', '10577': '10577 FDM Agosto sin alcohol', '10578': '10578 FDM Todos los llamados', '10579': '10579 FDM + Limpieza+ Parrillero', '10599': '10599 Snacks y salsas desde', '10611': '10611 Ver todas las ofertas Cencoblack', '10625': '10625 Vitrina Despensa', '10719': '10719 Todo ciclo + FDM 31 al 4 sept 2023', '10869': '10869 Papas fritas Lays corte ame', '10883': '10883 Todas las ofertas del ciclo 2 y FDM', '10951': '10951 PepsiCo - Oferta Everscrip productos selec', '11032': '11032 Lomo Liso al vacio', '11041': '11041 Arma tu picoteo hasta', '11050': '11050 Ofertas Exclusivas en Everscrip', '11118': '11118 Snacks y salsas hasta', '11132': '11132  CAT FDM Completo', '11208': '11208_Cencomedia_LDR Cyber Pepsico Coctel', '11277': '11277 SNACKS EVERCRISP Y LAYS HASTA', '11279': '11279 MILES DE PRODUCTOS CON HASTA', '11380': '11380 XL Todos los Productos', '11399': '11399 Ver todas las Ofertas XL Octubre', '11460': '11460 LAYS 350GR', '11481': '11481 Todas las papas fritas Lays', '11497': '11497 Todas las ofertas del ciclo 2 y FDM', '11517': '11517_Cencomedia_PMAX Pepsico Jumbo Octubre 23', '11518': '11518_Cencomedia_ADV Pepsico Jumbo Octubre 2023', '11564': '11564 pepsico marcaje', '11581': '11581  Todo Cyber Jumbo', '11655': '11655 Todas las ofertas del ciclo 3 y FDM', '11785': '11785 Pepsico - TODO PAPAS FRITAS LAYS', '11786': '11786 Spid TODO PAPAS FRITAS LAYS', '11963': '11963 Todas las ofertas del fdm', '11997': '11997 CAT FDM SNACKS,SALSAS,COND', '12003': '12003 Ver todo Ofertas XL Jumbo', '12053': '12053 Pack  Vitrina Front - Pepsico', '12085': '12085_Cencomedia_ ADV PEPSICO JUMBO NOVIEMBRE 23', '12149': '12149 Papas fritas Lays 380gr', '12186': '12186 Todas las ofertas Ciclo 2 + FDM', '12198': '12198_Cencomedia_Pepsico - 1 Oct - 31 Dic', '12247': '12247 lays', '12262': '12262 Pepsico derivacion de trafico lays artesanas', '12291': '12291  Ciclo Todas las ofertas + FDM', '12345': '12345 Productos seleccionados Evercrisp hasta 25%', '12352': '12352 Papas fritas Lays corte americano 350g', '12357': '12357  Prime Todos los productos 14 nov', '12384': '12384 Todo ciclo + FDM', '12385': '12385  Fondo surtido Clasificatorias Picoteo', '12413': \"12413 BlackFriday Lay's y Ramitas seleccionadas\", '12517': '12517  Black Friday Todas las ofertas', '12521': '12521 Todas las Ofertas XL Diciembre', '12543': '12543 OFERTA XL PAPAS FRITAS LAYS 350 GR', '12559': '12559 Todas las Ofertas XL Diciembre', '12614': '12614  Ciclo + FDM 19 AL 25 dic', '12618': '12618 BF-Lays y Ramitas Seleccionadas', '12638': '12638 Papas Fritas Selecc hasta 20% de descto', '12646': '12646 BOMBAZO -Todo Papas Fritas Lays 40% descto', '12699': '12699  Sabores Navidad Aperitivos', '12812': '12812-CICLO 2 - Todas las ofertas del ciclo y FDM', '12833': '12833 Papa Fritas seleccionadas hasta 30%  descto', '12915': '12915  Todo ciclo + FDM 13 al 18 sept', '12920': '12920 Papa Fritas seleccionadas hasta 30% descto', '12962': '12962  Todo Prime 26 dic al 01 Enero 2024', '12975': '12975_Cencomedia_ pepsico', '12977': '12977_Cencomedia_pmax jumbo diciembre', '12978': '12978_Cencomedia_ 3PM Lays Queso', '12979': '12979 - PAPAS FRITAS PEPSICO', '13040': '13040 - VITRINA DORITOS FLAMING HOT', '13063': '13063 Papas Lays seleccionadas hasta 25%', '13092': '13092 - MAILING PEPSICO', '13107': '13107 Ver todo Ofertas XL Jumbo', '13108': '13108 Fondo de surtido Arma tu tabla de picoteo', '13137': \"13137 - Papas fritas Lay's lisas\", '13154': '13154 Todas las ofertas del FDM Diciembre', '13218': '13218 Todas las ofertas de ciclo + FDM Enero 2024', '13250': '13250 PAPAS FRITAS LAYS 350GR 2X $4.190', '13307': '13307 FDM + Ciclo desde 11 al 15 enero 2024', '13347': '13347_Cencomedia_PMAX Pepsico Jumbo Enero 2024', '13394': '13394  Todo Ciclo + FDM 18 al 22 ene 2024', '13437': '13437 Todas las Ofertas Exclusivas 16/01 al 22/01', '13478': '13478 Todas las Ofertas Exclusivas 23/01 al 29/01', '13485': '13485 Todas las ofertas Prime', '13489': \"13489  Prime Papas fritas Lay's 350g\", '13514': '13514 - FDM + CICLO', '13574': '13574 - PAPAS FRITAS PEPSICO', '13669': '13669_Cencomedia_Pepsico Jumbo Febrero', '13671': '13671_Cencomedia_Pepsico Jumbo Febrero', '13707': '13707 Ciclo  LPM FEBRERO + CICLO 2', '13711': '13711-Ciclo -Todo Lays y Evercrisp 40%dcto', '13718': '13718-Ciclo -Todas las ofertas ciclo 2', '13821': '13821 Huincha Productos Seleccionados Cheezels', '13822': \"13822 Dsp gratis PEPSICO - ¡Lay's Stax\", '14045': '14045 Lay’s Portafolio', '15042': '15042 EC Vitrina - Semana del completo', '15086': '15086 EC Todos los llamados ciclo 1 + JO', '15087': '15087 EC Todos los llamados ciclo 1 + jo + prime', '15101': '15101_Cencomedia_JUMBO - PEPSICO - UEFA', '15153': '15153 EC Cencopay Mes Mayo 2024', '15190': '15190 EC Todos los llamados ciclo 2 + JO', '15192': '15192 EC Todos los llamados ciclo 2 + jo + prime', '15251': '2566_Cencomedia_ lays mayo', '15269': '15269 TODO LAYS Y EVERCRISP HASTA 30 % DESCTO', '15286': '15286 EC Ofertas exclusivas del 07 al 13 mayo 2024', '15323': '15323 EC Todos los llamados ciclo 3 + JO', '15326': '15326 EC Todos los llamados ciclo 3 + jo + prime', '15364': '15364 EC Todas las Ofertas Excl 13 al 20 de Mayo', '15426': '15426 EC Todos los llamados ciclo 4 + JO', '15427': '15427 EC Todos los llamados ciclo 4 + jo + prime', '15468': 'Todas las Ofertas Exclusivas 20/05 al 27/05', '15480': '15480 EC Ofertas Cencopay Junio', '15482': '15482 Todas las ofertas de jumbo ofertas junio', '15502': '15502_Cencomedia_Jumbo  -  Pepsico  3-5jun', '15508': '15508_Cencomedia_Mailing Pepsico Unilever 22may', '15511': '15511 EC Todas las ofertas ciclo 1 + fdm', '15555': '15555 EC Esp disfruta la copa con Lays', '15582': '15582  EC Cyber Todas las ofertas', '15588': '15588 AA Coup 202406B1 PAPAS FRITAS', '15661': '15661 EC Cyber TODO LAYS, KRYZPO, DORITOS', '15667': '15667 EC Cyber SNACKS SALADOS', '15684': '15684 EC Cyber TODO LAYS 30% DCTO', '15688': '15688_Cencomedia_Pepsico - Cyber - Junio 2024', '15768': '15768_Cencomedia_pepsico hasta 31 7 24', '15769': '15769_Cencomedia_Mailing UEFA-Copa America Pepsico', '15790': '15790 EC Ciclos todas las ofertas ciclo 2 + fdm', '15865': '15865_Cencomedia_Pepsico_Junio2024', '15887': '15887 EC CICLO 3 todas las ofertas ciclo 3 + fdm', '15981': '15981 EC FDS-¡Picoteo y pasión! Copa América', '15998': '15998 EC Ciclos todas las ofertas ciclo 4 + FDM'}, 'items': [{'itemId': '123738', 'name': 'Papas Fritas Lays Corte Americano 350 g', 'unitMultiplier': 1, 'measurementUnit': 'un', 'complementName': '<li>Corte Americano</li><li>Papa, Sal y Aceite</li><li>Contiene 350 g</li>', 'images': [{'imageUrl': 'https://jumbo.vtexassets.com/arquivos/ids/746431/Papas-fritas-corte-americano-350-g.jpg?v=638358240611600000', 'imageTag': '<img src=\"~/arquivos/ids/746431-#width#-#height#/Papas-fritas-corte-americano-350-g.jpg?v=638358240611600000\" width=\"#width#\" height=\"#height#\" alt=\"\" id=\"\" />'}, {'imageUrl': 'https://jumbo.vtexassets.com/arquivos/ids/746432/Papas-fritas-corte-americano-350-g.jpg?v=638358240614700000', 'imageTag': '<img src=\"~/arquivos/ids/746432-#width#-#height#/Papas-fritas-corte-americano-350-g.jpg?v=638358240614700000\" width=\"#width#\" height=\"#height#\" alt=\"\" id=\"\" />'}, {'imageUrl': 'https://jumbo.vtexassets.com/arquivos/ids/746433/Papas-fritas-corte-americano-350-g.jpg?v=638358240617200000', 'imageTag': '<img src=\"~/arquivos/ids/746433-#width#-#height#/Papas-fritas-corte-americano-350-g.jpg?v=638358240617200000\" width=\"#width#\" height=\"#height#\" alt=\"\" id=\"\" />'}], 'referenceId': [{'Key': 'RefId', 'Value': '1949959'}], 'ean': '7802000017629', 'sellers': [{'sellerId': '1', 'sellerName': 'Jumbo Chile', 'commertialOffer': {'Price': 2590, 'ListPrice': 3289, 'PriceWithoutDiscount': 3289, 'AvailableQuantity': 1997766}}]}], 'Trazas': ['Trigo (gluten), Leche, Soya'], 'Condiciones Alimentarias': ['Libre de Lactosa', 'Vegano', 'Vegetariano', 'Libre de Huevo', 'Libre de Peces', 'Libre de Mariscos', 'Libre de Maní', 'Libre de Nueces', 'Libre de Sulfitos'], 'Ingredientes': ['Papas,  Aceite de girasol (tbhq),  Sal'], 'Id Grupo': ['110201001'], 'Grupo Sap': ['PAPASFRITAS ORIGINAL'], 'Id Subrubro': ['110201'], 'Subrubro': ['Subrubro Papas fritas'], 'SkuData': ['{\"123738\":{\"ref_id\":\"1949959\",\"cart_limit\":\"12\",\"allow_notes\":true,\"allow_substitute\":true,\"measurement_unit\":\"un\",\"unit_multiplier\":1,\"promotions\":[],\"measurement_unit_un\":\"kg\",\"unit_multiplier_un\":0.35,\"measurement_unit_selector\":false,\"release_data\":{\"date_release\":\"06-12-2016 00:00\",\"date_release_end\":\"05-01-2017 00:00\",\"is_new\":false},\"promotionData\":{\"promotionName\":\"\",\"promotionShortDescription\":\"\",\"promotionDescription\":\"\",\"promotionFeature\":\"\"}}}'], 'Contenido Drenado': ['350 g'], 'Contenido Neto': ['350 g'], 'Tipo de Producto': ['Papas Fritas'], 'Pack-Unitario': ['Unitario'], 'Envase': ['Bolsa'], 'País de Origen': ['Chile'], 'Sabor': ['Clásico'], 'Tamaño': ['Individual'], 'Flag Nutricional': ['Alto en Calorías'], 'Porción': ['1 1/2 Taza de Té (25 g)'], 'Porciones por envase': ['14'], 'Energía (kCal)': ['550 / 137.5'], 'Proteínas (g)': ['6.48 / 1.6'], 'Grasas Totales (g)': ['33.6 / 8.4'], 'Grasas Saturadas (g)': ['3.65 / 0.9'], 'Grasas Monoinsaturadas (g)': ['10.2 / 2.6'], 'Grasas Poliinsaturadas (g)': ['19.7 / 4.9'], 'Grasas trans (g)': ['0.17 / 0'], 'Colesterol (mg)': ['0 / 0'], 'Hidratos de Carbono disponibles (g)': ['55.4 / 13.9'], 'Azúcares totales (g)': ['2.59 / 0.6'], 'Sodio (mg)': ['397 / 99.3'], 'No Perecible': ['Si'], 'Producto Nuevo': ['Producto Antiguo'], 'Ficha Técnica': ['Tipo de Producto', 'Envase', 'País de Origen', 'Sabor', 'Tamaño'], 'Información Nutricional (por 100 g / por porción)': ['Flag Nutricional', 'Porción', 'Porciones por envase', 'Energía (kCal)', 'Proteínas (g)', 'Grasas Totales (g)', 'Grasas Saturadas (g)', 'Grasas Monoinsaturadas (g)', 'Grasas Poliinsaturadas (g)', 'Grasas trans (g)', 'Colesterol (mg)', 'Hidratos de Carbono disponibles (g)', 'Azúcares totales (g)', 'Sodio (mg)']}\n"
     ]
    }
   ],
   "source": [
    "print(data_product)"
   ]
  },
  {
   "cell_type": "code",
   "execution_count": 49,
   "id": "d1da8e68-4ab2-41f0-992a-4ffed7dae75b",
   "metadata": {},
   "outputs": [],
   "source": [
    "# Parseo de la informacion nescesaria\n",
    "brand = data.get(\"brand\", '') if data.get(\"brand\", '') != None else ''\n",
    "title = data.get(\"productName\", \"\") if data.get(\"productName\", \"\") != None else ''\n",
    "description = data.get(\"description\", '') if data.get(\"description\", '') != None else ''\n",
    "items = data.get(\"items\", \"\")[0]\n",
    "sellers = items.get(\"sellers\", \"\")[0]\n",
    "q_images = len(items.get(\"images\", \"\")) - 1 if items.get(\"images\", \"\") != None else 0\n",
    "try:\n",
    "\n",
    "    final_price = sellers.get(\"commertialOffer\", \"\").get(\"Price\", 0) if items.get(\"Price\", 0) != None else 0\n",
    "    old_price = sellers.get(\"commertialOffer\", \"\").get(\"ListPrice\", 0) if items.get(\"ListPrice\", 0) != None else 0\n",
    "except:\n",
    "    final_price = 0\n",
    "    old_price = 0\n",
    "\n"
   ]
  },
  {
   "cell_type": "code",
   "execution_count": 50,
   "id": "771eca30-a6e7-4155-87d9-aa0c8ef8f337",
   "metadata": {},
   "outputs": [
    {
     "name": "stdout",
     "output_type": "stream",
     "text": [
      "2590\n"
     ]
    }
   ],
   "source": [
    "print(final_price)"
   ]
  },
  {
   "cell_type": "code",
   "execution_count": 51,
   "id": "e374e74b-4d87-4219-b576-8c6d7b809e06",
   "metadata": {},
   "outputs": [
    {
     "name": "stdout",
     "output_type": "stream",
     "text": [
      "----Title: Papas Fritas Lays Corte Americano 350 g\n",
      "----FinalPrice: 2590\n",
      "----OldPrice: 3289\n",
      "----Description: Todo comienza con papas cultivadas en la granja, cocinadas y sazonadas a la perfección. Por lo tanto, todas las papas fritas Lay's son perfectamente crujientes y llenas de sabor a papa fresca. La felicidad en cada bocado. Producto certificado Kosher.\n",
      "----QImages: 2\n"
     ]
    }
   ],
   "source": [
    "# Datos Obtenidos\n",
    "print(f\"----Title: {title}\")\n",
    "print(f\"----FinalPrice: {final_price}\")\n",
    "print(f\"----OldPrice: {old_price}\")\n",
    "print(f\"----Description: {description}\")\n",
    "print(f\"----QImages: {q_images}\")"
   ]
  },
  {
   "cell_type": "code",
   "execution_count": null,
   "id": "e8bdeb32-6364-4fc5-a2f6-0c5aace82751",
   "metadata": {},
   "outputs": [],
   "source": []
  }
 ],
 "metadata": {
  "kernelspec": {
   "display_name": "Python 3 (ipykernel)",
   "language": "python",
   "name": "python3"
  },
  "language_info": {
   "codemirror_mode": {
    "name": "ipython",
    "version": 3
   },
   "file_extension": ".py",
   "mimetype": "text/x-python",
   "name": "python",
   "nbconvert_exporter": "python",
   "pygments_lexer": "ipython3",
   "version": "3.11.3"
  }
 },
 "nbformat": 4,
 "nbformat_minor": 5
}
