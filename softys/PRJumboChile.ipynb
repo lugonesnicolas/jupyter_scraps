{
 "cells": [
  {
   "cell_type": "code",
   "execution_count": 2,
   "id": "64c9ead8-1338-4bbf-b92f-9b42f5edbd11",
   "metadata": {},
   "outputs": [],
   "source": [
    "# Importacion de librerias a usar\n",
    "import re\n",
    "import requests\n",
    "from bs4 import BeautifulSoup"
   ]
  },
  {
   "cell_type": "code",
   "execution_count": 13,
   "id": "ce2e4dcb-9db2-4a37-a543-e8cd6001cfb9",
   "metadata": {},
   "outputs": [],
   "source": [
    "# Headers\n",
    "url = \"https://sm-web-api.ecomm.cencosud.com/catalog/api/v1/product/shampoo-dove-nutritive-solutions-oleo-nutricion-400-ml?sc=11\"\n",
    "url = \"https://sm-web-api.ecomm.cencosud.com/catalog/api/v1/product/galleta-oreo-regular-108-gr-1932773?sc=11\"\n",
    "\n",
    "payload = {}\n",
    "headers = {\n",
    "  'User-Agent': 'Mozilla/5.0 (Windows NT 10.0; Win64; x64; rv:128.0) Gecko/20100101 Firefox/128.0',\n",
    "  'Accept': 'application/json, text/plain, */*',\n",
    "  'Accept-Language': 'es-AR,es;q=0.8,en-US;q=0.5,en;q=0.3',\n",
    "  'Accept-Encoding': 'gzip, deflate, br, zstd',\n",
    "  'Referer': 'https://www.jumbo.cl/',\n",
    "  'x-e-commerce': 'jumbo',\n",
    "  'x-consumer': 'jumbo',\n",
    "  'apiKey': 'WlVnnB7c1BblmgUPOfg',\n",
    "  'Origin': 'https://www.jumbo.cl',\n",
    "  'DNT': '1',\n",
    "  'Sec-GPC': '1',\n",
    "  'Sec-Fetch-Dest': 'empty',\n",
    "  'Sec-Fetch-Mode': 'cors',\n",
    "  'Sec-Fetch-Site': 'cross-site',\n",
    "  'Connection': 'keep-alive'\n",
    "}"
   ]
  },
  {
   "cell_type": "code",
   "execution_count": 14,
   "id": "1b6e5ef9-43d1-449c-a6a7-b048316ebd9d",
   "metadata": {},
   "outputs": [],
   "source": [
    "# Conexión  via https a la pagina\n",
    "response = requests.request(\"GET\", url, headers=headers, data=payload)\n",
    "data = response.json()\n",
    "data_product = data[0]"
   ]
  },
  {
   "cell_type": "code",
   "execution_count": 15,
   "id": "22d99daf-7826-47af-9c39-32e2d3fc6baa",
   "metadata": {},
   "outputs": [
    {
     "name": "stdout",
     "output_type": "stream",
     "text": [
      "{'productId': '115631', 'productName': 'Galletas Oreo Rollo Sabor Original 108 g', 'productReference': '1932773', 'brand': 'Oreo', 'categoriesIds': ['/47/63/73/'], 'productClusters': {'369': '369 todas las ofertas de catalogo FDM mayo', '1022': 'Google Shopping', '1059': 'All Products', '1241': 'SCRAPERDesayuno', '3682': '3682_Cencomedia_Todo Mondelez 28 Dic', '3749': '3749_Cencomedia_Mondelez Galletas 28 Feb 2023', '3996': '3996 Shortcut Galletas y Colaciones', '5553': '5553_Cencomedia_Oreo fudge y 3PM 1 Dic', '5627': '5627 Catalogo FDM Mary', '6598': '6598 Todo Xl 25 julio al 28 Agosto 2023', '6685': '6685 SPID - Todo Oreo y Milka', '7048': '7048 Galletas y alfajores', '7639': '7639 Chocolates y galletas hasta', '7646': '7646 Todo Exclusivas 06 al 12 junio 2023', '7897': '7897 Shortcut Desayuno arbol Spid 35', '8306': '8306 OFERTAS XL Oreo rollo 4X3', '9657': '9657_Cencomedia_Mondelez Dilo Con Oreo - 22 Feb', '9689': '9689_Cencomedia Cumpleaños Oreo 12 Mar 2023', '9790': '9790_Cencomedia_3PM Oreo - 30 Mar', '9816': '9816_Cencomedia_Mondelez Plan Mensual 1 - 1 Abr', '9846': '9846 Ciclo +FDM 27 al 31 julio 2023', '9961': '9961_Cencomedia_Cyber LDR Mondelez - 24 May', '10043': '10043  No Ocupar no se limpia', '10250': '10250 Galletas Oreo variedades 108g', '10261': '10261 Prime Despensa desde', '10288': '10288 Sx48 hrs - Galletas y chocolates selecc', '10307': '10307 Todo ciclo + Prime 10 al 15 agosto', '10308': '10308 Todo Ciclo 4 + Cat fdm', '10310': '10310_Cencomedia_Agosto Mondelez - 6 - 12 Ago', '10311': '10311_Cencomedia_Agosto Mondelez - 6 - 12 Ago', '10315': '10315 Fondo surtido Dia del Niño', '10394': '10394 Todas las ofertas del ciclo 4 y FDM', '10505': '10505 Despensa hasta', '10511': '10511 Todas las ofertas Cenco Black', '10611': '10611 Ver todas las ofertas Cencoblack', '10625': '10625 Vitrina Despensa', '10710': '10710 MiCupon_Galletas dulces', '11085': '11085  J Days Despensa', '11087': '11087 JD - galleta oreo', '11124': '11124 Chocolates, galletas y dulces hasta', '11132': '11132  CAT FDM Completo', '11168': '11168 SPID CAT FDM Galleta Oreo 108G 4x3', '11184': '11184 SPID CAT FDM TODAS LAS OFERTAS', '11204': '11204_Cencomedia_Cyber OnO Mondelez Silver B', '11245': '11245  Cyber Despensa', '11276': '11276 Helados y Galletas', '11278': '11278 GALLETAS Y CHOCOLATES HASTA', '11279': '11279 MILES DE PRODUCTOS CON HASTA', '11380': '11380 XL Todos los Productos', '11399': '11399 Ver todas las Ofertas XL Octubre', '11461': '11461 Todas las Oreo 108 gr var', '11497': '11497 Todas las ofertas del ciclo 2 y FDM', '11581': '11581  Todo Cyber Jumbo', '11595': '11595 CHOCOLATES Y GALLETAS SAHNE NUSS', '11655': '11655 Todas las ofertas del ciclo 3 y FDM', '11669': '11669_Cencomedia_Chile agencia Publicis Mondelez', '11677': '11677  Todo cyber alargue', '11846': '11846  Spid Arma tu desayuno 21 oct', '11880': '11880 Galleta Oreo 108G variedades', '11911': '11911_Cencomedia_Banner lateral dinamico compensac', '11959': '11959 Spid Antojos dulces', '11963': '11963 Todas las ofertas del fdm', '11982': '11982 Excl Todas las Oreo Rollo HASTA 25% DESCTO', '12001': '12001 CAT FDM CHOC,GALL,DULC', '12003': '12003 Ver todo Ofertas XL Jumbo', '12038': '12038 SPID ciclo mensual Todas las ofertas', '12061': '12061 galletas McKay y Oreo', '12186': '12186 Todas las ofertas Ciclo 2 + FDM', '12291': '12291  Ciclo Todas las ofertas + FDM', '12319': '12319 Vitrina Chocolates Milka y galletas Oreo', '12384': '12384 Todo ciclo + FDM', '12385': '12385  Fondo surtido Clasificatorias Picoteo', '12506': '12506  Black Friday Despensa', '12517': '12517  Black Friday Todas las ofertas', '12559': '12559 Todas las Ofertas XL Diciembre', '12562': '12562_Cencomedia_Banners Navidad Mondelez 2023', '12614': '12614  Ciclo + FDM 19 AL 25 dic', '12667': '12667_Cencomedia_Chile agencia Publicis Oreo', '12707': '12707 Spid Ver todas las ofertas', '12727': '12727 CAT. MENSUAL-Galleta Oreo 2x $1.000', '12812': '12812-CICLO 2 - Todas las ofertas del ciclo y FDM', '12915': '12915  Todo ciclo + FDM 13 al 18 sept', '12933': '12933 GALLETA OREO 108GR SELECCIONADAS 5X4', '13107': '13107 Ver todo Ofertas XL Jumbo', '13116': '13116_Cencomedia_milka', '13154': '13154 Todas las ofertas del FDM Diciembre', '13218': '13218 Todas las ofertas de ciclo + FDM Enero 2024', '13249': '13249 7x5 Galletas Oreo 108gr variedades', '13307': '13307 FDM + Ciclo desde 11 al 15 enero 2024', '13387': '13387  Ciclo Galleta Oreo 108gr 3x2', '13393': '13393  Todo Ciclo 18 al 22 enero', '13437': '13437 Todas las Ofertas Exclusivas 16/01 al 22/01', '13478': '13478 Todas las Ofertas Exclusivas 23/01 al 29/01', '13514': '13514 - FDM + CICLO', '13589': '13589 FDM FEBRERO CICLO 1 desde 01 al 05 febr 2024', '13595': '13595 XL Todas las ofertas', '13596': '13596 - LPM Febrero', '13613': '13613 - XL galletas oreo', '13645': '13645 Todas las Ofertas Exclusivas 30/01 al 05/02', '13681': '13681 AA Coup 202402 galletas dulce', '13694': '13694 - MONDELEZ SAN VALENTIN', '13707': '13707 Ciclo  LPM FEBRERO + CICLO 2', '13746': '13746 Todas las Ofertas Exclusivas 06/02 al 12/02', '13774': '13774_Cencomedia_Campana Mondelez Febrero 2024', '13805': '13805 Prime Todas las ofertas', '13810': '13810 Prime Galleta Oreo', '13842': '13842 LPM FEBRERO + CICLO 3', '13861': '13861 VN Ver todas las ofertas', '13873': '13873 VN Galletas y dulces', '13885': '13885 Todas las Ofertas Exclusivas 13/02 al 19/02', '13980': '13980 LPM FEBRERO + CICLO 4', '14001': '14001 Todas las Ofertas Exclusivas 20/02 al 26/02', '14003': '14003_Cencomedia_Campana Mondelez 16-29Feb', '14053': '14053 OFERTAS XL GALLETAS OREO', '14059': '14059  XL TODAS LAS OFERTAS 27 AL 25 MARZO', '14094': '14094  LPM Marzo + Ciclo 1 del 29 al 4 marzo', '14170': '14170  LPM MARZO 27 FEB AL 25 MARZO', '14179': '14179 Todas las Ofertas Exclusivas desde 27/02', '14251': '14251 LPM Marzo + Ciclo 2', '14300': '14300 Todas las Ofertas Exclusivas desde 05/03 al', '14346': '14346 Vitrina Mondelez - Oreo BTS Hasta 3', '14353': '14353 Todo Jumbo Days', '14382': '14382 Todas las Ofertas Exclusivas desde 12/03', '14508': '14508 LPM Marzo + Ciclo 4', '14537': '14537 LPM Abril + Ciclo 1', '14541': '14541 Todas las Ofertas Exclusivas desde 19/03 al', '14646': '14646 AA 202404B2 GALLETAS DULCES', '14719': '14719  EC Todo Ciclo + LPM abril', '14778': '14778 ECTodas las Ofertas Ciclo 3 + LPM Abril', '14922': '14922 EC Cencoblack Todo los sku', '14948': '14948 EC Vitrina Mondelez - Milka y Oreo', '15062': 'CM - Jumbo-Mondelez-Banner Cross Milka-Abril', '15086': '15086 EC Todos los llamados ciclo 1 + JO', '15087': '15087 EC Todos los llamados ciclo 1 + jo + prime', '15190': '15190 EC Todos los llamados ciclo 2 + JO', '15192': '15192 EC Todos los llamados ciclo 2 + jo + prime', '15198': '15198  EC Vitrina Mondelez Toblerone y Milka', '15323': '15323 EC Todos los llamados ciclo 3 + JO', '15326': '15326 EC Todos los llamados ciclo 3 + jo + prime', '15339': '15339  EC Bombazo Galletas Selec hasta 30% dcto', '15426': '15426 EC Todos los llamados ciclo 4 + JO', '15427': '15427 EC Todos los llamados ciclo 4 + jo + prime', '15450': '15450_Cencomedia_Agencia Mondelez 20-31may', '15482': '15482 Todas las ofertas de jumbo ofertas junio', '15511': '15511 EC Todas las ofertas ciclo 1 + fdm', '15640': '15640 EC Alargue Cyber DESPENSA HASTA', '15656': '15656 EC TODO ALARGUE', '15663': '15663 EC Cyber CHOCOLATE NESTLE SAHNE NUSS  250GM', '15668': '15668 EC Cyber GALLETAS, CHOCOLATES Y DULCES', '15709': '15709 EC Alargue GALLETAS OREO', '15770': '15770 EC  Vitrina Mondelez - Milka, Oreo', '15771': '15771 EC  Bombazo Galletas y Chocolates', '15790': '15790 EC Ciclos todas las ofertas ciclo 2 + fdm', '15874': '15874_Cencomedia_Jumbo  -  Mondelez  -  Milka', '15875': '15875 EC Proveedor Mondelez', '15887': '15887 EC CICLO 3 todas las ofertas ciclo 3 + fdm', '15922': '15922_Cencomedia_NUEVA CAMPAÑA', '15981': '15981 EC FDS-¡Picoteo y pasión! Copa América', '15998': '15998 EC Ciclos todas las ofertas ciclo 4 + FDM', '16062': '16062 EC Todas las ofertas Ciclo 1 + LPM Julio', '16063': '16063 LPM JULIO - Todas las ofertas', '16161': '16161 EC Ciclos Todas Ciclo 2 + LPM Julio', '16277': '16277 EC Ciclos Todas las ofertas ciclo 3+ LPM', '16305': '16305 VitrinaWATTS MDZ - Oreo y Not Mik', '16445': '16445_Cencomedia_Oreo 24', '16449': '16449 EC Todas las ofertas exclusivas 23/07al29/07', '16458': '16458 EC Galletas Oreo Seleccionadas 4x3', '16470': '16470 EC Ciclos Todas las ofertas  + LPM Julio', '16473': '16473 EC SuperW Mondelez - Oreo', '16474': '16474 EC SuperW Mondelez - Club social', '16476': '16476 EC SuperW Mondelez - phily + club', '16477': '16477 EC SuperW Mondelez - Trident', '16519': '16519 SuperW Mondelez - Todo Superweek (app)', '16559': 'Oreo ChocoFudge Julio-Agosto', '16781': '16781 EC MILKA - oreo', '16782': '16782 EC MILKA - club social', '16783': '16783 EC MILKA - trident botellas', '16786': '16786 EC MILKA - home-app', '17128': '17128_Cencomedia_Jumbo-Mondelez-Banner Philly 18-9', '17138': '17138_EC_Vitrina Mondelez - Club Social y Milka', '17201': '17201_EC_Vitrina Mondelez - Milka y club social', '17238': 'CM - Mondelez  -  Oreo  -  Septiembre', '17403': '17403_Cencomedia_Mondelez  -  Milka  -  29-9-24', '17636': '17636_Cencomedia_Cyber - Oct - 2024', '17734': '17734  EC LPM OCTUBRE 01 AL 28', '17752': '17752 EC Cyber Shorcuts Despensa', '17756': '17756  EC ciclo + LPM octubre', '17794': '17794 EC Chocol y Galletas Slc hasta 20% dcto', '17821': '17821 EC oreo y milka', '17822': '17822 EC oreo milka 2', '17846': '17846  EC Todo Cyber', '17900': 'Oreo CocaCola Octubre', '17956': '17956_Cencomedia_Mondelez Oreo Octubre 2024', '17983': '17983 EC mondelez banner', '17984': '17984 EC mondelez carrusel', '17985': '17985 EC mondelez calugas', '17987': '17987 EC mondelez club social', '17989': '17989 EC mondelez trident', '17991': '17991 EC mondelez app'}, 'linkText': 'galleta-oreo-regular-108-gr-1932773', 'metaTagDescription': None, 'categories': ['/Chocolates, Galletas y Dulces/Galletas/Galletas Dulces/'], 'description': 'Doble Galleta Oreo Original de chocolate rellena con Crema Sabor a Vainilla en formato de 108g,', 'Evento': ['Cyber'], 'clusterHighlights': {'369': '369 todas las ofertas de catalogo FDM mayo', '1022': 'Google Shopping', '1059': 'All Products', '1241': 'SCRAPERDesayuno', '3682': '3682_Cencomedia_Todo Mondelez 28 Dic', '3749': '3749_Cencomedia_Mondelez Galletas 28 Feb 2023', '3996': '3996 Shortcut Galletas y Colaciones', '5553': '5553_Cencomedia_Oreo fudge y 3PM 1 Dic', '5627': '5627 Catalogo FDM Mary', '6598': '6598 Todo Xl 25 julio al 28 Agosto 2023', '6685': '6685 SPID - Todo Oreo y Milka', '7048': '7048 Galletas y alfajores', '7639': '7639 Chocolates y galletas hasta', '7646': '7646 Todo Exclusivas 06 al 12 junio 2023', '7897': '7897 Shortcut Desayuno arbol Spid 35', '8306': '8306 OFERTAS XL Oreo rollo 4X3', '9657': '9657_Cencomedia_Mondelez Dilo Con Oreo - 22 Feb', '9689': '9689_Cencomedia Cumpleaños Oreo 12 Mar 2023', '9790': '9790_Cencomedia_3PM Oreo - 30 Mar', '9816': '9816_Cencomedia_Mondelez Plan Mensual 1 - 1 Abr', '9846': '9846 Ciclo +FDM 27 al 31 julio 2023', '9961': '9961_Cencomedia_Cyber LDR Mondelez - 24 May', '10043': '10043  No Ocupar no se limpia', '10250': '10250 Galletas Oreo variedades 108g', '10261': '10261 Prime Despensa desde', '10288': '10288 Sx48 hrs - Galletas y chocolates selecc', '10307': '10307 Todo ciclo + Prime 10 al 15 agosto', '10308': '10308 Todo Ciclo 4 + Cat fdm', '10310': '10310_Cencomedia_Agosto Mondelez - 6 - 12 Ago', '10311': '10311_Cencomedia_Agosto Mondelez - 6 - 12 Ago', '10315': '10315 Fondo surtido Dia del Niño', '10394': '10394 Todas las ofertas del ciclo 4 y FDM', '10505': '10505 Despensa hasta', '10511': '10511 Todas las ofertas Cenco Black', '10611': '10611 Ver todas las ofertas Cencoblack', '10625': '10625 Vitrina Despensa', '10710': '10710 MiCupon_Galletas dulces', '11085': '11085  J Days Despensa', '11087': '11087 JD - galleta oreo', '11124': '11124 Chocolates, galletas y dulces hasta', '11132': '11132  CAT FDM Completo', '11168': '11168 SPID CAT FDM Galleta Oreo 108G 4x3', '11184': '11184 SPID CAT FDM TODAS LAS OFERTAS', '11204': '11204_Cencomedia_Cyber OnO Mondelez Silver B', '11245': '11245  Cyber Despensa', '11276': '11276 Helados y Galletas', '11278': '11278 GALLETAS Y CHOCOLATES HASTA', '11279': '11279 MILES DE PRODUCTOS CON HASTA', '11380': '11380 XL Todos los Productos', '11399': '11399 Ver todas las Ofertas XL Octubre', '11461': '11461 Todas las Oreo 108 gr var', '11497': '11497 Todas las ofertas del ciclo 2 y FDM', '11581': '11581  Todo Cyber Jumbo', '11595': '11595 CHOCOLATES Y GALLETAS SAHNE NUSS', '11655': '11655 Todas las ofertas del ciclo 3 y FDM', '11669': '11669_Cencomedia_Chile agencia Publicis Mondelez', '11677': '11677  Todo cyber alargue', '11846': '11846  Spid Arma tu desayuno 21 oct', '11880': '11880 Galleta Oreo 108G variedades', '11911': '11911_Cencomedia_Banner lateral dinamico compensac', '11959': '11959 Spid Antojos dulces', '11963': '11963 Todas las ofertas del fdm', '11982': '11982 Excl Todas las Oreo Rollo HASTA 25% DESCTO', '12001': '12001 CAT FDM CHOC,GALL,DULC', '12003': '12003 Ver todo Ofertas XL Jumbo', '12038': '12038 SPID ciclo mensual Todas las ofertas', '12061': '12061 galletas McKay y Oreo', '12186': '12186 Todas las ofertas Ciclo 2 + FDM', '12291': '12291  Ciclo Todas las ofertas + FDM', '12319': '12319 Vitrina Chocolates Milka y galletas Oreo', '12384': '12384 Todo ciclo + FDM', '12385': '12385  Fondo surtido Clasificatorias Picoteo', '12506': '12506  Black Friday Despensa', '12517': '12517  Black Friday Todas las ofertas', '12559': '12559 Todas las Ofertas XL Diciembre', '12562': '12562_Cencomedia_Banners Navidad Mondelez 2023', '12614': '12614  Ciclo + FDM 19 AL 25 dic', '12667': '12667_Cencomedia_Chile agencia Publicis Oreo', '12707': '12707 Spid Ver todas las ofertas', '12727': '12727 CAT. MENSUAL-Galleta Oreo 2x $1.000', '12812': '12812-CICLO 2 - Todas las ofertas del ciclo y FDM', '12915': '12915  Todo ciclo + FDM 13 al 18 sept', '12933': '12933 GALLETA OREO 108GR SELECCIONADAS 5X4', '13107': '13107 Ver todo Ofertas XL Jumbo', '13116': '13116_Cencomedia_milka', '13154': '13154 Todas las ofertas del FDM Diciembre', '13218': '13218 Todas las ofertas de ciclo + FDM Enero 2024', '13249': '13249 7x5 Galletas Oreo 108gr variedades', '13307': '13307 FDM + Ciclo desde 11 al 15 enero 2024', '13387': '13387  Ciclo Galleta Oreo 108gr 3x2', '13393': '13393  Todo Ciclo 18 al 22 enero', '13437': '13437 Todas las Ofertas Exclusivas 16/01 al 22/01', '13478': '13478 Todas las Ofertas Exclusivas 23/01 al 29/01', '13514': '13514 - FDM + CICLO', '13589': '13589 FDM FEBRERO CICLO 1 desde 01 al 05 febr 2024', '13595': '13595 XL Todas las ofertas', '13596': '13596 - LPM Febrero', '13613': '13613 - XL galletas oreo', '13645': '13645 Todas las Ofertas Exclusivas 30/01 al 05/02', '13681': '13681 AA Coup 202402 galletas dulce', '13694': '13694 - MONDELEZ SAN VALENTIN', '13707': '13707 Ciclo  LPM FEBRERO + CICLO 2', '13746': '13746 Todas las Ofertas Exclusivas 06/02 al 12/02', '13774': '13774_Cencomedia_Campana Mondelez Febrero 2024', '13805': '13805 Prime Todas las ofertas', '13810': '13810 Prime Galleta Oreo', '13842': '13842 LPM FEBRERO + CICLO 3', '13861': '13861 VN Ver todas las ofertas', '13873': '13873 VN Galletas y dulces', '13885': '13885 Todas las Ofertas Exclusivas 13/02 al 19/02', '13980': '13980 LPM FEBRERO + CICLO 4', '14001': '14001 Todas las Ofertas Exclusivas 20/02 al 26/02', '14003': '14003_Cencomedia_Campana Mondelez 16-29Feb', '14053': '14053 OFERTAS XL GALLETAS OREO', '14059': '14059  XL TODAS LAS OFERTAS 27 AL 25 MARZO', '14094': '14094  LPM Marzo + Ciclo 1 del 29 al 4 marzo', '14170': '14170  LPM MARZO 27 FEB AL 25 MARZO', '14179': '14179 Todas las Ofertas Exclusivas desde 27/02', '14251': '14251 LPM Marzo + Ciclo 2', '14300': '14300 Todas las Ofertas Exclusivas desde 05/03 al', '14346': '14346 Vitrina Mondelez - Oreo BTS Hasta 3', '14353': '14353 Todo Jumbo Days', '14382': '14382 Todas las Ofertas Exclusivas desde 12/03', '14508': '14508 LPM Marzo + Ciclo 4', '14537': '14537 LPM Abril + Ciclo 1', '14541': '14541 Todas las Ofertas Exclusivas desde 19/03 al', '14646': '14646 AA 202404B2 GALLETAS DULCES', '14719': '14719  EC Todo Ciclo + LPM abril', '14778': '14778 ECTodas las Ofertas Ciclo 3 + LPM Abril', '14922': '14922 EC Cencoblack Todo los sku', '14948': '14948 EC Vitrina Mondelez - Milka y Oreo', '15062': 'CM - Jumbo-Mondelez-Banner Cross Milka-Abril', '15086': '15086 EC Todos los llamados ciclo 1 + JO', '15087': '15087 EC Todos los llamados ciclo 1 + jo + prime', '15190': '15190 EC Todos los llamados ciclo 2 + JO', '15192': '15192 EC Todos los llamados ciclo 2 + jo + prime', '15198': '15198  EC Vitrina Mondelez Toblerone y Milka', '15323': '15323 EC Todos los llamados ciclo 3 + JO', '15326': '15326 EC Todos los llamados ciclo 3 + jo + prime', '15339': '15339  EC Bombazo Galletas Selec hasta 30% dcto', '15426': '15426 EC Todos los llamados ciclo 4 + JO', '15427': '15427 EC Todos los llamados ciclo 4 + jo + prime', '15450': '15450_Cencomedia_Agencia Mondelez 20-31may', '15482': '15482 Todas las ofertas de jumbo ofertas junio', '15511': '15511 EC Todas las ofertas ciclo 1 + fdm', '15640': '15640 EC Alargue Cyber DESPENSA HASTA', '15656': '15656 EC TODO ALARGUE', '15663': '15663 EC Cyber CHOCOLATE NESTLE SAHNE NUSS  250GM', '15668': '15668 EC Cyber GALLETAS, CHOCOLATES Y DULCES', '15709': '15709 EC Alargue GALLETAS OREO', '15770': '15770 EC  Vitrina Mondelez - Milka, Oreo', '15771': '15771 EC  Bombazo Galletas y Chocolates', '15790': '15790 EC Ciclos todas las ofertas ciclo 2 + fdm', '15874': '15874_Cencomedia_Jumbo  -  Mondelez  -  Milka', '15875': '15875 EC Proveedor Mondelez', '15887': '15887 EC CICLO 3 todas las ofertas ciclo 3 + fdm', '15922': '15922_Cencomedia_NUEVA CAMPAÑA', '15981': '15981 EC FDS-¡Picoteo y pasión! Copa América', '15998': '15998 EC Ciclos todas las ofertas ciclo 4 + FDM', '16062': '16062 EC Todas las ofertas Ciclo 1 + LPM Julio', '16063': '16063 LPM JULIO - Todas las ofertas', '16161': '16161 EC Ciclos Todas Ciclo 2 + LPM Julio', '16277': '16277 EC Ciclos Todas las ofertas ciclo 3+ LPM', '16305': '16305 VitrinaWATTS MDZ - Oreo y Not Mik', '16445': '16445_Cencomedia_Oreo 24', '16449': '16449 EC Todas las ofertas exclusivas 23/07al29/07', '16458': '16458 EC Galletas Oreo Seleccionadas 4x3', '16470': '16470 EC Ciclos Todas las ofertas  + LPM Julio', '16473': '16473 EC SuperW Mondelez - Oreo', '16474': '16474 EC SuperW Mondelez - Club social', '16476': '16476 EC SuperW Mondelez - phily + club', '16477': '16477 EC SuperW Mondelez - Trident', '16519': '16519 SuperW Mondelez - Todo Superweek (app)', '16559': 'Oreo ChocoFudge Julio-Agosto', '16781': '16781 EC MILKA - oreo', '16782': '16782 EC MILKA - club social', '16783': '16783 EC MILKA - trident botellas', '16786': '16786 EC MILKA - home-app', '17128': '17128_Cencomedia_Jumbo-Mondelez-Banner Philly 18-9', '17138': '17138_EC_Vitrina Mondelez - Club Social y Milka', '17201': '17201_EC_Vitrina Mondelez - Milka y club social', '17238': 'CM - Mondelez  -  Oreo  -  Septiembre', '17403': '17403_Cencomedia_Mondelez  -  Milka  -  29-9-24', '17636': '17636_Cencomedia_Cyber - Oct - 2024', '17734': '17734  EC LPM OCTUBRE 01 AL 28', '17752': '17752 EC Cyber Shorcuts Despensa', '17756': '17756  EC ciclo + LPM octubre', '17794': '17794 EC Chocol y Galletas Slc hasta 20% dcto', '17821': '17821 EC oreo y milka', '17822': '17822 EC oreo milka 2', '17846': '17846  EC Todo Cyber', '17900': 'Oreo CocaCola Octubre', '17956': '17956_Cencomedia_Mondelez Oreo Octubre 2024', '17983': '17983 EC mondelez banner', '17984': '17984 EC mondelez carrusel', '17985': '17985 EC mondelez calugas', '17987': '17987 EC mondelez club social', '17989': '17989 EC mondelez trident', '17991': '17991 EC mondelez app'}, 'items': [{'itemId': '115901', 'name': 'Galletas Oreo Rollo Sabor Original 108 g', 'unitMultiplier': 1, 'measurementUnit': 'un', 'complementName': '<li>Galletas de chocolate rellenas con crema Oreo sabor vainilla</li> <li>Ideales para compartir en familia y disfrutar en fiestas o colaciones</li> <li>Sabor original</li>', 'images': [{'imageUrl': 'https://jumbo.vtexassets.com/arquivos/ids/901367/Galletas-Oreo-Rollo-Sabor-Original-108g.jpg?v=638555548225500000', 'imageTag': '<img src=\"~/arquivos/ids/901367-#width#-#height#/Galletas-Oreo-Rollo-Sabor-Original-108g.jpg?v=638555548225500000\" width=\"#width#\" height=\"#height#\" alt=\"\" id=\"\" />'}, {'imageUrl': 'https://jumbo.vtexassets.com/arquivos/ids/901369/Galletas-Oreo-Rollo-Sabor-Original-108g.jpg?v=638555548228570000', 'imageTag': '<img src=\"~/arquivos/ids/901369-#width#-#height#/Galletas-Oreo-Rollo-Sabor-Original-108g.jpg?v=638555548228570000\" width=\"#width#\" height=\"#height#\" alt=\"\" id=\"\" />'}, {'imageUrl': 'https://jumbo.vtexassets.com/arquivos/ids/901371/Galletas-Oreo-Rollo-Sabor-Original-108g.jpg?v=638555548231530000', 'imageTag': '<img src=\"~/arquivos/ids/901371-#width#-#height#/Galletas-Oreo-Rollo-Sabor-Original-108g.jpg?v=638555548231530000\" width=\"#width#\" height=\"#height#\" alt=\"\" id=\"\" />'}, {'imageUrl': 'https://jumbo.vtexassets.com/arquivos/ids/901374/Galletas-Oreo-Rollo-Sabor-Original-108g.jpg?v=638555548238830000', 'imageTag': '<img src=\"~/arquivos/ids/901374-#width#-#height#/Galletas-Oreo-Rollo-Sabor-Original-108g.jpg?v=638555548238830000\" width=\"#width#\" height=\"#height#\" alt=\"\" id=\"\" />'}], 'referenceId': [{'Key': 'RefId', 'Value': '1932773'}], 'ean': '7622201693091', 'sellers': [{'sellerId': '1', 'sellerName': 'Jumbo Chile', 'commertialOffer': {'Price': 859, 'ListPrice': 859, 'PriceWithoutDiscount': 859, 'AvailableQuantity': 99999}}]}], 'Trazas': ['Leche'], 'Condiciones Alimentarias': ['Libre de Lactosa', 'Libre de Soya', 'Libre de Huevo', 'Libre de Peces', 'Libre de Mariscos', 'Libre de Maní', 'Libre de Nueces', 'Libre de Sulfitos'], 'Ingredientes': ['Harina de trigo,  Hierro,  Niacina,  Zinc,  Tiamina,  Riboflavina,  ácido fólico,  Azúcar,  Aceite vegetal de palma,  Cacao en polvo,  Jarabe de azúcar invertido,  Leudante bicarbonato de sodio,  Leudante bicarbonato de amonio,  Sal,  Emulsionante lecitina de girasol,  Saborizante artificial vainillina,  Manteca vegetal de palma,  Trigo (gluten)'], 'Id Grupo': ['100201002'], 'Grupo Sap': ['GALL SANDW INDIV.'], 'Id Subrubro': ['100201'], 'Subrubro': ['SUBRUBRO GALLETAS SANDWICH'], 'SkuData': ['{\"115901\":{\"ref_id\":\"1932773\",\"cart_limit\":\"12\",\"allow_notes\":false,\"allow_substitute\":false,\"measurement_unit\":\"un\",\"unit_multiplier\":1,\"promotions\":[],\"measurement_unit_un\":\"kg\",\"unit_multiplier_un\":0.108,\"measurement_unit_selector\":false,\"release_data\":{\"date_release\":\"06-12-2016 00:00\",\"date_release_end\":\"05-01-2017 00:00\",\"is_new\":false},\"promotionData\":{\"promotionName\":\"\",\"promotionShortDescription\":\"\",\"promotionDescription\":\"\",\"promotionFeature\":\"\"}}}'], 'Contenido Drenado': ['108 g'], 'Contenido Neto': ['108 g'], 'Tipo de Producto': ['Galletas Bañadas y Rellenas'], 'Pack-Unitario': ['Unitario'], 'Envase': ['Paquete'], 'País de Origen': ['Perú'], 'Flag Nutricional': ['Alto en Azúcares', 'Alto en Grasas Saturadas', 'Alto en Sodio', 'Alto en Calorías'], 'Porción': ['4 Galletas (36 g)'], 'Porciones por envase': ['3'], 'Energía (kCal)': ['480 / 172.8'], 'Proteínas (g)': ['4 / 1.4'], 'Grasas Totales (g)': ['20 / 7.2'], 'Grasas Saturadas (g)': ['9 / 3.2'], 'Grasas Monoinsaturadas (g)': ['8 / 2.9'], 'Grasas Poliinsaturadas (g)': ['2 / 0.7'], 'Grasas trans (g)': ['0 / 0'], 'Colesterol (mg)': ['0 / 0'], 'Hidratos de Carbono disponibles (g)': ['68 / 24.5'], 'Azúcares totales (g)': ['40 / 14.4'], 'Sodio (mg)': ['450 / 162'], 'No Perecible': ['Si'], 'Origen': ['América Latina'], 'Producto Nuevo': ['Producto Antiguo'], 'Cart Limit Spid35': ['6'], 'Garantía Mínima Legal': ['Sin garantía'], 'Ficha Técnica': ['Tipo de Producto', 'Envase', 'País de Origen'], 'Información Nutricional (por 100 g / por porción)': ['Flag Nutricional', 'Porción', 'Porciones por envase', 'Energía (kCal)', 'Proteínas (g)', 'Grasas Totales (g)', 'Grasas Saturadas (g)', 'Grasas Monoinsaturadas (g)', 'Grasas Poliinsaturadas (g)', 'Grasas trans (g)', 'Colesterol (mg)', 'Hidratos de Carbono disponibles (g)', 'Azúcares totales (g)', 'Sodio (mg)']}\n"
     ]
    }
   ],
   "source": [
    "print(data_product)"
   ]
  },
  {
   "cell_type": "code",
   "execution_count": 16,
   "id": "d1da8e68-4ab2-41f0-992a-4ffed7dae75b",
   "metadata": {},
   "outputs": [
    {
     "name": "stdout",
     "output_type": "stream",
     "text": [
      "Title: Galletas Oreo Rollo Sabor Original 108 g\n",
      "Description: Doble Galleta Oreo Original de chocolate rellena con Crema Sabor a Vainilla en formato de 108g,\n",
      "Brand: Oreo\n",
      "FinalPrice: 859\n",
      "OldPrice: 0\n"
     ]
    }
   ],
   "source": [
    "title = data_product.get(\"productName\", \"\") if data_product.get(\"productName\", \"\") != None else \"\"\n",
    "brand = data_product.get(\"brand\", \"\") if data_product.get(\"brand\", \"\") != None else \"\"\n",
    "description = data_product.get(\"description\", \"\")\n",
    "items = data_product.get(\"items\", \"\")\n",
    "try:\n",
    "    final_price = items[0].get(\"sellers\", \"\")[0].get(\"commertialOffer\", \"\").get(\"Price\")\n",
    "except e as Exception:\n",
    "    final_price = 0\n",
    "try:\n",
    "    old_price = items[0].get(\"sellers\", \"\")[0].get(\"commertialOffer\", \"\").get(\"ListPrice\")\n",
    "except e as Exception:\n",
    "    old_price = 0\n",
    "if final_price == old_price:\n",
    "    old_price = 0\n",
    "\n",
    "print(f\"Title: {title}\")\n",
    "print(f\"Description: {description}\")\n",
    "print(f\"Brand: {brand}\")\n",
    "print(f\"FinalPrice: {final_price}\")\n",
    "print(f\"OldPrice: {old_price}\")"
   ]
  },
  {
   "cell_type": "code",
   "execution_count": 17,
   "id": "771eca30-a6e7-4155-87d9-aa0c8ef8f337",
   "metadata": {},
   "outputs": [
    {
     "name": "stdout",
     "output_type": "stream",
     "text": [
      "859\n"
     ]
    }
   ],
   "source": [
    "print(final_price)"
   ]
  },
  {
   "cell_type": "code",
   "execution_count": 18,
   "id": "e374e74b-4d87-4219-b576-8c6d7b809e06",
   "metadata": {},
   "outputs": [
    {
     "name": "stdout",
     "output_type": "stream",
     "text": [
      "----Title: Galletas Oreo Rollo Sabor Original 108 g\n",
      "----FinalPrice: 859\n",
      "----OldPrice: 0\n",
      "----Description: Doble Galleta Oreo Original de chocolate rellena con Crema Sabor a Vainilla en formato de 108g,\n"
     ]
    }
   ],
   "source": [
    "# Datos Obtenidos\n",
    "print(f\"----Title: {title}\")\n",
    "print(f\"----FinalPrice: {final_price}\")\n",
    "print(f\"----OldPrice: {old_price}\")\n",
    "print(f\"----Description: {description}\")\n",
    "# print(f\"----QImages: {q_images}\")"
   ]
  },
  {
   "cell_type": "code",
   "execution_count": 19,
   "id": "e8bdeb32-6364-4fc5-a2f6-0c5aace82751",
   "metadata": {},
   "outputs": [
    {
     "name": "stdout",
     "output_type": "stream",
     "text": [
      "Instrucciones de Uso: \n",
      "Advertencias: \n",
      "Acerca de la Marca: \n",
      "ComplementName: <li>Galletas de chocolate rellenas con crema Oreo sabor vainilla\n",
      "<li>Ideales para compartir en familia y disfrutar en fiestas o colaciones\n",
      "<li>Sabor original</li>\n"
     ]
    }
   ],
   "source": [
    "instructions = data_product.get('Instrucciones de Uso', '') if data_product.get('Instrucciones de Uso', '')  != None else ''\n",
    "print(f\"Instrucciones de Uso: {data_product.get('Instrucciones de Uso', '')}\")\n",
    "warnings = data_product.get('Advertencias', '') if data_product.get('Advertencias', '') != None else ''\n",
    "print(f\"Advertencias: {data_product.get('Advertencias', '')}\")\n",
    "a_marca = data_product.get('Acerca de la marca', '') if data_product.get('Acerca de la marca', '') != None else ''\n",
    "print(f\"Acerca de la Marca: {data_product.get('Acerca de la marca', '')}\")\n",
    "try:\n",
    "    complement_name = data_product.get(\"items\", \"\")[0].get('complementName', '').replace(\"</li> \", \"\\n\")\n",
    "except:\n",
    "    complement_name = ''\n",
    "# complement_name = re.sub(r\"<[^>]*>\", \"\", complement_name)\n",
    "print(f\"ComplementName: {complement_name}\")"
   ]
  },
  {
   "cell_type": "code",
   "execution_count": 20,
   "id": "b2477a51-178f-40be-95b9-0d94779eaf83",
   "metadata": {},
   "outputs": [
    {
     "name": "stdout",
     "output_type": "stream",
     "text": [
      "Description: Doble Galleta Oreo Original de chocolate rellena con Crema Sabor a Vainilla en formato de 108g,\n",
      "\n",
      "Instrucciones de Uso\n",
      "\n",
      "Advertencias\n",
      "\n",
      "Acerca de la Marca\n",
      "Galletas de chocolate rellenas con crema Oreo sabor vainilla\n",
      "Ideales para compartir en familia y disfrutar en fiestas o colaciones\n",
      "Sabor original\n"
     ]
    }
   ],
   "source": [
    "description += \"\\n\\nInstrucciones de Uso\"\n",
    "for i in instructions:\n",
    "    description += f\"\\n{i}\"\n",
    "\n",
    "description += \"\\n\\nAdvertencias\"\n",
    "for i in warnings:\n",
    "    description += f\"\\n{i}\"\n",
    "\n",
    "description += \"\\n\\nAcerca de la Marca\"\n",
    "for i in a_marca:\n",
    "    description += f\"\\n{i}\"\n",
    "\n",
    "description += f\"\\n{complement_name}\"\n",
    "description  = re.sub(r\"<[^>]*>\", \"\", description)\n",
    "\n",
    "print(f\"Description: {description}\")"
   ]
  },
  {
   "cell_type": "code",
   "execution_count": 21,
   "id": "5c8d48e1-3956-4491-aa97-18659d657b96",
   "metadata": {},
   "outputs": [
    {
     "name": "stdout",
     "output_type": "stream",
     "text": [
      "Description: Doble Galleta Oreo Original de chocolate rellena con Crema Sabor a Vainilla en formato de 108g,\n",
      "Galletas de chocolate rellenas con crema Oreo sabor vainilla\n",
      "Ideales para compartir en familia y disfrutar en fiestas o colaciones\n",
      "Sabor original\n"
     ]
    }
   ],
   "source": [
    "description = data_product.get(\"description\", \"\") if data_product.get(\"description\", \"\") != None else ''\n",
    "description = description + \"\\n\\nInstrucciones de Uso\" if instructions != '' else description\n",
    "for i in instructions:\n",
    "    description += f\"\\n{i}\"\n",
    "\n",
    "description = description + \"\\n\\nAcerca de la Marca\" if a_marca != '' else description\n",
    "for i in a_marca:\n",
    "    description += f\"\\n{i}\"\n",
    "\n",
    "description += f\"\\n{complement_name}\"\n",
    "description  = re.sub(r\"<[^>]*>\", \"\", description)\n",
    "print(f\"Description: {description}\")"
   ]
  },
  {
   "cell_type": "code",
   "execution_count": 26,
   "id": "1196422e-2969-4332-a9ec-695c1771686a",
   "metadata": {},
   "outputs": [
    {
     "name": "stdout",
     "output_type": "stream",
     "text": [
      "QImages: 4\n"
     ]
    }
   ],
   "source": [
    "q_images = len(data_product.get('items', '')[0]['images'])\n",
    "print(f\"QImages: {q_images}\")"
   ]
  },
  {
   "cell_type": "code",
   "execution_count": null,
   "id": "ecc0d174-746a-4745-8d96-527a8afd70c4",
   "metadata": {},
   "outputs": [],
   "source": []
  }
 ],
 "metadata": {
  "kernelspec": {
   "display_name": "Python 3 (ipykernel)",
   "language": "python",
   "name": "python3"
  },
  "language_info": {
   "codemirror_mode": {
    "name": "ipython",
    "version": 3
   },
   "file_extension": ".py",
   "mimetype": "text/x-python",
   "name": "python",
   "nbconvert_exporter": "python",
   "pygments_lexer": "ipython3",
   "version": "3.11.3"
  }
 },
 "nbformat": 4,
 "nbformat_minor": 5
}
