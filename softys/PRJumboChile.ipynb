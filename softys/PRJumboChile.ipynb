{
 "cells": [
  {
   "cell_type": "code",
   "execution_count": 15,
   "id": "64c9ead8-1338-4bbf-b92f-9b42f5edbd11",
   "metadata": {},
   "outputs": [],
   "source": [
    "# Importacion de librerias a usar\n",
    "import re\n",
    "import requests\n",
    "from bs4 import BeautifulSoup"
   ]
  },
  {
   "cell_type": "code",
   "execution_count": 3,
   "id": "ce2e4dcb-9db2-4a37-a543-e8cd6001cfb9",
   "metadata": {},
   "outputs": [],
   "source": [
    "# Headers\n",
    "url = \"https://sm-web-api.ecomm.cencosud.com/catalog/api/v1/product/shampoo-dove-nutritive-solutions-oleo-nutricion-400-ml?sc=11\"\n",
    "url = \"https://sm-web-api.ecomm.cencosud.com/catalog/api/v1/product/deo-barra-dove-stick-calendula-45g-1994049?sc=1?sc=11\"\n",
    "url = \"https://sm-web-api.ecomm.cencosud.com/catalog/api/v1/product/shampoo-3-en-1-dove-men-sports-400-ml?sc=11\"\n",
    "\n",
    "payload = {}\n",
    "headers = {\n",
    "  'User-Agent': 'Mozilla/5.0 (Windows NT 10.0; Win64; x64; rv:128.0) Gecko/20100101 Firefox/128.0',\n",
    "  'Accept': 'application/json, text/plain, */*',\n",
    "  'Accept-Language': 'es-AR,es;q=0.8,en-US;q=0.5,en;q=0.3',\n",
    "  'Accept-Encoding': 'gzip, deflate, br, zstd',\n",
    "  'Referer': 'https://www.jumbo.cl/',\n",
    "  'x-e-commerce': 'jumbo',\n",
    "  'x-consumer': 'jumbo',\n",
    "  'apiKey': 'WlVnnB7c1BblmgUPOfg',\n",
    "  'Origin': 'https://www.jumbo.cl',\n",
    "  'DNT': '1',\n",
    "  'Sec-GPC': '1',\n",
    "  'Sec-Fetch-Dest': 'empty',\n",
    "  'Sec-Fetch-Mode': 'cors',\n",
    "  'Sec-Fetch-Site': 'cross-site',\n",
    "  'Connection': 'keep-alive'\n",
    "}"
   ]
  },
  {
   "cell_type": "code",
   "execution_count": 4,
   "id": "1b6e5ef9-43d1-449c-a6a7-b048316ebd9d",
   "metadata": {},
   "outputs": [],
   "source": [
    "# Conexión  via https a la pagina\n",
    "response = requests.request(\"GET\", url, headers=headers, data=payload)\n",
    "data = response.json()\n",
    "data_product = data[0]"
   ]
  },
  {
   "cell_type": "code",
   "execution_count": 5,
   "id": "22d99daf-7826-47af-9c39-32e2d3fc6baa",
   "metadata": {},
   "outputs": [
    {
     "name": "stdout",
     "output_type": "stream",
     "text": [
      "{'productId': '78705', 'productName': 'Shampoo Dove Men Sport Active Fresh 400 ml', 'productReference': '1810514', 'brand': 'Dove Men', 'categoriesIds': ['/230/233/244/'], 'productClusters': {'1022': 'Google Shopping', '1059': 'All Products', '3684': '3684_Cencomedia_Unilever SuperWeek 10 Ene', '4570': '4570 Todo Exclusivas 02 al 08 mayo 2023', '5195': '5195_Cencomedia_Unilever Shampoo 4 Ene', '5250': '5250_Cencomedia_Banner Unilever 4 - 28 Feb 2023', '6985': '6985 Unilever - Dove desodorantes y capilar', '8249': '8249 Todas las ofertas del especial belleza', '8308': '8308 Excl Dove Desodorantes, Capilar y Jabones 30%', '9031': '9031 Cuidado personal hasta', '9712': '9712_Cencomedia_Mailing Dove - 6 Mar', '9846': '9846 Ciclo +FDM 27 al 31 julio 2023', '9872': '9872_Cencomedia_Banner Search Unilever 1 - 1 May', '10052': '10052_Cencomedia_Banners Unilever - 1 Jun', '10108': '10108_Cencomedia_Unilever Multimarca - 1 jul', '10189': '10189_Cencomedia_Banners Unilever - 1 - 31 Ago', '10308': '10308 Todo Ciclo 4 + Cat fdm', '10394': '10394 Todas las ofertas del ciclo 4 y FDM', '10403': '10403 CALUGA 4 - Dove', '10569': '10569_Cencomedia_Banners Unilever - 1 - 10 Sep', '10577': '10577 FDM Agosto sin alcohol', '10578': '10578 FDM Todos los llamados', '10579': '10579 FDM + Limpieza+ Parrillero', '10602': '10602 Cuidado personal hasta', '10618': '10618  Ofertas con tarjeta 12 al 19 sept', '10658': '10658 Todo exclusivas 29 al 04 de Septiembre 2023', '10719': '10719 Todo ciclo + FDM 31 al 4 sept 2023', '10828': '10828 MiCupon_Shampoos acondicionadores y', '10883': '10883 Todas las ofertas del ciclo 2 y FDM', '10933': '10933  Ofertas con tarjeta 20 al 25 sept', '11129': '11129 Cuidado personal hasta', '11132': '11132  CAT FDM Completo', '11497': '11497 Todas las ofertas del ciclo 2 y FDM', '11647': '11647_Cencomedia_Banners y SP Octubre - 5 - 31 Oct', '11655': '11655 Todas las ofertas del ciclo 3 y FDM', '12056': '12056_Cencomedia_Banners Unilever - 1 - 30 Nov', '12529': '12529 Todas las ofertas exclusivas del 28/11 04/12', '12614': '12614  Ciclo + FDM 19 AL 25 dic', '12633': '12633 Shampoo o Acondicionador Dove 400ml 2x$5.290', '12668': '12668 Todas las ofertas exclusivas del 05/12 11/12', '12669': '12669-LANDING - GRILLA CARROUSEL MARCA DOVE', '12676': '12676-LANDING -CARROUSEL DE OFERTAS DOVE, REX,AXE', '12682': '12682-LANDING -GRILLA CARROUSEL DOVE', '12683': '12683-2 SHELF TAB DESTACADOS CUIDADO PERSONAL', '12685': '12685-BANNER PRINCIPAL MARCAS UNILEVER', '12740': '12740_Cencomedia_Plan Diciembre Unilever 23', '12754': '12754-Vitrina UNILEVER - Perfumería Dove', '12812': '12812-CICLO 2 - Todas las ofertas del ciclo y FDM', '12911': '12911 Todas las ofertas del ciclo 3 diciembre', '12915': '12915  Todo ciclo + FDM 13 al 18 sept', '12919': '12919 Todas las ofertas excl del 12/12 al 18/12', '12955': '12955 Dove Desodorantes, Capilar y Jabones selecc', '13154': '13154 Todas las ofertas del FDM Diciembre', '13218': '13218 Todas las ofertas de ciclo + FDM Enero 2024', '13242': '13242 - UNILEVER DOVE 30%', '13307': '13307 FDM + Ciclo desde 11 al 15 enero 2024', '13394': '13394  Todo Ciclo + FDM 18 al 22 ene 2024', '13514': '13514 - FDM + CICLO', '13568': '13568 - unilever dove hasta 30%', '13589': '13589 FDM FEBRERO CICLO 1 desde 01 al 05 febr 2024', '13596': '13596 - LPM Febrero', '13645': '13645 Todas las Ofertas Exclusivas 30/01 al 05/02', '13707': '13707 Ciclo  LPM FEBRERO + CICLO 2', '13842': '13842 LPM FEBRERO + CICLO 3', '13980': '13980 LPM FEBRERO + CICLO 4', '14094': '14094  LPM Marzo + Ciclo 1 del 29 al 4 marzo', '14170': '14170  LPM MARZO 27 FEB AL 25 MARZO', '14174': '14174 Vitrina Dove', '14179': '14179 Todas las Ofertas Exclusivas desde 27/02', '14188': '14188  Cencopay Marzo 2024', '14251': '14251 LPM Marzo + Ciclo 2', '14300': '14300 Todas las Ofertas Exclusivas desde 05/03 al', '14353': '14353 Todo Jumbo Days', '14357': '14357 JumboDays Higiene personal', '14484': '14484 Unilever - Dove desde $3.000', '14508': '14508 LPM Marzo + Ciclo 4', '14537': '14537 LPM Abril + Ciclo 1', '14685': '14685 Vitrina Unilever - Dove', '14719': '14719  EC Todo Ciclo + LPM abril', '14778': '14778 ECTodas las Ofertas Ciclo 3 + LPM Abril', '14922': '14922 EC Cencoblack Todo los sku', '15019': '15019 Todas las Ofertas Exclusivas 23/04 al 29/04', '15086': '15086 EC Todos los llamados ciclo 1 + JO', '15087': '15087 EC Todos los llamados ciclo 1 + jo + prime', '15088': '15088 EC Superweek Unilever - Dove hasta x% descto', '15091': '15091 EC Superweek Unilever - Ver todo Superweek', '15136': '15136 Shampoo y Acondicionadores Dove 30% dcto', '15190': '15190 EC Todos los llamados ciclo 2 + JO', '15192': '15192 EC Todos los llamados ciclo 2 + jo + prime', '15323': '15323 EC Todos los llamados ciclo 3 + JO', '15326': '15326 EC Todos los llamados ciclo 3 + jo + prime', '15385': '15385 EC Esp belleza Cuidado capilar', '15391': '15391 EC Esp belleza Todos los SKu', '15426': '15426 EC Todos los llamados ciclo 4 + JO', '15427': '15427 EC Todos los llamados ciclo 4 + jo + prime', '15452': '15452 EC Vitrina Unilever Cyber Rexona Dove Axe', '15482': '15482 Todas las ofertas de jumbo ofertas junio', '15511': '15511 EC Todas las ofertas ciclo 1 + fdm', '15656': '15656 EC TODO ALARGUE', '15664': '15664 EC Cyber DES, CAPILAR Y JABONES DOVE', '15673': '15673_Cencomedia_UNILEVER CHILE LTDA 3-5jun', '15699': '15699 EC Alargue DOVE', '15712': '15712 EC Alargue HIGIENE Y BELLEZA', '15730': '15730_Cencomedia_UNILEVER CHILE LTDA 3-5jun', '15790': '15790 EC Ciclos todas las ofertas ciclo 2 + fdm', '15887': '15887 EC CICLO 3 todas las ofertas ciclo 3 + fdm', '15998': '15998 EC Ciclos todas las ofertas ciclo 4 + FDM', '16033': '16033 Todas las Ofertas Exclusivas 25/06 al 01/07', '16042': '16042 EC ID VTEX Costanera E', '16065': '16065 EC Shampoo o Acond Dove 30% dcto', '16102': '16102 EC Todas las Ofertas Exclusivas 02/07al08/07', '16139': '16139_Cencomedia_mar3', '16216': '16216 EC Dove Capilar $3.000 SELECCIONADO', '16615': '16615 EC Ciclo Todas ciclo 1 + LPM agosto', '16626': '16626  EC Todo LPM Agosto', '16718': '16718_Cencomedia_UNILEVER - DOVE 15-8-24', '16778': '16778 EC CICLO Todas las ofertas + LPM agosto', '16883': '16883 EC Ciclos Todas las ofertas + LMP', '17119': '17119 EC Todas las of excl / PERFUMERIA'}, 'linkText': 'shampoo-3-en-1-dove-men-sports-400-ml', 'metaTagDescription': 'Encuentra Shampoo Dove Men Sport Active Fresh 400 ml y una amplia variedad de productos de Belleza y Cuidado Personal navegando en Jumbo.cl', 'categories': ['/Belleza y Cuidado Personal/Cuidado Capilar/Shampoo/'], 'description': 'Shampoo diseñado específicamente para el cabello de los hombres. Con una toque de Cítrico más Bicarbonato de sodio, que limpia profundamente  tu pelo sin resecarlo, además permite refrescar tu pelo desde sus puntas hasta su  cuero cabelludo.', 'clusterHighlights': {'1022': 'Google Shopping', '1059': 'All Products', '3684': '3684_Cencomedia_Unilever SuperWeek 10 Ene', '4570': '4570 Todo Exclusivas 02 al 08 mayo 2023', '5195': '5195_Cencomedia_Unilever Shampoo 4 Ene', '5250': '5250_Cencomedia_Banner Unilever 4 - 28 Feb 2023', '6985': '6985 Unilever - Dove desodorantes y capilar', '8249': '8249 Todas las ofertas del especial belleza', '8308': '8308 Excl Dove Desodorantes, Capilar y Jabones 30%', '9031': '9031 Cuidado personal hasta', '9712': '9712_Cencomedia_Mailing Dove - 6 Mar', '9846': '9846 Ciclo +FDM 27 al 31 julio 2023', '9872': '9872_Cencomedia_Banner Search Unilever 1 - 1 May', '10052': '10052_Cencomedia_Banners Unilever - 1 Jun', '10108': '10108_Cencomedia_Unilever Multimarca - 1 jul', '10189': '10189_Cencomedia_Banners Unilever - 1 - 31 Ago', '10308': '10308 Todo Ciclo 4 + Cat fdm', '10394': '10394 Todas las ofertas del ciclo 4 y FDM', '10403': '10403 CALUGA 4 - Dove', '10569': '10569_Cencomedia_Banners Unilever - 1 - 10 Sep', '10577': '10577 FDM Agosto sin alcohol', '10578': '10578 FDM Todos los llamados', '10579': '10579 FDM + Limpieza+ Parrillero', '10602': '10602 Cuidado personal hasta', '10618': '10618  Ofertas con tarjeta 12 al 19 sept', '10658': '10658 Todo exclusivas 29 al 04 de Septiembre 2023', '10719': '10719 Todo ciclo + FDM 31 al 4 sept 2023', '10828': '10828 MiCupon_Shampoos acondicionadores y', '10883': '10883 Todas las ofertas del ciclo 2 y FDM', '10933': '10933  Ofertas con tarjeta 20 al 25 sept', '11129': '11129 Cuidado personal hasta', '11132': '11132  CAT FDM Completo', '11497': '11497 Todas las ofertas del ciclo 2 y FDM', '11647': '11647_Cencomedia_Banners y SP Octubre - 5 - 31 Oct', '11655': '11655 Todas las ofertas del ciclo 3 y FDM', '12056': '12056_Cencomedia_Banners Unilever - 1 - 30 Nov', '12529': '12529 Todas las ofertas exclusivas del 28/11 04/12', '12614': '12614  Ciclo + FDM 19 AL 25 dic', '12633': '12633 Shampoo o Acondicionador Dove 400ml 2x$5.290', '12668': '12668 Todas las ofertas exclusivas del 05/12 11/12', '12669': '12669-LANDING - GRILLA CARROUSEL MARCA DOVE', '12676': '12676-LANDING -CARROUSEL DE OFERTAS DOVE, REX,AXE', '12682': '12682-LANDING -GRILLA CARROUSEL DOVE', '12683': '12683-2 SHELF TAB DESTACADOS CUIDADO PERSONAL', '12685': '12685-BANNER PRINCIPAL MARCAS UNILEVER', '12740': '12740_Cencomedia_Plan Diciembre Unilever 23', '12754': '12754-Vitrina UNILEVER - Perfumería Dove', '12812': '12812-CICLO 2 - Todas las ofertas del ciclo y FDM', '12911': '12911 Todas las ofertas del ciclo 3 diciembre', '12915': '12915  Todo ciclo + FDM 13 al 18 sept', '12919': '12919 Todas las ofertas excl del 12/12 al 18/12', '12955': '12955 Dove Desodorantes, Capilar y Jabones selecc', '13154': '13154 Todas las ofertas del FDM Diciembre', '13218': '13218 Todas las ofertas de ciclo + FDM Enero 2024', '13242': '13242 - UNILEVER DOVE 30%', '13307': '13307 FDM + Ciclo desde 11 al 15 enero 2024', '13394': '13394  Todo Ciclo + FDM 18 al 22 ene 2024', '13514': '13514 - FDM + CICLO', '13568': '13568 - unilever dove hasta 30%', '13589': '13589 FDM FEBRERO CICLO 1 desde 01 al 05 febr 2024', '13596': '13596 - LPM Febrero', '13645': '13645 Todas las Ofertas Exclusivas 30/01 al 05/02', '13707': '13707 Ciclo  LPM FEBRERO + CICLO 2', '13842': '13842 LPM FEBRERO + CICLO 3', '13980': '13980 LPM FEBRERO + CICLO 4', '14094': '14094  LPM Marzo + Ciclo 1 del 29 al 4 marzo', '14170': '14170  LPM MARZO 27 FEB AL 25 MARZO', '14174': '14174 Vitrina Dove', '14179': '14179 Todas las Ofertas Exclusivas desde 27/02', '14188': '14188  Cencopay Marzo 2024', '14251': '14251 LPM Marzo + Ciclo 2', '14300': '14300 Todas las Ofertas Exclusivas desde 05/03 al', '14353': '14353 Todo Jumbo Days', '14357': '14357 JumboDays Higiene personal', '14484': '14484 Unilever - Dove desde $3.000', '14508': '14508 LPM Marzo + Ciclo 4', '14537': '14537 LPM Abril + Ciclo 1', '14685': '14685 Vitrina Unilever - Dove', '14719': '14719  EC Todo Ciclo + LPM abril', '14778': '14778 ECTodas las Ofertas Ciclo 3 + LPM Abril', '14922': '14922 EC Cencoblack Todo los sku', '15019': '15019 Todas las Ofertas Exclusivas 23/04 al 29/04', '15086': '15086 EC Todos los llamados ciclo 1 + JO', '15087': '15087 EC Todos los llamados ciclo 1 + jo + prime', '15088': '15088 EC Superweek Unilever - Dove hasta x% descto', '15091': '15091 EC Superweek Unilever - Ver todo Superweek', '15136': '15136 Shampoo y Acondicionadores Dove 30% dcto', '15190': '15190 EC Todos los llamados ciclo 2 + JO', '15192': '15192 EC Todos los llamados ciclo 2 + jo + prime', '15323': '15323 EC Todos los llamados ciclo 3 + JO', '15326': '15326 EC Todos los llamados ciclo 3 + jo + prime', '15385': '15385 EC Esp belleza Cuidado capilar', '15391': '15391 EC Esp belleza Todos los SKu', '15426': '15426 EC Todos los llamados ciclo 4 + JO', '15427': '15427 EC Todos los llamados ciclo 4 + jo + prime', '15452': '15452 EC Vitrina Unilever Cyber Rexona Dove Axe', '15482': '15482 Todas las ofertas de jumbo ofertas junio', '15511': '15511 EC Todas las ofertas ciclo 1 + fdm', '15656': '15656 EC TODO ALARGUE', '15664': '15664 EC Cyber DES, CAPILAR Y JABONES DOVE', '15673': '15673_Cencomedia_UNILEVER CHILE LTDA 3-5jun', '15699': '15699 EC Alargue DOVE', '15712': '15712 EC Alargue HIGIENE Y BELLEZA', '15730': '15730_Cencomedia_UNILEVER CHILE LTDA 3-5jun', '15790': '15790 EC Ciclos todas las ofertas ciclo 2 + fdm', '15887': '15887 EC CICLO 3 todas las ofertas ciclo 3 + fdm', '15998': '15998 EC Ciclos todas las ofertas ciclo 4 + FDM', '16033': '16033 Todas las Ofertas Exclusivas 25/06 al 01/07', '16042': '16042 EC ID VTEX Costanera E', '16065': '16065 EC Shampoo o Acond Dove 30% dcto', '16102': '16102 EC Todas las Ofertas Exclusivas 02/07al08/07', '16139': '16139_Cencomedia_mar3', '16216': '16216 EC Dove Capilar $3.000 SELECCIONADO', '16615': '16615 EC Ciclo Todas ciclo 1 + LPM agosto', '16626': '16626  EC Todo LPM Agosto', '16718': '16718_Cencomedia_UNILEVER - DOVE 15-8-24', '16778': '16778 EC CICLO Todas las ofertas + LPM agosto', '16883': '16883 EC Ciclos Todas las ofertas + LMP', '17119': '17119 EC Todas las of excl / PERFUMERIA'}, 'items': [{'itemId': '78956', 'name': 'Shampoo Dove Men Sport Active Fresh 400 ml', 'unitMultiplier': 1, 'measurementUnit': 'un', 'complementName': '<li>Hombres activos que buscan hidratar su pelo después del deporte</li> <li>Limpieza Suave sin dejar tu pelo seco</li> <li>Ayuda a fortalecer tu fibra capilar</li> <li>Pelo limpio, fresco y resistente</li>', 'images': [{'imageUrl': 'https://jumbo.vtexassets.com/arquivos/ids/415653/Shampoo-sport-active-fresh-400-ml.jpg?v=637478953843900000', 'imageTag': '<img src=\"~/arquivos/ids/415653-#width#-#height#/Shampoo-sport-active-fresh-400-ml.jpg?v=637478953843900000\" width=\"#width#\" height=\"#height#\" alt=\"\" id=\"\" />'}, {'imageUrl': 'https://jumbo.vtexassets.com/arquivos/ids/416351/Shampoo-sport-active-fresh-400-ml.jpg?v=637480672914700000', 'imageTag': '<img src=\"~/arquivos/ids/416351-#width#-#height#/Shampoo-sport-active-fresh-400-ml.jpg?v=637480672914700000\" width=\"#width#\" height=\"#height#\" alt=\"\" id=\"\" />'}], 'referenceId': [{'Key': 'RefId', 'Value': '1810514'}], 'ean': '7791293034850', 'sellers': [{'sellerId': '1', 'sellerName': 'Jumbo Chile', 'commertialOffer': {'Price': 4590, 'ListPrice': 4590, 'PriceWithoutDiscount': 4590, 'AvailableQuantity': 1999544}}]}], 'Id Grupo': ['141609001'], 'Grupo Sap': ['CAPILAR BELLEZA SHAM'], 'Id Subrubro': ['141609'], 'Subrubro': ['SUBRUBRO CAPILAR BELLEZA'], 'SkuData': ['{\"78956\":{\"ref_id\":\"1810514\",\"cart_limit\":\"8\",\"allow_notes\":true,\"allow_substitute\":true,\"measurement_unit\":\"un\",\"unit_multiplier\":1,\"promotions\":[],\"measurement_unit_un\":\"lt\",\"unit_multiplier_un\":0.4,\"measurement_unit_selector\":false,\"release_data\":{\"date_release\":\"06-12-2016 00:00\",\"date_release_end\":\"05-01-2017 00:00\",\"is_new\":false},\"promotionData\":{\"promotionName\":\"\",\"promotionShortDescription\":\"\",\"promotionDescription\":\"\",\"promotionFeature\":\"\"}}}'], 'Tipo de Producto': ['Shampoos'], 'Producto Sustentable': ['Sí'], 'Característica Sustentable': ['Producto Cruelty Free'], 'Tipo de Piel': ['Todo Tipo de Piel'], 'Edición Limitada': ['No'], 'Zona Aplicación Corporal': ['Cabello'], 'Contenido': ['400 ml'], 'No Perecible': ['Si'], 'Origen': ['Otros'], 'Producto Nuevo': ['Producto Antiguo'], 'Instrucciones de Uso': ['Humedece el cabello con agua tibia. Aplica shampoo y masajea suavemente con la yema de tus dedos. Enjuaga y listo.'], 'Acerca de la marca': ['Dove se ha consolidado en el mercado como una de las marcas favoritas en la categoría de cuidado personal. Con una amplia gama de productos que van desde acondicionadores, shampoos, desodorantes, hasta jabones, Dove ha logrado ganarse la confianza de sus consumidores gracias a su compromiso con la calidad y su apuesta por ingredientes naturales.<br><br>Dove ha logrado crear productos que no solo cumplen con su función principal, sino que también cuidan la piel y el cabello. Su línea de acondicionadores y shampoos están formulados con nutrientes que ayudan a fortalecer y suavizar el cabello, mientras que sus desodorantes ofrecen protección duradera y están libres de aluminio y alcohol. Además, sus jabones cuentan con una fórmula única que ayuda a mantener la piel hidratada y suave.\\r\\n<br><br>'], 'Garantía Mínima Legal': ['Válida hasta su fecha de caducidad'], 'Ficha Técnica': ['Tipo de Producto', 'Producto Sustentable', 'Característica Sustentable', 'Tipo de Piel', 'Edición Limitada', 'Zona Aplicación Corporal', 'Contenido'], 'Información Emocional': ['Instrucciones de Uso', 'Acerca de la marca']}\n"
     ]
    }
   ],
   "source": [
    "print(data_product)"
   ]
  },
  {
   "cell_type": "code",
   "execution_count": 6,
   "id": "d1da8e68-4ab2-41f0-992a-4ffed7dae75b",
   "metadata": {},
   "outputs": [
    {
     "name": "stdout",
     "output_type": "stream",
     "text": [
      "Title: Shampoo Dove Men Sport Active Fresh 400 ml\n",
      "Description: Shampoo diseñado específicamente para el cabello de los hombres. Con una toque de Cítrico más Bicarbonato de sodio, que limpia profundamente  tu pelo sin resecarlo, además permite refrescar tu pelo desde sus puntas hasta su  cuero cabelludo.\n",
      "Brand: Dove Men\n",
      "FinalPrice: 4590\n",
      "OldPrice: 0\n"
     ]
    }
   ],
   "source": [
    "title = data_product.get(\"productName\", \"\") if data_product.get(\"productName\", \"\") != None else \"\"\n",
    "brand = data_product.get(\"brand\", \"\") if data_product.get(\"brand\", \"\") != None else \"\"\n",
    "description = data_product.get(\"description\", \"\")\n",
    "items = data_product.get(\"items\", \"\")\n",
    "try:\n",
    "    final_price = items[0].get(\"sellers\", \"\")[0].get(\"commertialOffer\", \"\").get(\"Price\")\n",
    "except e as Exception:\n",
    "    final_price = 0\n",
    "try:\n",
    "    old_price = items[0].get(\"sellers\", \"\")[0].get(\"commertialOffer\", \"\").get(\"ListPrice\")\n",
    "except e as Exception:\n",
    "    old_price = 0\n",
    "if final_price == old_price:\n",
    "    old_price = 0\n",
    "\n",
    "print(f\"Title: {title}\")\n",
    "print(f\"Description: {description}\")\n",
    "print(f\"Brand: {brand}\")\n",
    "print(f\"FinalPrice: {final_price}\")\n",
    "print(f\"OldPrice: {old_price}\")"
   ]
  },
  {
   "cell_type": "code",
   "execution_count": 7,
   "id": "771eca30-a6e7-4155-87d9-aa0c8ef8f337",
   "metadata": {},
   "outputs": [
    {
     "name": "stdout",
     "output_type": "stream",
     "text": [
      "4590\n"
     ]
    }
   ],
   "source": [
    "print(final_price)"
   ]
  },
  {
   "cell_type": "code",
   "execution_count": 8,
   "id": "e374e74b-4d87-4219-b576-8c6d7b809e06",
   "metadata": {},
   "outputs": [
    {
     "name": "stdout",
     "output_type": "stream",
     "text": [
      "----Title: Shampoo Dove Men Sport Active Fresh 400 ml\n",
      "----FinalPrice: 4590\n",
      "----OldPrice: 0\n",
      "----Description: Shampoo diseñado específicamente para el cabello de los hombres. Con una toque de Cítrico más Bicarbonato de sodio, que limpia profundamente  tu pelo sin resecarlo, además permite refrescar tu pelo desde sus puntas hasta su  cuero cabelludo.\n"
     ]
    }
   ],
   "source": [
    "# Datos Obtenidos\n",
    "print(f\"----Title: {title}\")\n",
    "print(f\"----FinalPrice: {final_price}\")\n",
    "print(f\"----OldPrice: {old_price}\")\n",
    "print(f\"----Description: {description}\")\n",
    "# print(f\"----QImages: {q_images}\")"
   ]
  },
  {
   "cell_type": "code",
   "execution_count": 24,
   "id": "e8bdeb32-6364-4fc5-a2f6-0c5aace82751",
   "metadata": {},
   "outputs": [
    {
     "name": "stdout",
     "output_type": "stream",
     "text": [
      "Instrucciones de Uso: ['Humedece el cabello con agua tibia. Aplica shampoo y masajea suavemente con la yema de tus dedos. Enjuaga y listo.']\n",
      "Acerca de la Marca: ['Dove se ha consolidado en el mercado como una de las marcas favoritas en la categoría de cuidado personal. Con una amplia gama de productos que van desde acondicionadores, shampoos, desodorantes, hasta jabones, Dove ha logrado ganarse la confianza de sus consumidores gracias a su compromiso con la calidad y su apuesta por ingredientes naturales.<br><br>Dove ha logrado crear productos que no solo cumplen con su función principal, sino que también cuidan la piel y el cabello. Su línea de acondicionadores y shampoos están formulados con nutrientes que ayudan a fortalecer y suavizar el cabello, mientras que sus desodorantes ofrecen protección duradera y están libres de aluminio y alcohol. Además, sus jabones cuentan con una fórmula única que ayuda a mantener la piel hidratada y suave.\\r\\n<br><br>']\n",
      "ComplementName: <li>Hombres activos que buscan hidratar su pelo después del deporte\n",
      "<li>Limpieza Suave sin dejar tu pelo seco\n",
      "<li>Ayuda a fortalecer tu fibra capilar\n",
      "<li>Pelo limpio, fresco y resistente</li>\n"
     ]
    }
   ],
   "source": [
    "instructions = data_product.get('Instrucciones de Uso', '') if data_product.get('Instrucciones de Uso', '')  != None else ''\n",
    "print(f\"Instrucciones de Uso: {data_product.get('Instrucciones de Uso', '')}\")\n",
    "a_marca = data_product.get('Acerca de la marca', '') if data_product.get('Acerca de la marca', '') != None else ''\n",
    "print(f\"Acerca de la Marca: {data_product.get('Acerca de la marca', '')}\")\n",
    "try:\n",
    "    complement_name = data_product.get(\"items\", \"\")[0].get('complementName', '').replace(\"</li> \", \"\\n\")\n",
    "except:\n",
    "    complement_name = ''\n",
    "# complement_name = re.sub(r\"<[^>]*>\", \"\", complement_name)\n",
    "print(f\"ComplementName: {complement_name}\")"
   ]
  },
  {
   "cell_type": "code",
   "execution_count": 27,
   "id": "b2477a51-178f-40be-95b9-0d94779eaf83",
   "metadata": {},
   "outputs": [
    {
     "name": "stdout",
     "output_type": "stream",
     "text": [
      "Description: Shampoo diseñado específicamente para el cabello de los hombres. Con una toque de Cítrico más Bicarbonato de sodio, que limpia profundamente  tu pelo sin resecarlo, además permite refrescar tu pelo desde sus puntas hasta su  cuero cabelludo.\n",
      "Humedece el cabello con agua tibia. Aplica shampoo y masajea suavemente con la yema de tus dedos. Enjuaga y listo.\n",
      "Dove se ha consolidado en el mercado como una de las marcas favoritas en la categoría de cuidado personal. Con una amplia gama de productos que van desde acondicionadores, shampoos, desodorantes, hasta jabones, Dove ha logrado ganarse la confianza de sus consumidores gracias a su compromiso con la calidad y su apuesta por ingredientes naturales.Dove ha logrado crear productos que no solo cumplen con su función principal, sino que también cuidan la piel y el cabello. Su línea de acondicionadores y shampoos están formulados con nutrientes que ayudan a fortalecer y suavizar el cabello, mientras que sus desodorantes ofrecen protección duradera y están libres de aluminio y alcohol. Además, sus jabones cuentan con una fórmula única que ayuda a mantener la piel hidratada y suave.\n",
      "\n",
      "Hombres activos que buscan hidratar su pelo después del deporte\n",
      "Limpieza Suave sin dejar tu pelo seco\n",
      "Ayuda a fortalecer tu fibra capilar\n",
      "Pelo limpio, fresco y resistente\n"
     ]
    }
   ],
   "source": [
    "description_test = description\n",
    "for i in instructions:\n",
    "    description_test += f\"\\n{i}\"\n",
    "\n",
    "for i in a_marca:\n",
    "    description_test += f\"\\n{i}\"\n",
    "\n",
    "description_test += f\"\\n{complement_name}\"\n",
    "description_test  = re.sub(r\"<[^>]*>\", \"\", description_test)\n",
    "\n",
    "print(f\"Description: {description_test}\")"
   ]
  }
 ],
 "metadata": {
  "kernelspec": {
   "display_name": "Python 3 (ipykernel)",
   "language": "python",
   "name": "python3"
  },
  "language_info": {
   "codemirror_mode": {
    "name": "ipython",
    "version": 3
   },
   "file_extension": ".py",
   "mimetype": "text/x-python",
   "name": "python",
   "nbconvert_exporter": "python",
   "pygments_lexer": "ipython3",
   "version": "3.11.3"
  }
 },
 "nbformat": 4,
 "nbformat_minor": 5
}
