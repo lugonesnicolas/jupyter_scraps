{
 "cells": [
  {
   "cell_type": "code",
   "execution_count": 3,
   "id": "383b8f63-5663-4811-8fc1-dfc47c4af9db",
   "metadata": {},
   "outputs": [],
   "source": [
    "# Importacion de librerias a usar\n",
    "import json\n",
    "import requests\n",
    "from bs4 import BeautifulSoup"
   ]
  },
  {
   "cell_type": "code",
   "execution_count": 32,
   "id": "b37f4e9f-0066-4b39-b71b-ea8db4a3dd7b",
   "metadata": {},
   "outputs": [],
   "source": [
    "url = \"https://sm-web-api.ecomm.cencosud.com/catalog/api/v2/search/oreo?page=1\"\n",
    "payload = json.dumps({\n",
    "  \"selectedFacets\": [\n",
    "    {\n",
    "      \"key\": \"trade-policy\",\n",
    "      \"value\": \"11\"\n",
    "    }\n",
    "  ],\n",
    "  \"orderBy\": \"OrderByScoreDESC\"\n",
    "})\n",
    "headers = {\n",
    "  'User-Agent': 'Mozilla/5.0 (Windows NT 10.0; Win64; x64; rv:128.0) Gecko/20100101 Firefox/128.0',\n",
    "  'Accept': 'application/json, text/plain, */*',\n",
    "  'Accept-Language': 'es-AR,es;q=0.8,en-US;q=0.5,en;q=0.3',\n",
    "  'Accept-Encoding': 'gzip, deflate, br, zstd',\n",
    "  'Content-Type': 'application/json',\n",
    "  'Referer': 'https://www.jumbo.cl/',\n",
    "  'x-e-commerce': 'jumbo',\n",
    "  'x-consumer': 'jumbo',\n",
    "  'apiKey': 'WlVnnB7c1BblmgUPOfg',\n",
    "  'Origin': 'https://www.jumbo.cl',\n",
    "  'DNT': '1',\n",
    "  'Sec-GPC': '1',\n",
    "  'Sec-Fetch-Dest': 'empty',\n",
    "  'Sec-Fetch-Mode': 'cors',\n",
    "  'Sec-Fetch-Site': 'cross-site',\n",
    "  'Connection': 'keep-alive'\n",
    "}\n",
    "\n",
    "response = requests.request(\"POST\", url, headers=headers, data=payload)"
   ]
  },
  {
   "cell_type": "code",
   "execution_count": 33,
   "id": "31a68c73-5008-4450-9ddd-f437eb4f9551",
   "metadata": {},
   "outputs": [],
   "source": [
    "data = response.json()\n",
    "product_list = data.get(\"products\", None)"
   ]
  },
  {
   "cell_type": "code",
   "execution_count": 34,
   "id": "aae75ec6-f13a-485b-8678-941c87279f90",
   "metadata": {},
   "outputs": [
    {
     "name": "stdout",
     "output_type": "stream",
     "text": [
      "POSITION: 1\n",
      "Title: Galletas Oreo Rollo Sabor Original 108 g\n",
      "Brand: Oreo\n",
      "Sku: 7622201693091\n",
      "\n",
      "POSITION: 2\n",
      "Title: Pack Galletas Oreo Sabor Original 36 g 6 un.\n",
      "Brand: Oreo\n",
      "Sku: 7750168001953\n",
      "\n",
      "POSITION: 3\n",
      "Title: Galletas Oreo Dulces Original Mini 40 g\n",
      "Brand: Oreo\n",
      "Sku: 7622300111922\n",
      "\n",
      "POSITION: 4\n",
      "Title: Galletas Oreo Rollo Sabor Vainilla 108 g\n",
      "Brand: Oreo\n",
      "Sku: 7622201693138\n",
      "\n",
      "POSITION: 5\n",
      "Title: Galletas Oreo Rollo Sabor Cookies & Cream 108 g\n",
      "Brand: Oreo\n",
      "Sku: 7622201693114\n",
      "\n",
      "POSITION: 6\n",
      "Title: Pack Galletas Oreo Sabor Vainilla 36 g 6 un.\n",
      "Brand: Oreo\n",
      "Sku: 7622210127334\n",
      "\n",
      "POSITION: 7\n",
      "Title: Galletas Oreo Rollo Sabor Chocolate 108 g\n",
      "Brand: Oreo\n",
      "Sku: 7622201693152\n",
      "\n",
      "POSITION: 8\n",
      "Title: Pack Galletas Oreo Sabor Cookies & Cream 36 g 6 un.\n",
      "Brand: Oreo\n",
      "Sku: 7622201400712\n",
      "\n",
      "POSITION: 9\n",
      "Title: Pack Galletas Oreo Sabor Chocolate 36 g 6 un.\n",
      "Brand: Oreo\n",
      "Sku: 7750168002714\n",
      "\n",
      "POSITION: 10\n",
      "Title: Pack Galletas Oreo Sabor Original 108 g 3 un.\n",
      "Brand: Oreo\n",
      "Sku: 7622201695125\n",
      "\n"
     ]
    }
   ],
   "source": [
    "position = 0\n",
    "for i in product_list:\n",
    "    if position < 10:\n",
    "        position += 1\n",
    "        items = i.get(\"items\", \"\")\n",
    "        title = i.get(\"productName\", \"\")\n",
    "        brand = i.get(\"brand\", \"\")\n",
    "        seller = items[0].get(\"sellers\", None)[0] if items[0].get(\"sellers\", None) != None else \"\"\n",
    "        # price = seller.get(\"commertialOffer\", \"\") if seller.get(\"commertialOffer\", \"\") != None else \"\"\n",
    "        # final_price = price.get(\"Price\", 0) if price.get(\"Price\", 0) != None else 0\n",
    "        # old_price = price.get(\"ListPrice\", 0) if price.get(\"ListPrice\", 0) != None else 0\n",
    "        sku = items[0].get(\"ean\", \"\")\n",
    "\n",
    "        print(f\"POSITION: {position}\")\n",
    "        print(f\"Title: {title}\")\n",
    "        print(f\"Brand: {brand}\")\n",
    "        # print(f\"FinalPrice: {final_price}\")\n",
    "        # print(f\"OldPrice: {old_price}\")\n",
    "        print(f\"Sku: {sku}\\n\")"
   ]
  },
  {
   "cell_type": "code",
   "execution_count": null,
   "id": "2268ef69-c010-4621-a754-507f35ce88c9",
   "metadata": {},
   "outputs": [],
   "source": []
  }
 ],
 "metadata": {
  "kernelspec": {
   "display_name": "Python 3 (ipykernel)",
   "language": "python",
   "name": "python3"
  },
  "language_info": {
   "codemirror_mode": {
    "name": "ipython",
    "version": 3
   },
   "file_extension": ".py",
   "mimetype": "text/x-python",
   "name": "python",
   "nbconvert_exporter": "python",
   "pygments_lexer": "ipython3",
   "version": "3.11.3"
  }
 },
 "nbformat": 4,
 "nbformat_minor": 5
}
