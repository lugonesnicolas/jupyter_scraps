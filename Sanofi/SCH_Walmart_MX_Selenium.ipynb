{
 "cells": [
  {
   "cell_type": "code",
   "execution_count": 9,
   "metadata": {},
   "outputs": [],
   "source": [
    "import BeOnScrapingSettings as ss\n",
    "import BeOnFastCode as fc\n",
    "from time import sleep\n",
    "from selenium import webdriver\n",
    "from selenium.webdriver.chrome.service import Service\n",
    "from selenium.webdriver.chrome.options import Options as ChromeOptions\n",
    "from webdriver_manager.chrome import ChromeDriverManager"
   ]
  },
  {
   "cell_type": "code",
   "execution_count": 10,
   "metadata": {},
   "outputs": [
    {
     "name": "stdout",
     "output_type": "stream",
     "text": [
      "Headless status >>  False\n",
      "Proxy status >>  True\n",
      "chrome_options >> Proxy: mx.smartproxy.com:20000\n",
      "User-Agent status >>  True\n",
      "chrome_options >> User-Agent: Mozilla/5.0 (Windows NT 10.0; Win64; x64) AppleWebKit/537.36 (KHTML, like Gecko) Chrome/124.0.0.0 Safari/537.36\n"
     ]
    }
   ],
   "source": [
    "driver = webdriver.Chrome(options=ss.set_chrome_options(proxy_status=True,proxy_country='mx',proxy_port=20000,useragent_status=True,headless_status=False,full_screen=True))\n",
    "url_init = \"https://super.walmart.com.mx/search?q=oreo\"\n",
    "driver.get(url_init)\n",
    "sleep(3)"
   ]
  },
  {
   "cell_type": "code",
   "execution_count": 11,
   "metadata": {},
   "outputs": [],
   "source": [
    "url_init = \"https://super.walmart.com.mx/search?q=oreo\"\n",
    "driver.get(url_init)\n",
    "sleep(3)"
   ]
  }
 ],
 "metadata": {
  "kernelspec": {
   "display_name": "venv",
   "language": "python",
   "name": "python3"
  },
  "language_info": {
   "codemirror_mode": {
    "name": "ipython",
    "version": 3
   },
   "file_extension": ".py",
   "mimetype": "text/x-python",
   "name": "python",
   "nbconvert_exporter": "python",
   "pygments_lexer": "ipython3",
   "version": "3.11.3"
  }
 },
 "nbformat": 4,
 "nbformat_minor": 2
}
