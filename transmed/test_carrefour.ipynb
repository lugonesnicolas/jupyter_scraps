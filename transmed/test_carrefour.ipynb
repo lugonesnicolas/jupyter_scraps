{
 "cells": [
  {
   "cell_type": "code",
   "execution_count": 14,
   "id": "761b27ca-96b7-4c3f-85a8-52b7b8060fea",
   "metadata": {},
   "outputs": [],
   "source": [
    "import http.client\n",
    "import json"
   ]
  },
  {
   "cell_type": "code",
   "execution_count": 20,
   "id": "0a2ebb1d-dcb1-4421-aa73-dd6dfc8f8920",
   "metadata": {},
   "outputs": [],
   "source": [
    "headers = {\n",
    "  'accept': '*/*',\n",
    "  'accept-language': 'es-419,es-US;q=0.9,es;q=0.8,en-US;q=0.7,en;q=0.6',\n",
    "  'appid': 'Reactweb',\n",
    "  'cookie': 'lat=25.216319; long=55.40779490000001; mafuae-preferred-delivery-area=Unnamed%20Road%20-%20Mirdif%20 - %20Dubai%20; prevAreaCode=Unnamed%20Road%20-%20Mirdif%20 - %20Dubai%20; mafuae-preferred-delivery-area=Unnamed%20Road%20-%20Mirdif%20 - %20Dubai%20; prevAreaCode=Unnamed%20Road%20-%20Mirdif%20 - %20Dubai%20; storeInfo=mafuae|en|AED',\n",
    "  'env': 'prod',\n",
    "  'if-modified-since': 'Thu, 25 Apr 2024 11:44:44 GMT',\n",
    "  'if-none-match': 'W/\"5715-0xHoGKt+L2p7Gmv69qPHB0YiKjQ\"',\n",
    "  'intent': '',\n",
    "  'lang': 'en',\n",
    "  'langcode': 'en',\n",
    "  'posinfo': 'food=072_Zone01,nonfood=099_Zone01,express=015_Zone01',\n",
    "  'priority': 'u=1, i',\n",
    "  'referer': 'https://www.carrefouruae.com/mafuae/en/cream-chocolate-filled/oreo-original-36-8gx24/p/1944189?list_name=search%7Coreo&offer=offer_carrefour_',\n",
    "  'sec-ch-ua': '\"Chromium\";v=\"124\", \"Google Chrome\";v=\"124\", \"Not-A.Brand\";v=\"99\"',\n",
    "  'sec-ch-ua-mobile': '?0',\n",
    "  'sec-ch-ua-platform': '\"Windows\"',\n",
    "  'sec-fetch-dest': 'empty',\n",
    "  'sec-fetch-mode': 'cors',\n",
    "  'sec-fetch-site': 'same-origin',\n",
    "  'storeid': 'mafuae',\n",
    "  'user-agent': 'Mozilla/5.0 (Windows NT 10.0; Win64; x64) AppleWebKit/537.36 (KHTML, like Gecko) Chrome/124.0.0.0 Safari/537.36',\n",
    "  'userid': 'anonymous',\n",
    "  'x-requested-with': 'XMLHttpRequest'\n",
    "}\n",
    "payload = ''"
   ]
  },
  {
   "cell_type": "code",
   "execution_count": 28,
   "id": "2b5e9190-e515-47f0-ad97-5603bfcedac3",
   "metadata": {},
   "outputs": [],
   "source": [
    "api_url = \"https://www.carrefouruae.com/api/v4/relevance/products/1766666?lang=en&placements=personal_page.echo_seed|item_page.frequently_bought_together_web&displayCurr=AED&latitude=25.216319&longitude=55.40779490000001\""
   ]
  },
  {
   "cell_type": "code",
   "execution_count": 29,
   "id": "0349a787-c6fb-4f9c-b44f-d68adde612b9",
   "metadata": {},
   "outputs": [],
   "source": [
    "conn = http.client.HTTPSConnection(\"www.carrefouruae.com\")\n",
    "url_response = api_url.replace(\"https://www.carrefouruae.com\", \"\")\n",
    "conn.request(\"GET\", url_response, payload, headers)\n",
    "response = conn.getresponse()\n",
    "data_product = response.read()\n",
    "data_product = data_product.decode(\"utf-8\")\n",
    "data_product = json.loads(data_product)"
   ]
  },
  {
   "cell_type": "code",
   "execution_count": 30,
   "id": "647838cc-5231-43d6-87a2-b034a2933aff",
   "metadata": {},
   "outputs": [
    {
     "name": "stdout",
     "output_type": "stream",
     "text": [
      "0\n",
      "18.5\n"
     ]
    }
   ],
   "source": [
    "# print(data_product)\n",
    "old_price = data_product['placements'][0]['recommendedProducts'][0]['price'].get('price', 0)\n",
    "final_price = data_product['placements'][0]['recommendedProducts'][0]['price'].get('discount', 0)\n",
    "print(final_price)\n",
    "print(old_price)"
   ]
  },
  {
   "cell_type": "code",
   "execution_count": null,
   "id": "28fe0907-ea03-456e-ba39-31179d99102f",
   "metadata": {},
   "outputs": [],
   "source": []
  }
 ],
 "metadata": {
  "kernelspec": {
   "display_name": "Python 3 (ipykernel)",
   "language": "python",
   "name": "python3"
  },
  "language_info": {
   "codemirror_mode": {
    "name": "ipython",
    "version": 3
   },
   "file_extension": ".py",
   "mimetype": "text/x-python",
   "name": "python",
   "nbconvert_exporter": "python",
   "pygments_lexer": "ipython3",
   "version": "3.11.3"
  }
 },
 "nbformat": 4,
 "nbformat_minor": 5
}
