{
 "cells": [
  {
   "cell_type": "code",
   "execution_count": 7,
   "id": "08d6d698-98a6-4ae0-a219-f221545916ed",
   "metadata": {},
   "outputs": [],
   "source": [
    "from bs4 import BeautifulSoup\n",
    "from selenium import webdriver\n",
    "from selenium.webdriver.chrome.options import Options"
   ]
  },
  {
   "cell_type": "code",
   "execution_count": 8,
   "id": "197f7793-89e4-41a3-bbf5-1b47d7eb095b",
   "metadata": {},
   "outputs": [],
   "source": [
    "options = Options()"
   ]
  },
  {
   "cell_type": "code",
   "execution_count": null,
   "id": "e003be89-4887-44ee-9899-1ccdcea15d86",
   "metadata": {},
   "outputs": [],
   "source": [
    "url='https://www.amazon.ae/Pampers-Premium-Absorption-Ultimate-Protection/dp/B09XHLSB7G/ref=sr_1_2_sspa?crid=S7BSHPHE2OK6&keywords=diaper&qid=1706015878&sprefix=di%2Caps%2C551&sr=8-2-spons&sp_csd=d2lkZ2V0TmFtZT1zcF9hdGY&th=1'"
   ]
  },
  {
   "cell_type": "code",
   "execution_count": 9,
   "id": "09a664bd-45ce-4a77-a39c-6ad00fc16621",
   "metadata": {},
   "outputs": [],
   "source": [
    "driver = webdriver.Chrome(options=options)\n",
    "driver.get(url)"
   ]
  },
  {
   "cell_type": "code",
   "execution_count": 10,
   "id": "07eb1bd0-ce4f-4a1c-bd95-630b34a48bfb",
   "metadata": {},
   "outputs": [],
   "source": [
    "html = driver.page_source"
   ]
  },
  {
   "cell_type": "code",
   "execution_count": null,
   "id": "2bcdbed3-d6f7-43b2-81db-68984d7f29e4",
   "metadata": {},
   "outputs": [],
   "source": [
    "driver.quit()"
   ]
  },
  {
   "cell_type": "code",
   "execution_count": 11,
   "id": "456f632a-aede-47cc-8f8f-9dfb9dbc1d5c",
   "metadata": {},
   "outputs": [],
   "source": [
    "soup = BeautifulSoup(html, 'html.parser')"
   ]
  },
  {
   "cell_type": "code",
   "execution_count": 23,
   "id": "6d2852b1-ff05-4385-81f3-a8b690a245f5",
   "metadata": {},
   "outputs": [
    {
     "name": "stdout",
     "output_type": "stream",
     "text": [
      "        Pampers Premium Care Pants Diapers, Size 5, 12-18kg, Unique Softest Absorption for Ultimate Skin Protection, 160 Count       \n"
     ]
    }
   ],
   "source": [
    "title = soup.find('span', id='productTitle').text\n",
    "print(title)"
   ]
  },
  {
   "cell_type": "code",
   "execution_count": 24,
   "id": "6af33e6a-250c-44c0-91c6-3ca4722fb78c",
   "metadata": {},
   "outputs": [
    {
     "name": "stdout",
     "output_type": "stream",
     "text": [
      "AED255.20\n"
     ]
    }
   ],
   "source": [
    "price = soup.select_one('#newAccordionRow_0 > div:nth-child(1) > div:nth-child(1) > h5:nth-child(2) > div:nth-child(2) > div:nth-child(1) > div:nth-child(1) > div:nth-child(1) > div:nth-child(1) > span:nth-child(1) > span:nth-child(1)').text\n",
    "print(price)"
   ]
  },
  {
   "cell_type": "code",
   "execution_count": null,
   "id": "56f5bfb4-d99b-4c6d-971f-22e59f404991",
   "metadata": {},
   "outputs": [],
   "source": []
  }
 ],
 "metadata": {
  "kernelspec": {
   "display_name": "Python 3 (ipykernel)",
   "language": "python",
   "name": "python3"
  },
  "language_info": {
   "codemirror_mode": {
    "name": "ipython",
    "version": 3
   },
   "file_extension": ".py",
   "mimetype": "text/x-python",
   "name": "python",
   "nbconvert_exporter": "python",
   "pygments_lexer": "ipython3",
   "version": "3.11.3"
  }
 },
 "nbformat": 4,
 "nbformat_minor": 5
}
