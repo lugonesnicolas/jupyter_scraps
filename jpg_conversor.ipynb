{
 "cells": [
  {
   "cell_type": "code",
   "execution_count": 1,
   "id": "053cf415-7068-4829-8da3-5071958c1825",
   "metadata": {},
   "outputs": [],
   "source": [
    "import pillow_avif\n",
    "from PIL import Image\n",
    "import time\n",
    "import os"
   ]
  },
  {
   "cell_type": "code",
   "execution_count": 2,
   "id": "b568a2a3-10ea-4e7d-b5a3-cac3cf396f67",
   "metadata": {},
   "outputs": [],
   "source": [
    "start_time = time.time()"
   ]
  },
  {
   "cell_type": "code",
   "execution_count": 3,
   "id": "d830455e-ae7b-4375-93c8-3486a36b02e0",
   "metadata": {},
   "outputs": [],
   "source": [
    "imagenes_path = r\"A:\\BeOn_Repositories\\amazon_jupyter\\avif_images\"\n",
    "imagenes_convertidas_path = r\"A:\\BeOn_Repositories\\amazon_jupyter\\test\"\n",
    "filenames = os.listdir(imagenes_path)"
   ]
  },
  {
   "cell_type": "code",
   "execution_count": 7,
   "id": "300f0edf-5b36-4ad1-a5a9-9ae4390a22aa",
   "metadata": {},
   "outputs": [],
   "source": [
    "for i in filenames:\n",
    "    try:\n",
    "        if \".jpg\" in i:\n",
    "            imagen_original = Image.open(f\"{imagenes_path}\\{i}\")\n",
    "            imagen_convertida = imagen_original.convert('RGB')\n",
    "            imagen_convertida.save(f\"{imagenes_convertidas_path}\\{i}\")\n",
    "    except:\n",
    "        print(f\"No se pudo convertir la imagen:{i}\")"
   ]
  },
  {
   "cell_type": "code",
   "execution_count": 8,
   "id": "7c414591-ebcc-41f3-9f1b-9fcbeeb39cf9",
   "metadata": {},
   "outputs": [],
   "source": [
    "# imagen_original = Image.open(\"imagen_test.avif\")\n",
    "# imagen_original = imagen_original.convert('RGB')\n",
    "# imagen_original.save('test/imagen_test.jpg')"
   ]
  },
  {
   "cell_type": "code",
   "execution_count": 9,
   "id": "2f86b491-9721-469b-bfae-8ce563cb29ea",
   "metadata": {},
   "outputs": [
    {
     "name": "stdout",
     "output_type": "stream",
     "text": [
      "El tiempo de ejecución fue de: 54.89633274078369 segundos\n"
     ]
    }
   ],
   "source": [
    "end_time = time.time()\n",
    "execution_time = end_time - start_time\n",
    "print(f\"El tiempo de ejecución fue de: {execution_time} segundos\")"
   ]
  },
  {
   "cell_type": "code",
   "execution_count": null,
   "id": "961f1c33-1606-436f-b666-c6f4fc581913",
   "metadata": {},
   "outputs": [],
   "source": []
  }
 ],
 "metadata": {
  "kernelspec": {
   "display_name": "Python 3 (ipykernel)",
   "language": "python",
   "name": "python3"
  },
  "language_info": {
   "codemirror_mode": {
    "name": "ipython",
    "version": 3
   },
   "file_extension": ".py",
   "mimetype": "text/x-python",
   "name": "python",
   "nbconvert_exporter": "python",
   "pygments_lexer": "ipython3",
   "version": "3.11.3"
  }
 },
 "nbformat": 4,
 "nbformat_minor": 5
}
