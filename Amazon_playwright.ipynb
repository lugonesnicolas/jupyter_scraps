{
 "cells": [
  {
   "cell_type": "code",
   "execution_count": 64,
   "id": "a5c8953d-51bf-4108-a3b5-a6107c7225fa",
   "metadata": {},
   "outputs": [],
   "source": [
    "import asyncio\n",
    "from playwright.sync_api import sync_playwright\n",
    "from bs4 import BeautifulSoup\n"
   ]
  },
  {
   "cell_type": "code",
   "execution_count": 73,
   "id": "b1d63051-cdee-4712-bc34-4f877ac37611",
   "metadata": {},
   "outputs": [],
   "source": [
    "async def main():\n",
    "    async with async_playwright() as playwright:\n",
    "        browser = await playwright.chromium.launch()\n",
    "        context = await browser.new_context()\n",
    "        page = await context.new_page()\n",
    "        await page.goto(\"https://www.amazon.ae/Pampers-Baby-Dry-Newborn-Diapers-Protection/dp/B00P16DDJ8/ref=sr_1_9?crid=S7BSHPHE2OK6&keywords=diaper&qid=1706015878&sprefix=di%2Caps%2C551&sr=8-9&th=1\")\n",
    "        html = await page.content()\n",
    "        print(html)\n",
    "        soup = BeautifulSoup(html, \"html.parser\")\n",
    "        await browser.close()\n",
    "    asyncio.run(main())"
   ]
  },
  {
   "cell_type": "code",
   "execution_count": 72,
   "id": "40dda719-192e-441b-815e-fdd47559c470",
   "metadata": {},
   "outputs": [
    {
     "name": "stdout",
     "output_type": "stream",
     "text": [
      "None\n"
     ]
    }
   ],
   "source": [
    "print(soup)"
   ]
  },
  {
   "cell_type": "code",
   "execution_count": null,
   "id": "be76292d-4eed-47ea-9b93-a55eacf6c35e",
   "metadata": {},
   "outputs": [],
   "source": [
    "# Crea un objeto Page\n",
    "page = browser.new_page()\n"
   ]
  },
  {
   "cell_type": "code",
   "execution_count": null,
   "id": "f4063c79-118c-4563-b0fe-dba88bfb1ba9",
   "metadata": {},
   "outputs": [],
   "source": [
    "# Navega a una página web\n",
    "page.goto(\"https://www.amazon.ae/Pampers-Baby-Dry-Newborn-Diapers-Protection/dp/B00P16DDJ8/ref=sr_1_9?crid=S7BSHPHE2OK6&keywords=diaper&qid=1706015878&sprefix=di%2Caps%2C551&sr=8-9&th=1\")"
   ]
  }
 ],
 "metadata": {
  "kernelspec": {
   "display_name": "Python 3 (ipykernel)",
   "language": "python",
   "name": "python3"
  },
  "language_info": {
   "codemirror_mode": {
    "name": "ipython",
    "version": 3
   },
   "file_extension": ".py",
   "mimetype": "text/x-python",
   "name": "python",
   "nbconvert_exporter": "python",
   "pygments_lexer": "ipython3",
   "version": "3.11.3"
  }
 },
 "nbformat": 4,
 "nbformat_minor": 5
}
