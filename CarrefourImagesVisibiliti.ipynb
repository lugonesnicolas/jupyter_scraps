{
 "cells": [
  {
   "cell_type": "code",
   "execution_count": null,
   "id": "9da10e1b-758d-40f5-871b-f01047beb3f2",
   "metadata": {},
   "outputs": [],
   "source": [
    "import requests\n",
    "from bs4 import BeautifulSoup"
   ]
  },
  {
   "cell_type": "code",
   "execution_count": null,
   "id": "89305b83-6b80-4dab-9feb-f771da531f1a",
   "metadata": {},
   "outputs": [],
   "source": [
    "url = \"https://www.carrefouruae.com/mafuae/en/orange-flavour/tang-orange-powder-refill-1kg/p/1207792?list_name=sponsored_listing%7Ctang&offer=offer_carrefour_\""
   ]
  },
  {
   "cell_type": "code",
   "execution_count": null,
   "id": "bf68e516-2cc4-4ff8-9f36-b55ba8c81b81",
   "metadata": {},
   "outputs": [],
   "source": [
    "response = request.get(url)"
   ]
  },
  {
   "cell_type": "code",
   "execution_count": null,
   "id": "862aef5c-6f7b-421d-86d1-943fbc9449f8",
   "metadata": {},
   "outputs": [],
   "source": []
  }
 ],
 "metadata": {
  "kernelspec": {
   "display_name": "Python 3 (ipykernel)",
   "language": "python",
   "name": "python3"
  },
  "language_info": {
   "codemirror_mode": {
    "name": "ipython",
    "version": 3
   },
   "file_extension": ".py",
   "mimetype": "text/x-python",
   "name": "python",
   "nbconvert_exporter": "python",
   "pygments_lexer": "ipython3",
   "version": "3.12.2"
  }
 },
 "nbformat": 4,
 "nbformat_minor": 5
}
