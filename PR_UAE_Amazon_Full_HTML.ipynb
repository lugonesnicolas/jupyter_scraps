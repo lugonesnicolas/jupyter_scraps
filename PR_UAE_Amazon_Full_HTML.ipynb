{
 "cells": [
  {
   "cell_type": "markdown",
   "id": "1e1f501c-eeea-4ddf-927a-15b2591d7309",
   "metadata": {},
   "source": [
    "# Testeo para Spider HTML"
   ]
  },
  {
   "cell_type": "code",
   "execution_count": 75,
   "id": "cc863bd0-b139-4a45-8556-2ce362bec93e",
   "metadata": {},
   "outputs": [],
   "source": [
    "import requests\n",
    "import re\n",
    "from bs4 import BeautifulSoup\n",
    "import time"
   ]
  },
  {
   "cell_type": "code",
   "execution_count": 76,
   "id": "e8e7efab-baf4-40cf-b535-4e6317e6c43c",
   "metadata": {},
   "outputs": [],
   "source": [
    "url = 'https://www.amazon.ae/Ariel-Automatic-Laundry-Detergent-Original/dp/B076L3PYX6/ref=pd_vtp_h_pd_vtp_h_d_sccl_2/257-2861550-0109024?pd_rd_w=Gh3Nt&content-id=amzn1.sym.84eb92b9-87b1-451d-8969-226f5a04c3f5&pf_rd_p=84eb92b9-87b1-451d-8969-226f5a04c3f5&pf_rd_r=TWHGYCDGMJFWJDP009YD&pd_rd_wg=Z3w7T&pd_rd_r=094a09ae-684d-4c15-b779-42bfe86a86a4&pd_rd_i=B076L3PYX6&psc=1'\n",
    "url = 'https://www.amazon.ae/Pampers-Premium-Absorption-Ultimate-Protection/dp/B07SRSVW9B/ref=sr_1_5?crid=21HM2G837EYZ0&dib=eyJ2IjoiMSJ9.GZ3duzhDOLb79dFm1q9Ip1XWxVh_SBEdckjiR63DX8LhaS8lFX2mGs8-YCrrSIE9Ef5W7iI-dP0wytWqzJHzIK2LfKbEQrLIApnWzkuYJHsawIqMqf0OLOSRiApGGK2uGY6uPkgncxtVZC1e15EF-f0AgZc9AeKtJHOPqPfh5w1er9tcgJMDRZ-UnWbBkzSsSNDnX6b-QR3igoHMS1jAmmBv7riR9NiX_DX-ezYsXfUdfk9jMi_r5NKWDYBC2N59H44UsqDwegUqSVPazFa98Vd0qWY95NQOXw2iYVkINZg.cAbZZvD9Un4MEV6C9bPFHztPonLU_GC9qbiEuA_UZDw&dib_tag=se&keywords=pampers&qid=1712775725&sprefix=pamper%2Caps%2C376&sr=8-5&th=1'"
   ]
  },
  {
   "cell_type": "code",
   "execution_count": 77,
   "id": "666e62ad-cf87-4468-812b-26634739e83f",
   "metadata": {},
   "outputs": [],
   "source": [
    "url = \"https://www.amazon.ae/TOSHIBA-Long-lasting-Vibration-resistance-Alkaline/dp/B07WRTHKRN/ref=sr_1_1?crid=23392WD8W866G&dib=eyJ2IjoiMSJ9.Kf6ngJmZdEbQ0WSYJ9Z9ig._Nn91QtQS-xujxKSNjFXSAzCI_4vLwVNEYGIVmwuH6E&dib_tag=se&keywords=B07WRTHKRN&qid=1709646998&sprefix=b07wrthkrn%2Caps%2C262&sr=8-1&th=1\""
   ]
  },
  {
   "cell_type": "code",
   "execution_count": 78,
   "id": "ecbcc77d-43c4-47b2-9dea-73085808f98f",
   "metadata": {},
   "outputs": [],
   "source": [
    "payload = {}\n",
    "headers = {\n",
    "  'User-Agent': 'Mozilla/5.0 (Windows NT 10.0; Win64; x64; rv:124.0) Gecko/20100101 Firefox/124.0',\n",
    "  'Accept': 'text/html,application/xhtml+xml,application/xml;q=0.9,image/avif,image/webp,*/*;q=0.8',\n",
    "  'Accept-Language': 'es-AR,es;q=0.8,en-US;q=0.5,en;q=0.3',\n",
    "  'Accept-Encoding': 'gzip, deflate, br',\n",
    "  'DNT': '1',\n",
    "  'Sec-GPC': '1',\n",
    "  'Connection': 'keep-alive',\n",
    "  'Cookie': 'session-id=257-3153178-1254112; session-id-time=2082787201l; i18n-prefs=AED; csm-hit=tb:497WWPSVM0DYS6HPJKVN+s-497WWPSVM0DYS6HPJKVN|1713275473886&t:1713275473886&adb:adblk_no; ubid-acbae=260-4126456-6325353; session-token=FeT1A+EMtIdRPHK1/CD2GpIrZYM5GUFgEyIvxbvYkxNFlJ+/+4qaba8wnqSB/hZf9R+B8G2TsEeZPw+U20ppbp5a4Btmqk4cLiNYwZZYHosbDMyeFO5QdYHgvVwYsJkLAMH4ZgBka35avxhw++ZwXdaSyZDSjAGjro2+J5LapMPjnf+ysdZS9aSBKvVmGkhcj3YRPysmYEhnsFIogyl3KnbEAE57HF8mrc9zc2H+mn4BLvKBdSrpfNhj5y8zvrMxpu9obdrrn2INkYpT5tpvIX5rY+HgHf2hZKvWkMfNuNZ+5tAZonJbo5KfPTPGoYOFP9KMYYjArKAlClRIz2KLStuRmJjuQne7; i18n-prefs=AED; session-id=257-6374169-2452725; session-id-time=2082787201l; session-token=Yh+kzPCRqJXTNpw4sWq4pxJlbVXAl0EirR65fW8Qvek5pRxB1JEQJ2xXWVlh/+zL0Mq9V2rH0Ga4unXB5OfQURw/+kPyDfKpooawgdkPPnB6QLIx1eN8U+QTtMa8e1YOAdhksWtJK8DP3ERWEW/ZLXaiGh80FKMidn5CSXL/wDi77kPeeE09wfeFnTULSjRlJ15BTXTmw5JJ+rvUioyhypPJSY/KHKnrKF/pQbPswWoAsX5VYa79fLSxIbIo1u+bo+/GEvCejz+Z9nVcv8UJe1CO5DyqN5atLQ0Ebww3d3H3s9hFn0Ffjg8b1JcyOFwP0mwkyg82iEK4NFvhvum2uTiMR9cthJv0',\n",
    "  'Upgrade-Insecure-Requests': '1',\n",
    "  'Sec-Fetch-Dest': 'document',\n",
    "  'Sec-Fetch-Mode': 'navigate',\n",
    "  'Sec-Fetch-Site': 'none',\n",
    "  'Sec-Fetch-User': '?1',\n",
    "  'TE': 'trailers'\n",
    "}"
   ]
  },
  {
   "cell_type": "code",
   "execution_count": 79,
   "id": "1ed5898a-0d85-4eb2-8476-4b204b6618a9",
   "metadata": {},
   "outputs": [],
   "source": [
    "response = requests.request(\"GET\", url, headers=headers, data=payload)\n",
    "html_content = response.text\n",
    "soup = BeautifulSoup(html_content, \"html.parser\")"
   ]
  },
  {
   "cell_type": "code",
   "execution_count": 80,
   "id": "6c05b4b5-e99f-4232-aea5-8a2d39c4c3bf",
   "metadata": {},
   "outputs": [
    {
     "name": "stdout",
     "output_type": "stream",
     "text": [
      "---- Title:TOSHIBA Long-lasting Vibration resistance High Power Alkaline AA - 20 Battery Pack\n"
     ]
    }
   ],
   "source": [
    "title = soup.find('span', id='productTitle').text.strip() if soup.find('span', id='productTitle') != None else 'No title'\n",
    "print(f\"---- Title:{title}\")"
   ]
  },
  {
   "cell_type": "code",
   "execution_count": 81,
   "id": "b933fd71-0d0b-4de9-9904-cfd0d9259f15",
   "metadata": {},
   "outputs": [],
   "source": [
    "buy_box = soup.select_one('#merchantInfoFeature_feature_div > div:nth-child(2) > div:nth-child(1) > span:nth-child(1) > a:nth-child(1)').text if soup.select_one('#merchantInfoFeature_feature_div > div:nth-child(2) > div:nth-child(1) > span:nth-child(1) > a:nth-child(1)') != None else ''\n",
    "if buy_box == '':\n",
    "    buy_box = soup.select_one('#merchantInfoFeature_feature_div > div:nth-child(2) > div:nth-child(1) > span:nth-child(1)').text if soup.select_one('#merchantInfoFeature_feature_div > div:nth-child(2) > div:nth-child(1) > span:nth-child(1)') != None else ''\n",
    "if buy_box == '':\n",
    "    buy_box = soup.select_one('tr.a-spacing-micro:nth-child(2) > td:nth-child(2) > span:nth-child(1) > a:nth-child(1)').text if soup.select_one('tr.a-spacing-micro:nth-child(2) > td:nth-child(2) > span:nth-child(1) > a:nth-child(1)') != None else ''"
   ]
  },
  {
   "cell_type": "code",
   "execution_count": 82,
   "id": "e131aa7d-84f7-4e89-a0ec-70d5bed57203",
   "metadata": {},
   "outputs": [],
   "source": [
    "if buy_box == '' or 'Amazon.ae' not in buy_box:\n",
    "    # Check if the store is transmed\n",
    "    others_offer = soup.find_all('span', class_='a-size-small mbcMerchantName')# Catura para testear que lleguen los nombres\n",
    "    others_offer_container = soup.find_all('div', class_='a-box-inner a-padding-small')  # Assuming class names remain the same\n",
    "\n",
    "    # Print others_offer for debugging purposes (if needed)\n",
    "    print(f\"OTHERS OFFER:{[o.text.strip() for o in others_offer]}\\n\")\n",
    "\n",
    "    for container in others_offer_container:\n",
    "        title_store = container.find('span', class_='a-size-small mbcMerchantName').text if container.find('span', class_='a-size-small mbcMerchantName') != None else ''\n",
    "        if title_store and 'Amazon.ae' in title_store.text.strip():\n",
    "            final_price_element = container.find('span', class_='a-size-medium a-color-price')\n",
    "            if final_price_element:\n",
    "                final_price = fc.just_price(price_str=final_price_element.text.strip(), dotted_price=False)\n",
    "                is_transmed = True\n",
    "                break  # Exit the loop after finding the first Transmed offer"
   ]
  },
  {
   "cell_type": "code",
   "execution_count": 83,
   "id": "c1d6d720-72bd-4eac-a002-a26d6d3b6969",
   "metadata": {},
   "outputs": [],
   "source": [
    "others_string = ''\n",
    "others_offer_container = soup.find_all('div', class_='a-box-inner a-padding-small')\n",
    "for i in range(1, len(others_offer_container)):\n",
    "        title_store = others_offer_container[i].find('span', class_='a-size-small mbcMerchantName').text if others_offer_container[i].find('span', class_='a-size-small mbcMerchantName') != None else ''\n",
    "        store_price = others_offer_container[i].select_one('span.a-size-medium.a-color-price').text if others_offer_container[i].select_one('span.a-size-medium.a-color-price') != None else 0\n",
    "        others_string += f\"Store:{title_store.strip()} Price:{store_price.strip()}, \""
   ]
  },
  {
   "cell_type": "code",
   "execution_count": 84,
   "id": "28932c9b-4ab1-4c50-b8bf-4309e14d4ccd",
   "metadata": {},
   "outputs": [
    {
     "name": "stdout",
     "output_type": "stream",
     "text": [
      "\n"
     ]
    }
   ],
   "source": [
    "print(others_string)"
   ]
  },
  {
   "cell_type": "code",
   "execution_count": 85,
   "id": "681fc487-b92c-41c4-9187-3405cfc992eb",
   "metadata": {},
   "outputs": [
    {
     "name": "stdout",
     "output_type": "stream",
     "text": [
      "FinalPrice: 29.5\n"
     ]
    }
   ],
   "source": [
    "final_price = 0\n",
    "final_price_int = soup.select_one(\"span.a-price.aok-align-center.reinventPricePriceToPayMargin.priceToPay span span.a-price-whole\").text if soup.select_one(\"span.a-price.aok-align-center.reinventPricePriceToPayMargin.priceToPay span span.a-price-whole\") != None else ''\n",
    "final_price_decimals = soup.select_one(\"span.a-price.aok-align-center.reinventPricePriceToPayMargin.priceToPay span span.a-price-fraction\").text if soup.select_one(\"span.a-price.aok-align-center.reinventPricePriceToPayMargin.priceToPay span span.a-price-fraction\") != None else ''\n",
    "if final_price_int != None and final_price_int != '':\n",
    "    final_price_int = re.sub(\"[^0-9.]\", \"\", final_price_int)\n",
    "    final_price_int = re.sub(\"[ ]\", \"\", final_price_int)\n",
    "    final_price_int = re.sub(\"[.]\", \"\", final_price_int)\n",
    "\n",
    "if final_price_decimals != None and final_price_decimals != '':\n",
    "    final_price_decimals = re.sub(\"[^0-9.]\", \"\", final_price_decimals)\n",
    "    final_price_decimals = re.sub(\"[ ]\", \"\", final_price_decimals)\n",
    "    final_price_decimals = re.sub(\"[.]\", \"\", final_price_decimals)\n",
    "\n",
    "if final_price_int != None and final_price_int != '' and final_price_decimals != None and final_price_decimals != '':\n",
    "    try:\n",
    "        final_price = f\"{final_price_int}.{final_price_decimals}\"\n",
    "        final_price = float(final_price)\n",
    "    except:\n",
    "        final_price = 0\n",
    "        print(f\"1:No se pudo convertir a flotante final_price:{final_price}\")\n",
    "\n",
    "print(f\"FinalPrice: {final_price}\")"
   ]
  },
  {
   "cell_type": "code",
   "execution_count": 86,
   "id": "768988d7-dd02-42f9-ab99-0d3212b267ad",
   "metadata": {},
   "outputs": [],
   "source": [
    "if final_price == 0:\n",
    "    final_price = soup.select_one(\"#newAccordionRow_0 > div:nth-child(1) > div:nth-child(1) > h5:nth-child(2) > div:nth-child(2) > div:nth-child(1) > div:nth-child(1) > div:nth-child(1) > div:nth-child(1) > span:nth-child(1) > span:nth-child(1)\").text if soup.select_one(\"#newAccordionRow_0 > div:nth-child(1) > div:nth-child(1) > h5:nth-child(2) > div:nth-child(2) > div:nth-child(1) > div:nth-child(1) > div:nth-child(1) > div:nth-child(1) > span:nth-child(1) > span:nth-child(1)\") != None else 0 \n",
    "    # final_price = fcs.just_price(price_str=final_price, dotted_price=False)"
   ]
  },
  {
   "cell_type": "code",
   "execution_count": 87,
   "id": "30ec1653-2c4f-46c4-ae98-696cf18274c0",
   "metadata": {},
   "outputs": [
    {
     "name": "stdout",
     "output_type": "stream",
     "text": [
      "OldPrice:0\n"
     ]
    }
   ],
   "source": [
    "old_price = soup.select_one(\".basisPrice > span:nth-child(1) > span:nth-child(1)\").text if soup.select_one(\".basisPrice > span:nth-child(1) > span:nth-child(1)\") != None else 0\n",
    "print(f\"OldPrice:{old_price}\")"
   ]
  },
  {
   "cell_type": "code",
   "execution_count": 88,
   "id": "94caa393-a0d5-48cf-bade-d9d9c1af909d",
   "metadata": {},
   "outputs": [],
   "source": [
    "if old_price == 0 or old_price == '':\n",
    "    old_price = soup.select_one(\"td.a-color-secondary:nth-child(2) > span:nth-child(1) > span:nth-child(1)\").text if soup.select_one(\"td.a-color-secondary:nth-child(2) > span:nth-child(1) > span:nth-child(1)\") != None else 0\n"
   ]
  },
  {
   "cell_type": "code",
   "execution_count": 89,
   "id": "f454d0c9-7756-4ce4-b8ed-7df5e0d778ae",
   "metadata": {},
   "outputs": [
    {
     "name": "stdout",
     "output_type": "stream",
     "text": [
      "BulletPoint: •High quality. long lifetime and vibration resistance, •Shelf Storage Life 10 Years, •Safe, powerful and reliable, •Excellent resistance to leakage, •Superb low temperature characteristics.\n"
     ]
    }
   ],
   "source": [
    "bullet_points_list = soup.select(\"li.a-spacing-mini\")\n",
    "bullet_points = ''\n",
    "\n",
    "try:\n",
    "    for i in range(0, len(bullet_points_list)):\n",
    "        content = bullet_points_list[i].text.strip()\n",
    "        if i == len(bullet_points_list) - 1:\n",
    "            bullet_points += f\"•{content}.\"\n",
    "        else:\n",
    "            bullet_points += f\"•{content}, \"\n",
    "except:\n",
    "    print(f\"No se pudo extraer los bullets points\")\n",
    "print(f\"BulletPoint: {bullet_points}\")"
   ]
  },
  {
   "cell_type": "code",
   "execution_count": 90,
   "id": "b5a261f4-be2d-49cd-9352-fbbfdecae37d",
   "metadata": {},
   "outputs": [
    {
     "name": "stdout",
     "output_type": "stream",
     "text": [
      "Description:\n"
     ]
    }
   ],
   "source": [
    "description = soup.find(id='productDescription').text.strip() if soup.find(id='productDescription') != None else ''\n",
    "print(f\"Description:{description}\")"
   ]
  },
  {
   "cell_type": "code",
   "execution_count": 91,
   "id": "24437665-3d65-41f8-848e-6ebda2f7254b",
   "metadata": {},
   "outputs": [
    {
     "name": "stdout",
     "output_type": "stream",
     "text": [
      "4\n"
     ]
    }
   ],
   "source": [
    "q_images_list = soup.find_all(\"li\", class_=\"a-spacing-small\")\n",
    "q_images = 0\n",
    "for i in q_images_list:\n",
    "    content = i.find('img')[\"src\"] if i.find('img') != None else ''\n",
    "    if 'https://m.media-amazon.com/' in content and '.jpg' in content:\n",
    "        q_images += 1\n",
    "print(q_images - 1)"
   ]
  },
  {
   "cell_type": "code",
   "execution_count": 92,
   "id": "7135bd24-5f8e-4e36-a7c9-84890b2813b6",
   "metadata": {},
   "outputs": [
    {
     "name": "stdout",
     "output_type": "stream",
     "text": [
      "1\n"
     ]
    }
   ],
   "source": [
    "a_plus = 1 if soup.find_all('div', id='aplus') != [] else 0\n",
    "print(f\"{a_plus}\")"
   ]
  },
  {
   "cell_type": "code",
   "execution_count": 100,
   "id": "7fcf305d-5f62-49e2-81f3-15feb61b2fc0",
   "metadata": {},
   "outputs": [],
   "source": [
    "best_sellers_rank_elements = soup.find(\"div\", id=\"productDetails_db_sections\").div.table.find_all(\"tr\") if soup.find(\"div\", id=\"productDetails_db_sections\") != None else ''"
   ]
  },
  {
   "cell_type": "code",
   "execution_count": 115,
   "id": "7c140661-02f5-4179-a980-68617435ef14",
   "metadata": {},
   "outputs": [
    {
     "name": "stdout",
     "output_type": "stream",
     "text": [
      "   Best Sellers Rank:  #382 in Electronics (See Top 100 in Electronics)   #34 in Disposable Household Batteries   \n"
     ]
    }
   ],
   "source": [
    "if best_sellers_rank_elements != '':\n",
    "    try:\n",
    "        for i in best_sellers_rank_elements:\n",
    "            content = i.text\n",
    "            if \"Best Sellers Rank\" in content:\n",
    "                ranks = re.findall(r\"#(\\d+)\", content)\n",
    "                category_best_sellers_rank = int(ranks[0])\n",
    "                catgroup_best_sellers_rank = int(ranks[1])\n",
    "    except Exception as e:\n",
    "        category_best_sellers_rank = ''\n",
    "        catgroup_best_sellers_rank = ''\n",
    "        print(f\"ERROS - {e}\")\n",
    "else:\n",
    "    best_sellers_rank_list = soup.select(\"ul.a-unordered-list.a-nostyle.a-vertical.a-spacing-none.detail-bullet-list\")\n",
    "    try:\n",
    "        for i in best_sellers_rank_list:\n",
    "            content = i.text\n",
    "            if \"Best Sellers Rank\" in content:\n",
    "                print(content)\n",
    "                ranks = re.findall(r\"#(\\d+)\", content)\n",
    "                category_best_sellers_rank = int(ranks[0])\n",
    "                catgroup_best_sellers_rank = int(ranks[1])\n",
    "    except Exception as e:\n",
    "        category_best_sellers_rank = ''\n",
    "        catgroup_best_sellers_rank = ''\n",
    "        print(f\"ERROS - {e}\")\n"
   ]
  },
  {
   "cell_type": "code",
   "execution_count": 116,
   "id": "b0ad0201-4e39-40fa-99c4-424d630b1676",
   "metadata": {},
   "outputs": [
    {
     "name": "stdout",
     "output_type": "stream",
     "text": [
      "category_best_sellers_rank:382\n",
      "catgroup_best_sellers_rank:34\n"
     ]
    }
   ],
   "source": [
    "print(f\"category_best_sellers_rank:{category_best_sellers_rank}\")\n",
    "print(f\"catgroup_best_sellers_rank:{catgroup_best_sellers_rank}\")"
   ]
  },
  {
   "cell_type": "code",
   "execution_count": 54,
   "id": "9ed4c8ca-83a7-41b2-a802-85bafd56587a",
   "metadata": {},
   "outputs": [
    {
     "name": "stdout",
     "output_type": "stream",
     "text": [
      "Rating:4.6\n"
     ]
    }
   ],
   "source": [
    "rating = soup.select(\"#acrPopover > span.a-declarative > a > i\")[0].text if soup.select(\"#acrPopover > span.a-declarative > a > i\") != [] else 0\n",
    "rating = rating.replace(\"out of 5 stars\", \"\").strip()\n",
    "rating = float(rating)\n",
    "print(f\"Rating:{rating}\")"
   ]
  },
  {
   "cell_type": "code",
   "execution_count": 65,
   "id": "9f467f3f-1640-4aba-b2c2-4077fceaba1a",
   "metadata": {},
   "outputs": [
    {
     "name": "stdout",
     "output_type": "stream",
     "text": [
      "QRating:478 ratings\n"
     ]
    }
   ],
   "source": [
    "q_ratings = soup.select(\"#acrCustomerReviewText\")[0].text if soup.select(\"#acrCustomerReviewText\") != [] else 0\n",
    "print(f\"QRating:{q_ratings}\")"
   ]
  },
  {
   "cell_type": "code",
   "execution_count": 66,
   "id": "c85790d3-bb94-4157-86c8-5af97d63abb4",
   "metadata": {},
   "outputs": [
    {
     "name": "stdout",
     "output_type": "stream",
     "text": [
      "QRating:478\n"
     ]
    }
   ],
   "source": [
    "try:\n",
    "    if \"ratings\" in q_ratings:\n",
    "        q_ratings = q_ratings.replace(\"ratings\", \"\").strip()\n",
    "    q_ratings = q_ratings.replace(\",\", \".\")\n",
    "    q_ratings = int(q_ratings)\n",
    "except Exception as e:\n",
    "    q_ratings = 0\n",
    "    print(f\"No se pudo filtrar QRatings - {e}\")\n",
    "print(f\"QRating:{q_ratings}\")"
   ]
  },
  {
   "cell_type": "code",
   "execution_count": 67,
   "id": "ff9f9ddb-6a9a-4eff-8f09-de17ff5fbc69",
   "metadata": {},
   "outputs": [
    {
     "name": "stdout",
     "output_type": "stream",
     "text": [
      "ASIN:\n"
     ]
    }
   ],
   "source": [
    "asin = ''\n",
    "try:\n",
    "    asin_container = soup.find(\"div\", id=\"productDetails_db_sections\").div.table.find_all(\"tr\")\n",
    "    for i in asin_container:\n",
    "        content = i.th.text\n",
    "        if \"ASIN\" in content:\n",
    "            asin = i.td.text.strip()\n",
    "except:\n",
    "    asin = ''\n",
    "print(f\"ASIN:{asin}\")"
   ]
  },
  {
   "cell_type": "code",
   "execution_count": 68,
   "id": "dd3f890a-6161-4d8c-9f93-2df5f18d0200",
   "metadata": {},
   "outputs": [
    {
     "name": "stdout",
     "output_type": "stream",
     "text": [
      "B09NKZDFJD\n"
     ]
    }
   ],
   "source": [
    "asin = soup.select_one(\"#title_feature_div\")[\"data-csa-c-asin\"] if soup.select_one(\"#title_feature_div\") != None else ''\n",
    "print(asin)"
   ]
  },
  {
   "cell_type": "code",
   "execution_count": 69,
   "id": "905b71f0-9e3d-4b7b-b19f-3465d9d5be65",
   "metadata": {},
   "outputs": [
    {
     "name": "stdout",
     "output_type": "stream",
     "text": [
      "LinkAjax:https://www.amazon.ae/gp/product/ajax/ref=auto_load_aod?asin=B09NKZDFJD&pc=dp&experienceId=aodAjaxMain\n"
     ]
    }
   ],
   "source": [
    "container_others_sellers = 1 if soup.select(\".a-touch-link\") != None else 0\n",
    "if container_others_sellers == 1 and asin != '':\n",
    "    link_others_sellers = f\"https://www.amazon.ae/gp/product/ajax/ref=auto_load_aod?asin={asin}&pc=dp&experienceId=aodAjaxMain\"\n",
    "else:\n",
    "    link_others_sellers = \"\"\n",
    "print(f\"LinkAjax:{link_others_sellers}\")"
   ]
  },
  {
   "cell_type": "code",
   "execution_count": 74,
   "id": "d692215d-bcb9-4312-9168-1997c7540984",
   "metadata": {},
   "outputs": [
    {
     "name": "stdout",
     "output_type": "stream",
     "text": [
      "BrandStoreLink:https://www.amazon.ae/stores/Gillette/page/3106DEDF-1C37-4746-85D0-8146C5933B6B?ref_=ast_bln\n"
     ]
    }
   ],
   "source": [
    "brand_store_link = soup.select_one(\"a#bylineInfo.a-link-normal\")[\"href\"] if soup.select_one(\"a#bylineInfo.a-link-normal\") != None else ''\n",
    "if brand_store_link != '':\n",
    "    brand_store_link = f\"https://www.amazon.ae{brand_store_link}\"\n",
    "print(f\"BrandStoreLink:{brand_store_link}\")"
   ]
  },
  {
   "cell_type": "code",
   "execution_count": 97,
   "id": "266b5656-bc58-4d74-bb28-2ab5abdaa2d7",
   "metadata": {},
   "outputs": [],
   "source": [
    "headers = {\n",
    "  'User-Agent': 'Mozilla/5.0 (Windows NT 10.0; Win64; x64; rv:124.0) Gecko/20100101 Firefox/124.0',\n",
    "  'Accept': 'text/html,*/*',\n",
    "  'Accept-Language': 'es-AR,es;q=0.8,en-US;q=0.5,en;q=0.3',\n",
    "  'Accept-Encoding': 'gzip, deflate, br',\n",
    "  'X-Requested-With': 'XMLHttpRequest',\n",
    "  'Alt-Used': 'www.amazon.ae',\n",
    "  'Connection': 'keep-alive',\n",
    "  'Referer': 'https://www.amazon.ae/dp/B07SRSVW9B/ref=olp-opf-redir?aod=1&ie=UTF8&condition=NEW&th=1',\n",
    "  'Cookie': 'session-id=257-2861550-0109024; session-id-time=2082787201l; i18n-prefs=AED; csm-hit=tb:s-2ND1XERWB71MVVWPBNFC|1712837180952&t:1712837180952&adb:adblk_yes; ubid-acbae=257-3832480-6790808; session-token=m4ko/9X1dnctPFKsAcpgJG9GYcd0usF3BMP26qzv6N0vXgUoXW6vg4atgHD8RcjEBBX0hbss7AMlR+eXZ3t+zYCAUue22LqxSaOwqyrBUvzeeVXKgP3w+PrO3M274SNXH15ZOsgFfUwTkOyITb/Jtg5oQxhv6avu1VdGpo2KYSTEVk/pCjC3VQqQRG7UzDondbsYH08OwCn5+I8K5S0JA/Qw9tA6qvK5meURq4kNbYX0yBuy5BneMUyYMrRwTqpUfmOPfaPahtzKj4HVkjHHG0okheVz+HSqiTGAqQuERs+FG/jf+P5MqY4x8P1IMBrvqx6yGw/jvCcIeYZz+wckFqaZ5gZsZcA9; lc-acbae=en_AE; s_pers=%20s_fid%3D3504FFD318A2EA58-3D892D2C174744DD%7C1866804897117%3B%20s_dl%3D1%7C1708953897117%3B%20gpv_page%3DAZ%253ASD%253ASOA-home%7C1708953897118%3B%20s_ev15%3D%255B%255B%2527AZAESOA_pcdisc_C%2527%252C%25271708952097118%2527%255D%255D%7C1866804897118%3B; session-token=JBpVp196s2fEyIc3fkCmDXkE12gds8DCAlyN8kX3p0PxhW648+oTdYwZ6D9ydSs3aHxAsvYz5TsyVZ/wMmMHGqH9CGOyAYUmpleeuVPKK+/B8NZg2UvyRSdsXkXX/saGL8siMj9SUJ3f3JvgSm0FHeMZCdULWE1SY7jtj8X383JVCOOehjuv2qmQOSGxjKNBgO12wDjp4Y+XKCeIYSvAPoiLgwyp1foA5KLLVc/Mi2yc3xGSpjvikbJP7g8c0cEjZM77WBmdEUwdLGFvkX09f5YnBlSJmFPxsHBYrN2Ew30MVUTQ3zHwtwGYkrQ3ZOycVE0wOv2vvOeNhOD0LK6CzZA/ar0iDa5I',\n",
    "  'Sec-Fetch-Dest': 'empty',\n",
    "  'Sec-Fetch-Mode': 'cors',\n",
    "  'Sec-Fetch-Site': 'same-origin',\n",
    "  'Sec-GPC': '1',\n",
    "  'TE': 'trailers'\n",
    "}"
   ]
  },
  {
   "cell_type": "code",
   "execution_count": 98,
   "id": "0fb83c1c-8d2c-4c73-9c51-6bcb05359622",
   "metadata": {},
   "outputs": [
    {
     "ename": "MissingSchema",
     "evalue": "Invalid URL '': No scheme supplied. Perhaps you meant https://?",
     "output_type": "error",
     "traceback": [
      "\u001b[1;31m---------------------------------------------------------------------------\u001b[0m",
      "\u001b[1;31mMissingSchema\u001b[0m                             Traceback (most recent call last)",
      "Cell \u001b[1;32mIn[98], line 1\u001b[0m\n\u001b[1;32m----> 1\u001b[0m response \u001b[38;5;241m=\u001b[39m \u001b[43mrequests\u001b[49m\u001b[38;5;241;43m.\u001b[39;49m\u001b[43mget\u001b[49m\u001b[43m(\u001b[49m\u001b[43mlink_others_sellers\u001b[49m\u001b[43m)\u001b[49m\n\u001b[0;32m      2\u001b[0m html_content \u001b[38;5;241m=\u001b[39m response\u001b[38;5;241m.\u001b[39mtext\n\u001b[0;32m      3\u001b[0m soup \u001b[38;5;241m=\u001b[39m BeautifulSoup(html_content, \u001b[38;5;124m\"\u001b[39m\u001b[38;5;124mhtml.parser\u001b[39m\u001b[38;5;124m\"\u001b[39m)\n",
      "File \u001b[1;32mA:\\BeOn_Repositories\\amazon_jupyter\\venv\\Lib\\site-packages\\requests\\api.py:73\u001b[0m, in \u001b[0;36mget\u001b[1;34m(url, params, **kwargs)\u001b[0m\n\u001b[0;32m     62\u001b[0m \u001b[38;5;28;01mdef\u001b[39;00m \u001b[38;5;21mget\u001b[39m(url, params\u001b[38;5;241m=\u001b[39m\u001b[38;5;28;01mNone\u001b[39;00m, \u001b[38;5;241m*\u001b[39m\u001b[38;5;241m*\u001b[39mkwargs):\n\u001b[0;32m     63\u001b[0m \u001b[38;5;250m    \u001b[39m\u001b[38;5;124mr\u001b[39m\u001b[38;5;124;03m\"\"\"Sends a GET request.\u001b[39;00m\n\u001b[0;32m     64\u001b[0m \n\u001b[0;32m     65\u001b[0m \u001b[38;5;124;03m    :param url: URL for the new :class:`Request` object.\u001b[39;00m\n\u001b[1;32m   (...)\u001b[0m\n\u001b[0;32m     70\u001b[0m \u001b[38;5;124;03m    :rtype: requests.Response\u001b[39;00m\n\u001b[0;32m     71\u001b[0m \u001b[38;5;124;03m    \"\"\"\u001b[39;00m\n\u001b[1;32m---> 73\u001b[0m     \u001b[38;5;28;01mreturn\u001b[39;00m \u001b[43mrequest\u001b[49m\u001b[43m(\u001b[49m\u001b[38;5;124;43m\"\u001b[39;49m\u001b[38;5;124;43mget\u001b[39;49m\u001b[38;5;124;43m\"\u001b[39;49m\u001b[43m,\u001b[49m\u001b[43m \u001b[49m\u001b[43murl\u001b[49m\u001b[43m,\u001b[49m\u001b[43m \u001b[49m\u001b[43mparams\u001b[49m\u001b[38;5;241;43m=\u001b[39;49m\u001b[43mparams\u001b[49m\u001b[43m,\u001b[49m\u001b[43m \u001b[49m\u001b[38;5;241;43m*\u001b[39;49m\u001b[38;5;241;43m*\u001b[39;49m\u001b[43mkwargs\u001b[49m\u001b[43m)\u001b[49m\n",
      "File \u001b[1;32mA:\\BeOn_Repositories\\amazon_jupyter\\venv\\Lib\\site-packages\\requests\\api.py:59\u001b[0m, in \u001b[0;36mrequest\u001b[1;34m(method, url, **kwargs)\u001b[0m\n\u001b[0;32m     55\u001b[0m \u001b[38;5;66;03m# By using the 'with' statement we are sure the session is closed, thus we\u001b[39;00m\n\u001b[0;32m     56\u001b[0m \u001b[38;5;66;03m# avoid leaving sockets open which can trigger a ResourceWarning in some\u001b[39;00m\n\u001b[0;32m     57\u001b[0m \u001b[38;5;66;03m# cases, and look like a memory leak in others.\u001b[39;00m\n\u001b[0;32m     58\u001b[0m \u001b[38;5;28;01mwith\u001b[39;00m sessions\u001b[38;5;241m.\u001b[39mSession() \u001b[38;5;28;01mas\u001b[39;00m session:\n\u001b[1;32m---> 59\u001b[0m     \u001b[38;5;28;01mreturn\u001b[39;00m \u001b[43msession\u001b[49m\u001b[38;5;241;43m.\u001b[39;49m\u001b[43mrequest\u001b[49m\u001b[43m(\u001b[49m\u001b[43mmethod\u001b[49m\u001b[38;5;241;43m=\u001b[39;49m\u001b[43mmethod\u001b[49m\u001b[43m,\u001b[49m\u001b[43m \u001b[49m\u001b[43murl\u001b[49m\u001b[38;5;241;43m=\u001b[39;49m\u001b[43murl\u001b[49m\u001b[43m,\u001b[49m\u001b[43m \u001b[49m\u001b[38;5;241;43m*\u001b[39;49m\u001b[38;5;241;43m*\u001b[39;49m\u001b[43mkwargs\u001b[49m\u001b[43m)\u001b[49m\n",
      "File \u001b[1;32mA:\\BeOn_Repositories\\amazon_jupyter\\venv\\Lib\\site-packages\\requests\\sessions.py:575\u001b[0m, in \u001b[0;36mSession.request\u001b[1;34m(self, method, url, params, data, headers, cookies, files, auth, timeout, allow_redirects, proxies, hooks, stream, verify, cert, json)\u001b[0m\n\u001b[0;32m    562\u001b[0m \u001b[38;5;66;03m# Create the Request.\u001b[39;00m\n\u001b[0;32m    563\u001b[0m req \u001b[38;5;241m=\u001b[39m Request(\n\u001b[0;32m    564\u001b[0m     method\u001b[38;5;241m=\u001b[39mmethod\u001b[38;5;241m.\u001b[39mupper(),\n\u001b[0;32m    565\u001b[0m     url\u001b[38;5;241m=\u001b[39murl,\n\u001b[1;32m   (...)\u001b[0m\n\u001b[0;32m    573\u001b[0m     hooks\u001b[38;5;241m=\u001b[39mhooks,\n\u001b[0;32m    574\u001b[0m )\n\u001b[1;32m--> 575\u001b[0m prep \u001b[38;5;241m=\u001b[39m \u001b[38;5;28;43mself\u001b[39;49m\u001b[38;5;241;43m.\u001b[39;49m\u001b[43mprepare_request\u001b[49m\u001b[43m(\u001b[49m\u001b[43mreq\u001b[49m\u001b[43m)\u001b[49m\n\u001b[0;32m    577\u001b[0m proxies \u001b[38;5;241m=\u001b[39m proxies \u001b[38;5;129;01mor\u001b[39;00m {}\n\u001b[0;32m    579\u001b[0m settings \u001b[38;5;241m=\u001b[39m \u001b[38;5;28mself\u001b[39m\u001b[38;5;241m.\u001b[39mmerge_environment_settings(\n\u001b[0;32m    580\u001b[0m     prep\u001b[38;5;241m.\u001b[39murl, proxies, stream, verify, cert\n\u001b[0;32m    581\u001b[0m )\n",
      "File \u001b[1;32mA:\\BeOn_Repositories\\amazon_jupyter\\venv\\Lib\\site-packages\\requests\\sessions.py:486\u001b[0m, in \u001b[0;36mSession.prepare_request\u001b[1;34m(self, request)\u001b[0m\n\u001b[0;32m    483\u001b[0m     auth \u001b[38;5;241m=\u001b[39m get_netrc_auth(request\u001b[38;5;241m.\u001b[39murl)\n\u001b[0;32m    485\u001b[0m p \u001b[38;5;241m=\u001b[39m PreparedRequest()\n\u001b[1;32m--> 486\u001b[0m \u001b[43mp\u001b[49m\u001b[38;5;241;43m.\u001b[39;49m\u001b[43mprepare\u001b[49m\u001b[43m(\u001b[49m\n\u001b[0;32m    487\u001b[0m \u001b[43m    \u001b[49m\u001b[43mmethod\u001b[49m\u001b[38;5;241;43m=\u001b[39;49m\u001b[43mrequest\u001b[49m\u001b[38;5;241;43m.\u001b[39;49m\u001b[43mmethod\u001b[49m\u001b[38;5;241;43m.\u001b[39;49m\u001b[43mupper\u001b[49m\u001b[43m(\u001b[49m\u001b[43m)\u001b[49m\u001b[43m,\u001b[49m\n\u001b[0;32m    488\u001b[0m \u001b[43m    \u001b[49m\u001b[43murl\u001b[49m\u001b[38;5;241;43m=\u001b[39;49m\u001b[43mrequest\u001b[49m\u001b[38;5;241;43m.\u001b[39;49m\u001b[43murl\u001b[49m\u001b[43m,\u001b[49m\n\u001b[0;32m    489\u001b[0m \u001b[43m    \u001b[49m\u001b[43mfiles\u001b[49m\u001b[38;5;241;43m=\u001b[39;49m\u001b[43mrequest\u001b[49m\u001b[38;5;241;43m.\u001b[39;49m\u001b[43mfiles\u001b[49m\u001b[43m,\u001b[49m\n\u001b[0;32m    490\u001b[0m \u001b[43m    \u001b[49m\u001b[43mdata\u001b[49m\u001b[38;5;241;43m=\u001b[39;49m\u001b[43mrequest\u001b[49m\u001b[38;5;241;43m.\u001b[39;49m\u001b[43mdata\u001b[49m\u001b[43m,\u001b[49m\n\u001b[0;32m    491\u001b[0m \u001b[43m    \u001b[49m\u001b[43mjson\u001b[49m\u001b[38;5;241;43m=\u001b[39;49m\u001b[43mrequest\u001b[49m\u001b[38;5;241;43m.\u001b[39;49m\u001b[43mjson\u001b[49m\u001b[43m,\u001b[49m\n\u001b[0;32m    492\u001b[0m \u001b[43m    \u001b[49m\u001b[43mheaders\u001b[49m\u001b[38;5;241;43m=\u001b[39;49m\u001b[43mmerge_setting\u001b[49m\u001b[43m(\u001b[49m\n\u001b[0;32m    493\u001b[0m \u001b[43m        \u001b[49m\u001b[43mrequest\u001b[49m\u001b[38;5;241;43m.\u001b[39;49m\u001b[43mheaders\u001b[49m\u001b[43m,\u001b[49m\u001b[43m \u001b[49m\u001b[38;5;28;43mself\u001b[39;49m\u001b[38;5;241;43m.\u001b[39;49m\u001b[43mheaders\u001b[49m\u001b[43m,\u001b[49m\u001b[43m \u001b[49m\u001b[43mdict_class\u001b[49m\u001b[38;5;241;43m=\u001b[39;49m\u001b[43mCaseInsensitiveDict\u001b[49m\n\u001b[0;32m    494\u001b[0m \u001b[43m    \u001b[49m\u001b[43m)\u001b[49m\u001b[43m,\u001b[49m\n\u001b[0;32m    495\u001b[0m \u001b[43m    \u001b[49m\u001b[43mparams\u001b[49m\u001b[38;5;241;43m=\u001b[39;49m\u001b[43mmerge_setting\u001b[49m\u001b[43m(\u001b[49m\u001b[43mrequest\u001b[49m\u001b[38;5;241;43m.\u001b[39;49m\u001b[43mparams\u001b[49m\u001b[43m,\u001b[49m\u001b[43m \u001b[49m\u001b[38;5;28;43mself\u001b[39;49m\u001b[38;5;241;43m.\u001b[39;49m\u001b[43mparams\u001b[49m\u001b[43m)\u001b[49m\u001b[43m,\u001b[49m\n\u001b[0;32m    496\u001b[0m \u001b[43m    \u001b[49m\u001b[43mauth\u001b[49m\u001b[38;5;241;43m=\u001b[39;49m\u001b[43mmerge_setting\u001b[49m\u001b[43m(\u001b[49m\u001b[43mauth\u001b[49m\u001b[43m,\u001b[49m\u001b[43m \u001b[49m\u001b[38;5;28;43mself\u001b[39;49m\u001b[38;5;241;43m.\u001b[39;49m\u001b[43mauth\u001b[49m\u001b[43m)\u001b[49m\u001b[43m,\u001b[49m\n\u001b[0;32m    497\u001b[0m \u001b[43m    \u001b[49m\u001b[43mcookies\u001b[49m\u001b[38;5;241;43m=\u001b[39;49m\u001b[43mmerged_cookies\u001b[49m\u001b[43m,\u001b[49m\n\u001b[0;32m    498\u001b[0m \u001b[43m    \u001b[49m\u001b[43mhooks\u001b[49m\u001b[38;5;241;43m=\u001b[39;49m\u001b[43mmerge_hooks\u001b[49m\u001b[43m(\u001b[49m\u001b[43mrequest\u001b[49m\u001b[38;5;241;43m.\u001b[39;49m\u001b[43mhooks\u001b[49m\u001b[43m,\u001b[49m\u001b[43m \u001b[49m\u001b[38;5;28;43mself\u001b[39;49m\u001b[38;5;241;43m.\u001b[39;49m\u001b[43mhooks\u001b[49m\u001b[43m)\u001b[49m\u001b[43m,\u001b[49m\n\u001b[0;32m    499\u001b[0m \u001b[43m\u001b[49m\u001b[43m)\u001b[49m\n\u001b[0;32m    500\u001b[0m \u001b[38;5;28;01mreturn\u001b[39;00m p\n",
      "File \u001b[1;32mA:\\BeOn_Repositories\\amazon_jupyter\\venv\\Lib\\site-packages\\requests\\models.py:368\u001b[0m, in \u001b[0;36mPreparedRequest.prepare\u001b[1;34m(self, method, url, headers, files, data, params, auth, cookies, hooks, json)\u001b[0m\n\u001b[0;32m    365\u001b[0m \u001b[38;5;250m\u001b[39m\u001b[38;5;124;03m\"\"\"Prepares the entire request with the given parameters.\"\"\"\u001b[39;00m\n\u001b[0;32m    367\u001b[0m \u001b[38;5;28mself\u001b[39m\u001b[38;5;241m.\u001b[39mprepare_method(method)\n\u001b[1;32m--> 368\u001b[0m \u001b[38;5;28;43mself\u001b[39;49m\u001b[38;5;241;43m.\u001b[39;49m\u001b[43mprepare_url\u001b[49m\u001b[43m(\u001b[49m\u001b[43murl\u001b[49m\u001b[43m,\u001b[49m\u001b[43m \u001b[49m\u001b[43mparams\u001b[49m\u001b[43m)\u001b[49m\n\u001b[0;32m    369\u001b[0m \u001b[38;5;28mself\u001b[39m\u001b[38;5;241m.\u001b[39mprepare_headers(headers)\n\u001b[0;32m    370\u001b[0m \u001b[38;5;28mself\u001b[39m\u001b[38;5;241m.\u001b[39mprepare_cookies(cookies)\n",
      "File \u001b[1;32mA:\\BeOn_Repositories\\amazon_jupyter\\venv\\Lib\\site-packages\\requests\\models.py:439\u001b[0m, in \u001b[0;36mPreparedRequest.prepare_url\u001b[1;34m(self, url, params)\u001b[0m\n\u001b[0;32m    436\u001b[0m     \u001b[38;5;28;01mraise\u001b[39;00m InvalidURL(\u001b[38;5;241m*\u001b[39me\u001b[38;5;241m.\u001b[39margs)\n\u001b[0;32m    438\u001b[0m \u001b[38;5;28;01mif\u001b[39;00m \u001b[38;5;129;01mnot\u001b[39;00m scheme:\n\u001b[1;32m--> 439\u001b[0m     \u001b[38;5;28;01mraise\u001b[39;00m MissingSchema(\n\u001b[0;32m    440\u001b[0m         \u001b[38;5;124mf\u001b[39m\u001b[38;5;124m\"\u001b[39m\u001b[38;5;124mInvalid URL \u001b[39m\u001b[38;5;132;01m{\u001b[39;00murl\u001b[38;5;132;01m!r}\u001b[39;00m\u001b[38;5;124m: No scheme supplied. \u001b[39m\u001b[38;5;124m\"\u001b[39m\n\u001b[0;32m    441\u001b[0m         \u001b[38;5;124mf\u001b[39m\u001b[38;5;124m\"\u001b[39m\u001b[38;5;124mPerhaps you meant https://\u001b[39m\u001b[38;5;132;01m{\u001b[39;00murl\u001b[38;5;132;01m}\u001b[39;00m\u001b[38;5;124m?\u001b[39m\u001b[38;5;124m\"\u001b[39m\n\u001b[0;32m    442\u001b[0m     )\n\u001b[0;32m    444\u001b[0m \u001b[38;5;28;01mif\u001b[39;00m \u001b[38;5;129;01mnot\u001b[39;00m host:\n\u001b[0;32m    445\u001b[0m     \u001b[38;5;28;01mraise\u001b[39;00m InvalidURL(\u001b[38;5;124mf\u001b[39m\u001b[38;5;124m\"\u001b[39m\u001b[38;5;124mInvalid URL \u001b[39m\u001b[38;5;132;01m{\u001b[39;00murl\u001b[38;5;132;01m!r}\u001b[39;00m\u001b[38;5;124m: No host supplied\u001b[39m\u001b[38;5;124m\"\u001b[39m)\n",
      "\u001b[1;31mMissingSchema\u001b[0m: Invalid URL '': No scheme supplied. Perhaps you meant https://?"
     ]
    }
   ],
   "source": [
    "response = requests.get(link_others_sellers)\n",
    "html_content = response.text\n",
    "soup = BeautifulSoup(html_content, \"html.parser\")"
   ]
  },
  {
   "cell_type": "code",
   "execution_count": null,
   "id": "73a22c93-6ad6-4caa-8716-1e3ce7eedc7a",
   "metadata": {},
   "outputs": [],
   "source": [
    "others = soup.select(\"div#aod-offer\")"
   ]
  },
  {
   "cell_type": "code",
   "execution_count": null,
   "id": "2083d2bf-f06d-4e46-ad07-29aefe368dd3",
   "metadata": {},
   "outputs": [],
   "source": [
    "if len(others) != 0: \n",
    "    for i in range(0, len(others)):\n",
    "        id = i + 1\n",
    "        seller = others[i].find(\"div\", id=\"aod-offer-soldBy\").a.text.strip() if others[i].find(\"div\", id=\"aod-offer-soldBy\").a != None else ''\n",
    "        discount = others[i].find(\"div\", id=f\"aod-offer-promotion-{id}\").find(class_=\"a-text-bold\").text if others[i].find(\"div\", id=f\"aod-offer-promotion-{id}\").find(class_=\"a-text-bold\") != None else ''\n",
    "        price = others[i].find(\"span\", id=f\"aod-price-{id}\").find(class_=\"a-offscreen\").text if others[i].find(\"span\", id=f\"aod-price-{id}\").find(class_=\"a-offscreen\") != None else ''\n",
    "        print(f\"Seller:{seller}\")\n",
    "        print(f\"Discount:{discount}\")\n",
    "        print(f\"Price:{price}\\n\")\n",
    "else:\n",
    "    print(f\"No hay otras ofertas\")"
   ]
  },
  {
   "cell_type": "code",
   "execution_count": null,
   "id": "fa65d823-f40b-4653-8b2e-bc249838d5d4",
   "metadata": {},
   "outputs": [],
   "source": [
    "try:\n",
    "    other_seller1 = others[0].find(\"div\", id=\"aod-offer-soldBy\").a.text.strip() if others[0].find(\"div\", id=\"aod-offer-soldBy\").a != None else ''\n",
    "    other_seller1_discount = others[0].find(\"div\", id=\"aod-offer-promotion-1\").find(class_=\"a-text-bold\").text if others[0].find(\"div\", id=\"aod-offer-promotion-1\").find(class_=\"a-text-bold\") != None else ''\n",
    "    other_seller1_price = others[0].find(\"span\", id=\"aod-price-1\").find(class_=\"a-offscreen\").text if others[0].find(\"span\", id=\"aod-price-1\").find(class_=\"a-offscreen\") != None else ''\n",
    "except:\n",
    "    other_seller1 = ''\n",
    "    other_seller1_discount = ''\n",
    "    other_seller1_price = 0\n",
    "       \n",
    "print(f\"OtherSeller1:{other_seller1}\")\n",
    "print(f\"OtherSeller1Discount:{other_seller1_discount}\")\n",
    "print(f\"OtherSeller1Price:{other_seller1_price}\")"
   ]
  },
  {
   "cell_type": "code",
   "execution_count": null,
   "id": "f4992a1b-cc2d-4498-ba3e-3e25bcb418c2",
   "metadata": {},
   "outputs": [],
   "source": [
    "try:\n",
    "    other_seller2 = others[1].find(\"div\", id=\"aod-offer-soldBy\").a.text.strip() if others[1].find(\"div\", id=\"aod-offer-soldBy\").a != None else ''\n",
    "    other_seller2_discount = others[1].find(\"div\", id=\"aod-offer-promotion-2\").find(class_=\"a-text-bold\").text if others[1].find(\"div\", id=\"aod-offer-promotion-2\").find(class_=\"a-text-bold\") != None else ''\n",
    "    other_seller2_price = others[1].find(\"span\", id=\"aod-price-2\").find(class_=\"a-offscreen\").text if others[1].find(\"span\", id=f\"aod-price-2\").find(class_=\"a-offscreen\") != None else ''\n",
    "except:\n",
    "    other_seller2 = ''\n",
    "    other_seller2_discount = ''\n",
    "    other_seller2_price = 0\n",
    "\n",
    "print(f\"OtherSeller2:{other_seller2}\")\n",
    "print(f\"OtherSeller2Discount:{other_seller2_discount}\")\n",
    "print(f\"OtherSeller2Price:{other_seller2_price}\")"
   ]
  },
  {
   "cell_type": "code",
   "execution_count": null,
   "id": "b1ab1e55-04a9-4368-9694-4e30d5710b26",
   "metadata": {},
   "outputs": [],
   "source": [
    "try:\n",
    "    other_seller3 = others[2].find(\"div\", id=\"aod-offer-soldBy\").a.text.strip() if others[2].find(\"div\", id=\"aod-offer-soldBy\").a != None else ''\n",
    "    other_seller3_discount = others[2].find(\"div\", id=\"aod-offer-promotion-3\").find(class_=\"a-text-bold\").text if others[2].find(\"div\", id=\"aod-offer-promotion-3\").find(class_=\"a-text-bold\") != None else ''\n",
    "    other_seller3_price = others[2].find(\"span\", id=\"aod-price-3\").find(class_=\"a-offscreen\").text if others[2].find(\"span\", id=\"aod-price-3\").find(class_=\"a-offscreen\") != None else ''\n",
    "except:\n",
    "    other_seller3 = ''\n",
    "    other_seller3_discount = ''\n",
    "    other_seller3_price = 0\n",
    "\n",
    "print(f\"OtherSeller3:{other_seller3}\")\n",
    "print(f\"OtherSeller3Discount:{other_seller3_discount}\")\n",
    "print(f\"OtherSeller3Price:{other_seller3_price}\")"
   ]
  },
  {
   "cell_type": "code",
   "execution_count": null,
   "id": "81945610-a562-4917-90ce-9a1ab7d169f2",
   "metadata": {},
   "outputs": [],
   "source": [
    "try:\n",
    "    other_seller4 = others[3].find(\"div\", id=\"aod-offer-soldBy\").a.text.strip() if others[3].find(\"div\", id=\"aod-offer-soldBy\").a != None else ''\n",
    "    other_seller4_discount = others[3].find(\"div\", id=\"aod-offer-promotion-4\").find(class_=\"a-text-bold\").text if others[3].find(\"div\", id=\"aod-offer-promotion-4\").find(class_=\"a-text-bold\") != None else ''\n",
    "    other_seller4_price = others[3].find(\"span\", id=\"aod-price-4\").find(class_=\"a-offscreen\").text if others[3].find(\"span\", id=\"aod-price-4\").find(class_=\"a-offscreen\") != None else ''\n",
    "except:\n",
    "    other_seller4 = ''\n",
    "    other_seller4_discount = ''\n",
    "    other_seller4_price = 0\n",
    "\n",
    "print(f\"OtherSeller4:{other_seller4}\")\n",
    "print(f\"OtherSeller4Discount:{other_seller4_discount}\")\n",
    "print(f\"OtherSeller4Price:{other_seller4_price}\")"
   ]
  },
  {
   "cell_type": "code",
   "execution_count": null,
   "id": "df1bdf5f-8eb7-40a5-a499-f50c2b9bd955",
   "metadata": {},
   "outputs": [],
   "source": [
    "try:\n",
    "    other_seller5 = others[4].find(\"div\", id=\"aod-offer-soldBy\").a.text.strip() if others[4].find(\"div\", id=\"aod-offer-soldBy\").a != None else ''\n",
    "    other_seller5_discount = others[4].find(\"div\", id=\"aod-offer-promotion-5\").find(class_=\"a-text-bold\").text if others[4].find(\"div\", id=\"aod-offer-promotion-5\").find(class_=\"a-text-bold\") != None else ''\n",
    "    other_seller5_price = others[4].find(\"span\", id=\"aod-price-5\").find(class_=\"a-offscreen\").text if others[4].find(\"span\", id=\"aod-price-5\").find(class_=\"a-offscreen\") != None else ''\n",
    "except:\n",
    "    other_seller5 = ''\n",
    "    other_seller5_discount = ''\n",
    "    other_seller5_price = 0\n",
    "\n",
    "print(f\"OtherSeller5:{other_seller5}\")\n",
    "print(f\"OtherSeller5Discount:{other_seller5_discount}\")\n",
    "print(f\"OtherSeller5Price:{other_seller5_price}\")"
   ]
  }
 ],
 "metadata": {
  "kernelspec": {
   "display_name": "Python 3 (ipykernel)",
   "language": "python",
   "name": "python3"
  },
  "language_info": {
   "codemirror_mode": {
    "name": "ipython",
    "version": 3
   },
   "file_extension": ".py",
   "mimetype": "text/x-python",
   "name": "python",
   "nbconvert_exporter": "python",
   "pygments_lexer": "ipython3",
   "version": "3.11.3"
  }
 },
 "nbformat": 4,
 "nbformat_minor": 5
}
