{
 "cells": [
  {
   "cell_type": "markdown",
   "id": "1e1f501c-eeea-4ddf-927a-15b2591d7309",
   "metadata": {},
   "source": [
    "# Testeo para Spider HTML"
   ]
  },
  {
   "cell_type": "code",
   "execution_count": 2,
   "id": "cc863bd0-b139-4a45-8556-2ce362bec93e",
   "metadata": {},
   "outputs": [],
   "source": [
    "import requests\n",
    "import re\n",
    "from bs4 import BeautifulSoup\n",
    "import time"
   ]
  },
  {
   "cell_type": "code",
   "execution_count": 3,
   "id": "666e62ad-cf87-4468-812b-26634739e83f",
   "metadata": {},
   "outputs": [],
   "source": [
    "url = \"https://www.amazon.ae/Pampers-Baby-Dry-Diapers-Leakage-Protection/dp/B07FPN9QC8/ref=sr_1_1_f3_0o_lulu?crid=7IAS5DMWGJMT&dib=eyJ2IjoiMSJ9.6IzgX6rRUCKsHUUw2g-wzQ.YVj7_eNZyVLDzs5060od1h4p1XadQ5EyJEmJMuVQu04&dib_tag=se&keywords=B07FPN9QC8&qid=1707923420&sprefix=b07fpttjy1%2Caps%2C284&sr=8-1\""
   ]
  },
  {
   "cell_type": "code",
   "execution_count": 4,
   "id": "65019bfe-59fd-423f-9d8d-091758852e2b",
   "metadata": {},
   "outputs": [],
   "source": [
    "url = \"https://www.amazon.ae/Pampers-Premium-Absorption-Ultimate-Protection/dp/B07FPPJ5V6/ref=sr_1_1?crid=149Z9WI3WS6P&dib=eyJ2IjoiMSJ9.pqRl7kjIoxkA-L7enKUyIQ.NF3m7dBStAxrknvm4Ti6xQfLmBT3tTQ9irmCBgFjpg0&dib_tag=se&keywords=B07FPPJ5V6&qid=1707923895&sprefix=b07fph9n3c%2Caps%2C268&sr=8-1\""
   ]
  },
  {
   "cell_type": "code",
   "execution_count": 19,
   "id": "aee10d17-5a5e-470b-9bf3-2e9b4a604337",
   "metadata": {},
   "outputs": [],
   "source": [
    "url = \"https://www.amazon.ae/Persil-Laundry-Detergent-Technology-Lavender/dp/B07MVZQXJD/ref=sr_1_1?crid=2Z70YBGFM406L&dib=eyJ2IjoiMSJ9.gZduLao-0GNgrcGiH5Cl-g.1ILgqzM1Blb1XWLw2NBXuZgjqwFVw1m4dNWr7N1_vu0&dib_tag=se&keywords=B07MVZQXJD&qid=1709586390&sprefix=b07pnc4jjm%2Caps%2C753&sr=8-1\""
   ]
  },
  {
   "cell_type": "code",
   "execution_count": 20,
   "id": "ecbcc77d-43c4-47b2-9dea-73085808f98f",
   "metadata": {},
   "outputs": [],
   "source": [
    "payload = {}\n",
    "headers = {\n",
    "  'User-Agent': 'Mozilla/5.0 (Windows NT 10.0; Win64; x64; rv:124.0) Gecko/20100101 Firefox/124.0',\n",
    "  'Accept': 'text/html,application/xhtml+xml,application/xml;q=0.9,image/avif,image/webp,*/*;q=0.8',\n",
    "  'Accept-Language': 'es-AR,es;q=0.8,en-US;q=0.5,en;q=0.3',\n",
    "  'Accept-Encoding': 'gzip, deflate, br',\n",
    "  'DNT': '1',\n",
    "  'Sec-GPC': '1',\n",
    "  'Connection': 'keep-alive',\n",
    "  'Cookie': 'session-id=257-3153178-1254112; session-id-time=2082787201l; i18n-prefs=AED; csm-hit=tb:497WWPSVM0DYS6HPJKVN+s-497WWPSVM0DYS6HPJKVN|1713275473886&t:1713275473886&adb:adblk_no; ubid-acbae=260-4126456-6325353; session-token=FeT1A+EMtIdRPHK1/CD2GpIrZYM5GUFgEyIvxbvYkxNFlJ+/+4qaba8wnqSB/hZf9R+B8G2TsEeZPw+U20ppbp5a4Btmqk4cLiNYwZZYHosbDMyeFO5QdYHgvVwYsJkLAMH4ZgBka35avxhw++ZwXdaSyZDSjAGjro2+J5LapMPjnf+ysdZS9aSBKvVmGkhcj3YRPysmYEhnsFIogyl3KnbEAE57HF8mrc9zc2H+mn4BLvKBdSrpfNhj5y8zvrMxpu9obdrrn2INkYpT5tpvIX5rY+HgHf2hZKvWkMfNuNZ+5tAZonJbo5KfPTPGoYOFP9KMYYjArKAlClRIz2KLStuRmJjuQne7; i18n-prefs=AED; session-id=257-6374169-2452725; session-id-time=2082787201l; session-token=Yh+kzPCRqJXTNpw4sWq4pxJlbVXAl0EirR65fW8Qvek5pRxB1JEQJ2xXWVlh/+zL0Mq9V2rH0Ga4unXB5OfQURw/+kPyDfKpooawgdkPPnB6QLIx1eN8U+QTtMa8e1YOAdhksWtJK8DP3ERWEW/ZLXaiGh80FKMidn5CSXL/wDi77kPeeE09wfeFnTULSjRlJ15BTXTmw5JJ+rvUioyhypPJSY/KHKnrKF/pQbPswWoAsX5VYa79fLSxIbIo1u+bo+/GEvCejz+Z9nVcv8UJe1CO5DyqN5atLQ0Ebww3d3H3s9hFn0Ffjg8b1JcyOFwP0mwkyg82iEK4NFvhvum2uTiMR9cthJv0',\n",
    "  'Upgrade-Insecure-Requests': '1',\n",
    "  'Sec-Fetch-Dest': 'document',\n",
    "  'Sec-Fetch-Mode': 'navigate',\n",
    "  'Sec-Fetch-Site': 'none',\n",
    "  'Sec-Fetch-User': '?1',\n",
    "  'TE': 'trailers'\n",
    "}"
   ]
  },
  {
   "cell_type": "code",
   "execution_count": 21,
   "id": "1ed5898a-0d85-4eb2-8476-4b204b6618a9",
   "metadata": {},
   "outputs": [],
   "source": [
    "response = requests.request(\"GET\", url, headers=headers, data=payload)\n",
    "html_content = response.text\n",
    "soup = BeautifulSoup(html_content, \"html.parser\")"
   ]
  },
  {
   "cell_type": "code",
   "execution_count": 22,
   "id": "6c05b4b5-e99f-4232-aea5-8a2d39c4c3bf",
   "metadata": {},
   "outputs": [
    {
     "name": "stdout",
     "output_type": "stream",
     "text": [
      "---- Title:Persil Power Gel Liquid Laundry Detergent, With Deep Clean Technology, Lavender,3L+ 1L\n"
     ]
    }
   ],
   "source": [
    "title = soup.find('span', id='productTitle').text.strip() if soup.find('span', id='productTitle') != None else 'No title'\n",
    "print(f\"---- Title:{title}\")"
   ]
  },
  {
   "cell_type": "code",
   "execution_count": 23,
   "id": "b933fd71-0d0b-4de9-9904-cfd0d9259f15",
   "metadata": {},
   "outputs": [],
   "source": [
    "buy_box = soup.select_one('#merchantInfoFeature_feature_div > div:nth-child(2) > div:nth-child(1) > span:nth-child(1) > a:nth-child(1)').text if soup.select_one('#merchantInfoFeature_feature_div > div:nth-child(2) > div:nth-child(1) > span:nth-child(1) > a:nth-child(1)') != None else ''\n",
    "if buy_box == '':\n",
    "    buy_box = soup.select_one('#merchantInfoFeature_feature_div > div:nth-child(2) > div:nth-child(1) > span:nth-child(1)').text if soup.select_one('#merchantInfoFeature_feature_div > div:nth-child(2) > div:nth-child(1) > span:nth-child(1)') != None else ''\n",
    "if buy_box == '':\n",
    "    buy_box = soup.select_one('tr.a-spacing-micro:nth-child(2) > td:nth-child(2) > span:nth-child(1) > a:nth-child(1)').text if soup.select_one('tr.a-spacing-micro:nth-child(2) > td:nth-child(2) > span:nth-child(1) > a:nth-child(1)') != None else ''"
   ]
  },
  {
   "cell_type": "code",
   "execution_count": 24,
   "id": "e131aa7d-84f7-4e89-a0ec-70d5bed57203",
   "metadata": {},
   "outputs": [
    {
     "name": "stdout",
     "output_type": "stream",
     "text": [
      "OTHERS OFFER:[]\n",
      "\n"
     ]
    }
   ],
   "source": [
    "if buy_box == '' or 'Amazon.ae' not in buy_box:\n",
    "    # Check if the store is transmed\n",
    "    others_offer = soup.find_all('span', class_='a-size-small mbcMerchantName')# Catura para testear que lleguen los nombres\n",
    "    others_offer_container = soup.find_all('div', class_='a-box-inner a-padding-small')  # Assuming class names remain the same\n",
    "\n",
    "    # Print others_offer for debugging purposes (if needed)\n",
    "    print(f\"OTHERS OFFER:{[o.text.strip() for o in others_offer]}\\n\")\n",
    "\n",
    "    for container in others_offer_container:\n",
    "        title_store = container.find('span', class_='a-size-small mbcMerchantName').text if container.find('span', class_='a-size-small mbcMerchantName') != None else ''\n",
    "        if title_store and 'Amazon.ae' in title_store.text.strip():\n",
    "            final_price_element = container.find('span', class_='a-size-medium a-color-price')\n",
    "            if final_price_element:\n",
    "                final_price = fc.just_price(price_str=final_price_element.text.strip(), dotted_price=False)\n",
    "                is_transmed = True\n",
    "                break  # Exit the loop after finding the first Transmed offer"
   ]
  },
  {
   "cell_type": "code",
   "execution_count": 25,
   "id": "c1d6d720-72bd-4eac-a002-a26d6d3b6969",
   "metadata": {},
   "outputs": [],
   "source": [
    "others_string = ''\n",
    "others_offer_container = soup.find_all('div', class_='a-box-inner a-padding-small')\n",
    "for i in range(1, len(others_offer_container)):\n",
    "        title_store = others_offer_container[i].find('span', class_='a-size-small mbcMerchantName').text if others_offer_container[i].find('span', class_='a-size-small mbcMerchantName') != None else ''\n",
    "        store_price = others_offer_container[i].select_one('span.a-size-medium.a-color-price').text if others_offer_container[i].select_one('span.a-size-medium.a-color-price') != None else 0\n",
    "        others_string += f\"Store:{title_store.strip()} Price:{store_price.strip()}, \""
   ]
  },
  {
   "cell_type": "code",
   "execution_count": 26,
   "id": "28932c9b-4ab1-4c50-b8bf-4309e14d4ccd",
   "metadata": {},
   "outputs": [
    {
     "name": "stdout",
     "output_type": "stream",
     "text": [
      "\n"
     ]
    }
   ],
   "source": [
    "print(others_string)"
   ]
  },
  {
   "cell_type": "code",
   "execution_count": 27,
   "id": "681fc487-b92c-41c4-9187-3405cfc992eb",
   "metadata": {},
   "outputs": [
    {
     "name": "stdout",
     "output_type": "stream",
     "text": [
      "FinalPrice: 52.0\n"
     ]
    }
   ],
   "source": [
    "final_price = 0\n",
    "final_price_int = soup.select_one(\"span.a-price.aok-align-center.reinventPricePriceToPayMargin.priceToPay span span.a-price-whole\").text if soup.select_one(\"span.a-price.aok-align-center.reinventPricePriceToPayMargin.priceToPay span span.a-price-whole\") != None else ''\n",
    "final_price_decimals = soup.select_one(\"span.a-price.aok-align-center.reinventPricePriceToPayMargin.priceToPay span span.a-price-fraction\").text if soup.select_one(\"span.a-price.aok-align-center.reinventPricePriceToPayMargin.priceToPay span span.a-price-fraction\") != None else ''\n",
    "if final_price_int != None and final_price_int != '':\n",
    "    final_price_int = re.sub(\"[^0-9.]\", \"\", final_price_int)\n",
    "    final_price_int = re.sub(\"[ ]\", \"\", final_price_int)\n",
    "    final_price_int = re.sub(\"[.]\", \"\", final_price_int)\n",
    "\n",
    "if final_price_decimals != None and final_price_decimals != '':\n",
    "    final_price_decimals = re.sub(\"[^0-9.]\", \"\", final_price_decimals)\n",
    "    final_price_decimals = re.sub(\"[ ]\", \"\", final_price_decimals)\n",
    "    final_price_decimals = re.sub(\"[.]\", \"\", final_price_decimals)\n",
    "\n",
    "if final_price_int != None and final_price_int != '' and final_price_decimals != None and final_price_decimals != '':\n",
    "    try:\n",
    "        final_price = f\"{final_price_int}.{final_price_decimals}\"\n",
    "        final_price = float(final_price)\n",
    "    except:\n",
    "        final_price = 0\n",
    "        print(f\"1:No se pudo convertir a flotante final_price:{final_price}\")\n",
    "\n",
    "print(f\"FinalPrice: {final_price}\")"
   ]
  },
  {
   "cell_type": "code",
   "execution_count": 28,
   "id": "768988d7-dd02-42f9-ab99-0d3212b267ad",
   "metadata": {},
   "outputs": [],
   "source": [
    "if final_price == 0:\n",
    "    final_price = soup.select_one(\"#newAccordionRow_0 > div:nth-child(1) > div:nth-child(1) > h5:nth-child(2) > div:nth-child(2) > div:nth-child(1) > div:nth-child(1) > div:nth-child(1) > div:nth-child(1) > span:nth-child(1) > span:nth-child(1)\").text if soup.select_one(\"#newAccordionRow_0 > div:nth-child(1) > div:nth-child(1) > h5:nth-child(2) > div:nth-child(2) > div:nth-child(1) > div:nth-child(1) > div:nth-child(1) > div:nth-child(1) > span:nth-child(1) > span:nth-child(1)\") != None else 0 \n",
    "    # final_price = fcs.just_price(price_str=final_price, dotted_price=False)"
   ]
  },
  {
   "cell_type": "code",
   "execution_count": 29,
   "id": "30ec1653-2c4f-46c4-ae98-696cf18274c0",
   "metadata": {},
   "outputs": [
    {
     "name": "stdout",
     "output_type": "stream",
     "text": [
      "OldPrice:AED62.10\n"
     ]
    }
   ],
   "source": [
    "old_price = soup.select_one(\".basisPrice > span:nth-child(1) > span:nth-child(1)\").text if soup.select_one(\".basisPrice > span:nth-child(1) > span:nth-child(1)\") != None else 0\n",
    "print(f\"OldPrice:{old_price}\")"
   ]
  },
  {
   "cell_type": "code",
   "execution_count": 30,
   "id": "94caa393-a0d5-48cf-bade-d9d9c1af909d",
   "metadata": {},
   "outputs": [],
   "source": [
    "if old_price == 0 or old_price == '':\n",
    "    old_price = soup.select_one(\"td.a-color-secondary:nth-child(2) > span:nth-child(1) > span:nth-child(1)\").text if soup.select_one(\"td.a-color-secondary:nth-child(2) > span:nth-child(1) > span:nth-child(1)\") != None else 0\n"
   ]
  },
  {
   "cell_type": "code",
   "execution_count": 31,
   "id": "f454d0c9-7756-4ce4-b8ed-7df5e0d778ae",
   "metadata": {},
   "outputs": [
    {
     "name": "stdout",
     "output_type": "stream",
     "text": [
      "BulletPoint: •Persil Gel provides perfect cleanliness and stubborn stain removal for all laundry types., •Thanks to its liquid format, Persil Gel will not leave any residues on your clothes or in your washing machine., •Persil Gel will leave a fresh and long-lasting fragrance on your clothes., •Persil Gel offers twice the yielding versus regular powder detergent, offering you twice the amount and making it the complete replacement for any powder detergent., •For long-preservation of your fabrics, liquid detergents do not harm the fabrics and do not leave behind any residues., •With its Deep Clean German Technology, Persil Gel is the number 1 Liquid Detergent in the GCC, as per quantitative research..\n"
     ]
    }
   ],
   "source": [
    "bullet_points_list = soup.select(\"li.a-spacing-mini\")\n",
    "bullet_points = ''\n",
    "\n",
    "try:\n",
    "    for i in range(0, len(bullet_points_list)):\n",
    "        content = bullet_points_list[i].text.strip()\n",
    "        if i == len(bullet_points_list) - 1:\n",
    "            bullet_points += f\"•{content}.\"\n",
    "        else:\n",
    "            bullet_points += f\"•{content}, \"\n",
    "except:\n",
    "    print(f\"No se pudo extraer los bullets points\")\n",
    "print(f\"BulletPoint: {bullet_points}\")"
   ]
  },
  {
   "cell_type": "code",
   "execution_count": 32,
   "id": "b5a261f4-be2d-49cd-9352-fbbfdecae37d",
   "metadata": {},
   "outputs": [
    {
     "name": "stdout",
     "output_type": "stream",
     "text": [
      "Description:Persil Gel is the complete laundry detergent for your washing needs. Thanks to its Deep Clean German Technology, Persil Gel removes even the toughest stains with ease to ensure perfect cleanliness. With a long-lasting and fresh fragrance, your laundry will smell clean long after the wash is complete. For long-preservation of your fabrics, Persil Gel will not harm the fabrics and will not leave behind any residues.\n"
     ]
    }
   ],
   "source": [
    "description = soup.find(id='productDescription').text.strip() if soup.find(id='productDescription') != None else ''\n",
    "print(f\"Description:{description}\")"
   ]
  },
  {
   "cell_type": "code",
   "execution_count": 34,
   "id": "24437665-3d65-41f8-848e-6ebda2f7254b",
   "metadata": {},
   "outputs": [
    {
     "name": "stdout",
     "output_type": "stream",
     "text": [
      "https://m.media-amazon.com/images/I/41I2Y+jljOL._AC_US100_.jpg\n",
      "https://m.media-amazon.com/images/I/41HaGewUttL._AC_US100_.jpg\n",
      "https://m.media-amazon.com/images/I/41E5i5qDScL._AC_US100_.jpg\n",
      "https://m.media-amazon.com/images/I/41YU7cpJ2kL._AC_US100_.jpg\n",
      "https://m.media-amazon.com/images/I/51xn4kHhPwL._AC_US100_.jpg\n",
      "4\n"
     ]
    }
   ],
   "source": [
    "q_images_list = soup.find_all(\"li\", class_=\"a-spacing-small\")\n",
    "q_images = 0\n",
    "for i in q_images_list:\n",
    "    content = i.find('img')[\"src\"] if i.find('img') != None else ''\n",
    "    if 'https://m.media-amazon.com/' in content and '.jpg' in content and 'play-button-mb-image' not in content:\n",
    "        print(content)\n",
    "        q_images += 1\n",
    "print(q_images - 1)"
   ]
  },
  {
   "cell_type": "code",
   "execution_count": 18,
   "id": "7135bd24-5f8e-4e36-a7c9-84890b2813b6",
   "metadata": {},
   "outputs": [
    {
     "name": "stdout",
     "output_type": "stream",
     "text": [
      "1\n"
     ]
    }
   ],
   "source": [
    "a_plus = 1 if soup.find_all('div', id='aplus') != [] else 0\n",
    "print(f\"{a_plus}\")"
   ]
  },
  {
   "cell_type": "code",
   "execution_count": 19,
   "id": "7fcf305d-5f62-49e2-81f3-15feb61b2fc0",
   "metadata": {},
   "outputs": [],
   "source": [
    "best_sellers_rank_elements = soup.find(\"div\", id=\"productDetails_db_sections\").div.table.find_all(\"tr\") if soup.find(\"div\", id=\"productDetails_db_sections\") != None else ''"
   ]
  },
  {
   "cell_type": "code",
   "execution_count": 20,
   "id": "7c140661-02f5-4179-a980-68617435ef14",
   "metadata": {},
   "outputs": [],
   "source": [
    "if best_sellers_rank_elements != '':\n",
    "    try:\n",
    "        for i in best_sellers_rank_elements:\n",
    "            content = i.text\n",
    "            if \"Best Sellers Rank\" in content:\n",
    "                ranks = re.findall(r\"#(\\d+)\", content)\n",
    "                category_best_sellers_rank = int(ranks[0])\n",
    "                catgroup_best_sellers_rank = int(ranks[1])\n",
    "    except Exception as e:\n",
    "        category_best_sellers_rank = ''\n",
    "        catgroup_best_sellers_rank = ''\n",
    "        print(f\"ERROS - {e}\")\n",
    "else:\n",
    "    best_sellers_rank_list = soup.select(\"ul.a-unordered-list.a-nostyle.a-vertical.a-spacing-none.detail-bullet-list\")\n",
    "    try:\n",
    "        for i in best_sellers_rank_list:\n",
    "            content = i.text\n",
    "            if \"Best Sellers Rank\" in content:\n",
    "                print(content)\n",
    "                ranks = re.findall(r\"#(\\d+)\", content)\n",
    "                category_best_sellers_rank = int(ranks[0])\n",
    "                catgroup_best_sellers_rank = int(ranks[1])\n",
    "    except Exception as e:\n",
    "        category_best_sellers_rank = ''\n",
    "        catgroup_best_sellers_rank = ''\n",
    "        print(f\"ERROS - {e}\")\n"
   ]
  },
  {
   "cell_type": "code",
   "execution_count": 21,
   "id": "b0ad0201-4e39-40fa-99c4-424d630b1676",
   "metadata": {},
   "outputs": [
    {
     "name": "stdout",
     "output_type": "stream",
     "text": [
      "category_best_sellers_rank:10\n",
      "catgroup_best_sellers_rank:4\n"
     ]
    }
   ],
   "source": [
    "print(f\"category_best_sellers_rank:{category_best_sellers_rank}\")\n",
    "print(f\"catgroup_best_sellers_rank:{catgroup_best_sellers_rank}\")"
   ]
  },
  {
   "cell_type": "code",
   "execution_count": 22,
   "id": "9ed4c8ca-83a7-41b2-a802-85bafd56587a",
   "metadata": {},
   "outputs": [
    {
     "name": "stdout",
     "output_type": "stream",
     "text": [
      "Rating:4.4\n"
     ]
    }
   ],
   "source": [
    "rating = soup.select(\"#acrPopover > span.a-declarative > a > i\")[0].text if soup.select(\"#acrPopover > span.a-declarative > a > i\") != [] else 0\n",
    "rating = rating.replace(\"out of 5 stars\", \"\").strip()\n",
    "rating = float(rating)\n",
    "print(f\"Rating:{rating}\")"
   ]
  },
  {
   "cell_type": "code",
   "execution_count": 23,
   "id": "9f467f3f-1640-4aba-b2c2-4077fceaba1a",
   "metadata": {},
   "outputs": [
    {
     "name": "stdout",
     "output_type": "stream",
     "text": [
      "QRating:69 ratings\n"
     ]
    }
   ],
   "source": [
    "q_ratings = soup.select(\"#acrCustomerReviewText\")[0].text if soup.select(\"#acrCustomerReviewText\") != [] else 0\n",
    "print(f\"QRating:{q_ratings}\")"
   ]
  },
  {
   "cell_type": "code",
   "execution_count": 24,
   "id": "c85790d3-bb94-4157-86c8-5af97d63abb4",
   "metadata": {},
   "outputs": [
    {
     "name": "stdout",
     "output_type": "stream",
     "text": [
      "QRating:69\n"
     ]
    }
   ],
   "source": [
    "try:\n",
    "    if \"ratings\" in q_ratings:\n",
    "        q_ratings = q_ratings.replace(\"ratings\", \"\").strip()\n",
    "    q_ratings = q_ratings.replace(\",\", \".\")\n",
    "    q_ratings = int(q_ratings)\n",
    "except Exception as e:\n",
    "    q_ratings = 0\n",
    "    print(f\"No se pudo filtrar QRatings - {e}\")\n",
    "print(f\"QRating:{q_ratings}\")"
   ]
  },
  {
   "cell_type": "code",
   "execution_count": 25,
   "id": "ff9f9ddb-6a9a-4eff-8f09-de17ff5fbc69",
   "metadata": {},
   "outputs": [
    {
     "name": "stdout",
     "output_type": "stream",
     "text": [
      "ASIN:B07FPPJ5V6\n"
     ]
    }
   ],
   "source": [
    "asin = ''\n",
    "try:\n",
    "    asin_container = soup.find(\"div\", id=\"productDetails_db_sections\").div.table.find_all(\"tr\")\n",
    "    for i in asin_container:\n",
    "        content = i.th.text\n",
    "        if \"ASIN\" in content:\n",
    "            asin = i.td.text.strip()\n",
    "except:\n",
    "    asin = ''\n",
    "print(f\"ASIN:{asin}\")"
   ]
  },
  {
   "cell_type": "code",
   "execution_count": 26,
   "id": "dd3f890a-6161-4d8c-9f93-2df5f18d0200",
   "metadata": {},
   "outputs": [
    {
     "name": "stdout",
     "output_type": "stream",
     "text": [
      "B07FPPJ5V6\n"
     ]
    }
   ],
   "source": [
    "asin = soup.select_one(\"#title_feature_div\")[\"data-csa-c-asin\"] if soup.select_one(\"#title_feature_div\") != None else ''\n",
    "print(asin)"
   ]
  },
  {
   "cell_type": "code",
   "execution_count": 27,
   "id": "905b71f0-9e3d-4b7b-b19f-3465d9d5be65",
   "metadata": {},
   "outputs": [
    {
     "name": "stdout",
     "output_type": "stream",
     "text": [
      "LinkAjax:https://www.amazon.ae/gp/product/ajax/ref=auto_load_aod?asin=B07FPPJ5V6&pc=dp&experienceId=aodAjaxMain\n"
     ]
    }
   ],
   "source": [
    "container_others_sellers = 1 if soup.select(\".a-touch-link\") != None else 0\n",
    "if container_others_sellers == 1 and asin != '':\n",
    "    link_others_sellers = f\"https://www.amazon.ae/gp/product/ajax/ref=auto_load_aod?asin={asin}&pc=dp&experienceId=aodAjaxMain\"\n",
    "else:\n",
    "    link_others_sellers = \"\"\n",
    "print(f\"LinkAjax:{link_others_sellers}\")"
   ]
  },
  {
   "cell_type": "code",
   "execution_count": 28,
   "id": "d692215d-bcb9-4312-9168-1997c7540984",
   "metadata": {},
   "outputs": [
    {
     "name": "stdout",
     "output_type": "stream",
     "text": [
      "BrandStoreLink:https://www.amazon.ae/stores/Pampers/page/06B06AA8-F61D-4B06-8A0E-CC672E5C9A34?ref_=ast_bln\n"
     ]
    }
   ],
   "source": [
    "brand_store_link = soup.select_one(\"a#bylineInfo.a-link-normal\")[\"href\"] if soup.select_one(\"a#bylineInfo.a-link-normal\") != None else ''\n",
    "if brand_store_link != '':\n",
    "    brand_store_link = f\"https://www.amazon.ae{brand_store_link}\"\n",
    "print(f\"BrandStoreLink:{brand_store_link}\")"
   ]
  },
  {
   "cell_type": "code",
   "execution_count": 29,
   "id": "ee6fdf9b-6146-43a0-bbbb-e529d9edc6f8",
   "metadata": {},
   "outputs": [
    {
     "name": "stdout",
     "output_type": "stream",
     "text": [
      "Stock:1\n"
     ]
    }
   ],
   "source": [
    "stock_string = soup.find(\"div\", id=\"availability\").text if soup.find(\"div\", id=\"availability\") else ''\n",
    "if 'In Stock' in stock_string and 'out of stock' not in stock_string:\n",
    "    stock = 1\n",
    "else:\n",
    "    stock = 0\n",
    "print(f\"Stock:{stock}\")"
   ]
  },
  {
   "cell_type": "code",
   "execution_count": 30,
   "id": "266b5656-bc58-4d74-bb28-2ab5abdaa2d7",
   "metadata": {},
   "outputs": [],
   "source": [
    "headers = {\n",
    "  'User-Agent': 'Mozilla/5.0 (Windows NT 10.0; Win64; x64; rv:124.0) Gecko/20100101 Firefox/124.0',\n",
    "  'Accept': 'text/html,*/*',\n",
    "  'Accept-Language': 'en-US;q=1,en;q=1',\n",
    "  'Accept-Encoding': 'gzip, deflate, br',\n",
    "  'X-Requested-With': 'XMLHttpRequest',\n",
    "  'Alt-Used': 'www.amazon.ae',\n",
    "  'Connection': 'keep-alive',\n",
    "  'Referer': 'https://www.amazon.ae',\n",
    "  'Sec-Fetch-Dest': 'empty',\n",
    "  'Sec-Fetch-Mode': 'cors',\n",
    "  'Sec-Fetch-Site': 'same-origin',\n",
    "  'Sec-GPC': '1',\n",
    "  'TE': 'trailers'\n",
    "}"
   ]
  },
  {
   "cell_type": "code",
   "execution_count": 31,
   "id": "0fb83c1c-8d2c-4c73-9c51-6bcb05359622",
   "metadata": {},
   "outputs": [],
   "source": [
    "# response = requests.get(link_others_sellers)\n",
    "response = requests.request(\"GET\", link_others_sellers, headers=headers, data=payload)\n",
    "html_content = response.text\n",
    "soup = BeautifulSoup(html_content, \"html.parser\")"
   ]
  },
  {
   "cell_type": "code",
   "execution_count": 32,
   "id": "73a22c93-6ad6-4caa-8716-1e3ce7eedc7a",
   "metadata": {},
   "outputs": [],
   "source": [
    "others = soup.select(\"div#aod-offer\")"
   ]
  },
  {
   "cell_type": "code",
   "execution_count": 47,
   "id": "2083d2bf-f06d-4e46-ad07-29aefe368dd3",
   "metadata": {},
   "outputs": [
    {
     "name": "stdout",
     "output_type": "stream",
     "text": [
      "Seller: Amazon.ae \n",
      "Discount:15%\n",
      "Price:AED60.75\n",
      "\n",
      "Seller:Health Express and Co.®\n",
      "Discount:15%\n",
      "Price:AED55.00\n",
      "\n",
      "Seller:KLIKGROCER\n",
      "Discount:15%\n",
      "Price:AED64.00\n",
      "\n",
      "Seller:CLICKtoCart\n",
      "Discount:15%\n",
      "Price:AED85.00\n",
      "\n",
      "Seller:Amaaz0n\n",
      "Discount:15%\n",
      "Price:AED85.00\n",
      "\n",
      "Seller:Ereshva Store\n",
      "Discount:15%\n",
      "Price:AED84.00\n",
      "\n",
      "Seller:Health Feeling\n",
      "Discount:15%\n",
      "Price:AED96.08\n",
      "\n",
      "Seller:Care & Smile FZE\n",
      "Discount:15%\n",
      "Price:AED99.99\n",
      "\n",
      "Seller:Nass Dubai\n",
      "Discount:15%\n",
      "Price:AED100.00\n",
      "\n",
      "Seller:LuLu\n",
      "Discount:15%\n",
      "Price:AED79.00\n",
      "\n"
     ]
    }
   ],
   "source": [
    "if len(others) != 0: \n",
    "    for i in range(0, len(others)):\n",
    "        id = i + 1\n",
    "        seller = others[i].find(\"div\", id=\"aod-offer-soldBy\").a.text.strip() if others[i].find(\"div\", id=\"aod-offer-soldBy\").a != None else ''\n",
    "        seller_amazon = others[i].select(\"div#aod-offer-soldBy.a-section.a-spacing-none.a-spacing-top-micro.aod-clear-float div.a-fixed-left-grid div.a-fixed-left-grid-inner div.a-fixed-left-grid-col.a-col-right\") if others[i].select(\"div#aod-offer-soldBy.a-section.a-spacing-none.a-spacing-top-micro.aod-clear-float div.a-fixed-left-grid div.a-fixed-left-grid-inner div.a-fixed-left-grid-col.a-col-right\") != None else ''\n",
    "        discount = others[i].find(\"div\", id=f\"aod-offer-promotion-{id}\").find(class_=\"a-text-bold\").text if others[i].find(\"div\", id=f\"aod-offer-promotion-{id}\").find(class_=\"a-text-bold\") != None else ''\n",
    "        price = others[i].find(\"span\", id=f\"aod-price-{id}\").find(class_=\"a-offscreen\").text if others[i].find(\"span\", id=f\"aod-price-{id}\").find(class_=\"a-offscreen\") != None else ''\n",
    "        if seller_amazon != '':\n",
    "            seller_amazon = seller_amazon[0].span.text if seller_amazon[0].span != None else ''\n",
    "            if \"Amazon.ae\" in seller_amazon or \"Amaaz0n\" in seller_amazon:\n",
    "                seller = seller_amazon\n",
    "                amazon_seller = seller\n",
    "                amazon_dicount = discount\n",
    "                amazon_price = price\n",
    "                \n",
    "        print(f\"Seller:{seller}\")\n",
    "        print(f\"Discount:{discount}\")\n",
    "        print(f\"Price:{price}\\n\")\n",
    "else:\n",
    "    print(f\"No hay otras ofertas\")"
   ]
  },
  {
   "cell_type": "code",
   "execution_count": 48,
   "id": "fa65d823-f40b-4653-8b2e-bc249838d5d4",
   "metadata": {},
   "outputs": [
    {
     "name": "stdout",
     "output_type": "stream",
     "text": [
      "OtherSeller1: Amazon.ae \n",
      "OtherSeller1Discount:15%\n",
      "OtherSeller1Price:AED60.75\n"
     ]
    }
   ],
   "source": [
    "try:\n",
    "    if \"Amazon.ae\" in amazon_seller or \"Amaaz0n\" in seller_amazon:\n",
    "        other_seller1 = amazon_seller\n",
    "        other_seller1_discount = amazon_dicount\n",
    "        other_seller1_price = amazon_price\n",
    "    else:\n",
    "        other_seller1 = others[0].find(\"div\", id=\"aod-offer-soldBy\").a.text.strip() if others[0].find(\"div\", id=\"aod-offer-soldBy\").a != None else ''\n",
    "        other_seller1_discount = others[0].find(\"div\", id=\"aod-offer-promotion-1\").find(class_=\"a-text-bold\").text if others[0].find(\"div\", id=\"aod-offer-promotion-1\").find(class_=\"a-text-bold\") != None else ''\n",
    "        other_seller1_price = others[0].find(\"span\", id=\"aod-price-1\").find(class_=\"a-offscreen\").text if others[0].find(\"span\", id=\"aod-price-1\").find(class_=\"a-offscreen\") != None else ''\n",
    "except:\n",
    "    other_seller1 = ''\n",
    "    other_seller1_discount = ''\n",
    "    other_seller1_price = 0\n",
    "       \n",
    "print(f\"OtherSeller1:{other_seller1}\")\n",
    "print(f\"OtherSeller1Discount:{other_seller1_discount}\")\n",
    "print(f\"OtherSeller1Price:{other_seller1_price}\")"
   ]
  },
  {
   "cell_type": "code",
   "execution_count": 49,
   "id": "f4992a1b-cc2d-4498-ba3e-3e25bcb418c2",
   "metadata": {},
   "outputs": [
    {
     "name": "stdout",
     "output_type": "stream",
     "text": [
      "OtherSeller2:Health Express and Co.®\n",
      "OtherSeller2Discount:15%\n",
      "OtherSeller2Price:AED55.00\n"
     ]
    }
   ],
   "source": [
    "try:\n",
    "    other_seller2 = others[1].find(\"div\", id=\"aod-offer-soldBy\").a.text.strip() if others[1].find(\"div\", id=\"aod-offer-soldBy\").a != None else ''\n",
    "    other_seller2_discount = others[1].find(\"div\", id=\"aod-offer-promotion-2\").find(class_=\"a-text-bold\").text if others[1].find(\"div\", id=\"aod-offer-promotion-2\").find(class_=\"a-text-bold\") != None else ''\n",
    "    other_seller2_price = others[1].find(\"span\", id=\"aod-price-2\").find(class_=\"a-offscreen\").text if others[1].find(\"span\", id=f\"aod-price-2\").find(class_=\"a-offscreen\") != None else ''\n",
    "except:\n",
    "    other_seller2 = ''\n",
    "    other_seller2_discount = ''\n",
    "    other_seller2_price = 0\n",
    "\n",
    "print(f\"OtherSeller2:{other_seller2}\")\n",
    "print(f\"OtherSeller2Discount:{other_seller2_discount}\")\n",
    "print(f\"OtherSeller2Price:{other_seller2_price}\")"
   ]
  },
  {
   "cell_type": "code",
   "execution_count": 50,
   "id": "b1ab1e55-04a9-4368-9694-4e30d5710b26",
   "metadata": {},
   "outputs": [
    {
     "name": "stdout",
     "output_type": "stream",
     "text": [
      "OtherSeller3:KLIKGROCER\n",
      "OtherSeller3Discount:15%\n",
      "OtherSeller3Price:AED64.00\n"
     ]
    }
   ],
   "source": [
    "try:\n",
    "    other_seller3 = others[2].find(\"div\", id=\"aod-offer-soldBy\").a.text.strip() if others[2].find(\"div\", id=\"aod-offer-soldBy\").a != None else ''\n",
    "    other_seller3_discount = others[2].find(\"div\", id=\"aod-offer-promotion-3\").find(class_=\"a-text-bold\").text if others[2].find(\"div\", id=\"aod-offer-promotion-3\").find(class_=\"a-text-bold\") != None else ''\n",
    "    other_seller3_price = others[2].find(\"span\", id=\"aod-price-3\").find(class_=\"a-offscreen\").text if others[2].find(\"span\", id=\"aod-price-3\").find(class_=\"a-offscreen\") != None else ''\n",
    "except:\n",
    "    other_seller3 = ''\n",
    "    other_seller3_discount = ''\n",
    "    other_seller3_price = 0\n",
    "\n",
    "print(f\"OtherSeller3:{other_seller3}\")\n",
    "print(f\"OtherSeller3Discount:{other_seller3_discount}\")\n",
    "print(f\"OtherSeller3Price:{other_seller3_price}\")"
   ]
  },
  {
   "cell_type": "code",
   "execution_count": 51,
   "id": "81945610-a562-4917-90ce-9a1ab7d169f2",
   "metadata": {},
   "outputs": [
    {
     "name": "stdout",
     "output_type": "stream",
     "text": [
      "OtherSeller4:CLICKtoCart\n",
      "OtherSeller4Discount:15%\n",
      "OtherSeller4Price:AED85.00\n"
     ]
    }
   ],
   "source": [
    "try:\n",
    "    other_seller4 = others[3].find(\"div\", id=\"aod-offer-soldBy\").a.text.strip() if others[3].find(\"div\", id=\"aod-offer-soldBy\").a != None else ''\n",
    "    other_seller4_discount = others[3].find(\"div\", id=\"aod-offer-promotion-4\").find(class_=\"a-text-bold\").text if others[3].find(\"div\", id=\"aod-offer-promotion-4\").find(class_=\"a-text-bold\") != None else ''\n",
    "    other_seller4_price = others[3].find(\"span\", id=\"aod-price-4\").find(class_=\"a-offscreen\").text if others[3].find(\"span\", id=\"aod-price-4\").find(class_=\"a-offscreen\") != None else ''\n",
    "except:\n",
    "    other_seller4 = ''\n",
    "    other_seller4_discount = ''\n",
    "    other_seller4_price = 0\n",
    "\n",
    "print(f\"OtherSeller4:{other_seller4}\")\n",
    "print(f\"OtherSeller4Discount:{other_seller4_discount}\")\n",
    "print(f\"OtherSeller4Price:{other_seller4_price}\")"
   ]
  },
  {
   "cell_type": "code",
   "execution_count": 52,
   "id": "df1bdf5f-8eb7-40a5-a499-f50c2b9bd955",
   "metadata": {},
   "outputs": [
    {
     "name": "stdout",
     "output_type": "stream",
     "text": [
      "OtherSeller5: Amazon.ae \n",
      "OtherSeller5Discount:15%\n",
      "OtherSeller5Price:AED60.75\n"
     ]
    }
   ],
   "source": [
    "try:\n",
    "    if \"Amazon.ae\" in amazon_seller or \"Amaaz0n\" in seller_amazon:\n",
    "        other_seller5 = amazon_seller\n",
    "        other_seller5_discount = amazon_dicount\n",
    "        other_seller5_price = amazon_price\n",
    "    else:\n",
    "        other_seller5 = ''\n",
    "        other_seller5_discount = ''\n",
    "        other_seller5_price = 0\n",
    "except:\n",
    "    other_seller5 = ''\n",
    "    other_seller5_discount = ''\n",
    "    other_seller5_price = 0\n",
    "\n",
    "print(f\"OtherSeller5:{other_seller5}\")\n",
    "print(f\"OtherSeller5Discount:{other_seller5_discount}\")\n",
    "print(f\"OtherSeller5Price:{other_seller5_price}\")"
   ]
  },
  {
   "cell_type": "code",
   "execution_count": null,
   "id": "d3101427-9e15-48b1-9fe9-06cbbc7950f2",
   "metadata": {},
   "outputs": [],
   "source": []
  }
 ],
 "metadata": {
  "kernelspec": {
   "display_name": "Python 3 (ipykernel)",
   "language": "python",
   "name": "python3"
  },
  "language_info": {
   "codemirror_mode": {
    "name": "ipython",
    "version": 3
   },
   "file_extension": ".py",
   "mimetype": "text/x-python",
   "name": "python",
   "nbconvert_exporter": "python",
   "pygments_lexer": "ipython3",
   "version": "3.11.3"
  }
 },
 "nbformat": 4,
 "nbformat_minor": 5
}
