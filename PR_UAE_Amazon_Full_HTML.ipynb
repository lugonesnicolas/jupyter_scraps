{
 "cells": [
  {
   "cell_type": "markdown",
   "id": "1e1f501c-eeea-4ddf-927a-15b2591d7309",
   "metadata": {},
   "source": [
    "# Testeo para Spider HTML"
   ]
  },
  {
   "cell_type": "code",
   "execution_count": 80,
   "id": "cc863bd0-b139-4a45-8556-2ce362bec93e",
   "metadata": {},
   "outputs": [],
   "source": [
    "import requests\n",
    "import re\n",
    "from bs4 import BeautifulSoup\n",
    "import time"
   ]
  },
  {
   "cell_type": "code",
   "execution_count": 81,
   "id": "e8e7efab-baf4-40cf-b535-4e6317e6c43c",
   "metadata": {},
   "outputs": [],
   "source": [
    "url = 'https://www.amazon.ae/Ariel-Automatic-Laundry-Detergent-Original/dp/B076L3PYX6/ref=pd_vtp_h_pd_vtp_h_d_sccl_2/257-2861550-0109024?pd_rd_w=Gh3Nt&content-id=amzn1.sym.84eb92b9-87b1-451d-8969-226f5a04c3f5&pf_rd_p=84eb92b9-87b1-451d-8969-226f5a04c3f5&pf_rd_r=TWHGYCDGMJFWJDP009YD&pd_rd_wg=Z3w7T&pd_rd_r=094a09ae-684d-4c15-b779-42bfe86a86a4&pd_rd_i=B076L3PYX6&psc=1'\n",
    "url = 'https://www.amazon.ae/Pampers-Premium-Absorption-Ultimate-Protection/dp/B07SRSVW9B/ref=sr_1_5?crid=21HM2G837EYZ0&dib=eyJ2IjoiMSJ9.GZ3duzhDOLb79dFm1q9Ip1XWxVh_SBEdckjiR63DX8LhaS8lFX2mGs8-YCrrSIE9Ef5W7iI-dP0wytWqzJHzIK2LfKbEQrLIApnWzkuYJHsawIqMqf0OLOSRiApGGK2uGY6uPkgncxtVZC1e15EF-f0AgZc9AeKtJHOPqPfh5w1er9tcgJMDRZ-UnWbBkzSsSNDnX6b-QR3igoHMS1jAmmBv7riR9NiX_DX-ezYsXfUdfk9jMi_r5NKWDYBC2N59H44UsqDwegUqSVPazFa98Vd0qWY95NQOXw2iYVkINZg.cAbZZvD9Un4MEV6C9bPFHztPonLU_GC9qbiEuA_UZDw&dib_tag=se&keywords=pampers&qid=1712775725&sprefix=pamper%2Caps%2C376&sr=8-5&th=1'"
   ]
  },
  {
   "cell_type": "code",
   "execution_count": 82,
   "id": "ecbcc77d-43c4-47b2-9dea-73085808f98f",
   "metadata": {},
   "outputs": [],
   "source": [
    "payload = {}\n",
    "headers = {\n",
    "  'User-Agent': 'Mozilla/5.0 (Windows NT 10.0; Win64; x64; rv:124.0) Gecko/20100101 Firefox/124.0',\n",
    "  'Accept': 'text/html,application/xhtml+xml,application/xml;q=0.9,image/avif,image/webp,*/*;q=0.8',\n",
    "  'Accept-Language': 'en-US;q=0.5,en;q=0.3',\n",
    "  'Accept-Encoding': 'gzip, deflate, br',\n",
    "  'Alt-Used': 'www.amazon.ae',\n",
    "  'Connection': 'keep-alive',\n",
    "  'Upgrade-Insecure-Requests': '1',\n",
    "  'Sec-Fetch-Dest': 'document',\n",
    "  'Sec-Fetch-Mode': 'navigate',\n",
    "  'Sec-Fetch-Site': 'none',\n",
    "  'Sec-Fetch-User': '?1',\n",
    "  'Sec-GPC': '1'\n",
    "}"
   ]
  },
  {
   "cell_type": "code",
   "execution_count": 83,
   "id": "1ed5898a-0d85-4eb2-8476-4b204b6618a9",
   "metadata": {},
   "outputs": [],
   "source": [
    "response = requests.request(\"GET\", url, headers=headers, data=payload)\n",
    "html_content = response.text\n",
    "soup = BeautifulSoup(html_content, \"html.parser\")"
   ]
  },
  {
   "cell_type": "code",
   "execution_count": 84,
   "id": "6c05b4b5-e99f-4232-aea5-8a2d39c4c3bf",
   "metadata": {},
   "outputs": [
    {
     "name": "stdout",
     "output_type": "stream",
     "text": [
      "---- Title:Pampers Premium Care Newborn Taped Diapers, Size 2, 3-8kg, Unique Softest Absorption for Ultimate Skin Protection, 168 Count\n"
     ]
    }
   ],
   "source": [
    "title = soup.find('span', id='productTitle').text.strip() if soup.find('span', id='productTitle') != None else 'No title'\n",
    "print(f\"---- Title:{title}\")"
   ]
  },
  {
   "cell_type": "code",
   "execution_count": 85,
   "id": "b933fd71-0d0b-4de9-9904-cfd0d9259f15",
   "metadata": {},
   "outputs": [],
   "source": [
    "buy_box = soup.select_one('#merchantInfoFeature_feature_div > div:nth-child(2) > div:nth-child(1) > span:nth-child(1) > a:nth-child(1)').text if soup.select_one('#merchantInfoFeature_feature_div > div:nth-child(2) > div:nth-child(1) > span:nth-child(1) > a:nth-child(1)') != None else ''\n",
    "if buy_box == '':\n",
    "    buy_box = soup.select_one('#merchantInfoFeature_feature_div > div:nth-child(2) > div:nth-child(1) > span:nth-child(1)').text if soup.select_one('#merchantInfoFeature_feature_div > div:nth-child(2) > div:nth-child(1) > span:nth-child(1)') != None else ''\n",
    "if buy_box == '':\n",
    "    buy_box = soup.select_one('tr.a-spacing-micro:nth-child(2) > td:nth-child(2) > span:nth-child(1) > a:nth-child(1)').text if soup.select_one('tr.a-spacing-micro:nth-child(2) > td:nth-child(2) > span:nth-child(1) > a:nth-child(1)') != None else ''"
   ]
  },
  {
   "cell_type": "code",
   "execution_count": 86,
   "id": "e131aa7d-84f7-4e89-a0ec-70d5bed57203",
   "metadata": {},
   "outputs": [],
   "source": [
    "if buy_box == '' or 'Amazon.ae' not in buy_box:\n",
    "    # Check if the store is transmed\n",
    "    others_offer = soup.find_all('span', class_='a-size-small mbcMerchantName')# Catura para testear que lleguen los nombres\n",
    "    others_offer_container = soup.find_all('div', class_='a-box-inner a-padding-small')  # Assuming class names remain the same\n",
    "\n",
    "    # Print others_offer for debugging purposes (if needed)\n",
    "    print(f\"OTHERS OFFER:{[o.text.strip() for o in others_offer]}\\n\")\n",
    "\n",
    "    for container in others_offer_container:\n",
    "        title_store = container.find('span', class_='a-size-small mbcMerchantName').text if container.find('span', class_='a-size-small mbcMerchantName') != None else ''\n",
    "        if title_store and 'Amazon.ae' in title_store.text.strip():\n",
    "            final_price_element = container.find('span', class_='a-size-medium a-color-price')\n",
    "            if final_price_element:\n",
    "                final_price = fc.just_price(price_str=final_price_element.text.strip(), dotted_price=False)\n",
    "                is_transmed = True\n",
    "                break  # Exit the loop after finding the first Transmed offer"
   ]
  },
  {
   "cell_type": "code",
   "execution_count": 87,
   "id": "c1d6d720-72bd-4eac-a002-a26d6d3b6969",
   "metadata": {},
   "outputs": [],
   "source": [
    "others_string = ''\n",
    "others_offer_container = soup.find_all('div', class_='a-box-inner a-padding-small')\n",
    "for i in range(1, len(others_offer_container)):\n",
    "        title_store = others_offer_container[i].find('span', class_='a-size-small mbcMerchantName').text if others_offer_container[i].find('span', class_='a-size-small mbcMerchantName') != None else ''\n",
    "        store_price = others_offer_container[i].select_one('span.a-size-medium.a-color-price').text if others_offer_container[i].select_one('span.a-size-medium.a-color-price') != None else 0\n",
    "        others_string += f\"Store:{title_store.strip()} Price:{store_price.strip()}, \""
   ]
  },
  {
   "cell_type": "code",
   "execution_count": 88,
   "id": "28932c9b-4ab1-4c50-b8bf-4309e14d4ccd",
   "metadata": {},
   "outputs": [
    {
     "name": "stdout",
     "output_type": "stream",
     "text": [
      "\n"
     ]
    }
   ],
   "source": [
    "print(others_string)"
   ]
  },
  {
   "cell_type": "code",
   "execution_count": 89,
   "id": "681fc487-b92c-41c4-9187-3405cfc992eb",
   "metadata": {},
   "outputs": [
    {
     "name": "stdout",
     "output_type": "stream",
     "text": [
      "FinalPrice: 0\n"
     ]
    }
   ],
   "source": [
    "final_price = 0\n",
    "final_price_int = soup.select_one(\"span.a-price.aok-align-center.reinventPricePriceToPayMargin.priceToPay span span.a-price-whole\").text if soup.select_one(\"span.a-price.aok-align-center.reinventPricePriceToPayMargin.priceToPay span span.a-price-whole\") != None else ''\n",
    "final_price_decimals = soup.select_one(\"span.a-price.aok-align-center.reinventPricePriceToPayMargin.priceToPay span span.a-price-fraction\").text if soup.select_one(\"span.a-price.aok-align-center.reinventPricePriceToPayMargin.priceToPay span span.a-price-fraction\") != None else ''\n",
    "if final_price_int != None and final_price_int != '':\n",
    "    final_price_int = re.sub(\"[^0-9.]\", \"\", final_price_int)\n",
    "    final_price_int = re.sub(\"[ ]\", \"\", final_price_int)\n",
    "    final_price_int = re.sub(\"[.]\", \"\", final_price_int)\n",
    "\n",
    "if final_price_decimals != None and final_price_decimals != '':\n",
    "    final_price_decimals = re.sub(\"[^0-9.]\", \"\", final_price_decimals)\n",
    "    final_price_decimals = re.sub(\"[ ]\", \"\", final_price_decimals)\n",
    "    final_price_decimals = re.sub(\"[.]\", \"\", final_price_decimals)\n",
    "\n",
    "if final_price_int != None and final_price_int != '' and final_price_decimals != None and final_price_decimals != '':\n",
    "    try:\n",
    "        final_price = f\"{final_price_int}.{final_price_decimals}\"\n",
    "        final_price = float(final_price)\n",
    "    except:\n",
    "        final_price = 0\n",
    "        print(f\"1:No se pudo convertir a flotante final_price:{final_price}\")\n",
    "\n",
    "print(f\"FinalPrice: {final_price}\")"
   ]
  },
  {
   "cell_type": "code",
   "execution_count": 90,
   "id": "768988d7-dd02-42f9-ab99-0d3212b267ad",
   "metadata": {},
   "outputs": [],
   "source": [
    "if final_price == 0:\n",
    "    final_price = soup.select_one(\"#newAccordionRow_0 > div:nth-child(1) > div:nth-child(1) > h5:nth-child(2) > div:nth-child(2) > div:nth-child(1) > div:nth-child(1) > div:nth-child(1) > div:nth-child(1) > span:nth-child(1) > span:nth-child(1)\").text if soup.select_one(\"#newAccordionRow_0 > div:nth-child(1) > div:nth-child(1) > h5:nth-child(2) > div:nth-child(2) > div:nth-child(1) > div:nth-child(1) > div:nth-child(1) > div:nth-child(1) > span:nth-child(1) > span:nth-child(1)\") != None else 0 \n",
    "    # final_price = fcs.just_price(price_str=final_price, dotted_price=False)"
   ]
  },
  {
   "cell_type": "code",
   "execution_count": 91,
   "id": "30ec1653-2c4f-46c4-ae98-696cf18274c0",
   "metadata": {},
   "outputs": [
    {
     "name": "stdout",
     "output_type": "stream",
     "text": [
      "OldPrice:0\n"
     ]
    }
   ],
   "source": [
    "old_price = soup.select_one(\".basisPrice > span:nth-child(1) > span:nth-child(1)\").text if soup.select_one(\".basisPrice > span:nth-child(1) > span:nth-child(1)\") != None else 0\n",
    "print(f\"OldPrice:{old_price}\")"
   ]
  },
  {
   "cell_type": "code",
   "execution_count": 92,
   "id": "94caa393-a0d5-48cf-bade-d9d9c1af909d",
   "metadata": {},
   "outputs": [],
   "source": [
    "if old_price == 0 or old_price == '':\n",
    "    old_price = soup.select_one(\"td.a-color-secondary:nth-child(2) > span:nth-child(1) > span:nth-child(1)\").text if soup.select_one(\"td.a-color-secondary:nth-child(2) > span:nth-child(1) > span:nth-child(1)\") != None else 0\n"
   ]
  },
  {
   "cell_type": "code",
   "execution_count": 93,
   "id": "f454d0c9-7756-4ce4-b8ed-7df5e0d778ae",
   "metadata": {},
   "outputs": [
    {
     "name": "stdout",
     "output_type": "stream",
     "text": [
      "BulletPoint: •ULTIMATE SKIN PROTECTION & UNIQUE SOFTEST ABSORPTION: Pampers Premium Care Newborn Taped Diapers come with cotton-like softness and built-in lotion to ensure unique softest absorption for ultimate skin protection., •SOFTEST DIAPER IN THE GCC: Pampers Premium Care Baby Diapers provide all round soft and stretchy sides, gently wrapping your baby in silky softness to give an extra comfortable fit. They protect your baby’s delicate belly and comfortably snug their body. No wonder Pampers Premium Care Diapers are the best diapers in the GCC., •NAVEL CUT: Specifically designed for newborns, Pampers Baby Diapers Size 2 come with navel cut that will protect your baby's belly with a perfectly contoured fit to always ensure their comfort., •BREATHABLE MATERIALS: These diapers are made with a lotion that helps protect your baby from skin irritation. The breathable materials with micropores let fresh air in and humid air out allowing the skin to breathe freely., •RUNNY-MESS ABSORPTION: The only diaper lined with a unique Absorb-Away Layer. The Premium Care Diaper technology will pull wetness and mess away from your baby’s skin to ensure an even better protection against irritation., •QUICK DRY SYSTEM: Driven by its super absorbent quilts, Pampers Premium Care Diapers pull away wetness and provide soft and silky feel to your baby’s skin., •WETNESS INDICATOR: Made with features you and your baby will love, these Pampers diapers come with a handy wetness indicator that simply goes from yellow to blue, so you always know when it might be time to change..\n"
     ]
    }
   ],
   "source": [
    "bullet_points_list = soup.select(\"li.a-spacing-mini\")\n",
    "bullet_points = ''\n",
    "\n",
    "try:\n",
    "    for i in range(0, len(bullet_points_list)):\n",
    "        content = bullet_points_list[i].text.strip()\n",
    "        if i == len(bullet_points_list) - 1:\n",
    "            bullet_points += f\"•{content}.\"\n",
    "        else:\n",
    "            bullet_points += f\"•{content}, \"\n",
    "except:\n",
    "    print(f\"No se pudo extraer los bullets points\")\n",
    "print(f\"BulletPoint: {bullet_points}\")"
   ]
  },
  {
   "cell_type": "code",
   "execution_count": 94,
   "id": "b5a261f4-be2d-49cd-9352-fbbfdecae37d",
   "metadata": {},
   "outputs": [
    {
     "name": "stdout",
     "output_type": "stream",
     "text": [
      "Description:Product Description   Pampers Premium Care Newborn Baby Taped Diaper is soft and gentle on your little one’s skin. It offers unique softest absorption and ultimate skin protection to ensure your baby will have a leak-free comfort. Designed in German labs, Pampers Premium Care Diapers have been voted the softest diapers in the GCC by moms. Their cotton-like softness and built-in lotion keep your baby’s skin healthy and soft while helping prevent skin irritation. What is the difference between Pampers and Pampers Premium Care? Pampers Premium Care Baby Diapers come with a special layer to ensure extra absorption and prevent runny or messiness. This extra layer helps distribute wetness evenly, thereby ensuring dryness and less bulk. Which age can Pampers Premium Care diapers be used for? Pampers Size 2 Premium Care Newborn Taped Diapers are designed to provide comfortable and ultimate skin protection care to babies weighing from 3-8kg, making them a must for newborn baby items. Additionally, their unique navel cut will protect your little one’s belly with a perfectly contoured fit, making them comfortable for your baby all through the day. Pampers Premium Care Diapers also come with a wetness indicator that changes from yellow to blue, signalling that it might be time to change the nappies. No wonder Pampers baby diaper is a preferred choice of moms around the world.   Set Contains:   168 diapers\n"
     ]
    }
   ],
   "source": [
    "description = soup.find(id='productDescription').text.strip() if soup.find(id='productDescription') != None else ''\n",
    "print(f\"Description:{description}\")"
   ]
  },
  {
   "cell_type": "code",
   "execution_count": 95,
   "id": "24437665-3d65-41f8-848e-6ebda2f7254b",
   "metadata": {},
   "outputs": [
    {
     "name": "stdout",
     "output_type": "stream",
     "text": [
      "6\n"
     ]
    }
   ],
   "source": [
    "q_images_list = soup.find_all(\"li\", class_=\"a-spacing-small\")\n",
    "q_images = 0\n",
    "for i in q_images_list:\n",
    "    content = i.find('img')[\"src\"] if i.find('img') != None else ''\n",
    "    if 'https://m.media-amazon.com/' in content and '.jpg' in content:\n",
    "        q_images += 1\n",
    "print(q_images - 1)"
   ]
  },
  {
   "cell_type": "code",
   "execution_count": 96,
   "id": "7135bd24-5f8e-4e36-a7c9-84890b2813b6",
   "metadata": {},
   "outputs": [
    {
     "name": "stdout",
     "output_type": "stream",
     "text": [
      "1\n"
     ]
    }
   ],
   "source": [
    "a_plus = 1 if soup.find_all('div', id='aplus') != [] else 0\n",
    "print(f\"{a_plus}\")"
   ]
  },
  {
   "cell_type": "code",
   "execution_count": 97,
   "id": "7fcf305d-5f62-49e2-81f3-15feb61b2fc0",
   "metadata": {},
   "outputs": [],
   "source": [
    "best_sellers_rank_elements = soup.find(\"div\", id=\"productDetails_db_sections\").div.table.find_all(\"tr\") if soup.find(\"div\", id=\"productDetails_db_sections\") != None else ''"
   ]
  },
  {
   "cell_type": "code",
   "execution_count": 98,
   "id": "7c140661-02f5-4179-a980-68617435ef14",
   "metadata": {},
   "outputs": [],
   "source": [
    "try:\n",
    "    for i in best_sellers_rank_elements:\n",
    "        content = i.text\n",
    "        if \"Best Sellers Rank\" in content:\n",
    "            ranks = re.findall(r\"#(\\d+)\", content)\n",
    "            category_best_sellers_rank = int(ranks[0])\n",
    "            catgroup_best_sellers_rank = int(ranks[1])\n",
    "except Exception as e:\n",
    "    print(f\"ERROS - {e}\")"
   ]
  },
  {
   "cell_type": "code",
   "execution_count": 99,
   "id": "b0ad0201-4e39-40fa-99c4-424d630b1676",
   "metadata": {},
   "outputs": [
    {
     "name": "stdout",
     "output_type": "stream",
     "text": [
      "category_best_sellers_rank:4\n",
      "catgroup_best_sellers_rank:1\n"
     ]
    }
   ],
   "source": [
    "print(f\"category_best_sellers_rank:{category_best_sellers_rank}\")\n",
    "print(f\"catgroup_best_sellers_rank:{catgroup_best_sellers_rank}\")"
   ]
  },
  {
   "cell_type": "code",
   "execution_count": 100,
   "id": "9ed4c8ca-83a7-41b2-a802-85bafd56587a",
   "metadata": {},
   "outputs": [
    {
     "name": "stdout",
     "output_type": "stream",
     "text": [
      "Rating:4.5\n"
     ]
    }
   ],
   "source": [
    "rating = soup.select(\"#acrPopover > span.a-declarative > a > i\")[0].text if soup.select(\"#acrPopover > span.a-declarative > a > i\") != [] else 0\n",
    "rating = rating.replace(\"out of 5 stars\", \"\").strip()\n",
    "rating = float(rating)\n",
    "print(f\"Rating:{rating}\")"
   ]
  },
  {
   "cell_type": "code",
   "execution_count": 101,
   "id": "9f467f3f-1640-4aba-b2c2-4077fceaba1a",
   "metadata": {},
   "outputs": [
    {
     "name": "stdout",
     "output_type": "stream",
     "text": [
      "QRating:1,950\n"
     ]
    }
   ],
   "source": [
    "q_rating = soup.select(\"#acrCustomerReviewText\")[0].text if soup.select(\"#acrCustomerReviewText\") != [] else 0\n",
    "print(f\"QRating:{q_rating}\")"
   ]
  },
  {
   "cell_type": "code",
   "execution_count": 102,
   "id": "d14f2931-bcc8-4777-a951-f545e73ec2d5",
   "metadata": {},
   "outputs": [
    {
     "name": "stdout",
     "output_type": "stream",
     "text": [
      "QRating:0\n"
     ]
    }
   ],
   "source": [
    "try:\n",
    "    q_rating = q_rating.replace(\"ratings\", \"\").strip()\n",
    "    q_rating = int(q_rating)\n",
    "except:\n",
    "    q_rating = 0\n",
    "print(f\"QRating:{q_rating}\")"
   ]
  },
  {
   "cell_type": "code",
   "execution_count": 104,
   "id": "0bf2bc96-b380-4133-b409-01d966ee8425",
   "metadata": {},
   "outputs": [
    {
     "name": "stdout",
     "output_type": "stream",
     "text": [
      "OthersList:None\n"
     ]
    }
   ],
   "source": [
    "others_list = soup.find(\"div\", id=\"aod-offer-price\")\n",
    "print(f\"OthersList:{others_list}\")"
   ]
  },
  {
   "cell_type": "code",
   "execution_count": null,
   "id": "f0988a95-b718-4241-abc1-7d508d135804",
   "metadata": {},
   "outputs": [],
   "source": []
  }
 ],
 "metadata": {
  "kernelspec": {
   "display_name": "Python 3 (ipykernel)",
   "language": "python",
   "name": "python3"
  },
  "language_info": {
   "codemirror_mode": {
    "name": "ipython",
    "version": 3
   },
   "file_extension": ".py",
   "mimetype": "text/x-python",
   "name": "python",
   "nbconvert_exporter": "python",
   "pygments_lexer": "ipython3",
   "version": "3.12.2"
  }
 },
 "nbformat": 4,
 "nbformat_minor": 5
}
