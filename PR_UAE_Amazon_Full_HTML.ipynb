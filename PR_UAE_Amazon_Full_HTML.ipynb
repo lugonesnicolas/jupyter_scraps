{
 "cells": [
  {
   "cell_type": "markdown",
   "id": "1e1f501c-eeea-4ddf-927a-15b2591d7309",
   "metadata": {},
   "source": [
    "# Testeo para Spider HTML"
   ]
  },
  {
   "cell_type": "code",
   "execution_count": 2,
   "id": "cc863bd0-b139-4a45-8556-2ce362bec93e",
   "metadata": {},
   "outputs": [],
   "source": [
    "import requests\n",
    "import re\n",
    "from bs4 import BeautifulSoup\n",
    "import time"
   ]
  },
  {
   "cell_type": "code",
   "execution_count": 3,
   "id": "e8e7efab-baf4-40cf-b535-4e6317e6c43c",
   "metadata": {},
   "outputs": [],
   "source": [
    "url = 'https://www.amazon.ae/Ariel-Automatic-Laundry-Detergent-Original/dp/B076L3PYX6/ref=pd_vtp_h_pd_vtp_h_d_sccl_2/257-2861550-0109024?pd_rd_w=Gh3Nt&content-id=amzn1.sym.84eb92b9-87b1-451d-8969-226f5a04c3f5&pf_rd_p=84eb92b9-87b1-451d-8969-226f5a04c3f5&pf_rd_r=TWHGYCDGMJFWJDP009YD&pd_rd_wg=Z3w7T&pd_rd_r=094a09ae-684d-4c15-b779-42bfe86a86a4&pd_rd_i=B076L3PYX6&psc=1'"
   ]
  },
  {
   "cell_type": "code",
   "execution_count": 4,
   "id": "ecbcc77d-43c4-47b2-9dea-73085808f98f",
   "metadata": {},
   "outputs": [],
   "source": [
    "payload = {}\n",
    "headers = {\n",
    "  'User-Agent': 'Mozilla/5.0 (Windows NT 10.0; Win64; x64; rv:123.0) Gecko/20100101 Firefox/123.0',\n",
    "  'Accept': 'text/html,application/xhtml+xml,application/xml;q=0.9,image/avif,image/webp,*/*;q=0.8',\n",
    "  'Accept-Language': 'es-AR,es;q=0.8,en-US;q=0.5,en;q=0.3',\n",
    "  'Accept-Encoding': 'gzip, deflate, br',\n",
    "  'Alt-Used': 'www.amazon.ae',\n",
    "  'Connection': 'keep-alive',\n",
    "  'Cookie': 'session-id=257-2861550-0109024; session-id-time=2082787201l; i18n-prefs=AED; csm-hit=tb:66MHB1N659SQMYKBDPHY+s-66MHB1N659SQMYKBDPHY|1709900943401&t:1709900943401&adb:adblk_yes; ubid-acbae=257-3832480-6790808; session-token=yZTuAXblFNNs1RFEQfOxeGfBGyes9xRc3+qGG+iXx0C60BVV80s+sbfy/j65jCK1jQtSl5xwICBmJs7utHp3CaKph2GF5THAcvxPGmo1nxNa50YcGo/+tUTWX+w2AVE6c2+WQ0AegEy1u5NG2zGtk8BPpwvC3hMN4CEh5Hc+9R8OPiQ5Y0tQ9oQ6HUTce3Bq1LZXr2tkHNdCDheNIHc/GquFp2Rn9QJSRNQmfRAfMC88OfF9p0BOBgR7h5cEngWS7KEnnLdmrK9As3nI2xd7VjLn4+33zSQM74y9mcRUN5MEMHsbRu2cDNeb6cZGnrtWX8Myrxg+qh5MWwfPxbWHVasAhpBkz5Ye; lc-acbae=en_AE; ld=AZAESOA_pcdisc_C; s_pers=%20s_fid%3D3504FFD318A2EA58-3D892D2C174744DD%7C1866804897117%3B%20s_dl%3D1%7C1708953897117%3B%20gpv_page%3DAZ%253ASD%253ASOA-home%7C1708953897118%3B%20s_ev15%3D%255B%255B%2527AZAESOA_pcdisc_C%2527%252C%25271708952097118%2527%255D%255D%7C1866804897118%3B; session-token=o8qfeKRQusBex7pBRdlO61Y2/tOAcJNh2M18BQpj/rQxPnp9T9RsTSBY6NjN1/4wwY92p0g+qu5+nvnsJzUliBL9XqUm8LNztzZl/N9qU8u08z95RvwrkDzqfIRyyx3AbF3FfyLA0zyj6uTHcnCyhnnq+ipGZZyw8jwMOhE+XSXCgOclGR8elZesjrhwxTfaHLDk5wg8BzP6ogCKOq1WjMNod1S9DEhJyj8MM9iqVNEfGhxgI93ezfLQd7EooI8udZbFC7flKcZ0q8zLON+3uqJsuJqmGM9x1N+S4VmdzfOEcLYG6UMONdvnOTYVP/YUjxPvB351kJ6gSDCHcccblC1HplUElDRO',\n",
    "  'Upgrade-Insecure-Requests': '1',\n",
    "  'Sec-Fetch-Dest': 'document',\n",
    "  'Sec-Fetch-Mode': 'navigate',\n",
    "  'Sec-Fetch-Site': 'cross-site',\n",
    "  'Sec-Fetch-User': '?1',\n",
    "  'Sec-GPC': '1',\n",
    "  'TE': 'trailers'\n",
    "}"
   ]
  },
  {
   "cell_type": "code",
   "execution_count": 5,
   "id": "1ed5898a-0d85-4eb2-8476-4b204b6618a9",
   "metadata": {},
   "outputs": [],
   "source": [
    "response = requests.request(\"GET\", url, headers=headers, data=payload)\n",
    "html_content = response.text\n",
    "soup = BeautifulSoup(html_content, \"html.parser\")"
   ]
  },
  {
   "cell_type": "code",
   "execution_count": 6,
   "id": "b933fd71-0d0b-4de9-9904-cfd0d9259f15",
   "metadata": {},
   "outputs": [],
   "source": [
    "buy_box = soup.select_one('#merchantInfoFeature_feature_div > div:nth-child(2) > div:nth-child(1) > span:nth-child(1) > a:nth-child(1)').text if soup.select_one('#merchantInfoFeature_feature_div > div:nth-child(2) > div:nth-child(1) > span:nth-child(1) > a:nth-child(1)') != None else ''\n",
    "if buy_box == '':\n",
    "    buy_box = soup.select_one('#merchantInfoFeature_feature_div > div:nth-child(2) > div:nth-child(1) > span:nth-child(1)').text if soup.select_one('#merchantInfoFeature_feature_div > div:nth-child(2) > div:nth-child(1) > span:nth-child(1)') != None else ''\n",
    "if buy_box == '':\n",
    "    buy_box = soup.select_one('tr.a-spacing-micro:nth-child(2) > td:nth-child(2) > span:nth-child(1) > a:nth-child(1)').text if soup.select_one('tr.a-spacing-micro:nth-child(2) > td:nth-child(2) > span:nth-child(1) > a:nth-child(1)') != None else ''"
   ]
  },
  {
   "cell_type": "code",
   "execution_count": 7,
   "id": "e131aa7d-84f7-4e89-a0ec-70d5bed57203",
   "metadata": {},
   "outputs": [
    {
     "name": "stdout",
     "output_type": "stream",
     "text": [
      "OTHERS OFFER:[]\n",
      "\n"
     ]
    }
   ],
   "source": [
    "if buy_box == '' or 'Amazon.ae' not in buy_box:\n",
    "    # Check if the store is transmed\n",
    "    others_offer = soup.find_all('span', class_='a-size-small mbcMerchantName')# Catura para testear que lleguen los nombres\n",
    "    others_offer_container = soup.find_all('div', class_='a-box-inner a-padding-small')  # Assuming class names remain the same\n",
    "\n",
    "    # Print others_offer for debugging purposes (if needed)\n",
    "    print(f\"OTHERS OFFER:{[o.text.strip() for o in others_offer]}\\n\")\n",
    "\n",
    "    for container in others_offer_container:\n",
    "        title_store = container.find('span', class_='a-size-small mbcMerchantName').text if container.find('span', class_='a-size-small mbcMerchantName') != None else ''\n",
    "        if title_store and 'Amazon.ae' in title_store.text.strip():\n",
    "            final_price_element = container.find('span', class_='a-size-medium a-color-price')\n",
    "            if final_price_element:\n",
    "                final_price = fc.just_price(price_str=final_price_element.text.strip(), dotted_price=False)\n",
    "                is_transmed = True\n",
    "                break  # Exit the loop after finding the first Transmed offer"
   ]
  },
  {
   "cell_type": "code",
   "execution_count": 8,
   "id": "c1d6d720-72bd-4eac-a002-a26d6d3b6969",
   "metadata": {},
   "outputs": [],
   "source": [
    "others_string = ''\n",
    "others_offer_container = soup.find_all('div', class_='a-box-inner a-padding-small')\n",
    "for i in range(1, len(others_offer_container)):\n",
    "        title_store = others_offer_container[i].find('span', class_='a-size-small mbcMerchantName').text if others_offer_container[i].find('span', class_='a-size-small mbcMerchantName') != None else ''\n",
    "        store_price = others_offer_container[i].select_one('span.a-size-medium.a-color-price').text if others_offer_container[i].select_one('span.a-size-medium.a-color-price') != None else 0\n",
    "        others_string += f\"Store:{title_store.strip()} Price:{store_price.strip()}, \""
   ]
  },
  {
   "cell_type": "code",
   "execution_count": 9,
   "id": "28932c9b-4ab1-4c50-b8bf-4309e14d4ccd",
   "metadata": {},
   "outputs": [
    {
     "name": "stdout",
     "output_type": "stream",
     "text": [
      "\n"
     ]
    }
   ],
   "source": [
    "print(others_string)"
   ]
  },
  {
   "cell_type": "code",
   "execution_count": 11,
   "id": "681fc487-b92c-41c4-9187-3405cfc992eb",
   "metadata": {},
   "outputs": [
    {
     "name": "stdout",
     "output_type": "stream",
     "text": [
      "FinalPrice: 0\n"
     ]
    }
   ],
   "source": [
    "final_price = 0\n",
    "final_price_int = soup.select_one(\"span.a-price.aok-align-center.reinventPricePriceToPayMargin.priceToPay span span.a-price-whole\").text if soup.select_one(\"span.a-price.aok-align-center.reinventPricePriceToPayMargin.priceToPay span span.a-price-whole\") != None else ''\n",
    "final_price_decimals = soup.select_one(\"span.a-price.aok-align-center.reinventPricePriceToPayMargin.priceToPay span span.a-price-fraction\").text if soup.select_one(\"span.a-price.aok-align-center.reinventPricePriceToPayMargin.priceToPay span span.a-price-fraction\") != None else ''\n",
    "if final_price_int != None and final_price_int != '':\n",
    "    final_price_int = re.sub(\"[^0-9.]\", \"\", final_price_int)\n",
    "    final_price_int = re.sub(\"[ ]\", \"\", final_price_int)\n",
    "    final_price_int = re.sub(\"[.]\", \"\", final_price_int)\n",
    "\n",
    "if final_price_decimals != None and final_price_decimals != '':\n",
    "    final_price_decimals = re.sub(\"[^0-9.]\", \"\", final_price_decimals)\n",
    "    final_price_decimals = re.sub(\"[ ]\", \"\", final_price_decimals)\n",
    "    final_price_decimals = re.sub(\"[.]\", \"\", final_price_decimals)\n",
    "\n",
    "if final_price_int != None and final_price_int != '' and final_price_decimals != None and final_price_decimals != '':\n",
    "    try:\n",
    "        final_price = f\"{final_price_int}.{final_price_decimals}\"\n",
    "        final_price = float(final_price)\n",
    "    except:\n",
    "        final_price = 0\n",
    "        print(f\"1:No se pudo convertir a flotante final_price:{final_price}\")\n",
    "\n",
    "print(f\"FinalPrice: {final_price}\")"
   ]
  },
  {
   "cell_type": "code",
   "execution_count": 13,
   "id": "768988d7-dd02-42f9-ab99-0d3212b267ad",
   "metadata": {},
   "outputs": [],
   "source": [
    "if final_price == 0:\n",
    "    final_price = soup.select_one(\"#newAccordionRow_0 > div:nth-child(1) > div:nth-child(1) > h5:nth-child(2) > div:nth-child(2) > div:nth-child(1) > div:nth-child(1) > div:nth-child(1) > div:nth-child(1) > span:nth-child(1) > span:nth-child(1)\").text if soup.select_one(\"#newAccordionRow_0 > div:nth-child(1) > div:nth-child(1) > h5:nth-child(2) > div:nth-child(2) > div:nth-child(1) > div:nth-child(1) > div:nth-child(1) > div:nth-child(1) > span:nth-child(1) > span:nth-child(1)\") != None else 0 \n",
    "    # final_price = fcs.just_price(price_str=final_price, dotted_price=False)"
   ]
  },
  {
   "cell_type": "code",
   "execution_count": 14,
   "id": "30ec1653-2c4f-46c4-ae98-696cf18274c0",
   "metadata": {},
   "outputs": [
    {
     "name": "stdout",
     "output_type": "stream",
     "text": [
      "OldPrice:0\n"
     ]
    }
   ],
   "source": [
    "old_price = soup.select_one(\".basisPrice > span:nth-child(1) > span:nth-child(1)\").text if soup.select_one(\".basisPrice > span:nth-child(1) > span:nth-child(1)\") != None else 0\n",
    "print(f\"OldPrice:{old_price}\")"
   ]
  },
  {
   "cell_type": "code",
   "execution_count": 15,
   "id": "94caa393-a0d5-48cf-bade-d9d9c1af909d",
   "metadata": {},
   "outputs": [],
   "source": [
    "if old_price == 0 or old_price == '':\n",
    "    old_price = soup.select_one(\"td.a-color-secondary:nth-child(2) > span:nth-child(1) > span:nth-child(1)\").text if soup.select_one(\"td.a-color-secondary:nth-child(2) > span:nth-child(1) > span:nth-child(1)\") != None else 0\n"
   ]
  },
  {
   "cell_type": "code",
   "execution_count": 16,
   "id": "f454d0c9-7756-4ce4-b8ed-7df5e0d778ae",
   "metadata": {},
   "outputs": [
    {
     "name": "stdout",
     "output_type": "stream",
     "text": [
      "BulletPoint: •Number 1 IN STAIN REMOVAL- Stain removal has never been easier.Ariel powder gives your clothes the best stain removal. It removes even the toughest stains, such as yellow underarm stains, providing your clothes with a spotless look., •Keep your clothes fresh- Ariel Powder provides your garments with a fresh clean scent., •Dosage instructions- Use 1 full scoop for the best stain removal., •Full automatic washing machine- Ariel Automatic detergent powder is designed for a full automatic machine, both front load and top load. Ariel detergent powder is a must-have in your laundry room for a constant brilliant clean you can see, feel and smell..\n"
     ]
    }
   ],
   "source": [
    "bullet_points_list = soup.select(\"li.a-spacing-mini\")\n",
    "bullet_points = ''\n",
    "\n",
    "try:\n",
    "    for i in range(0, len(bullet_points_list)):\n",
    "        content = bullet_points_list[i].text.strip()\n",
    "        if i == len(bullet_points_list) - 1:\n",
    "            bullet_points += f\"•{content}.\"\n",
    "        else:\n",
    "            bullet_points += f\"•{content}, \"\n",
    "except:\n",
    "    print(f\"No se pudo extraer los bullets points\")\n",
    "print(f\"BulletPoint: {bullet_points}\")"
   ]
  },
  {
   "cell_type": "code",
   "execution_count": 17,
   "id": "b5a261f4-be2d-49cd-9352-fbbfdecae37d",
   "metadata": {},
   "outputs": [
    {
     "name": "stdout",
     "output_type": "stream",
     "text": [
      "Description:Stain removal has never been easier! Ariel detergent powder gives your clothes a stain free clean, no matter what they’ve gone through. Ariel powder removes tough stains in 1 wash, providing your clothes with a spotless look. Protect your garments and make them pop with Ariel detergent powder. Thanks to the outstanding cleaning power of Ariel, our detergent will clean your colours brilliantly, making them look like new! Ariel detergent powder is designed for all types of washing machines, both front load and top load. Ariel detergent powder is a must-have in your laundry room for a constant brilliant clean you can see, feel and smell.\n"
     ]
    }
   ],
   "source": [
    "description = soup.find(id='productDescription').text.strip() if soup.find(id='productDescription') != None else ''\n",
    "print(f\"Description:{description}\")"
   ]
  },
  {
   "cell_type": "code",
   "execution_count": 18,
   "id": "24437665-3d65-41f8-848e-6ebda2f7254b",
   "metadata": {},
   "outputs": [
    {
     "name": "stdout",
     "output_type": "stream",
     "text": [
      "6\n"
     ]
    }
   ],
   "source": [
    "q_images_list = soup.find_all(\"li\", class_=\"a-spacing-small\")\n",
    "q_images = 0\n",
    "for i in q_images_list:\n",
    "    content = i.find('img')[\"src\"] if i.find('img') != None else ''\n",
    "    if 'https://m.media-amazon.com/' in content and '.jpg' in content:\n",
    "        q_images += 1\n",
    "print(q_images - 1)"
   ]
  },
  {
   "cell_type": "code",
   "execution_count": 21,
   "id": "7135bd24-5f8e-4e36-a7c9-84890b2813b6",
   "metadata": {},
   "outputs": [
    {
     "name": "stdout",
     "output_type": "stream",
     "text": [
      "1\n"
     ]
    }
   ],
   "source": [
    "a_plus = 1 if soup.find_all('div', id='aplus') != [] else 0\n",
    "print(f\"{a_plus}\")"
   ]
  },
  {
   "cell_type": "code",
   "execution_count": 59,
   "id": "7fcf305d-5f62-49e2-81f3-15feb61b2fc0",
   "metadata": {},
   "outputs": [],
   "source": [
    "best_sellers_rank_elements = soup.find(\"div\", id=\"productDetails_db_sections\").div.table.find_all(\"tr\") if soup.find(\"div\", id=\"productDetails_db_sections\") != None else ''"
   ]
  },
  {
   "cell_type": "code",
   "execution_count": 60,
   "id": "7c140661-02f5-4179-a980-68617435ef14",
   "metadata": {},
   "outputs": [],
   "source": [
    "try:\n",
    "    for i in best_sellers_rank_elements:\n",
    "        content = i.text\n",
    "        if \"Best Sellers Rank\" in content:\n",
    "            ranks = re.findall(r\"#(\\d+)\", content)\n",
    "            category_best_sellers_rank = int(ranks[0])\n",
    "            catgroup_best_sellers_rank = int(ranks[1])\n",
    "except Exception as e:\n",
    "    print(f\"ERROS - {e}\")"
   ]
  },
  {
   "cell_type": "code",
   "execution_count": 61,
   "id": "b0ad0201-4e39-40fa-99c4-424d630b1676",
   "metadata": {},
   "outputs": [
    {
     "name": "stdout",
     "output_type": "stream",
     "text": [
      "category_best_sellers_rank:326\n",
      "catgroup_best_sellers_rank:8\n"
     ]
    }
   ],
   "source": [
    "print(f\"category_best_sellers_rank:{category_best_sellers_rank}\")\n",
    "print(f\"catgroup_best_sellers_rank:{catgroup_best_sellers_rank}\")"
   ]
  },
  {
   "cell_type": "code",
   "execution_count": null,
   "id": "9ed4c8ca-83a7-41b2-a802-85bafd56587a",
   "metadata": {},
   "outputs": [],
   "source": []
  }
 ],
 "metadata": {
  "kernelspec": {
   "display_name": "Python 3 (ipykernel)",
   "language": "python",
   "name": "python3"
  },
  "language_info": {
   "codemirror_mode": {
    "name": "ipython",
    "version": 3
   },
   "file_extension": ".py",
   "mimetype": "text/x-python",
   "name": "python",
   "nbconvert_exporter": "python",
   "pygments_lexer": "ipython3",
   "version": "3.11.3"
  }
 },
 "nbformat": 4,
 "nbformat_minor": 5
}
