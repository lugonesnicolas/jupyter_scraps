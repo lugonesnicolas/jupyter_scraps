{
 "cells": [
  {
   "cell_type": "code",
   "execution_count": 1,
   "id": "3d536aa0-decb-4fd5-b5c6-3d011ac6b26c",
   "metadata": {},
   "outputs": [],
   "source": [
    "import requests"
   ]
  },
  {
   "cell_type": "code",
   "execution_count": 23,
   "id": "2bd77e08-3dbb-473f-b6db-b91009bc108c",
   "metadata": {},
   "outputs": [],
   "source": [
    "url = \"https://www.pedidosya.com.ar/groceries/web/v1/vendors/164044/products/122254863\"\n",
    "\n",
    "payload = {}\n",
    "headers = {\n",
    "  'User-Agent': 'Mozilla/5.0 (Windows NT 10.0; Win64; x64; rv:129.0) Gecko/20100101 Firefox/129.0',\n",
    "  'Accept': 'application/json, text/plain, */*',\n",
    "  'Accept-Language': 'es-AR,es;q=0.8,en-US;q=0.5,en;q=0.3',\n",
    "  'Accept-Encoding': 'gzip, deflate, br, zstd',\n",
    "  'Referer': 'https://www.pedidosya.com.ar/restaurantes/buenos-aires/pedidosya-market-microcentro-menu?p=120050864&search=yogur%20la%20serenisima&menuSection=section_details',\n",
    "  'DNT': '1',\n",
    "  'Sec-GPC': '1',\n",
    "  'Connection': 'keep-alive',\n",
    "  'Cookie': '__Secure-peya.sid=s%3Ae060a1c8-d4e5-4d7a-a6cf-4de3396d289f.95JD%2FvHv6PfGF9EbixwiKeB%2BOLNrTCw3rGOnRzfG3iM; __Secure-peyas.sid=s%3Acf508902-69ff-4a97-bc2a-4355e8a6f6bf.hMw9hygrRlcoPy8XAHgW%2BNlvx%2BSy5CNLGPYIgWDeqn8; _pxhd=S4GdEWODq5A7URMoTfUhbeXsOdvSEOuOL3Gn8J/vF7vPXrTLR1pmlocKx2Aqh6x7DnyvHALhZ0xVemzAJR80yw==:-YRs5xS2QTCu06OHCGab-Keb39rt9tn-GyOZF35XMNLAtMyngn4vr6hsDr0r1M4H4FdwoyqyZ0xGhLbUAoceAVjbcWXS7YeyY04-gXsqlwM=; __cf_bm=w.FQZ6laVGAZT_bQ5nYlG7UYG.ZCTbe7yvkKj34EARg-1723832694-1.0.1.1-AEmcOXszwdnzRI1IoFi1RuE72dtx.r5l.PFcOAeoz4d_t3XWh8Q5AeTL8jCoZZ3UrA_.pRHlT8wQIYqSVnzYJg; _gcl_au=1.1.1645543019.1723832694; dhhPerseusHitId=1723832712280.000000002816547270.0000xxd6v1; dhhPerseusSessionId=1723832704549.000000002061110475.00005bz338; dhhPerseusGuestId=1723832704550.000000000286898076.0001bann9x; _ga_LQWR31SY8G=GS1.1.1723832693.1.1.1723832701.52.0.0; _ga=GA1.1.757609994.1723832694; pxcts=d5b8d806-5bfc-11ef-91bc-a8a5f37bcc29; _pxvid=d4fc896b-5bfc-11ef-a7e9-be39ea1b9cc1; _px3=7d1abdbf99503e90887d67ccd4d4864d26f108ea954c0ba9d479b939782b2a26:/NTb8/f1aH97/Jqtc9n11+2/7QmOTPx9G+t67aJ1xXhYzbSioWKAIj9GvbbeCYCDvyBBj1wtUYN9Xg6JDAffqQ==:1000:ygz5InVzyZcnv0k4xPn8PJ6z79OMqavDh46byT5DDMYXaH49qaqYoXnCs/MAeH00vOpwwBUHbKBc9hLWvuGQnq8rJRFmGhKZ4uPJk8rulgrxnNbM7VwitHxIQtqSjx173j+HfSytrkM63qfr2HCCjXMqDa0vUnYaXVQ/jMVBfZvNUguRe3gpAiFAjtCaDwJdhS6AbX+iz5re1wtt6TexUKm7u9b+vV5RaKFuG/VOIw0=; __Secure-peya.sid=s%3Ae060a1c8-d4e5-4d7a-a6cf-4de3396d289f.95JD%2FvHv6PfGF9EbixwiKeB%2BOLNrTCw3rGOnRzfG3iM; __Secure-peyas.sid=s%3Acf508902-69ff-4a97-bc2a-4355e8a6f6bf.hMw9hygrRlcoPy8XAHgW%2BNlvx%2BSy5CNLGPYIgWDeqn8; _pxhd=S4GdEWODq5A7URMoTfUhbeXsOdvSEOuOL3Gn8J/vF7vPXrTLR1pmlocKx2Aqh6x7DnyvHALhZ0xVemzAJR80yw==:-YRs5xS2QTCu06OHCGab-Keb39rt9tn-GyOZF35XMNLAtMyngn4vr6hsDr0r1M4H4FdwoyqyZ0xGhLbUAoceAVjbcWXS7YeyY04-gXsqlwM=',\n",
    "  'Sec-Fetch-Dest': 'empty',\n",
    "  'Sec-Fetch-Mode': 'cors',\n",
    "  'Sec-Fetch-Site': 'same-origin',\n",
    "  'TE': 'trailers'\n",
    "}\n",
    "\n",
    "response = requests.request(\"GET\", url, headers=headers, data=payload)\n",
    "data_product = response.json()\n",
    "try:\n",
    "    data_product = data_product[0]\n",
    "except:\n",
    "    # No hay datos en el json\n",
    "    data_product = None"
   ]
  },
  {
   "cell_type": "code",
   "execution_count": 20,
   "id": "dc05a4e1-e668-4410-bf00-fcc382124807",
   "metadata": {},
   "outputs": [
    {
     "name": "stdout",
     "output_type": "stream",
     "text": [
      "[]\n"
     ]
    }
   ],
   "source": [
    "print(data_product)"
   ]
  },
  {
   "cell_type": "code",
   "execution_count": 17,
   "id": "dc71c14c-bd67-47cb-95e5-081545094be7",
   "metadata": {},
   "outputs": [
    {
     "name": "stdout",
     "output_type": "stream",
     "text": [
      "Title: Leche Chocolatada ​Cindor 1 Lt\n",
      "FinalPrice: 4085\n",
      "Stock: 1\n",
      "QImages: 1\n"
     ]
    }
   ],
   "source": [
    "title = data_product.get(\"name\", \"\")\n",
    "price = data_product.get(\"pricing\", \"\")\n",
    "final_price = price.get(\"price\", 0) if price.get(\"price\", 0) != None else 0\n",
    "stock = 1 if data_product.get(\"stock\", 0) > 0 else 0\n",
    "q_images = len(data_product.get(\"absoluteImages\", \"\")) if data_product.get(\"absoluteImages\", \"\") != None else 0\n",
    "\n",
    "print(f\"Title: {title}\")\n",
    "print(f\"FinalPrice: {final_price}\")\n",
    "print(f\"Stock: {stock}\")\n",
    "print(f\"QImages: {q_images}\")"
   ]
  },
  {
   "cell_type": "code",
   "execution_count": null,
   "id": "85c92e72-053e-43a2-8445-a8304945b599",
   "metadata": {},
   "outputs": [],
   "source": []
  }
 ],
 "metadata": {
  "kernelspec": {
   "display_name": "Python 3 (ipykernel)",
   "language": "python",
   "name": "python3"
  },
  "language_info": {
   "codemirror_mode": {
    "name": "ipython",
    "version": 3
   },
   "file_extension": ".py",
   "mimetype": "text/x-python",
   "name": "python",
   "nbconvert_exporter": "python",
   "pygments_lexer": "ipython3",
   "version": "3.11.3"
  }
 },
 "nbformat": 4,
 "nbformat_minor": 5
}
