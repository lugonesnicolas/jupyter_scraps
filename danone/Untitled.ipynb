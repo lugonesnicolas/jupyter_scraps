{
 "cells": [
  {
   "cell_type": "code",
   "execution_count": 1,
   "id": "9c0254cb-d6eb-43e9-95f7-619d95a1a69d",
   "metadata": {},
   "outputs": [],
   "source": [
    "import requests"
   ]
  },
  {
   "cell_type": "code",
   "execution_count": 18,
   "id": "8fa8b913-ab36-426d-9946-1ff82ba16f2a",
   "metadata": {},
   "outputs": [
    {
     "name": "stdout",
     "output_type": "stream",
     "text": [
      "{\"count\":10,\"data\":[{\"apply_discount\":false,\"campaigns\":[{\"id\":\"5bfc3ae9-a1d5-4f84-82af-a8e6bcc02f43\",\"max_quantity\":12,\"max_redemption\":0,\"pay\":1,\"sub_type\":\"\",\"tag\":\"1 ud. al 49% dto\",\"tag_style\":\"\",\"take\":2,\"terms\":[],\"type\":\"sameItemBundle\",\"value\":0}],\"content_quantity\":900,\"description\":\"\",\"enabled\":true,\"entity_name\":\"\",\"gtin\":\"07790787960514\",\"has_custom_photo\":false,\"has_delivery_fee\":false,\"hides_price\":false,\"id\":131246638,\"image\":\"6539463347c331b314c52e1e.jpg\",\"index\":0,\"integration_code\":\"07790787960514\",\"is_deleted\":false,\"is_premium_placement\":false,\"is_price_from\":false,\"max_quantity\":12,\"measurement_unit\":{\"id\":0,\"plural\":\"\",\"short_name\":\"kg\",\"singular\":\"\"},\"menu_id\":0,\"name\":\"Yogurt Frutilla Ilolay 900 Gr\",\"ncr_status\":\"\",\"one_click_enabled\":true,\"prescription_behavior\":\"NO\",\"price\":2159,\"price_per_measurement_unit\":2400,\"rating\":0,\"requires_age_check\":false,\"score\":0,\"section_id\":0,\"shipping_amount_discount_percentage\":0,\"stock\":0},{\"apply_discount\":false,\"content_quantity\":300,\"description\":\"Un yogur 100% libre de sellos que te gusta. Ideal para usar la imaginación y combinarlo como quieras.  BIG POT 300g.Yogur con probióticos entero reducido en lactosa fortificado con zinc y vitaminas A, B3, B12, D y ácido fólico sabor natural libre de gluten. Sin TACC.\",\"enabled\":true,\"entity_name\":\"\",\"gtin\":\"07791337006355\",\"has_custom_photo\":false,\"has_delivery_fee\":false,\"hides_price\":false,\"id\":138559399,\"image\":\"66ba0cb5d43b711e9fc6d451.jpg\",\"index\":1,\"integration_code\":\"07791337006355\",\"is_deleted\":false,\"is_premium_placement\":false,\"is_price_from\":false,\"max_quantity\":12,\"measurement_unit\":{\"id\":0,\"plural\":\"\",\"short_name\":\"kg\",\"singular\":\"\"},\"menu_id\":0,\"name\":\"Yogur Natural S/Azúcar Agregada Yogurisimo 300Gr\",\"ncr_status\":\"\",\"one_click_enabled\":true,\"prescription_behavior\":\"NO\",\"price\":2862,\"price_per_measurement_unit\":9540,\"rating\":0,\"requires_age_check\":false,\"score\":0,\"section_id\":0,\"shipping_amount_discount_percentage\":0,\"stock\":0},{\"apply_discount\":false,\"campaigns\":[{\"id\":\"5bfc3ae9-a1d5-4f84-82af-a8e6bcc02f43\",\"max_quantity\":12,\"max_redemption\":0,\"pay\":1,\"sub_type\":\"\",\"tag\":\"1 ud. al 49% dto\",\"tag_style\":\"\",\"take\":2,\"terms\":[],\"type\":\"sameItemBundle\",\"value\":0}],\"content_quantity\":900,\"description\":\"\",\"enabled\":true,\"entity_name\":\"\",\"gtin\":\"07790787960521\",\"has_custom_photo\":false,\"has_delivery_fee\":false,\"hides_price\":false,\"id\":131246147,\"image\":\"6539463547c331b314c52e1f.jpg\",\"index\":2,\"integration_code\":\"07790787960521\",\"is_deleted\":false,\"is_premium_placement\":false,\"is_price_from\":false,\"max_quantity\":12,\"measurement_unit\":{\"id\":0,\"plural\":\"\",\"short_name\":\"kg\",\"singular\":\"\"},\"menu_id\":0,\"name\":\"Yogurt Vainilla Ilolay 900 Gr\",\"ncr_status\":\"\",\"one_click_enabled\":true,\"prescription_behavior\":\"NO\",\"price\":2159,\"price_per_measurement_unit\":2400,\"rating\":0,\"requires_age_check\":false,\"score\":0,\"section_id\":0,\"shipping_amount_discount_percentage\":0,\"stock\":0},{\"apply_discount\":false,\"campaigns\":[{\"id\":\"5bfc3ae9-a1d5-4f84-82af-a8e6bcc02f43\",\"max_quantity\":12,\"max_redemption\":0,\"pay\":1,\"sub_type\":\"\",\"tag\":\"1 ud. al 49% dto\",\"tag_style\":\"\",\"take\":2,\"terms\":[],\"type\":\"sameItemBundle\",\"value\":0}],\"content_quantity\":900,\"description\":\"\",\"enabled\":true,\"entity_name\":\"\",\"gtin\":\"07790787960538\",\"has_custom_photo\":false,\"has_delivery_fee\":false,\"hides_price\":false,\"id\":131904776,\"image\":\"653fadf1f7c69b7b6815151c.jpg\",\"index\":3,\"integration_code\":\"07790787960538\",\"is_deleted\":false,\"is_premium_placement\":false,\"is_price_from\":false,\"max_quantity\":12,\"measurement_unit\":{\"id\":0,\"plural\":\"\",\"short_name\":\"kg\",\"singular\":\"\"},\"menu_id\":0,\"name\":\"Yogurt Durazno Ilolay 900 Gr\",\"ncr_status\":\"\",\"one_click_enabled\":true,\"prescription_behavior\":\"NO\",\"price\":2259,\"price_per_measurement_unit\":2510,\"rating\":0,\"requires_age_check\":false,\"score\":0,\"section_id\":0,\"shipping_amount_discount_percentage\":0,\"stock\":0},{\"apply_discount\":false,\"campaigns\":[{\"id\":\"15e0c87f-1fa2-4696-82fc-d4f6ffd218ed\",\"max_quantity\":12,\"max_redemption\":0,\"pay\":0,\"sub_type\":\"\",\"tag\":\"15%\",\"tag_style\":\"\",\"take\":1,\"terms\":[],\"type\":\"percentageDiscount\",\"value\":0}],\"content_quantity\":120,\"description\":\"\",\"enabled\":true,\"entity_name\":\"\",\"gtin\":\"07790787960378\",\"has_custom_photo\":false,\"has_delivery_fee\":false,\"hides_price\":false,\"id\":128403338,\"image\":\"66cee2a5d014c9262c8f12d0.jpg\",\"index\":4,\"integration_code\":\"07790787960378\",\"is_deleted\":false,\"is_premium_placement\":false,\"is_price_from\":false,\"max_quantity\":12,\"measurement_unit\":{\"id\":0,\"plural\":\"\",\"short_name\":\"kg\",\"singular\":\"\"},\"menu_id\":0,\"name\":\"Yogur Cremoso Par. Desc. Vainilla 120 g Ilolay\",\"ncr_status\":\"\",\"one_click_enabled\":true,\"prescription_behavior\":\"NO\",\"price\":504.9,\"price_per_measurement_unit\":4210,\"rating\":0,\"requires_age_check\":false,\"score\":0,\"section_id\":0,\"shipping_amount_discount_percentage\":0,\"stock\":0},{\"apply_discount\":false,\"campaigns\":[{\"id\":\"0191e0be-1806-456a-af2f-5a30cf3ffc3b\",\"max_quantity\":12,\"max_redemption\":0,\"pay\":0,\"sub_type\":\"\",\"tag\":\"25%\",\"tag_style\":\"\",\"take\":1,\"terms\":[],\"type\":\"percentageDiscount\",\"value\":0}],\"content_quantity\":140,\"description\":\"\",\"enabled\":true,\"entity_name\":\"\",\"gtin\":\"07793913002423\",\"has_custom_photo\":false,\"has_delivery_fee\":false,\"hides_price\":false,\"id\":19181650,\"image\":\"647765a731b0ae196f6678da.jpg\",\"index\":5,\"integration_code\":\"07793913002423\",\"is_deleted\":false,\"is_premium_placement\":false,\"is_price_from\":false,\"max_quantity\":12,\"measurement_unit\":{\"id\":0,\"plural\":\"\",\"short_name\":\"kg\",\"singular\":\"\"},\"menu_id\":0,\"name\":\"Yogur Tregar Natural Pote 140 g\",\"ncr_status\":\"\",\"one_click_enabled\":true,\"prescription_behavior\":\"NO\",\"price\":822,\"price_per_measurement_unit\":5870,\"rating\":0,\"requires_age_check\":false,\"score\":0,\"section_id\":0,\"shipping_amount_discount_percentage\":0,\"stock\":0},{\"apply_discount\":false,\"campaigns\":[{\"id\":\"5a38b6c1-e419-4f2a-a46f-8948dc162595\",\"max_quantity\":12,\"max_redemption\":0,\"pay\":0,\"sub_type\":\"\",\"tag\":\"35%\",\"tag_style\":\"\",\"take\":1,\"terms\":[],\"type\":\"percentageDiscount\",\"value\":0}],\"content_quantity\":900,\"description\":\"De la mejor leche salen los mejores yogures, disfrutá un vaso de yogur todos los días.\",\"enabled\":true,\"entity_name\":\"\",\"gtin\":\"07791337008335\",\"has_custom_photo\":false,\"has_delivery_fee\":false,\"hides_price\":false,\"id\":128320157,\"image\":\"64fb4ffad77608c2072efacf.jpg\",\"index\":6,\"integration_code\":\"07791337008335\",\"is_deleted\":false,\"is_premium_placement\":false,\"is_price_from\":false,\"max_quantity\":12,\"measurement_unit\":{\"id\":0,\"plural\":\"\",\"short_name\":\"kg\",\"singular\":\"\"},\"menu_id\":0,\"name\":\"Yogur Bebible Frutilla La Serenísima Clásico 900Gr\",\"ncr_status\":\"\",\"one_click_enabled\":true,\"prescription_behavior\":\"NO\",\"price\":1944.8,\"price_per_measurement_unit\":2160,\"rating\":0,\"requires_age_check\":false,\"score\":0,\"section_id\":0,\"shipping_amount_discount_percentage\":0,\"stock\":0},{\"apply_discount\":false,\"content_quantity\":125,\"description\":\"\",\"enabled\":true,\"entity_name\":\"\",\"gtin\":\"07793913013535\",\"has_custom_photo\":false,\"has_delivery_fee\":false,\"hides_price\":false,\"id\":114456041,\"image\":\"6421fe8681482cb31956b2e0.jpg\",\"index\":7,\"integration_code\":\"07793913013535\",\"is_deleted\":false,\"is_premium_placement\":false,\"is_price_from\":false,\"max_quantity\":12,\"measurement_unit\":{\"id\":0,\"plural\":\"\",\"short_name\":\"kg\",\"singular\":\"\"},\"menu_id\":0,\"name\":\"Yogur Tregar Vainilla 125g\",\"ncr_status\":\"\",\"one_click_enabled\":true,\"prescription_behavior\":\"NO\",\"price\":637,\"price_per_measurement_unit\":5100,\"rating\":0,\"requires_age_check\":false,\"score\":0,\"section_id\":0,\"shipping_amount_discount_percentage\":0,\"stock\":0},{\"apply_discount\":false,\"campaigns\":[{\"id\":\"5a38b6c1-e419-4f2a-a46f-8948dc162595\",\"max_quantity\":12,\"max_redemption\":0,\"pay\":0,\"sub_type\":\"\",\"tag\":\"30%\",\"tag_style\":\"\",\"take\":1,\"terms\":[],\"type\":\"percentageDiscount\",\"value\":0}],\"content_quantity\":120,\"description\":\"LA SERENISIMA CLASICO batido, parcialmente descremado, vainilla.De la mejor leche salen los mejores yogures, disfruta del yogur en bocas de todos.  BATIDO 120gr.Yogur con probióticos endulzado parcialmente descremado fortificado con vitaminas A, B12, D y ácido fólico sabor vainilla libre de gluten ? BATIDO. Sin TACC.\",\"enabled\":true,\"entity_name\":\"\",\"gtin\":\"07791337007352\",\"has_custom_photo\":false,\"has_delivery_fee\":false,\"hides_price\":false,\"id\":149560733,\"image\":\"66ba0cbad43b711e9fc6d458.jpg\",\"index\":8,\"integration_code\":\"07791337007352\",\"is_deleted\":false,\"is_premium_placement\":false,\"is_price_from\":false,\"max_quantity\":12,\"measurement_unit\":{\"id\":0,\"plural\":\"\",\"short_name\":\"kg\",\"singular\":\"\"},\"menu_id\":0,\"name\":\"Yogur Batido Clasico La Serenisima Vain 120 g\",\"ncr_status\":\"\",\"one_click_enabled\":true,\"prescription_behavior\":\"NO\",\"price\":514.5,\"price_per_measurement_unit\":4290,\"rating\":0,\"requires_age_check\":false,\"score\":0,\"section_id\":0,\"shipping_amount_discount_percentage\":0,\"stock\":0},{\"apply_discount\":false,\"content_quantity\":300,\"description\":\"Un yogur que te gusta. Ideal para usar la imaginación y combinarlo como quieras.  BIG POT 300gr.Yogur con probióticos endulzado parcialmente descremado fortificado con zinc y vitaminas A, B12, D y ácido fólico sabor natural libre de gluten. Sin TACC.\",\"enabled\":true,\"entity_name\":\"\",\"gtin\":\"07791337006348\",\"has_custom_photo\":false,\"has_delivery_fee\":false,\"hides_price\":false,\"id\":149560781,\"image\":\"66ba0cb4d43b711e9fc6d44f.jpg\",\"index\":9,\"integration_code\":\"07791337006348\",\"is_deleted\":false,\"is_premium_placement\":false,\"is_price_from\":false,\"max_quantity\":12,\"measurement_unit\":{\"id\":0,\"plural\":\"\",\"short_name\":\"kg\",\"singular\":\"\"},\"menu_id\":0,\"name\":\"Yogur Yogurísimo Natural Endulzado 300g\",\"ncr_status\":\"\",\"one_click_enabled\":true,\"prescription_behavior\":\"NO\",\"price\":2995,\"price_per_measurement_unit\":9980,\"rating\":0,\"requires_age_check\":false,\"score\":0,\"section_id\":0,\"shipping_amount_discount_percentage\":0,\"stock\":0}],\"max\":10,\"offset\":0,\"total\":10}\n"
     ]
    }
   ],
   "source": [
    "url = \"https://www.pedidosya.com.ar/groceries/web/v1/catalogues/165476/search?max=10&offset=0&partnerId=164044&query=yogurt&sort=default\"\n",
    "\n",
    "payload = {}\n",
    "headers = {\n",
    "  'User-Agent': 'Mozilla/5.0 (Windows NT 10.0; Win64; x64; rv:130.0) Gecko/20100101 Firefox/130.0',\n",
    "  'Accept': 'application/json, text/plain, */*',\n",
    "  'Accept-Language': 'es-AR,es;q=0.8,en-US;q=0.5,en;q=0.3',\n",
    "  'Accept-Encoding': 'gzip, deflate, br, zstd',\n",
    "  'Referer': 'https://www.pedidosya.com.ar/restaurantes/buenos-aires/pedidosya-market-microcentro-menu/buscar?search=yogurt',\n",
    "  'sentry-trace': '531cd7f7dc0947708537c51fe68ad550-b6ccf5dc70f8de3d',\n",
    "  'baggage': 'sentry-environment=live,sentry-release=peya-web^%^403.0.23,sentry-public_key=b015b29cb0524fa6a58705cc439e4075,sentry-trace_id=531cd7f7dc0947708537c51fe68ad550',\n",
    "  'DNT': '1',\n",
    "  'Sec-GPC': '1',\n",
    "  'Connection': 'keep-alive',\n",
    "  'Cookie': '_pxvid=d4ded90e-3a44-11ef-8a34-f9e255402894; _ga_LQWR31SY8G=GS1.1.1727968537.16.1.1727968541.56.0.0; _ga=GA1.1.1401448074.1720125280; ab.storage.userId.8f8614b7-a682-4b80-af4e-c133abb05875=^%^7B^%^22g^%^22^%^3A^%^22^%^5Bobject^%^20Object^%^5D^%^22^%^2C^%^22c^%^22^%^3A1720728885270^%^2C^%^22l^%^22^%^3A1720728885272^%^7D; ab.storage.sessionId.8f8614b7-a682-4b80-af4e-c133abb05875=^%^7B^%^22g^%^22^%^3A^%^2299bcb305-e02e-7cc4-c346-574b83914c40^%^22^%^2C^%^22e^%^22^%^3A1720730693036^%^2C^%^22c^%^22^%^3A1720728885272^%^2C^%^22l^%^22^%^3A1720728893036^%^7D; ab.storage.deviceId.8f8614b7-a682-4b80-af4e-c133abb05875=^%^7B^%^22g^%^22^%^3A^%^2223755778-40d0-6306-e114-f05019fa095b^%^22^%^2C^%^22c^%^22^%^3A1720728885272^%^2C^%^22l^%^22^%^3A1720728885272^%^7D; _tq_id.TV-81819090-1.20dc=5111839fbcc75d60.1720728886.0.1720728893..; dhhPerseusGuestId=1727899879545.000000001491826606.0001utmbaq; _px3=8ab3fd2b1d1e34f00f8a4b37f47928485b4877deeb52e0bc026257729340e884:j9W0iiz1bzhAjBXZwYf0t+wGcBjL/go5McrCytn1OeIaB2eAL/kFMSlBB8LqyqeMl7s6iE9KLmQ0qSfsouC58g==:1000:P/62rkVsi4sdp8M5ejOPdkjXSeZbmbqwWXkDRtfDpP5MqrR0epszeYOK4UNz8/2gfZhkMYFQPYtKkZaHhS9CWTSguPF2teFaE7fnsE7ch9iuDNKqKt/L7nlauIDuZiZMsdTyLtpypaOqm+r49pzsE8ue+w/+D4tBvrU9puLTe+E1aHBAOysNWlhSJ0p0bUjco+r2PSvOaZj+82MW+JteoDkh4rZ+sLxjsvjQcYXe/nc=; _pxhd=qDKGycEizpGlCwiaHMsBpUhhraUEyITBInUFKLr7kHKvzD7FVROC7XZPPYkgdd2MNOBZd97LwxQQOhGlksLJSw==:qnDedVBv7C06tcdNQk2cTtY0Vq-O0aA9R61dLIdONyG6pZ/qa9bmhUNkx0GZRdpSSCzCXJH2Eg/M1HOY-iZBLKKdz-of1COlR/5qXXrArec=; _gcl_au=1.1.1925123261.1727962978; pxcts=680812cf-818d-11ef-a92f-ac9ebd239c4c; dhhPerseusHitId=1727969695559.000000002832578242.00003j0orc; dhhPerseusSessionId=1727967685073.000000000655595217.0001cdkc8o; __Secure-peya.sid=s^%^3Afc736931-d274-4284-b398-a3a1cd899fcc.ptL^%^2BvabyCr^%^2Bwmowa5jrBDNxJCe8doz4ji^%^2FCqbqWPIyw; __Secure-peyas.sid=s^%^3Aa9e09c55-68e8-43c8-9b22-4805b0b6e6fa.fSr9jOriOxF55E3S^%^2F1eIhlfRhihAOZujdPQoDTl9chI; __cf_bm=TJX41LVDBaTRNB9.672piOQJr5FDsNeOtjopIqCMYRc-1727969511-1.0.1.1-YXamZwmNoaAiDt80D02baF59i6scJiZLGJ4HnrEYrxAFKsiNvRGiskoUTsTmxrCbo813ynTfRbLWeJPSS3CuLA; __cf_bm=XQSs3m8Qu0zyCUuJUHvZFJuaodCnAoLz7mpPV5yHsqQ-1727969655-1.0.1.1-T2T91oL8A3A0tKzxu.2Qi0LMpfrCMZvvBIeqClXbljh.4SP629Orvq.VNtoH_oVDXuQ9u1Mf9hcOV7e.DovZaA; __Secure-peya.sid=s%3A137d9dba-410e-4a23-baee-d530a6637343.0O3daP3HQum0RSmGPUNH6faubmo5XSpIEN6tDtPaLh0; __Secure-peyas.sid=s%3Adae68f2e-85c4-405d-a983-41e6376c75bb.tfZlVVU4CqGryKcuySaR9d3GBixAlmMmuTTJGbR5KO8; _pxhd=qDKGycEizpGlCwiaHMsBpUhhraUEyITBInUFKLr7kHKvzD7FVROC7XZPPYkgdd2MNOBZd97LwxQQOhGlksLJSw==:qnDedVBv7C06tcdNQk2cTtY0Vq-O0aA9R61dLIdONyG6pZ/qa9bmhUNkx0GZRdpSSCzCXJH2Eg/M1HOY-iZBLKKdz-of1COlR/5qXXrArec=',\n",
    "  'Sec-Fetch-Dest': 'empty',\n",
    "  'Sec-Fetch-Mode': 'cors',\n",
    "  'Sec-Fetch-Site': 'same-origin',\n",
    "  'Priority': 'u=0',\n",
    "  'TE': 'trailers'\n",
    "}\n",
    "\n",
    "response = requests.request(\"GET\", url, headers=headers, data=payload)\n",
    "data_product = response.json()\n",
    "print(response.text)"
   ]
  },
  {
   "cell_type": "code",
   "execution_count": 19,
   "id": "4471000b-7ed0-425b-ba7b-8fcfd9aa5244",
   "metadata": {},
   "outputs": [
    {
     "name": "stdout",
     "output_type": "stream",
     "text": [
      "Title: Yogurt Frutilla Ilolay 900 Gr\n",
      "FinalPrice: 2159\n",
      "SKU: 131246638\n",
      "\n",
      "Title: Yogur Natural S/Azúcar Agregada Yogurisimo 300Gr\n",
      "FinalPrice: 2862\n",
      "SKU: 138559399\n",
      "\n",
      "Title: Yogurt Vainilla Ilolay 900 Gr\n",
      "FinalPrice: 2159\n",
      "SKU: 131246147\n",
      "\n",
      "Title: Yogurt Durazno Ilolay 900 Gr\n",
      "FinalPrice: 2259\n",
      "SKU: 131904776\n",
      "\n",
      "Title: Yogur Cremoso Par. Desc. Vainilla 120 g Ilolay\n",
      "FinalPrice: 504.9\n",
      "SKU: 128403338\n",
      "\n",
      "Title: Yogur Tregar Natural Pote 140 g\n",
      "FinalPrice: 822\n",
      "SKU: 19181650\n",
      "\n",
      "Title: Yogur Bebible Frutilla La Serenísima Clásico 900Gr\n",
      "FinalPrice: 1944.8\n",
      "SKU: 128320157\n",
      "\n",
      "Title: Yogur Tregar Vainilla 125g\n",
      "FinalPrice: 637\n",
      "SKU: 114456041\n",
      "\n",
      "Title: Yogur Batido Clasico La Serenisima Vain 120 g\n",
      "FinalPrice: 514.5\n",
      "SKU: 149560733\n",
      "\n",
      "Title: Yogur Yogurísimo Natural Endulzado 300g\n",
      "FinalPrice: 2995\n",
      "SKU: 149560781\n",
      "\n"
     ]
    }
   ],
   "source": [
    "products = data_product.get('data', '') if data_product.get('data', '') != None else '' #Filtro los productos\n",
    "for product in products:\n",
    "    title = None\n",
    "    final_price = None\n",
    "    description = None\n",
    "    title = product.get('name', '') if product.get('name', '') != None else ''\n",
    "    if not title:\n",
    "        q_no_title += 1\n",
    "    final_price = product.get('price', 0) if product.get('price', '') != None else 0\n",
    "    sku = product.get('id', '') if product.get('id', '') != None else ''\n",
    "\n",
    "    print(f\"Title: {title}\")\n",
    "    print(f\"FinalPrice: {final_price}\")\n",
    "    print(f\"SKU: {sku}\\n\")"
   ]
  },
  {
   "cell_type": "code",
   "execution_count": null,
   "id": "4d8c9d89-c5ab-4798-89cf-d3a3d4efa2b2",
   "metadata": {},
   "outputs": [],
   "source": []
  }
 ],
 "metadata": {
  "kernelspec": {
   "display_name": "Python 3 (ipykernel)",
   "language": "python",
   "name": "python3"
  },
  "language_info": {
   "codemirror_mode": {
    "name": "ipython",
    "version": 3
   },
   "file_extension": ".py",
   "mimetype": "text/x-python",
   "name": "python",
   "nbconvert_exporter": "python",
   "pygments_lexer": "ipython3",
   "version": "3.11.3"
  }
 },
 "nbformat": 4,
 "nbformat_minor": 5
}
