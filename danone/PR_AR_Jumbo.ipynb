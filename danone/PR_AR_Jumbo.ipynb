{
 "cells": [
  {
   "cell_type": "code",
   "execution_count": 1,
   "id": "4cd5b75e-9d4a-407e-aec6-6ec79dc0bb41",
   "metadata": {},
   "outputs": [],
   "source": [
    "# Importacion de librerias\n",
    "import time\n",
    "import re\n",
    "import requests\n",
    "from bs4 import BeautifulSoup\n",
    "from selenium import webdriver\n",
    "from selenium.webdriver.common.by import By\n",
    "from selenium.webdriver.common.keys import Keys\n",
    "from selenium.webdriver.chrome.options import Options\n",
    "\n",
    "# Opciones del navegador\n",
    "options = Options()\n",
    "options.add_argument(\"--start-maximized\")\n",
    "driver = webdriver.Chrome(options=options)\n",
    "\n",
    "url = \"https://www.jumbo.com.ar/yogur-bebible-yogurisimo-vainilla-900-gr/p\"\n",
    "driver.get(url)\n",
    "time.sleep(5)\n",
    "html = driver.page_source\n",
    "driver.quit()"
   ]
  },
  {
   "cell_type": "code",
   "execution_count": 10,
   "id": "d47c814b-a8c8-4044-8331-0ada41507eb9",
   "metadata": {},
   "outputs": [
    {
     "name": "stdout",
     "output_type": "stream",
     "text": [
      "<article><h2>Yogur Bebible Vainilla Yogurisimo 900 Gr</h2>Elegí el Yogur Bebible Vainilla Yogurisimo para darle un toque delicioso y refrescante a tu día. Este yogur es ideal para cualquier momento: desde el desayuno hasta un snack a media tarde, ¡y siempre con el sabor que te encanta!<h3>Porque elegir el Yogur Bebible Vainilla Yogurisimo 900 Gr</h3><li> Sabor a vainilla que encanta a todos </li><li> Contiene probióticos que cuidan tu salud intestinal </li><li> Fortificado con zinc y vitaminas A y D para un impulso extra </li><li> 100% libre de gluten y sin TACC, perfecto para todas las dietas Disfrutá de su cremosidad y frescura en cada sorbo. <p>Compralo ahora con envío a domicilio o retiro en tienda.</p></li></article>\n"
     ]
    }
   ],
   "source": [
    "soup = BeautifulSoup(html, \"lxml\")\n",
    "print(soup.select(\".view-conditions_descripcion > article\")[0])"
   ]
  },
  {
   "cell_type": "code",
   "execution_count": 51,
   "id": "251c43c2-8f01-450f-90e3-f8f25637a5a6",
   "metadata": {},
   "outputs": [],
   "source": [
    "description_elem = \"<h2>Disfrutá del Postre Minions Chocolate Serenito 95 Gr</h2><p>¡Llená de diversión y sabor tu día con el cremoso Postre Minions de Serenito! Elaborado con un 90% de leche fresca La Serenísima, es el capricho perfecto para los amantes del chocolate.</p><h3>Porque elegir Postre Minions Chocolate Serenito 95 Gr</h3><ul><li>Delicioso sabor a chocolate que encantará a los más golosos.</li><li>Elaborado con un 90% de leche fresca, calidad asegurada.</li><li>100% libre de sellos, ideal para disfrutar sin preocupaciones.</li><li>Fortificado con Zinc, sumando beneficios a tu merienda.</li><li>Libre de gluten y sin TACC, apto para todos.</li></ul><p>Cuchareá a todo ritmo con este postre cremoso y delicioso. Compralo ahora con envío a domicilio o retiro en tienda.</p>\""
   ]
  },
  {
   "cell_type": "code",
   "execution_count": 52,
   "id": "946f35c2-ffa4-4ed2-96dc-ecccfbb32833",
   "metadata": {},
   "outputs": [
    {
     "name": "stdout",
     "output_type": "stream",
     "text": [
      "<h2>Disfrutá del Postre Minions Chocolate Serenito 95 Gr</h2><p>¡Llená de diversión y sabor tu día con el cremoso Postre Minions de Serenito! Elaborado con un 90% de leche fresca La Serenísima, es el capricho perfecto para los amantes del chocolate.</p><h3>Porque elegir Postre Minions Chocolate Serenito 95 Gr</h3><ul>\n",
      "Delicioso sabor a chocolate que encantará a los más golosos.</li>\n",
      "Elaborado con un 90% de leche fresca, calidad asegurada.</li>\n",
      "100% libre de sellos, ideal para disfrutar sin preocupaciones.</li>\n",
      "Fortificado con Zinc, sumando beneficios a tu merienda.</li>\n",
      "Libre de gluten y sin TACC, apto para todos.</li></ul><p>Cuchareá a todo ritmo con este postre cremoso y delicioso. Compralo ahora con envío a domicilio o retiro en tienda.</p> \n",
      "\n",
      "Disfrutá del Postre Minions Chocolate Serenito 95 Gr¡Llená de diversión y sabor tu día con el cremoso Postre Minions de Serenito! Elaborado con un 90% de leche fresca La Serenísima, es el capricho perfecto para los amantes del chocolate.Porque elegir Postre Minions Chocolate Serenito 95 Gr\n",
      "Delicioso sabor a chocolate que encantará a los más golosos.\n",
      "Elaborado con un 90% de leche fresca, calidad asegurada.\n",
      "100% libre de sellos, ideal para disfrutar sin preocupaciones.\n",
      "Fortificado con Zinc, sumando beneficios a tu merienda.\n",
      "Libre de gluten y sin TACC, apto para todos.Cuchareá a todo ritmo con este postre cremoso y delicioso. Compralo ahora con envío a domicilio o retiro en tienda.\n"
     ]
    }
   ],
   "source": [
    "description_elem = description_elem.replace(\"<li>\", \"\\n\")\n",
    "print(description_elem, \"\\n\")\n",
    "description = re.sub(r'<[^>]+>', '', description_elem)\n",
    "print(description)"
   ]
  },
  {
   "cell_type": "code",
   "execution_count": null,
   "id": "ca9f8a77-04a5-4fc8-918c-59086dcb2767",
   "metadata": {},
   "outputs": [],
   "source": []
  }
 ],
 "metadata": {
  "kernelspec": {
   "display_name": "Python 3 (ipykernel)",
   "language": "python",
   "name": "python3"
  },
  "language_info": {
   "codemirror_mode": {
    "name": "ipython",
    "version": 3
   },
   "file_extension": ".py",
   "mimetype": "text/x-python",
   "name": "python",
   "nbconvert_exporter": "python",
   "pygments_lexer": "ipython3",
   "version": "3.11.3"
  }
 },
 "nbformat": 4,
 "nbformat_minor": 5
}
