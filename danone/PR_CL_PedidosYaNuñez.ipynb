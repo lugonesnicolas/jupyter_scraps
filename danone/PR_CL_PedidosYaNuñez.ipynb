{
 "cells": [
  {
   "cell_type": "code",
   "execution_count": 2,
   "id": "cb0a8dde-c81a-412a-ad8e-19609bb5ab90",
   "metadata": {},
   "outputs": [],
   "source": [
    "import requests"
   ]
  },
  {
   "cell_type": "code",
   "execution_count": 5,
   "id": "dfbbdee4-4792-42a9-a9a9-dcc02bebb42d",
   "metadata": {},
   "outputs": [],
   "source": [
    "url = f\"https://www.pedidosya.com.ar/groceries/web/v1/vendors/285567/products/140991963\"\n",
    "\n",
    "payload = {}\n",
    "headers = {\n",
    "  'User-Agent': 'Mozilla/5.0 (Windows NT 10.0; Win64; x64; rv:128.0) Gecko/20100101 Firefox/128.0',\n",
    "  'Accept': 'application/json, text/plain, */*',\n",
    "  'Accept-Language': 'es-AR,es;q=0.8,en-US;q=0.5,en;q=0.3',\n",
    "  'Accept-Encoding': 'gzip, deflate, br, zstd',\n",
    "  'Referer': 'https://www.pedidosya.com.ar/restaurantes/buenos-aires/pedidosya-market-nunez-menu?p=138556961&search=yogurisimo&menuSection=section_details',\n",
    "  'DNT': '1',\n",
    "  'Sec-GPC': '1',\n",
    "  'Connection': 'keep-alive',\n",
    "  'Sec-Fetch-Dest': 'empty',\n",
    "  'Sec-Fetch-Mode': 'cors',\n",
    "  'Sec-Fetch-Site': 'same-origin',\n",
    "  'Priority': 'u=0',\n",
    "  'TE': 'trailers'\n",
    "}\n",
    "\n",
    "response = requests.request(\"GET\", url, headers=headers, data=payload)\n",
    "data_product = response.json()\n",
    "# try:\n",
    "#     data_product = data_product[0]\n",
    "# except:\n",
    "#     # No hay datos en el json\n",
    "#     data_product = None"
   ]
  },
  {
   "cell_type": "code",
   "execution_count": 6,
   "id": "3d0feea1-44f9-45b4-878b-3fe1cc6ef53f",
   "metadata": {},
   "outputs": [
    {
     "name": "stdout",
     "output_type": "stream",
     "text": [
      "[]\n"
     ]
    }
   ],
   "source": [
    "print(data_product)"
   ]
  },
  {
   "cell_type": "code",
   "execution_count": null,
   "id": "5e03cf4f-9210-4900-be90-c0425cddbd43",
   "metadata": {},
   "outputs": [],
   "source": []
  }
 ],
 "metadata": {
  "kernelspec": {
   "display_name": "Python 3 (ipykernel)",
   "language": "python",
   "name": "python3"
  },
  "language_info": {
   "codemirror_mode": {
    "name": "ipython",
    "version": 3
   },
   "file_extension": ".py",
   "mimetype": "text/x-python",
   "name": "python",
   "nbconvert_exporter": "python",
   "pygments_lexer": "ipython3",
   "version": "3.11.3"
  }
 },
 "nbformat": 4,
 "nbformat_minor": 5
}
