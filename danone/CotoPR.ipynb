{
 "cells": [
  {
   "cell_type": "code",
   "execution_count": 3,
   "id": "c8e6734a-9385-4fb6-b66e-f41331a7a3d0",
   "metadata": {},
   "outputs": [
    {
     "name": "stdout",
     "output_type": "stream",
     "text": [
      "200\n"
     ]
    }
   ],
   "source": [
    "import pandas as pd\n",
    "import requests\n",
    "import json\n",
    "\n",
    "url = \"https://api.cotodigital.com.ar/sitios/cdigi/productos/postre-dulce-de-leche-danette-95gr/_/R-00574095-00574095-200?Dy=1&format=json\"\n",
    "url = \"https://www.cotodigital.com.ar/sitios/cdigi/productos/bebida-a-base-de-almendras-endulzada-silk-1lt/_/R-00572036-00572036-200?Dy=1&format=json\"\n",
    "\n",
    "payload = {}\n",
    "\n",
    "headers = {\n",
    "  'Accept': 'application/json, text/plain, */*',\n",
    "  'Accept-Language': 'es-419,es-US;q=0.9,es;q=0.8,en-US;q=0.7,en;q=0.6',\n",
    "  'Connection': 'keep-alive',\n",
    "  'Content-Type': 'application/json',\n",
    "  'Referer': 'https://api.cotodigital.com.ar/sitios/cdigi/categoria%3FDy%3D1&Nf%3Dproduct.startDate%257CLTEQ%2B1.7352576E12%257C%257Cproduct.endDate%257CGTEQ%2B1.7352576E12&No%3D12&Nr%3DAND%2528product.sDisp_200%253A1004%252Cproduct.language%253Aespa%25C3%25B1ol%252COR%2528product.siteId%253ACotoDigital%2529%2529&Nrpp%3D12&Ntt%3Doreo&format%3Djson',\n",
    "  'Sec-Fetch-Dest': 'empty',\n",
    "  'Sec-Fetch-Mode': 'cors',\n",
    "  'Sec-Fetch-Site': 'same-origin',\n",
    "  'User-Agent': 'Mozilla/5.0 (Windows NT 10.0; Win64; x64) AppleWebKit/537.36 (KHTML, like Gecko) Chrome/131.0.0.0 Safari/537.36',\n",
    "  'sec-ch-ua': '\"Google Chrome\";v=\"131\", \"Chromium\";v=\"131\", \"Not_A Brand\";v=\"24\"',\n",
    "  'sec-ch-ua-mobile': '?0',\n",
    "  'sec-ch-ua-platform': '\"Windows\"'\n",
    "}\n",
    "\n",
    "response = requests.request(\"GET\", url, headers=headers, data=payload)\n",
    "print(response.status_code)\n",
    "try:\n",
    "    # Intenta parsear el texto como JSON y formatearlo\n",
    "    response_json = response.json()\n",
    "except json.JSONDecodeError:\n",
    "    # Si no es JSON válido, imprime el texto sin procesar\n",
    "    print(response.text)"
   ]
  },
  {
   "cell_type": "code",
   "execution_count": 5,
   "id": "90ff3569",
   "metadata": {},
   "outputs": [
    {
     "name": "stdout",
     "output_type": "stream",
     "text": [
      "Price: {'id': '26783728', 'textoVigencia': ' ', 'textoPrecioRegular': 'Precio Contado: $5370', 'precioRegular': '', 'textoDescuento': '50%Dto', 'precioDescuento': '$2685.00', 'imagenDescuento': ' ', 'comentarios': ' No acumulable con otras promos'}\n",
      "{'product.language': ['español'], 'product.description': ['Bebida A Base De Almendras Endulzada SILK 1lt'], 'product.brand': ['SILK'], 'record.type': ['Producto', 'SKU'], 'product.sDisp_220': ['1004'], 'sku.description': ['Bebida A Base De Almendras Endulzada SILK 1lt'], 'sku.displayName': ['Bebida A Base De Almendras Endulzada SILK 1lt'], 'sku.referencePrice': ['5370.000000'], 'product.averageCustomerRating': ['0'], 'product.mediumImage.url': ['https://static.cotodigital3.com.ar/sitios/fotos/medium/00572000/00572036.jpg'], 'product.disallowAsRecommendation': ['0'], 'sku.unit_of_measure': ['litres'], 'sku.creationDate': ['1694487600000'], 'sku.endDate': ['32506394714894'], 'product.sDisp_131': ['1004'], 'product.sDisp_133': ['1001'], 'product.esPeque': ['1'], 'product.CLASE': ['42'], 'product.cantForm': ['1'], 'sku.repositoryId': ['sku00572036'], 'product.unidades.descUnidad': ['UNI'], 'product.sDisp_215': ['1004'], 'product.LCLASE': ['ALIMENTOS VEGETALES'], 'product.sDisp_219': ['1004'], 'product.category': ['Alimentos Vegetales'], 'product.idTipoGrupo': ['1'], 'product.creationDate': ['1694487600000'], 'product.nonreturnable': ['0'], 'product.dtoCaracteristicas': ['[{\"nombre\":\"MARCA\",\"descripcion\":\"SILK\"}]'], 'product.LDEPAR': ['LACTEOS'], 'product.DEPTO': ['3'], 'product.daysAvailable': ['482'], 'sku.quantity': ['1'], 'product.dateAvailable': ['1694487600000'], 'product.sDisp_238': ['1004'], 'product.sDisp_092': ['1004'], 'product.sDisp_165': ['1004'], 'product.sDisp_160': ['1004'], 'allAncestors.repositoryId': ['CDigiRootCategory', 'catv00001255', 'catv00001295', 'catv00003761'], 'product.dtoDescuentos': ['[{\"id\":\"26783728\",\"textoVigencia\":\" \",\"textoPrecioRegular\":\"Precio Contado: $5370\",\"precioRegular\":\"\",\"textoDescuento\":\"50%Dto\",\"precioDescuento\":\"$2685.00\",\"imagenDescuento\":\" \",\"comentarios\":\" No acumulable con otras promos\"}]'], 'product.sDisp_085': ['1004'], 'product.sDisp_188': ['1004'], 'product.sDisp_189': ['1004'], 'product.sDisp_184': ['1004'], 'product.sDisp_185': ['1004'], 'product.displayName': ['Bebida A Base De Almendras Endulzada SILK 1lt'], 'product.sDisp_181': ['1004'], 'product.sDisp_182': ['1004'], 'product.dtoDescuentosMediosPago': ['[]'], 'product.unidades.esPesable': ['0'], 'product.priceListPair': ['priceList200'], 'product.auxiliaryMedia': ['{\"imagenes\":[{\"name\":\"mgf00572036_02_f\",\"url\":\"https://static.cotodigital3.com.ar/sitios/fotos/mini/00572000/00572036_g02.jpg\"},{\"name\":\"mgf00572036_01_f\",\"url\":\"https://static.cotodigital3.com.ar/sitios/fotos/mini/00572000/00572036_g01.jpg\"},{\"name\":\"mgf00572036_03_f\",\"url\":\"https://static.cotodigital3.com.ar/sitios/fotos/mini/00572000/00572036_g03.jpg\"}],\"videos\":[]}'], 'sku.siteId': ['CotoDigital'], 'product.sDisp_091': ['1004'], 'product.sDisp_090': ['1004'], 'product.briefDescription': ['Bebida A Base De Almendras Endulzada SILK 1lt'], 'sku.baseUrl': ['atgrep:/ProductCatalog/sku/sku00572036'], 'product.sDisp_075': ['1004'], 'product.sDisp_178': ['1004'], 'product.eanPrincipal': ['7791337007901'], 'product.sDisp_078': ['1004'], 'product.sDisp_109': ['1004'], 'product.siteId': ['CotoDigital'], 'sku.startDate': ['0'], 'product.catalogId': ['CDigiCatalog'], 'product.repositoryId': ['prod00572036'], 'product.sDisp_107': ['1004'], 'sku.margin': ['0.000000'], 'product.MARCA': ['SILK'], 'record.id': ['00572036-00572036-200'], 'product.cFormato': ['Litro '], 'product.sDisp_063': ['1004'], 'product.tipoOferta': ['Hasta 50% DTO!!', 'Todas las Ofertas'], 'product.sDisp_064': ['1004'], 'product.sDisp_065': ['1004'], 'product.endDate': ['32506394714894'], 'product.sDisp_060': ['1004'], 'product.sDisp_061': ['1004'], 'sku.activePrice': ['5370.000000'], 'product.sDisp_400': ['1001'], 'product.sDisp_209': ['1004'], 'sku.url': ['atgrep:/ProductCatalog/sku/sku00572036?_product=prod00572036&catalog=CDigiCatalog&locale=es_AR&priceListPair=priceList200'], 'product.sDisp_204': ['1004'], 'record.source': ['ProductCatalog'], 'product.sDisp_200': ['1004'], 'product.startDate': ['0'], 'sku.dtoPrice': ['{\"id\":\"pl200_00572036\",\"skuId\":\"sku00572036\",\"precioLista\":5370.0,\"precio\":5370.0,\"imagenOferta1\":\"oferta.png\"}'], 'product.url': ['atgrep:/ProductCatalog/sku/sku00572036?_product=prod00572036&catalog=CDigiCatalog&locale=es_AR&priceListPair=priceList200'], 'allAncestors.displayName': ['Alimentos Vegetales', 'CotoDigital', 'Frescos', 'Lácteos'], 'parentCategory.displayName': ['Alimentos Vegetales'], 'product.largeImage.url': ['https://static.cotodigital3.com.ar/sitios/fotos/large/00572000/00572036.jpg'], 'product.sDisp_710': ['1001'], 'product.sDisp_197': ['1004'], 'product.sDisp_056': ['1004'], 'product.sDisp_129': ['1004'], 'product.baseUrl': ['atgrep:/ProductCatalog/sku/sku00572036'], 'product.keywords': ['Leche  almendras leche  vegetal Poder  vegetal Sin  TACC FRESCOS LÁCTEOS ALIMENTOS  VEGETALES LACTEOS ALIMENTOS  VEGETALES'], 'sku.onSaleText': ['0'], 'product.longDescription': ['SILK Bebida Vegetal, Almendra, Endulzada.Aporta El Sutil Sabor De Nuestras Almendras Californianas Cuidadosamente Tostadas Con Nuestra Receta Original. Una Opción Ideal Para Disfrutarlo Con Tu Cereal En El Desayuno O Tu Bebida Favorita En Smoothie, Café O Té, Junto A Toda La Cremosidad De Silk. Bebible 1lt.Producto Vegetal Bebible A Base De Almendras Fortificado Con Calcio, Zinc Y Vitaminas A, B2, B6, B12, D Y E. Libre De Gluten. Sin Tacc.']}\n",
      "Title: Bebida A Base De Almendras Endulzada SILK 1lt\n",
      "Brand: SILK\n",
      "Description: SILK Bebida Vegetal, Almendra, Endulzada.Aporta El Sutil Sabor De Nuestras Almendras Californianas Cuidadosamente Tostadas Con Nuestra Receta Original. Una Opción Ideal Para Disfrutarlo Con Tu Cereal En El Desayuno O Tu Bebida Favorita En Smoothie, Café O Té, Junto A Toda La Cremosidad De Silk. Bebible 1lt.Producto Vegetal Bebible A Base De Almendras Fortificado Con Calcio, Zinc Y Vitaminas A, B2, B6, B12, D Y E. Libre De Gluten. Sin Tacc.\n",
      "QImages: 3\n",
      "OldPrice: 5370.0\n",
      "FinalPrice: 2685.0\n",
      "[{'name': 'mgf00572036_02_f', 'url': 'https://static.cotodigital3.com.ar/sitios/fotos/mini/00572000/00572036_g02.jpg'}, {'name': 'mgf00572036_01_f', 'url': 'https://static.cotodigital3.com.ar/sitios/fotos/mini/00572000/00572036_g01.jpg'}, {'name': 'mgf00572036_03_f', 'url': 'https://static.cotodigital3.com.ar/sitios/fotos/mini/00572000/00572036_g03.jpg'}]\n"
     ]
    }
   ],
   "source": [
    "data_product = response_json['contents'][0]['Main'][0]['record']['attributes']\n",
    "title = data_product.get('sku.displayName', '')[0]\n",
    "description = data_product.get('product.longDescription', '')[0]\n",
    "brand = data_product.get('product.brand', '')[0]\n",
    "try:\n",
    "  q_images= json.loads(data_product.get('product.auxiliaryMedia', '')[0])['imagenes']\n",
    "except:\n",
    "  q_images = 0\n",
    "\n",
    "\n",
    "try:\n",
    "  price = json.loads(data_product.get('product.dtoDescuentos', 0)[0])[0] # Cuando hay descuento\n",
    "  try:\n",
    "    old_price = price['textoPrecioRegular'].replace('Precio Contado: $', '')\n",
    "  except:\n",
    "    old_price = 0\n",
    "  try:\n",
    "    final_price = price['precioDescuento'].replace('$', '').replace('c/u', '')\n",
    "  except:\n",
    "    final_price = 0\n",
    "  print(f\"Price: {price}\")\n",
    "except:\n",
    "  try:\n",
    "    price = json.loads(data_product.get('sku.dtoPrice', 0)[0]) # Cuando no hay descuento\n",
    "    old_price = 0\n",
    "    try:\n",
    "      final_price = price['precioLista']\n",
    "    except:\n",
    "      final_price = 0\n",
    "  except:\n",
    "    print(f\"Price: {price}\")\n",
    "\n",
    "old_price = float(old_price)\n",
    "final_price = float(final_price)\n",
    "print(data_product)\n",
    "print(f\"Title: {title}\")\n",
    "print(f\"Brand: {brand}\")\n",
    "print(f\"Description: {description}\")\n",
    "print(f\"QImages: {len(q_images)}\")\n",
    "print(f\"OldPrice: {old_price}\")\n",
    "print(f\"FinalPrice: {final_price}\")\n",
    "print(json.loads(data_product.get('product.auxiliaryMedia', '')[0])['imagenes'])"
   ]
  }
 ],
 "metadata": {
  "kernelspec": {
   "display_name": "venv",
   "language": "python",
   "name": "python3"
  },
  "language_info": {
   "codemirror_mode": {
    "name": "ipython",
    "version": 3
   },
   "file_extension": ".py",
   "mimetype": "text/x-python",
   "name": "python",
   "nbconvert_exporter": "python",
   "pygments_lexer": "ipython3",
   "version": "3.11.3"
  }
 },
 "nbformat": 4,
 "nbformat_minor": 5
}
