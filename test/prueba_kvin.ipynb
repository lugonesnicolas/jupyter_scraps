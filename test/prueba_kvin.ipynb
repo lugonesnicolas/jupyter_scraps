{
 "cells": [
  {
   "cell_type": "code",
   "execution_count": 15,
   "id": "06643afd-5051-47d7-8d42-8c5a7119ff68",
   "metadata": {},
   "outputs": [],
   "source": [
    "import requests\n",
    "from bs4 import BeautifulSoup"
   ]
  },
  {
   "cell_type": "code",
   "execution_count": 16,
   "id": "cdc7ce13-2b7b-4c79-92b2-476c12690124",
   "metadata": {},
   "outputs": [],
   "source": [
    "url = 'https://www.amazon.ae/Sony-PlayStation-SLIM-Disc-Model/dp/B0CKYM15RJ/ref=sr_1_1?crid=2ZC6RTP54MD8V&dib=eyJ2IjoiMSJ9.oqLPO-2OLSwpD6abdcjuYaqj5bvgdSJNBZVvhgf9xsEkRS4LnSGRD660H22k5fw2Aw_5Dv0k-kiTJAJVw8wuYQxKgEWZovjDtINK4nx7RWG2l00bzq0FlsLW_-R3tDqDIOfvuVx-zCskIv7vXIHDW24K_Ql7OxHetxbrOs9_9nEf8RgK2ZRYL-5PNfDoT5mYL1h_1TocxRbRsJj2nzGJ7LjEi5XaMzZCTXk50eLOyBMuRcGMFCn5Ahc-3bywvip_tnobIGYtFQkqqyJoHy2RIWf60YvbpfWDWfjZdUxEiXI.JHH52GF9J_4orfiCGtC4bFzaj_qG3qAQYhYGE-jBaO4&dib_tag=se&keywords=ps5&qid=1711158424&sprefix=ps%2Caps%2C295&sr=8-1&th=1'"
   ]
  },
  {
   "cell_type": "code",
   "execution_count": 17,
   "id": "2f10f376-a389-451a-8256-3e84285b9f92",
   "metadata": {},
   "outputs": [],
   "source": [
    "headers = {\n",
    "  'User-Agent': 'Mozilla/5.0 (Windows NT 10.0; Win64; x64; rv:124.0) Gecko/20100101 Firefox/124.0',\n",
    "  'Accept': 'text/html,application/xhtml+xml,application/xml;q=0.9,image/avif,image/webp,*/*;q=0.8',\n",
    "  'Accept-Language': 'es-AR,es;q=0.8,en-US;q=0.5,en;q=0.3',\n",
    "  'Accept-Encoding': 'gzip, deflate, br',\n",
    "  'Referer': 'https://www.amazon.ae/s?k=ps5&crid=2ZC6RTP54MD8V&sprefix=ps%2Caps%2C295&ref=nb_sb_noss_1',\n",
    "  'Connection': 'keep-alive',\n",
    "  'Cookie': 'session-id=257-2861550-0109024; session-id-time=2082787201l; i18n-prefs=AED; csm-hit=tb:D1X2DZ3VGV8XN606X4Q4+s-R3TTM6SB3XPAP3JBSWF2|1711158428806&t:1711158428806&adb:adblk_yes; ubid-acbae=257-3832480-6790808; session-token=g/qDP4h3JT/qM4aL6W1rkNmk+i896e7ZhZUwkgYc4i8fTRPw4DzKGdPVbFiZDkizgmwaLaWZgOYKXHKI8puiIb9ws8HxqUbhCr0ElQmRO7nUKYogdmYX3oj4iJJb5qL6SAcnOXAIQYgSUshlG93H+GYUiM0GcpZojI6+6YSICZXSs3t2Elg72Kvxh5vQQFo2wdhhmjbR4bDuGWeDly/2EEgdRoLayvWLrSnZqOD7BQGctq1tLzxsaw2s6YDoUOQ8gTd08ZLJ6ED99UPdDljA1HcD/rtb1KIuxAuY4ccG2rlSE/268yYp7zfBkfwk0FsQhX9a+m65f3VwZw+APO0YzsucRC08oiwT; lc-acbae=en_AE; s_pers=%20s_fid%3D3504FFD318A2EA58-3D892D2C174744DD%7C1866804897117%3B%20s_dl%3D1%7C1708953897117%3B%20gpv_page%3DAZ%253ASD%253ASOA-home%7C1708953897118%3B%20s_ev15%3D%255B%255B%2527AZAESOA_pcdisc_C%2527%252C%25271708952097118%2527%255D%255D%7C1866804897118%3B; session-token=BTrsbbm776uHsNlxMeU/oigaRkMKInKvCBzGsD9bLXztYYg1Jqd9+ygPkLBkDDhaVN+t1NwwO6GBaE8H8DQUePvq+GIXN85hC1Qr99/qXsiTgIvL7jJP4nHE0XmLirdHYwC/GHJsYdPAAL0YXZ2bgAcMWAbMbnNCQrNVydElQtp4HUe8RnsWA1M5TF6lQOYieKfXpoJGXO4gFtVaYGz9xmA+ZoGS5zhXPwc1F5qkyxNK8+NHqABcaCuqZHOSMe5r9SKyF+bJeIpLXFuKwshNwGzvYoLwRZFBVn2+PMnvOucZY7wpvI+6Y0//PnxMuEzLfQKzPma58dVjirFyMo93Uatj5fjPHA0o',\n",
    "  'Upgrade-Insecure-Requests': '1',\n",
    "  'Sec-Fetch-Dest': 'document',\n",
    "  'Sec-Fetch-Mode': 'navigate',\n",
    "  'Sec-Fetch-Site': 'same-origin',\n",
    "  'Sec-Fetch-User': '?1',\n",
    "  'Sec-GPC': '1',\n",
    "  'TE': 'trailers'\n",
    "}\n"
   ]
  },
  {
   "cell_type": "code",
   "execution_count": 18,
   "id": "c8caf0d0-92b6-4450-9b4a-cf9e35da0925",
   "metadata": {},
   "outputs": [],
   "source": [
    "payload = {}\n",
    "response = requests.request(\"GET\", url, headers=headers, data=payload)\n",
    "html = response.text\n",
    "soup = BeautifulSoup(html, 'html.parser')"
   ]
  },
  {
   "cell_type": "code",
   "execution_count": 28,
   "id": "efd945de-eb26-4dd4-89ef-8b52258ad706",
   "metadata": {},
   "outputs": [],
   "source": [
    "title = soup.find('span', id='productTitle').text\n",
    "price = soup.find('span', class_='a-price aok-align-center reinventPricePriceToPayMargin priceToPay').text "
   ]
  },
  {
   "cell_type": "code",
   "execution_count": 29,
   "id": "62f62e9e-1171-4c1e-8e43-2fa4e33dc9c8",
   "metadata": {},
   "outputs": [
    {
     "name": "stdout",
     "output_type": "stream",
     "text": [
      "Title:         Sony PlayStation 5 SLIM Disc [ NEW 2023 Model ] - International Version       \n",
      "Price:  AED1,673.00\n"
     ]
    }
   ],
   "source": [
    "print(f\"Title: {title}\")\n",
    "print(f\"Price: {price}\")"
   ]
  },
  {
   "cell_type": "code",
   "execution_count": 39,
   "id": "6b8a31fc-7b0c-4252-a8de-18e2c2b8f804",
   "metadata": {},
   "outputs": [
    {
     "name": "stdout",
     "output_type": "stream",
     "text": [
      "Price:  1,673.00\n"
     ]
    }
   ],
   "source": [
    "price_num = ''\n",
    "for i in price:\n",
    "    if 'A' != i and 'E' != i and 'D' != i:\n",
    "        price_num += f'{i}'\n",
    "print(f\"Price: {price_num}\")"
   ]
  },
  {
   "cell_type": "code",
   "execution_count": 42,
   "id": "61f2a76f-6a73-4c01-bc8f-72c29a8db914",
   "metadata": {},
   "outputs": [
    {
     "name": "stdout",
     "output_type": "stream",
     "text": [
      " AED1,673.00\n",
      " 1,673.00\n"
     ]
    }
   ],
   "source": [
    "print(price)\n",
    "numero_sin_moneda = price.replace(\"AED\", \"\")\n",
    "print(numero_sin_moneda)"
   ]
  }
 ],
 "metadata": {
  "kernelspec": {
   "display_name": "Python 3 (ipykernel)",
   "language": "python",
   "name": "python3"
  },
  "language_info": {
   "codemirror_mode": {
    "name": "ipython",
    "version": 3
   },
   "file_extension": ".py",
   "mimetype": "text/x-python",
   "name": "python",
   "nbconvert_exporter": "python",
   "pygments_lexer": "ipython3",
   "version": "3.11.3"
  }
 },
 "nbformat": 4,
 "nbformat_minor": 5
}
