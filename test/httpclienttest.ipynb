{
 "cells": [
  {
   "cell_type": "code",
   "execution_count": 4,
   "id": "67d2b29a-dc00-49fc-894b-8d2bf6a73893",
   "metadata": {},
   "outputs": [
    {
     "ename": "AttributeError",
     "evalue": "module 'http.client' has no attribute 'HTTPBasicAuthHandler'",
     "output_type": "error",
     "traceback": [
      "\u001b[1;31m---------------------------------------------------------------------------\u001b[0m",
      "\u001b[1;31mAttributeError\u001b[0m                            Traceback (most recent call last)",
      "Cell \u001b[1;32mIn[4], line 16\u001b[0m\n\u001b[0;32m     13\u001b[0m conn \u001b[38;5;241m=\u001b[39m http\u001b[38;5;241m.\u001b[39mclient\u001b[38;5;241m.\u001b[39mHTTPSConnection(proxy_host, proxy_port)\n\u001b[0;32m     15\u001b[0m \u001b[38;5;66;03m# Configurar la autenticación básica para el proxy\u001b[39;00m\n\u001b[1;32m---> 16\u001b[0m auth_header \u001b[38;5;241m=\u001b[39m \u001b[43mhttp\u001b[49m\u001b[38;5;241;43m.\u001b[39;49m\u001b[43mclient\u001b[49m\u001b[38;5;241;43m.\u001b[39;49m\u001b[43mHTTPBasicAuthHandler\u001b[49m()\n\u001b[0;32m     17\u001b[0m auth_header\u001b[38;5;241m.\u001b[39madd_password(realm\u001b[38;5;241m=\u001b[39m\u001b[38;5;124m'\u001b[39m\u001b[38;5;124mSmartproxy\u001b[39m\u001b[38;5;124m'\u001b[39m, uri\u001b[38;5;241m=\u001b[39mproxy_host, user\u001b[38;5;241m=\u001b[39musername, passwd\u001b[38;5;241m=\u001b[39mpassword)\n\u001b[0;32m     18\u001b[0m opener \u001b[38;5;241m=\u001b[39m http\u001b[38;5;241m.\u001b[39mclient\u001b[38;5;241m.\u001b[39mbuild_opener(auth_header)\n",
      "\u001b[1;31mAttributeError\u001b[0m: module 'http.client' has no attribute 'HTTPBasicAuthHandler'"
     ]
    }
   ],
   "source": [
    "import http.client\n",
    "\n",
    "# Configurar la información del proxy de Smartproxy\n",
    "proxy_host = 'proxy.smartproxy.com'\n",
    "proxy_port = 20000\n",
    "username = 'tu_usuario'\n",
    "password = 'tu_contraseña'\n",
    "\n",
    "# Definir la URL a la que deseas hacer la solicitud\n",
    "url = \"www.ejemplo.com\"\n",
    "\n",
    "# Establecer la conexión al servidor proxy de Smartproxy\n",
    "conn = http.client.HTTPSConnection(proxy_host, proxy_port)\n",
    "\n",
    "# Configurar la autenticación básica para el proxy\n",
    "auth_header = http.client.HTTPBasicAuthHandler()\n",
    "auth_header.add_password(realm='Smartproxy', uri=proxy_host, user=username, passwd=password)\n",
    "opener = http.client.build_opener(auth_header)\n",
    "http.client.install_opener(opener)\n",
    "\n",
    "# Realizar la solicitud GET a través del proxy\n",
    "conn.request(\"GET\", \"https://\" + url)\n",
    "\n",
    "# Obtener la respuesta del servidor\n",
    "response = conn.getresponse()\n",
    "\n",
    "# Leer y mostrar el contenido de la respuesta\n",
    "print(response.read().decode(\"utf-8\"))\n",
    "\n",
    "# Cerrar la conexión\n",
    "conn.close()"
   ]
  },
  {
   "cell_type": "code",
   "execution_count": null,
   "id": "0fb0b475-2e43-474b-9bdc-51db9b462750",
   "metadata": {},
   "outputs": [],
   "source": []
  }
 ],
 "metadata": {
  "kernelspec": {
   "display_name": "Python 3 (ipykernel)",
   "language": "python",
   "name": "python3"
  },
  "language_info": {
   "codemirror_mode": {
    "name": "ipython",
    "version": 3
   },
   "file_extension": ".py",
   "mimetype": "text/x-python",
   "name": "python",
   "nbconvert_exporter": "python",
   "pygments_lexer": "ipython3",
   "version": "3.11.3"
  }
 },
 "nbformat": 4,
 "nbformat_minor": 5
}
