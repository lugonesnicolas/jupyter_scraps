{
 "cells": [
  {
   "cell_type": "code",
   "execution_count": null,
   "id": "e8b6add6-57dd-4a5f-b904-35697a52150d",
   "metadata": {},
   "outputs": [],
   "source": [
    "# Importacion de librerias necesarias\n",
    "import requests\n",
    "import re\n",
    "from bs4 import BeautifulSoup\n",
    "\n",
    "# Proxy y datos como header para la coneccion\n",
    "\n",
    "url = \"https://www.test.com\"\n",
    "payload = {}\n",
    "headers = {}\n",
    "\n",
    "# Consulta\n",
    "response = requests.request(\"GET\", url, headers=headers, data=payload, proxies = {'https': proxy})\n",
    "html_content = response.text\n",
    "soup = BeautifulSoup(html_content, \"html.parser\")\n",
    "\n",
    "# Parseo\n",
    "count = 0\n",
    "products_list = soup.select(\"test\")\n",
    "for product in products_list:\n",
    "    if count < 10:\n",
    "        # Producto"
   ]
  }
 ],
 "metadata": {
  "kernelspec": {
   "display_name": "Python 3 (ipykernel)",
   "language": "python",
   "name": "python3"
  },
  "language_info": {
   "codemirror_mode": {
    "name": "ipython",
    "version": 3
   },
   "file_extension": ".py",
   "mimetype": "text/x-python",
   "name": "python",
   "nbconvert_exporter": "python",
   "pygments_lexer": "ipython3",
   "version": "3.11.3"
  }
 },
 "nbformat": 4,
 "nbformat_minor": 5
}
