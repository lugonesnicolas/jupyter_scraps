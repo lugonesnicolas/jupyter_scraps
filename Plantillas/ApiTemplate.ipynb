{
 "cells": [
  {
   "cell_type": "code",
   "execution_count": null,
   "id": "dec858e6-26b4-4abb-bc1c-b25a024bd80f",
   "metadata": {},
   "outputs": [],
   "source": [
    "# Importacion de librerias necesarias\n",
    "import requests\n",
    "import re\n",
    "from bs4 import BeautifulSoup\n",
    "\n",
    "# Proxy y datos como header para la coneccion\n",
    "\n",
    "url = \"https://www.test.com\"\n",
    "payload = {}\n",
    "headers = {}"
   ]
  }
 ],
 "metadata": {
  "kernelspec": {
   "display_name": "Python 3 (ipykernel)",
   "language": "python",
   "name": "python3"
  },
  "language_info": {
   "codemirror_mode": {
    "name": "ipython",
    "version": 3
   },
   "file_extension": ".py",
   "mimetype": "text/x-python",
   "name": "python",
   "nbconvert_exporter": "python",
   "pygments_lexer": "ipython3",
   "version": "3.11.3"
  }
 },
 "nbformat": 4,
 "nbformat_minor": 5
}
