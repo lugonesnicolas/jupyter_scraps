{
 "cells": [
  {
   "cell_type": "code",
   "execution_count": 1,
   "id": "ea8ae28a-6a89-474f-a996-b16e95552c2b",
   "metadata": {},
   "outputs": [],
   "source": [
    "import re\n",
    "from scrapy import Request\n",
    "from scrapy.selector import Selector\n",
    "from selenium import webdriver\n",
    "from selenium.webdriver.chrome.options import Options"
   ]
  },
  {
   "cell_type": "code",
   "execution_count": 2,
   "id": "be2242c9-e843-4517-b317-3f4d4863c37f",
   "metadata": {},
   "outputs": [],
   "source": [
    "chrome_options = webdriver.ChromeOptions()\n",
    "chrome_options.add_argument(\"--headless\")  # Enable headless mode"
   ]
  },
  {
   "cell_type": "code",
   "execution_count": 3,
   "id": "60b8ce99-70f5-460e-962c-2e1f2c1b551e",
   "metadata": {},
   "outputs": [],
   "source": [
    "url='https://www.farmaciasahumada.cl/antiax-x-6-comprimidos-masticables-76231.html'"
   ]
  },
  {
   "cell_type": "code",
   "execution_count": 4,
   "id": "73a4c6de-e339-474e-936b-0e3fd1442bbf",
   "metadata": {},
   "outputs": [],
   "source": [
    "driver = webdriver.Chrome(options=chrome_options)\n",
    "driver.get(url)\n",
    "html = driver.page_source\n",
    "driver.quit()\n",
    "selector = Selector(text=html)"
   ]
  },
  {
   "cell_type": "code",
   "execution_count": 5,
   "id": "ca9acde7-3ad0-42bd-8b72-e5a6453e8084",
   "metadata": {},
   "outputs": [
    {
     "name": "stdout",
     "output_type": "stream",
     "text": [
      "<Selector query=None data='<html lang=\"\"><head>\\n<!--[if gt IE 9]...'>\n"
     ]
    }
   ],
   "source": [
    "print(selector)"
   ]
  },
  {
   "cell_type": "code",
   "execution_count": 6,
   "id": "e105d0d6-ff2b-41ce-8b05-6fe2c33248f7",
   "metadata": {},
   "outputs": [
    {
     "name": "stdout",
     "output_type": "stream",
     "text": [
      "INFORMATION ELEMENT:['\\n                ', 'Acidez de diverso origen. gastritis aguda y crónica. esofagitis por reflujo gastroesofágico. ulcera gastroduodenal. sintomas dispépticos que acompañan la acidez (flatulencia distensión abdominal). tratamiento de la acidez en pacientes con restricción del sodio', 'Para información acerca de medicamentos y productos cosméticos, por favor consulte\\xa0\\xa0', 'https://www.ispch.cl/anamed/', '\\xa0 o\\xa0\\xa0 ', 'https://registrosanitario.ispch.gob.cl/', '\\n            ']\n"
     ]
    }
   ],
   "source": [
    "information = ''\n",
    "information_element = selector.css(\"div.details-accordion__item div#product-details.details-accordion__item-content.collapse.show *::text\").getall()\n",
    "print(f\"INFORMATION ELEMENT:{information_element}\")"
   ]
  },
  {
   "cell_type": "code",
   "execution_count": 7,
   "id": "e93eea5d-14da-4b59-be23-b6bfbae47f4d",
   "metadata": {},
   "outputs": [],
   "source": [
    "information_element = selector.css(\"div.details-accordion__item div#product-details.details-accordion__item-content.collapse.show *::text\").getall()\n",
    "                    # print(f\"INFORMATION ELEMENT:{information_element}\")\n",
    "if information_element != None:\n",
    "    for i in information_element:\n",
    "        information += f\"{i}\""
   ]
  },
  {
   "cell_type": "code",
   "execution_count": 8,
   "id": "b2652de3-5d57-478b-b6fb-80590ae204fa",
   "metadata": {},
   "outputs": [
    {
     "name": "stdout",
     "output_type": "stream",
     "text": [
      "\n",
      "                Acidez de diverso origen. gastritis aguda y crónica. esofagitis por reflujo gastroesofágico. ulcera gastroduodenal. sintomas dispépticos que acompañan la acidez (flatulencia distensión abdominal). tratamiento de la acidez en pacientes con restricción del sodioPara información acerca de medicamentos y productos cosméticos, por favor consulte  https://www.ispch.cl/anamed/  o   https://registrosanitario.ispch.gob.cl/\n",
      "            \n"
     ]
    }
   ],
   "source": [
    "print(information)"
   ]
  },
  {
   "cell_type": "code",
   "execution_count": null,
   "id": "3e5a7fc8-c246-490b-b755-c164fcf93c10",
   "metadata": {},
   "outputs": [],
   "source": []
  }
 ],
 "metadata": {
  "kernelspec": {
   "display_name": "Python 3 (ipykernel)",
   "language": "python",
   "name": "python3"
  },
  "language_info": {
   "codemirror_mode": {
    "name": "ipython",
    "version": 3
   },
   "file_extension": ".py",
   "mimetype": "text/x-python",
   "name": "python",
   "nbconvert_exporter": "python",
   "pygments_lexer": "ipython3",
   "version": "3.11.3"
  }
 },
 "nbformat": 4,
 "nbformat_minor": 5
}
