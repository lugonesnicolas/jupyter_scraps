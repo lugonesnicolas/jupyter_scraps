{
 "cells": [
  {
   "cell_type": "code",
   "execution_count": 11,
   "metadata": {},
   "outputs": [],
   "source": [
    "from multiprocessing import Pool\n",
    "\n",
    "def process_number(number):\n",
    "  \"\"\"Procesa un número y devuelve un diccionario con la información requerida.\"\"\"\n",
    "  par = number % 2 == 0\n",
    "  return {'numero': number, 'par': par}\n",
    "\n",
    "# Lista de números\n",
    "numbers = list(range(100))\n",
    "\n",
    "for number in numbers:\n",
    "    process_number(number)"
   ]
  },
  {
   "cell_type": "code",
   "execution_count": 10,
   "metadata": {},
   "outputs": [],
   "source": [
    "# Crear un pool de procesos (ajusta el número de procesos según tus necesidades)\n",
    "with Pool(2) as p:\n",
    "    results = p.map(process_number, numbers)\n",
    "\n",
    "# Los resultados estarán en una lista de diccionarios\n",
    "print(results)"
   ]
  }
 ],
 "metadata": {
  "kernelspec": {
   "display_name": "venv",
   "language": "python",
   "name": "python3"
  },
  "language_info": {
   "codemirror_mode": {
    "name": "ipython",
    "version": 3
   },
   "file_extension": ".py",
   "mimetype": "text/x-python",
   "name": "python",
   "nbconvert_exporter": "python",
   "pygments_lexer": "ipython3",
   "version": "3.11.3"
  }
 },
 "nbformat": 4,
 "nbformat_minor": 2
}
