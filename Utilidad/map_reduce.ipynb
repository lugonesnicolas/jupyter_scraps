{
 "cells": [
  {
   "cell_type": "code",
   "execution_count": null,
   "metadata": {},
   "outputs": [],
   "source": [
    "from multiprocessing import Pool\n",
    "\n",
    "def process_number(number):\n",
    "  \"\"\"Procesa un número y devuelve un diccionario con la información requerida.\"\"\"\n",
    "  return {'numero': number, 'par': number % 2 == 0}\n",
    "\n",
    "def map_function(numbers):\n",
    "  \"\"\"Función map para procesar una lista de números.\"\"\"\n",
    "  with Pool() as pool:\n",
    "    results = pool.map(process_number, numbers)\n",
    "  return results\n",
    "\n",
    "def reduce_function(results):\n",
    "  \"\"\"Función reduce para combinar los resultados.\"\"\"\n",
    "  return sum(results, [])\n",
    "\n",
    "# Lista de números\n",
    "numbers = list(range(100))\n",
    "\n",
    "# Dividir la lista en dos partes iguales\n",
    "half = len(numbers) // 2\n",
    "part1 = numbers[:half]\n",
    "part2 = numbers[half:]\n",
    "\n",
    "# Aplicar map a cada parte\n",
    "results1 = map_function(part1)\n",
    "results2 = map_function(part2)\n",
    "\n",
    "# Combinar los resultados con reduce\n",
    "final_results = reduce_function(results1 + results2)\n",
    "\n",
    "print(final_results)"
   ]
  }
 ],
 "metadata": {
  "kernelspec": {
   "display_name": "venv",
   "language": "python",
   "name": "python3"
  },
  "language_info": {
   "codemirror_mode": {
    "name": "ipython",
    "version": 3
   },
   "file_extension": ".py",
   "mimetype": "text/x-python",
   "name": "python",
   "nbconvert_exporter": "python",
   "pygments_lexer": "ipython3",
   "version": "3.11.3"
  }
 },
 "nbformat": 4,
 "nbformat_minor": 2
}
