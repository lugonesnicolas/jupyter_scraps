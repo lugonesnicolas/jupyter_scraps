{
 "cells": [
  {
   "cell_type": "code",
   "execution_count": null,
   "id": "9d8b173c-37e3-476c-a467-ead59f5e65d3",
   "metadata": {},
   "outputs": [],
   "source": [
    "import subprocess\n",
    "\n",
    "# Lista de scripts y sus argumentos\n",
    "scripts = ['A:\\\\BeOn_Repositories\\\\PES-BR\\\\Scrap\\\\Ecometry\\\\ProductURLScrap\\\\ProductURLScrap\\\\api_scrap\\\\PR_UAE_Noon_App_Full.py']\n",
    "\n",
    "for script in scripts:\n",
    "    try:\n",
    "        subprocess.run(['python', script])\n",
    "        print(result.stdout)\n",
    "        print(result.stderr)\n",
    "    except:\n",
    "        print(f\"No se pudo ejecutar el script: {script}\")"
   ]
  },
  {
   "cell_type": "code",
   "execution_count": 5,
   "id": "d803dc21-d81e-4bdb-8789-78b39c8fff9c",
   "metadata": {},
   "outputs": [
    {
     "name": "stdout",
     "output_type": "stream",
     "text": [
      "File: PR_UAE_Noon_App_Full.py\n",
      "File: PR_UAE_Talabat_App_Full.py\n",
      "File: PR_UAE_Amazon_Full.py\n",
      "File: PR_UAE_Carrefour_Full.py\n",
      "File: PR_UAE_Carrefour_Full_Requests.py\n",
      "File: PR_UAE_Noon_Full.py\n"
     ]
    }
   ],
   "source": [
    "import os\n",
    "\n",
    "folders = [\"A:\\\\BeOn_Repositories\\\\PES-BR\\\\Scrap\\\\Ecometry\\\\ProductURLScrap\\\\ProductURLScrap\\\\api_scrap\", \"A:\\BeOn_Repositories\\PES-BR\\Scrap\\Ecometry\\ProductURLScrap\\ProductURLScrap\\html_scrap\"]\n",
    "for folder in folders:\n",
    "    for file in os.listdir(folder):\n",
    "            if 'Full' in file:\n",
    "                print(f\"File: {file}\")"
   ]
  },
  {
   "cell_type": "code",
   "execution_count": null,
   "id": "8e6f3fcc-e345-41d5-ae7d-d9681637ccba",
   "metadata": {},
   "outputs": [],
   "source": []
  }
 ],
 "metadata": {
  "kernelspec": {
   "display_name": "Python 3 (ipykernel)",
   "language": "python",
   "name": "python3"
  },
  "language_info": {
   "codemirror_mode": {
    "name": "ipython",
    "version": 3
   },
   "file_extension": ".py",
   "mimetype": "text/x-python",
   "name": "python",
   "nbconvert_exporter": "python",
   "pygments_lexer": "ipython3",
   "version": "3.11.3"
  }
 },
 "nbformat": 4,
 "nbformat_minor": 5
}
