{
 "cells": [
  {
   "cell_type": "code",
   "execution_count": 1,
   "id": "66a82853-eb6a-4c2c-ac66-0d7e4e075a54",
   "metadata": {},
   "outputs": [
    {
     "name": "stdout",
     "output_type": "stream",
     "text": [
      "2024-12-12 12:36:51.915038\n",
      "2024-12-09 12:36:51.916050\n"
     ]
    }
   ],
   "source": [
    "from datetime import datetime, timedelta\n",
    "print(datetime.now() )\n",
    "print(datetime.now() - timedelta(days=3))"
   ]
  },
  {
   "cell_type": "code",
   "execution_count": null,
   "id": "7dc2e7c0-e39c-4ce6-b455-746cc01465a3",
   "metadata": {},
   "outputs": [],
   "source": []
  }
 ],
 "metadata": {
  "kernelspec": {
   "display_name": "venv",
   "language": "python",
   "name": "python3"
  },
  "language_info": {
   "codemirror_mode": {
    "name": "ipython",
    "version": 3
   },
   "file_extension": ".py",
   "mimetype": "text/x-python",
   "name": "python",
   "nbconvert_exporter": "python",
   "pygments_lexer": "ipython3",
   "version": "3.11.3"
  }
 },
 "nbformat": 4,
 "nbformat_minor": 5
}
