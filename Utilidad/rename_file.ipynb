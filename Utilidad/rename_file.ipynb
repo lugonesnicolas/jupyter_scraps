{
 "cells": [
  {
   "cell_type": "code",
   "execution_count": 4,
   "id": "40abdd82-20f3-49e1-bb10-a05d52e11fd9",
   "metadata": {},
   "outputs": [],
   "source": [
    "import os\n",
    "import BeOnFastCode as fc\n",
    "\n",
    "# folder = f\"A:\\\\BeOn_Repositories\\\\images_noon\\\\compliance_noon_web\\\\\"\n",
    "# for file in os.listdir(folder):\n",
    "#         # Construir la ruta completa del archivo antiguo y nuevo\n",
    "#         before = os.path.join(folder, file)\n",
    "#         # Buscamos coincidencia de lo que queremos reemplazar\n",
    "#         if \"2024_10_24\" in before:\n",
    "#             print(f\"Nombre del archivo: {before}\")\n",
    "#             after = before.replace(\"2024_10_24\", \"2024_10_22\")\n",
    "#             print(f\"Nombre nuevo: {after}\\n\")\n",
    "#             # # Renombrar el archivo\n",
    "#             os.rename(before, after)\n",
    "# print(f\"Fin\")"
   ]
  },
  {
   "cell_type": "code",
   "execution_count": 16,
   "id": "01cd3e71",
   "metadata": {},
   "outputs": [
    {
     "name": "stdout",
     "output_type": "stream",
     "text": [
      "Nombre del archivo: A:\\BeOn_Repositories\\images_talabat\\compliance_talabat\\2024_12_03_16_02_28_URLID76374_Talabat Mart APP UAE _ GULLON Sugar Free Digestive 400g 8410376023831.jpg\n",
      "Nombre nuevo: A:\\BeOn_Repositories\\images_talabat\\compliance_talabat\\2024_12_02_16_02_28_URLID76374_Talabat Mart APP UAE _ GULLON Sugar Free Digestive 400g 8410376023831.jpg\n",
      "\n",
      "Fin\n"
     ]
    }
   ],
   "source": [
    "folder = r\"A:\\BeOn_Repositories\\images_talabat\\compliance_talabat\"\n",
    "\n",
    "def rename_files(folder, before, after):\n",
    "    for file in os.listdir(folder):\n",
    "            # Construir la ruta completa del archivo antiguo y nuevo\n",
    "            before_name = os.path.join(folder, file)\n",
    "            # Buscamos coincidencia de lo que queremos reemplazar\n",
    "            if before in before_name:\n",
    "                print(f\"Nombre del archivo: {before_name}\")\n",
    "                after_name = before_name.replace(before, after)\n",
    "                print(f\"Nombre nuevo: {after_name}\\n\")\n",
    "                # # Renombrar el archivo\n",
    "                os.rename(before_name, after_name)\n",
    "    print(f\"Fin\")\n",
    "\n",
    "rename_files(folder=folder, before=\"2024_12_03\", after=\"2024_12_02\")"
   ]
  },
  {
   "cell_type": "code",
   "execution_count": null,
   "id": "97162e95-7b07-4e8a-b502-bc9e97367c2f",
   "metadata": {},
   "outputs": [
    {
     "name": "stdout",
     "output_type": "stream",
     "text": [
      "Archivo cargado con exito: A:\\BeOn_Repositories\\images_talabat\\compliance_talabat\\2024_12_02_16_02_28_URLID76374_Talabat Mart APP UAE _ GULLON Sugar Free Digestive 400g 8410376023831.jpg\n",
      "1 archivos subidos\n",
      "\n"
     ]
    }
   ],
   "source": [
    "path = f\"A:\\\\BeOn_Repositories\\\\images_talabat\\\\compliance_talabat\\\\\"\n",
    "# fc.files_to_ftp(origin_path=path, extension_file=\".jpg\")"
   ]
  }
 ],
 "metadata": {
  "kernelspec": {
   "display_name": "venv",
   "language": "python",
   "name": "python3"
  },
  "language_info": {
   "codemirror_mode": {
    "name": "ipython",
    "version": 3
   },
   "file_extension": ".py",
   "mimetype": "text/x-python",
   "name": "python",
   "nbconvert_exporter": "python",
   "pygments_lexer": "ipython3",
   "version": "3.11.3"
  }
 },
 "nbformat": 4,
 "nbformat_minor": 5
}
