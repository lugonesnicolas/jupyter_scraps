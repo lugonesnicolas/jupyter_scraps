{
 "cells": [
  {
   "cell_type": "code",
   "execution_count": 4,
   "id": "40abdd82-20f3-49e1-bb10-a05d52e11fd9",
   "metadata": {},
   "outputs": [
    {
     "name": "stdout",
     "output_type": "stream",
     "text": [
      "Nombre del archivo: A:\\BeOn_Repositories\\images_peya_app\\compliance_peya_app\\2024_10_04_09_22_16_URLID73226_Pedidos Ya APP _ Papel higiénico Higienol Plus Fusión doble hoja 30 m 4 un 7790250015536.jpg\n",
      "Nombre nuevo: A:\\BeOn_Repositories\\images_peya_app\\compliance_peya_app\\2024_10_02_09_22_16_URLID73226_Pedidos Ya APP _ Papel higiénico Higienol Plus Fusión doble hoja 30 m 4 un 7790250015536.jpg\n",
      "\n",
      "Nombre del archivo: A:\\BeOn_Repositories\\images_peya_app\\compliance_peya_app\\2024_10_04_09_22_19_URLID73228_Pedidos Ya APP _ Papel higiénico Higienol Max hoja simple 80 m 4 un 7790250015857.jpg\n",
      "Nombre nuevo: A:\\BeOn_Repositories\\images_peya_app\\compliance_peya_app\\2024_10_02_09_22_19_URLID73228_Pedidos Ya APP _ Papel higiénico Higienol Max hoja simple 80 m 4 un 7790250015857.jpg\n",
      "\n",
      "Nombre del archivo: A:\\BeOn_Repositories\\images_peya_app\\compliance_peya_app\\2024_10_04_09_22_23_URLID73229_Pedidos Ya APP _ Papel higiénico Higienol Fresh hoja simple 30 m 4 un 7790250016182.jpg\n",
      "Nombre nuevo: A:\\BeOn_Repositories\\images_peya_app\\compliance_peya_app\\2024_10_02_09_22_23_URLID73229_Pedidos Ya APP _ Papel higiénico Higienol Fresh hoja simple 30 m 4 un 7790250016182.jpg\n",
      "\n",
      "Nombre del archivo: A:\\BeOn_Repositories\\images_peya_app\\compliance_peya_app\\2024_10_04_09_22_26_URLID73230_Pedidos Ya APP _ Servilleta Elite Ultra Suave hoja simple 100 un 7790250023845.jpg\n",
      "Nombre nuevo: A:\\BeOn_Repositories\\images_peya_app\\compliance_peya_app\\2024_10_02_09_22_26_URLID73230_Pedidos Ya APP _ Servilleta Elite Ultra Suave hoja simple 100 un 7790250023845.jpg\n",
      "\n",
      "Nombre del archivo: A:\\BeOn_Repositories\\images_peya_app\\compliance_peya_app\\2024_10_04_09_22_31_URLID73231_Pedidos Ya APP _ Papel higienico Elite Ultra Suave doble hoja 30 m 4 un 7790250026075.jpg\n",
      "Nombre nuevo: A:\\BeOn_Repositories\\images_peya_app\\compliance_peya_app\\2024_10_02_09_22_31_URLID73231_Pedidos Ya APP _ Papel higienico Elite Ultra Suave doble hoja 30 m 4 un 7790250026075.jpg\n",
      "\n",
      "Nombre del archivo: A:\\BeOn_Repositories\\images_peya_app\\compliance_peya_app\\2024_10_04_09_22_34_URLID73232_Pedidos Ya APP _ Papel higiénico Elite Ultra Suave doble hoja 50 m 4 un 7790250026082.jpg\n",
      "Nombre nuevo: A:\\BeOn_Repositories\\images_peya_app\\compliance_peya_app\\2024_10_02_09_22_34_URLID73232_Pedidos Ya APP _ Papel higiénico Elite Ultra Suave doble hoja 50 m 4 un 7790250026082.jpg\n",
      "\n",
      "Nombre del archivo: A:\\BeOn_Repositories\\images_peya_app\\compliance_peya_app\\2024_10_04_09_22_37_URLID73233_Pedidos Ya APP _ Papel higiénico Elite Cuidado Clásico hoja simple 30 m 6 un 7790250026105.jpg\n",
      "Nombre nuevo: A:\\BeOn_Repositories\\images_peya_app\\compliance_peya_app\\2024_10_02_09_22_37_URLID73233_Pedidos Ya APP _ Papel higiénico Elite Cuidado Clásico hoja simple 30 m 6 un 7790250026105.jpg\n",
      "\n",
      "Nombre del archivo: A:\\BeOn_Repositories\\images_peya_app\\compliance_peya_app\\2024_10_04_09_22_41_URLID73239_Pedidos Ya APP _ Pañales Babysec Premium talle M 26 un 7790250047155.jpg\n",
      "Nombre nuevo: A:\\BeOn_Repositories\\images_peya_app\\compliance_peya_app\\2024_10_02_09_22_41_URLID73239_Pedidos Ya APP _ Pañales Babysec Premium talle M 26 un 7790250047155.jpg\n",
      "\n",
      "Nombre del archivo: A:\\BeOn_Repositories\\images_peya_app\\compliance_peya_app\\2024_10_04_09_22_44_URLID73243_Pedidos Ya APP _ Pañuelos Elite Box 90 un 7790250054344.jpg\n",
      "Nombre nuevo: A:\\BeOn_Repositories\\images_peya_app\\compliance_peya_app\\2024_10_02_09_22_44_URLID73243_Pedidos Ya APP _ Pañuelos Elite Box 90 un 7790250054344.jpg\n",
      "\n",
      "Nombre del archivo: A:\\BeOn_Repositories\\images_peya_app\\compliance_peya_app\\2024_10_04_09_22_48_URLID73244_Pedidos Ya APP _ Pañuelos Elite Pocket 6 un 7790250054962.jpg\n",
      "Nombre nuevo: A:\\BeOn_Repositories\\images_peya_app\\compliance_peya_app\\2024_10_02_09_22_48_URLID73244_Pedidos Ya APP _ Pañuelos Elite Pocket 6 un 7790250054962.jpg\n",
      "\n",
      "Nombre del archivo: A:\\BeOn_Repositories\\images_peya_app\\compliance_peya_app\\2024_10_04_09_22_50_URLID73245_Pedidos Ya APP _ Rollo de cocina Sussex Ultra 100 paños 3 un 7790250056980.jpg\n",
      "Nombre nuevo: A:\\BeOn_Repositories\\images_peya_app\\compliance_peya_app\\2024_10_02_09_22_50_URLID73245_Pedidos Ya APP _ Rollo de cocina Sussex Ultra 100 paños 3 un 7790250056980.jpg\n",
      "\n",
      "Nombre del archivo: A:\\BeOn_Repositories\\images_peya_app\\compliance_peya_app\\2024_10_04_09_22_54_URLID73246_Pedidos Ya APP _ Rollo de cocina Sussex Clásico 200 paños 1 un 7790250057048.jpg\n",
      "Nombre nuevo: A:\\BeOn_Repositories\\images_peya_app\\compliance_peya_app\\2024_10_02_09_22_54_URLID73246_Pedidos Ya APP _ Rollo de cocina Sussex Clásico 200 paños 1 un 7790250057048.jpg\n",
      "\n",
      "Nombre del archivo: A:\\BeOn_Repositories\\images_peya_app\\compliance_peya_app\\2024_10_04_09_22_57_URLID73248_Pedidos Ya APP _ Protectores diarios Ladysoft Clásicos 56 un 7790250097501.jpg\n",
      "Nombre nuevo: A:\\BeOn_Repositories\\images_peya_app\\compliance_peya_app\\2024_10_02_09_22_57_URLID73248_Pedidos Ya APP _ Protectores diarios Ladysoft Clásicos 56 un 7790250097501.jpg\n",
      "\n",
      "Nombre del archivo: A:\\BeOn_Repositories\\images_peya_app\\compliance_peya_app\\2024_10_04_09_23_09_URLID73250_Pedidos Ya APP _ Toallas femeninas Ladysoft Ultra suave 24 un 7790250097600.jpg\n",
      "Nombre nuevo: A:\\BeOn_Repositories\\images_peya_app\\compliance_peya_app\\2024_10_02_09_23_09_URLID73250_Pedidos Ya APP _ Toallas femeninas Ladysoft Ultra suave 24 un 7790250097600.jpg\n",
      "\n",
      "Nombre del archivo: A:\\BeOn_Repositories\\images_peya_app\\compliance_peya_app\\2024_10_04_09_23_21_URLID73252_Pedidos Ya APP _ Toallas femeninas Ladysoft Normal Soft 16 un 7790250097655.jpg\n",
      "Nombre nuevo: A:\\BeOn_Repositories\\images_peya_app\\compliance_peya_app\\2024_10_02_09_23_21_URLID73252_Pedidos Ya APP _ Toallas femeninas Ladysoft Normal Soft 16 un 7790250097655.jpg\n",
      "\n",
      "Nombre del archivo: A:\\BeOn_Repositories\\images_peya_app\\compliance_peya_app\\2024_10_04_09_23_26_URLID73254_Pedidos Ya APP _ Papel higiénico Higienol Plus doble hoja 20 m 4 un 7790250015567.jpg\n",
      "Nombre nuevo: A:\\BeOn_Repositories\\images_peya_app\\compliance_peya_app\\2024_10_02_09_23_26_URLID73254_Pedidos Ya APP _ Papel higiénico Higienol Plus doble hoja 20 m 4 un 7790250015567.jpg\n",
      "\n",
      "Nombre del archivo: A:\\BeOn_Repositories\\images_peya_app\\compliance_peya_app\\2024_10_04_09_23_30_URLID73256_Pedidos Ya APP _ Rollo de cocina Elite Ultra Absorbente 120 paños 2 un 7790250022060.jpg\n",
      "Nombre nuevo: A:\\BeOn_Repositories\\images_peya_app\\compliance_peya_app\\2024_10_02_09_23_30_URLID73256_Pedidos Ya APP _ Rollo de cocina Elite Ultra Absorbente 120 paños 2 un 7790250022060.jpg\n",
      "\n",
      "Nombre del archivo: A:\\BeOn_Repositories\\images_peya_app\\compliance_peya_app\\2024_10_04_09_23_33_URLID73257_Pedidos Ya APP _ Papel higiénico Higienol Fresh hoja simple 30 m 6 un 7790250016229.jpg\n",
      "Nombre nuevo: A:\\BeOn_Repositories\\images_peya_app\\compliance_peya_app\\2024_10_02_09_23_33_URLID73257_Pedidos Ya APP _ Papel higiénico Higienol Fresh hoja simple 30 m 6 un 7790250016229.jpg\n",
      "\n",
      "Nombre del archivo: A:\\BeOn_Repositories\\images_peya_app\\compliance_peya_app\\2024_10_04_09_23_37_URLID73259_Pedidos Ya APP _ Pañales Babysec Premium Soft M 8 un 7790250042952.jpg\n",
      "Nombre nuevo: A:\\BeOn_Repositories\\images_peya_app\\compliance_peya_app\\2024_10_02_09_23_37_URLID73259_Pedidos Ya APP _ Pañales Babysec Premium Soft M 8 un 7790250042952.jpg\n",
      "\n",
      "Fin\n"
     ]
    }
   ],
   "source": [
    "import os\n",
    "\n",
    "folder = f\"A:\\\\BeOn_Repositories\\\\images_peya_app\\\\compliance_peya_app\\\\\"\n",
    "for file in os.listdir(folder):\n",
    "        # Construir la ruta completa del archivo antiguo y nuevo\n",
    "        before = os.path.join(folder, file)\n",
    "        # Buscamos coincidencia de lo que queremos reemplazar\n",
    "        if \"2024_10_04\" in before:\n",
    "            print(f\"Nombre del archivo: {before}\")\n",
    "            after = before.replace(\"2024_10_04\", \"2024_10_02\")\n",
    "            print(f\"Nombre nuevo: {after}\\n\")\n",
    "            # # Renombrar el archivo\n",
    "            os.rename(before, after)\n",
    "print(f\"Fin\")"
   ]
  },
  {
   "cell_type": "code",
   "execution_count": null,
   "id": "d5fafc3c-b475-44cf-948a-5febedb57265",
   "metadata": {},
   "outputs": [],
   "source": []
  }
 ],
 "metadata": {
  "kernelspec": {
   "display_name": "Python 3 (ipykernel)",
   "language": "python",
   "name": "python3"
  },
  "language_info": {
   "codemirror_mode": {
    "name": "ipython",
    "version": 3
   },
   "file_extension": ".py",
   "mimetype": "text/x-python",
   "name": "python",
   "nbconvert_exporter": "python",
   "pygments_lexer": "ipython3",
   "version": "3.11.3"
  }
 },
 "nbformat": 4,
 "nbformat_minor": 5
}
