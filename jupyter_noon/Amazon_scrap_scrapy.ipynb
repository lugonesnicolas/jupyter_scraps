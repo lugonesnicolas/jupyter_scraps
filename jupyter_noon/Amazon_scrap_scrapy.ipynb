{
 "cells": [
  {
   "cell_type": "code",
   "execution_count": null,
   "id": "6b19ab72-02d5-441b-b94b-47f6bc39f75e",
   "metadata": {},
   "outputs": [],
   "source": [
    "from scrapy.spiders import Spider\n",
    "from scrapy.selector import Selector\n",
    "from scrapy.crawler import CrawlerProcess\n",
    "from scrapy.downloadermiddlewares.useragent import UserAgentMiddleware"
   ]
  },
  {
   "cell_type": "code",
   "execution_count": null,
   "id": "464c9ed1-8532-46c8-b2a2-44a7b2c42300",
   "metadata": {},
   "outputs": [],
   "source": [
    "USER_AGENTS = [\n",
    "    'Mozilla/5.0 (Windows NT 10.0; Win64; x64) AppleWebKit/537.36 (KHTML, like Gecko) Chrome/96.0.4664.45 Safari/537.36',\n",
    "    'Mozilla/5.0 (X11; Linux x86_64) AppleWebKit/537.36 (KHTML, like Gecko) Chrome/96.0.4664.45 Safari/537.36',\n",
    "    'Mozilla/5.0 (Macintosh; Intel Mac OS X 11_2_2) AppleWebKit/537.36 (KHTML, like Gecko) Chrome/96.0.4664.45 Safari/537.36',\n",
    "]\n",
    "\n",
    "DOWNLOAD_DELAY = 2\n",
    "\n",
    "ROBOTSTXT_OBEY = True"
   ]
  },
  {
   "cell_type": "code",
   "execution_count": null,
   "id": "6be673df-30dd-4e14-a4ad-3cbd88392b5c",
   "metadata": {},
   "outputs": [],
   "source": [
    "class AmazonSpider(Spider):\n",
    "    # Nombre del spider\n",
    "    name = \"amazon_spider\"\n",
    "    # URL inicial para comenzar el rastreo\n",
    "    start_urls = [\"https://www.amazon.ae/dp/B07MPBNK9N/ref=s9_acsd_ri_bw_c2_x_3_i?pf_rd_m=A2KKU8J8O8784X&pf_rd_s=merchandised-search-3&pf_rd_r=RQ1AJ7ZWMYNTGFYYH0Y8&pf_rd_t=101&pf_rd_p=feba8f4c-e197-49b2-8fa9-da4845519cf1&pf_rd_i=15159997031\"]"
   ]
  },
  {
   "cell_type": "code",
   "execution_count": null,
   "id": "47bfc090-8c3e-410e-82e6-0e156d367a96",
   "metadata": {},
   "outputs": [],
   "source": [
    "def parse(self, response):\n",
    "        request = scrapy.Request(url, callback=self.parse, headers={'User-Agent': user_agent})\n",
    "        # Seleccionar el contenido que desea raspar\n",
    "        selector = Selector(response)\n",
    "        title = selector.css('#productTitle::text').get()\n",
    "        print(f\"Título: {title}\")\n",
    "        yield request"
   ]
  },
  {
   "cell_type": "code",
   "execution_count": null,
   "id": "815c03c5-5e90-47b7-ac7e-a8af680482e5",
   "metadata": {},
   "outputs": [],
   "source": [
    "process = CrawlerProcess()\n",
    "process.crawl(AmazonSpider)\n",
    "process.start()"
   ]
  },
  {
   "cell_type": "code",
   "execution_count": null,
   "id": "f25e1a89-57cf-4ace-ae47-e1c0cbbb67c4",
   "metadata": {},
   "outputs": [],
   "source": [
    "print(title)"
   ]
  },
  {
   "cell_type": "code",
   "execution_count": null,
   "id": "634125ab-cec1-42d5-b55d-0582f3446f45",
   "metadata": {},
   "outputs": [],
   "source": []
  }
 ],
 "metadata": {
  "kernelspec": {
   "display_name": "Python 3 (ipykernel)",
   "language": "python",
   "name": "python3"
  },
  "language_info": {
   "codemirror_mode": {
    "name": "ipython",
    "version": 3
   },
   "file_extension": ".py",
   "mimetype": "text/x-python",
   "name": "python",
   "nbconvert_exporter": "python",
   "pygments_lexer": "ipython3",
   "version": "3.11.3"
  }
 },
 "nbformat": 4,
 "nbformat_minor": 5
}
