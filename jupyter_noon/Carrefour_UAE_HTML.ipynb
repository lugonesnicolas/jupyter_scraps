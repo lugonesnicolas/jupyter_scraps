{
 "cells": [
  {
   "cell_type": "code",
   "execution_count": 32,
   "id": "d2a5bc1f-4e9f-438a-8598-a1e35a7bf599",
   "metadata": {},
   "outputs": [],
   "source": [
    "import requests\n",
    "import re\n",
    "from bs4 import BeautifulSoup"
   ]
  },
  {
   "cell_type": "code",
   "execution_count": 33,
   "id": "4f49d59f-3c8a-4dee-86b2-45ceac4e3d2d",
   "metadata": {},
   "outputs": [],
   "source": [
    "url = 'https://www.carrefouruae.com/mafuae/en/packet-noodles/maggi-2min-curry-4-1-free-79gx5/p/2146785'"
   ]
  },
  {
   "cell_type": "code",
   "execution_count": 34,
   "id": "ab5682f7-2fe2-491c-bcd3-ff6cb556f07b",
   "metadata": {},
   "outputs": [],
   "source": [
    "headers = {\n",
    "  'User-Agent': 'Mozilla/5.0 (Windows NT 10.0; Win64; x64; rv:123.0) Gecko/20100101 Firefox/123.0',\n",
    "  'Accept': 'text/html,application/xhtml+xml,application/xml;q=0.9,image/avif,image/webp,*/*;q=0.8',\n",
    "  'Accept-Language': 'es-AR,es;q=0.8,en-US;q=0.5,en;q=0.3',\n",
    "  'Accept-Encoding': 'gzip, deflate, br',\n",
    "  'Connection': 'keep-alive',\n",
    "  'Cookie': 'cart_api=v2; _abck=59F693FA2C262E4EB9B6DF0D13FE55B8~0~YAAQyvcSAogN4jWOAQAAXiVqPQunryhm2VrehJwFWGtFCp8ufcagrPeSIl55ijflh3sG6N2y97wAeTB0Sh8NCo5kUfhAe6+aWXe+s9QIxqas/GMEmxBqazFF2HY6poVX0LdkSHslYJdwQZCPLVALZXCRO6JJeputl3kGNCbUgVLu9cH5IKImvgyju7k5SvbDdyrrqF5r87J+yIRxSbhQrQTfB0nHYl1S42x+svEAWPBEHoGYx49OB5jQMwQi4ZzQdcCMIU2PCVDtzwUrpnSpqBLw0ToaJfZIKena9CSLEfaAT9hlk849YSZjhrzZxuEJE5ZoFpyDFdDO5m2AcHRJpueAeNnLLwqL99hEpRki44qzXk39AbpCaklyBfI0UyzVDSe9lk0T+Ly7yIy5XsBG2coWEbcrvg/9GYognn5t3w==~-1~-1~-1; storeInfo=mafuae|en|AED; OptanonConsent=isGpcEnabled=1&datestamp=Thu+Mar+14+2024+11%3A42%3A37+GMT-0300+(hora+est%C3%A1ndar+de+Argentina)&version=202301.2.0&hosts=&groups=C0004%3A1%2CC0001%3A1%2CC0002%3A1%2CC0003%3A1&consentId=ccb02f39-f0b2-4416-b38b-a3192a1b75c6&landingPath=NotLandingPage; mafuae-web-preferred-delivery-area=\"Dubai Festival City - Dubai\"; ab.storage.sessionId.e6577fac-30b0-4270-a5df-788ef16dc4cd=%7B%22g%22%3A%2274607fef-9dd7-545f-316f-7f3a034a19a2%22%2C%22e%22%3A1710429159398%2C%22c%22%3A1710425901302%2C%22l%22%3A1710427359398%7D; hideCoachMark=true; maf-session-id=CB0A0E3D-53D5-C80F-04CE-2E2377A7D0FF; mafuae-preferred-delivery-area=19%2033A%20St%20-%20Al%20Rashidiya%20 - %20Dubai%20; prevAreaCode=19%2033A%20St%20-%20Al%20Rashidiya%20-%20Dubai%20-%20United%20Arab%20Emirates; guest-session-token=aOTnKRB7qXnobya0Pn_-DppGGlE; ak_bmsc=63C9E467B8B6AFA52A6442554529FD98~000000000000000000000000000000~YAAQB/cSAvJXVDWOAQAALw1ZPRdGGQ51xlc+tewsiszcEVSljx7PYvA+m0uQXzoSPMet6kIrPBIiRWN3DNZ8y8yakgiCCEMqp1l5rf5ewxN6/fqw2mvlGhJ3jF/qx4dFmM0psN709243Nnhir1EWs4qsOz/baneHkf88XVuXxNTWhIu3GbGGHzk1roWVweVWQ/WHiugiJ8GyABYGxgsBb2klyRXwS16cfSYQe6YS0/pBJnbmnoAM+G7GlyQ3gPaUarOmqdm7C3h65Xg/9UGpw9qJy9cq2iKmOqUGKbN5slYCS+WExU8VRsue4OSBj6rPV/2JBqxOOrOoO+9HjRqxeprBWHuaUfNtnsIvA924DsmffwHbo7WnjcC9vJjOcqv8jBzHcvi+BFv/YymaNOPOGAOfIskE9haQZcBIK4sxI/C/dQA3+i/6jV1B2+XuyhXsDVbXTauI2a+IWMA0SfC+XBx3/Ww0f96ftK0Hsf32azJGlfiG7pCtdGNfnI2qrHUNOrYjcX2EGCWSSVvj3D1w2LLwySEHrFUi9Eo4CZmw1LP/N5UZ876NI2++7SM=; bm_sz=21053646DC0DE539A442AA346FCE4598~YAAQjA/EF8CF9zmOAQAAnwhUPReUsSfAUvQERXGJmUxXKG0vp85fHNP9ie3C8bG2jAxtHgtp67GIy7SJUEvusEHaBFbIEnJyqFqK5oceX/fQ7Qcfc2CowSKEHFVLR6nHRhwumxajAdEvwfZcUW9m+9ekysIlvMEhdsyFnoHNN5pReozSw5SaAdbmwCuq/sjHYuQ3wWq1iqgyGj66YVFYxw/8FBl/1V7ZoLBWDAcWC+V/1E1U+MPgPz348K5nznqYkaqg6tBnjkZXm6x1CyvLvqOuoHGVbam9XC5ZvY2EAwUxsJKzhldfhW9h4zqDn8WeA5L8LjxRD37zyXPzfqswt5aTz+4hNUJni+l83iDjqm5NyTF2iHCkK+Fyx1xdSA==~3163188~4534578; page_type=product-details; bm_sv=4F13F203E84E4379385694D196A9B1A7~YAAQyvcSAkQT4jWOAQAAulBqPRcpA2bY/TMZLeHzBgNCiMBRnInTVLsUikCKcEv8BUnyfWjnBys/SNOeroIji9ROicVA/CN2dZDXa01rgaMwXfcuhzlzUuD0LGhZ6KkO34Rg+Sm7oH1o4Jqz15he/T7imJEFFc15l9kr5ZeZg/ZZLAK+44tOF/xUq6awR6fPzXbdx3ixIHwYN860OMqD1hS3eJJACmsKT0MVaqSfnlGIvkTkcGtZ8KqoucDba8gmgSraaFEjxg==~1; _gcl_au=1.1.885303438.1710425902; bm_mi=DFA2131AB1451EF81402AACE8B962A88~YAAQjA/EFwyG9zmOAQAATDlUPRe3dUtjQUoLoS4LGMOlTPKTChs5Hj6GMbcsvxJSDQQ5c7j445Q0V39fWoQqhfMp4su/F7pMbtQvQY+j3BJ6LUbUVfhBez1lOhGUKKN3HzRx8Zpr9SY3L5pyFolAeDH7L3GT6UHmeiv2cCxgfxH+6MKpZpo66yngy/fy7N6d1QCyL05V79g+SXfcD3OTHQGpGCSwghXVq1cfeuYgTk7g9E32CxPDrK81Bauioyt1WVBjinfvaY0FDC8i6i43a4uQ3pVPO1B0LE/VMg23yGunvhoNztxXrPE+mV5K5xJR2sFzbzEb4v+8xPms5SKyPtI4fY4Dzll/fSFOcNi7z1zSiEyByrh6gw0uIbswhiSNLcCBgS1V+WP9uwBBQ2NJZpxfavlQzQ==~1; OptanonAlertBoxClosed=2024-03-14T14:42:37.947Z; lat=25.2280695; long=55.38268790000001; AKA_A2=A; _abck=59F693FA2C262E4EB9B6DF0D13FE55B8~-1~YAAQxfcSAhf7QhqOAQAAivFqPQsbhtbqlEDjWnDkaIh/o1PMzCYhE/WMHMWJa8HErkWwWgo9QdaYyxJ1nvhzivs8/dqhl0uXZBgQhGNY440I7QV3dw2VGr9aJWtVTKF2boUGqojP0NeUzlqERYdOEU4sOHduuu0iIwyyQY0yGJ1XFpLdKBe9yqAAmS1JYY+amjS9PQoI+2gGWHzkpinhTd+TgQYHFAnVj5iY/jCA1iRDa7m5XoU1OBLhLazqHqqguy+n0UKfGOQP453ReTyLXnrkHC9iz9AE6fGH5yfZTW3nTvAiP2/UVIfWuYSyFdsKAPjOjd/Ur0O+e+U4o+QSEehTlR2/Atr+r2xZiOztAHk43TZGccDbWd2+whfWvSYTYFmCTNpWxniD3HtXEyHke3tKyBMw28n1hSA5FjpwEQ==~0~-1~-1; bm_mi=FA1AC622958CAB3C160D7608B3BABF68~YAAQCvcSAubeJjeOAQAA0y5cPRe+MVrdMPzsstFbbz811kqZGaoah3EaDwo4WQzR5SqqpQ7+JAYHh+IN6v5nW8w0vWTV+bodoWoo+UiLVtSEUVJn4POK5coruRkmCUYj+rJ889wVJKRHM0BP6f9dljjcgqVLZP3+ZWI9GIrxB3cDZQFqojGqe8K2hTUg7288hVs/2AZLDYBUvwBeDS+YP3GKUtvSsgaJjXh8QrGFX7hYN8EjU0IhrIRjQNSxzdiiOm9Q/jWFAsYxmaqSY/Rfq1iQDNBJnNoGzpKxF/a8qcfj061gvFAUrsaVb9rlDreDw+Zr0QTeLS9/3JBFD+mxO6wAOaXGpjx9m+MDCuyFX7gC0MV2yx6Xm8yW3vJ7/13DL2UJvCmXq9MIjbIUuvwFmdvx9IkEqw==~1; bm_sv=4F13F203E84E4379385694D196A9B1A7~YAAQxfcSAhj7QhqOAQAAivFqPRfsudaclbnbtEfpc1etEd/2Veb4Ftd5YLkOnhCfo3B4SUXImF1/pCSrfGygDQCT9E+uFJu2HRZEdoQNXJnfpAfMEn8Q7O/ftpCM4WA2eS4Gcs7e313uR75W/88YgPDJzxM1K9vMRWdJ7remTidtRKg62SeKhew2dERcti52iPgF4iBdcLMyrqqMUJa/riR1ZP5lOdRkRDyA609r282LJljaCV9SjKLfZyQ/ix9TQa4dD3dIyg==~1; cart_api=v2; mafuae-web-preferred-delivery-area=\"Dubai Festival City - Dubai\"; storeInfo=mafuae|en|AED',\n",
    "  'Upgrade-Insecure-Requests': '1',\n",
    "  'Sec-Fetch-Dest': 'document',\n",
    "  'Sec-Fetch-Mode': 'navigate',\n",
    "  'Sec-Fetch-Site': 'none',\n",
    "  'Sec-Fetch-User': '?1',\n",
    "  'Sec-GPC': '1',\n",
    "  'TE': 'trailers'\n",
    "}"
   ]
  },
  {
   "cell_type": "code",
   "execution_count": 35,
   "id": "ddaabb50-f7ca-4d96-b514-2c2ffa8fa436",
   "metadata": {},
   "outputs": [],
   "source": [
    "response = requests.get(url, headers=headers)\n",
    "response = response.text\n",
    "soup = BeautifulSoup(response, \"html.parser\")"
   ]
  },
  {
   "cell_type": "code",
   "execution_count": 65,
   "id": "8b243e6d-ab0b-4668-bd1e-379215a7852b",
   "metadata": {},
   "outputs": [],
   "source": [
    "title = soup.find('h1', class_='css-106scfp').text if soup.find('h1', class_='css-106scfp') != None else ''\n",
    "final_price = soup.find('div', class_='css-1oh8fze').find('h2').text if soup.find('div', class_='css-1oh8fze').find('h2') != None else 0\n",
    "# Falta capturar las demas posibilidades de estructuras de pagina\n",
    "description = soup.find_all('div', class_='css-5l6g5o')[1].div.text if soup.find('div', class_='css-5l6g5o') != None else ''\n",
    "q_images = len(soup.find_all('div', class_='css-1c2pck7')) if soup.find_all('div', class_='css-1c2pck7') != [] else 0\n",
    "link = soup.find('div', class_='css-1khiat5').find('div').find('a').get('href') if soup.find('div', class_='css-1khiat5') != None else ''\n",
    "brand_store_link = f\"https://www.carrefouruae.com{link}\"\n",
    "promotion = soup.find('div', class_='css-1jh6byp').text if soup.find('div', class_='css-1jh6byp') != None else ''\n",
    "pack_size = soup.find('div', class_='css-1kxxv3q').text.replace(\"Pack size : \", \"\") if soup.find('div', class_='css-1kxxv3q') != None else ''\n",
    "ingredients = soup.find_all('div', 'css-joa6mv')[1].div.text if soup.find('div', 'css-joa6mv') != None else ''\n",
    "bullets_points = ''\n",
    "bullets_points_list = soup.find('div', class_='css-1npift7').find('ul').find_all('li') if soup.find('div', class_='') else []\n",
    "for i in range(0, len(bullets_points_list)):\n",
    "    if i == len(bullets_points_list) - 1:\n",
    "        bullets_points += f\"{bullets_points_list[i].text}\"\n",
    "    else:\n",
    "        bullets_points += f\"{bullets_points_list[i].text} \""
   ]
  },
  {
   "cell_type": "code",
   "execution_count": 66,
   "id": "9dcd524a-8845-42d0-85b2-2230437563a6",
   "metadata": {},
   "outputs": [
    {
     "name": "stdout",
     "output_type": "stream",
     "text": [
      "Title: Maggi 2 Minutes Noodles Curry 79g\n",
      "FinalPrice: AED 8.75AED 9.50(Inc. VAT)\n",
      "PackSize: 79g\n",
      "Description: Add a little spice to your noodles with with this curry flavour, the perfect accompaniment to a balanced meal!\n",
      "Images: 5\n",
      "Promotion:  8% OFF ends in  5 days\n",
      "BrandStoreLink: https://www.carrefouruae.com/mafuae/en/Maggi/c/03074\n",
      "BulletPoints: Halal Certified. Free from Added preservatives.\n",
      "Ingredients:Noodle cake: Wheat Flour● Palm Oil● Salt● Flavour Enhancer (potassium chloride)● Thickener (guar gum)● Flour Conditioners (sodium tripolyphosphate● potassium carbonate● sodium carbonate).  Seasoning: Wheat Flour● Flavour Enhancers (monosodium glutamate● disodium guanylate● disodium inosinate)● Salt● Hydrogenated Palm Oil● Tapioca Starch● Soya Sauce● Spices (chili● coriander● cumin● pepper● aniseed● turmeric● fenugreek● ginger● clove● cardamom● nutmeg)● Sugar● Yeast Extract● Garlic● Onion● Caramel Color● Citric Acid. Traces of crustacean● fish● milk● celery and mustard.\n"
     ]
    }
   ],
   "source": [
    "print(f\"Title: {title}\")\n",
    "print(f\"FinalPrice: {final_price}\")\n",
    "print(f\"PackSize: {pack_size}\")\n",
    "print(f\"Description: {description}\")\n",
    "print(f\"Images: {q_images}\")\n",
    "print(f\"Promotion: {promotion}\")\n",
    "print(f\"BrandStoreLink: {brand_store_link}\")\n",
    "print(f\"BulletPoints: {bullets_points}\")\n",
    "print(f\"Ingredients:{ingredients}\")"
   ]
  },
  {
   "cell_type": "code",
   "execution_count": 91,
   "id": "95630009-e84a-4e78-b2e2-a5a87db775cf",
   "metadata": {},
   "outputs": [],
   "source": [
    "headers = {\n",
    "  'User-Agent': 'Mozilla/5.0 (Windows NT 10.0; Win64; x64; rv:123.0) Gecko/20100101 Firefox/123.0',\n",
    "  'Accept': 'text/html,application/xhtml+xml,application/xml;q=0.9,image/avif,image/webp,*/*;q=0.8',\n",
    "  'Accept-Language': 'es-AR,es;q=0.8,en-US;q=0.5,en;q=0.3',\n",
    "  'Accept-Encoding': 'gzip, deflate, br',\n",
    "  'Connection': 'keep-alive',\n",
    "  'Cookie': 'cart_api=v2; _abck=59F693FA2C262E4EB9B6DF0D13FE55B8~0~YAAQyvcSAogN4jWOAQAAXiVqPQunryhm2VrehJwFWGtFCp8ufcagrPeSIl55ijflh3sG6N2y97wAeTB0Sh8NCo5kUfhAe6+aWXe+s9QIxqas/GMEmxBqazFF2HY6poVX0LdkSHslYJdwQZCPLVALZXCRO6JJeputl3kGNCbUgVLu9cH5IKImvgyju7k5SvbDdyrrqF5r87J+yIRxSbhQrQTfB0nHYl1S42x+svEAWPBEHoGYx49OB5jQMwQi4ZzQdcCMIU2PCVDtzwUrpnSpqBLw0ToaJfZIKena9CSLEfaAT9hlk849YSZjhrzZxuEJE5ZoFpyDFdDO5m2AcHRJpueAeNnLLwqL99hEpRki44qzXk39AbpCaklyBfI0UyzVDSe9lk0T+Ly7yIy5XsBG2coWEbcrvg/9GYognn5t3w==~-1~-1~-1; storeInfo=mafuae|en|AED; OptanonConsent=isGpcEnabled=1&datestamp=Thu+Mar+14+2024+11%3A43%3A14+GMT-0300+(hora+est%C3%A1ndar+de+Argentina)&version=202301.2.0&hosts=&groups=C0004%3A1%2CC0001%3A1%2CC0002%3A1%2CC0003%3A1&consentId=ccb02f39-f0b2-4416-b38b-a3192a1b75c6&landingPath=NotLandingPage; mafuae-web-preferred-delivery-area=\"Dubai Festival City - Dubai\"; ab.storage.sessionId.e6577fac-30b0-4270-a5df-788ef16dc4cd=%7B%22g%22%3A%2274607fef-9dd7-545f-316f-7f3a034a19a2%22%2C%22e%22%3A1710429192420%2C%22c%22%3A1710425901302%2C%22l%22%3A1710427392420%7D; hideCoachMark=true; maf-session-id=CB0A0E3D-53D5-C80F-04CE-2E2377A7D0FF; mafuae-preferred-delivery-area=19%2033A%20St%20-%20Al%20Rashidiya%20 - %20Dubai%20; prevAreaCode=19%2033A%20St%20-%20Al%20Rashidiya%20 - %20Dubai%20; guest-session-token=aOTnKRB7qXnobya0Pn_-DppGGlE; ak_bmsc=63C9E467B8B6AFA52A6442554529FD98~000000000000000000000000000000~YAAQB/cSAvJXVDWOAQAALw1ZPRdGGQ51xlc+tewsiszcEVSljx7PYvA+m0uQXzoSPMet6kIrPBIiRWN3DNZ8y8yakgiCCEMqp1l5rf5ewxN6/fqw2mvlGhJ3jF/qx4dFmM0psN709243Nnhir1EWs4qsOz/baneHkf88XVuXxNTWhIu3GbGGHzk1roWVweVWQ/WHiugiJ8GyABYGxgsBb2klyRXwS16cfSYQe6YS0/pBJnbmnoAM+G7GlyQ3gPaUarOmqdm7C3h65Xg/9UGpw9qJy9cq2iKmOqUGKbN5slYCS+WExU8VRsue4OSBj6rPV/2JBqxOOrOoO+9HjRqxeprBWHuaUfNtnsIvA924DsmffwHbo7WnjcC9vJjOcqv8jBzHcvi+BFv/YymaNOPOGAOfIskE9haQZcBIK4sxI/C/dQA3+i/6jV1B2+XuyhXsDVbXTauI2a+IWMA0SfC+XBx3/Ww0f96ftK0Hsf32azJGlfiG7pCtdGNfnI2qrHUNOrYjcX2EGCWSSVvj3D1w2LLwySEHrFUi9Eo4CZmw1LP/N5UZ876NI2++7SM=; bm_sz=21053646DC0DE539A442AA346FCE4598~YAAQjA/EF8CF9zmOAQAAnwhUPReUsSfAUvQERXGJmUxXKG0vp85fHNP9ie3C8bG2jAxtHgtp67GIy7SJUEvusEHaBFbIEnJyqFqK5oceX/fQ7Qcfc2CowSKEHFVLR6nHRhwumxajAdEvwfZcUW9m+9ekysIlvMEhdsyFnoHNN5pReozSw5SaAdbmwCuq/sjHYuQ3wWq1iqgyGj66YVFYxw/8FBl/1V7ZoLBWDAcWC+V/1E1U+MPgPz348K5nznqYkaqg6tBnjkZXm6x1CyvLvqOuoHGVbam9XC5ZvY2EAwUxsJKzhldfhW9h4zqDn8WeA5L8LjxRD37zyXPzfqswt5aTz+4hNUJni+l83iDjqm5NyTF2iHCkK+Fyx1xdSA==~3163188~4534578; page_type=product-details; bm_sv=4F13F203E84E4379385694D196A9B1A7~YAAQyvcSAtUn4jWOAQAANNJqPRefJrYrWmkp4/1OMJrS3my0DzodqmYk68H1ov3Ugz6afAsOCRuDKu8XUuxhG7fwQ3ZyhvxBcomHuE3wbefQGg5CwfObr9cc/bDmkokoPl50lrZ9hWdeekxLoO/UA64jIs3ZYG07SPezU6Z/rXOC7pfHX5BWxsX7KpgSWZoiip8e1jZS2MCc5lincbUOwZ9Y+ihfCxC1thBkO/rxumApTFDt0UrvO0whoG3VW1w475KJJJcucQ==~1; _gcl_au=1.1.885303438.1710425902; bm_mi=DFA2131AB1451EF81402AACE8B962A88~YAAQjA/EFwyG9zmOAQAATDlUPRe3dUtjQUoLoS4LGMOlTPKTChs5Hj6GMbcsvxJSDQQ5c7j445Q0V39fWoQqhfMp4su/F7pMbtQvQY+j3BJ6LUbUVfhBez1lOhGUKKN3HzRx8Zpr9SY3L5pyFolAeDH7L3GT6UHmeiv2cCxgfxH+6MKpZpo66yngy/fy7N6d1QCyL05V79g+SXfcD3OTHQGpGCSwghXVq1cfeuYgTk7g9E32CxPDrK81Bauioyt1WVBjinfvaY0FDC8i6i43a4uQ3pVPO1B0LE/VMg23yGunvhoNztxXrPE+mV5K5xJR2sFzbzEb4v+8xPms5SKyPtI4fY4Dzll/fSFOcNi7z1zSiEyByrh6gw0uIbswhiSNLcCBgS1V+WP9uwBBQ2NJZpxfavlQzQ==~1; OptanonAlertBoxClosed=2024-03-14T14:42:37.947Z; lat=25.2280695; long=55.38268790000001; AKA_A2=A; _abck=59F693FA2C262E4EB9B6DF0D13FE55B8~-1~YAAQxfcSAvgeRBqOAQAADmJ0PQviAjn7MYxM11dUtaXATXXc43A+E0xUcGbYd//XFO3J8BjHpJQImbBLTiywN/5Ilt1+K+ug8EII+IJ2W3lSc5nN6CPHNza76ndfppoRPc6t9iqz/xw4ytnLfblTIYGev6djNXfC3+nJB5KaufZuwV8wOrohephPqwyhMmB10GFFqU1KyfQdSAGiXxB4yPEjPXC2GNN8yXe3JWGAu9vKANy1BpwZnEbmn6CiUP9w4biGaIzcUiHOkwACov/vphGsLvgNNFvPYEKMnfDXZ9WEImJYuEWpW/LQxwy0ZItHs4GpKfYbro6XyWsredYXP4tyMMuTyYmsFIPaVxYx1k5GZzArfexxryHutpkmNEfU/jycmJNnBpFQhXOc0mFleJGKlDrgReAxZfcuF6AanQ==~0~-1~-1; bm_mi=FA1AC622958CAB3C160D7608B3BABF68~YAAQCvcSAubeJjeOAQAA0y5cPRe+MVrdMPzsstFbbz811kqZGaoah3EaDwo4WQzR5SqqpQ7+JAYHh+IN6v5nW8w0vWTV+bodoWoo+UiLVtSEUVJn4POK5coruRkmCUYj+rJ889wVJKRHM0BP6f9dljjcgqVLZP3+ZWI9GIrxB3cDZQFqojGqe8K2hTUg7288hVs/2AZLDYBUvwBeDS+YP3GKUtvSsgaJjXh8QrGFX7hYN8EjU0IhrIRjQNSxzdiiOm9Q/jWFAsYxmaqSY/Rfq1iQDNBJnNoGzpKxF/a8qcfj061gvFAUrsaVb9rlDreDw+Zr0QTeLS9/3JBFD+mxO6wAOaXGpjx9m+MDCuyFX7gC0MV2yx6Xm8yW3vJ7/13DL2UJvCmXq9MIjbIUuvwFmdvx9IkEqw==~1; bm_sv=4F13F203E84E4379385694D196A9B1A7~YAAQxfcSAvkeRBqOAQAADmJ0PReRPpfpPH8Sc0UJxsWyx7A3eYZ1DIVq6QTsXESPG+yg1qabibTBMM8aZnWar12Plno0pjknR8wkcM5/RdGYuxIOdhJkjuz97sCqdVItoMqpmv+f+3OXFGe/GeVPocNDKyeRUej96nXU7wbQQiX8KEGERHsUfWNcKGR+xazRKLMmbe+1/7BZMMLsj3QHJuxU/JVDKiodTvQD6pPxb8keoDHuPKD/ngISdt7sQXRyVr1uQVe7qA==~1; cart_api=v2; mafuae-web-preferred-delivery-area=\"Dubai Festival City - Dubai\"; storeInfo=mafuae|en|AED',\n",
    "  'Upgrade-Insecure-Requests': '1',\n",
    "  'Sec-Fetch-Dest': 'document',\n",
    "  'Sec-Fetch-Mode': 'navigate',\n",
    "  'Sec-Fetch-Site': 'none',\n",
    "  'Sec-Fetch-User': '?1',\n",
    "  'Sec-GPC': '1'\n",
    "}\n"
   ]
  },
  {
   "cell_type": "code",
   "execution_count": 92,
   "id": "0394da00-aae6-49df-a5d7-68d723930e2b",
   "metadata": {},
   "outputs": [],
   "source": [
    "response = requests.get(url, headers=headers)\n",
    "response = response.text\n",
    "soup = BeautifulSoup(response, \"html.parser\")"
   ]
  },
  {
   "cell_type": "code",
   "execution_count": 110,
   "id": "2704d9bb-96e1-4b3c-a187-6fe32b0a9430",
   "metadata": {},
   "outputs": [
    {
     "name": "stdout",
     "output_type": "stream",
     "text": [
      "Title: Maggi Chicken Noodle Soup Sachet 60g Pack of 10\n",
      "FinalPrice: 44.05\n",
      "OldlPrice: 47.0\n",
      "PackSize: 60gx10\n",
      "Description: \n",
      "Images: 4\n",
      "Promotion: \n",
      "BrandStoreLink: https://www.carrefouruae.com/mafuae/en/Maggi/c/03074\n",
      "BulletPoints: Halal Certified. Free from Added preservatives.\n",
      "Information: INFORMATIONIngredientsPasta Vermicelli (Wheat Semolina)● Iodized Salt● Maltodextrin● Sugar● Chicken Fat & Chicken Meat Powder● Natural Dried Vegetables (Onion● Parsley● Garlic)● Natural Identical Cooked Potato (Contains Eggs)● Yeast Extract● Corn Seasoning (Cornstarch● Salt)● Natural Flavors ( Vegetables● Coriander)● Natural Herbs & Spices (Turmeric● Black Pepper● Nutmeg● Cardamom).SpecialityCulinaryBrand MessageEveryone's number 1 and every family's favourite, it seems that you just can't beat a bowl of MAGGI Chicken Noodle Soup. With sticks of vermicelli and chicken flavour, this is the soup you can't start without.\n"
     ]
    }
   ],
   "source": [
    "title = soup.find('h1', class_='css-106scfp').text if soup.find('h1', class_='css-106scfp') != None else ''\n",
    "price = soup.find('div', class_='css-1oh8fze').find('h2').text if soup.find('div', class_='css-1oh8fze').find('h2') != None else 0\n",
    "price = re.findall(r\"AED\\s+(\\d+.\\d+)\", price)\n",
    "try:\n",
    "    final_price = float(price[0])\n",
    "except ValueError:\n",
    "    final_price = 0    \n",
    "try:\n",
    "    old_price = float(price[1])\n",
    "except ValueError:\n",
    "    old_price = 0\n",
    "# final_price = soup.find('div', class_='css-1oh8fze').find('h2').text if soup.find('div', class_='css-1oh8fze').find('h2') != None else 0\n",
    "# old_price = soup.find('div', class_='css-1oh8fze').find('span').text if soup.find('div', class_='css-1oh8fze').find('span') != None else 0\n",
    "# Falta capturar las demas posibilidades de estructuras de pagina\n",
    "description = soup.find('div', class_='css-1weog53').text if soup.find('div', class_='css-1weog53') != None else ''\n",
    "q_images = len(soup.find_all('div', class_='css-1c2pck7')) if soup.find_all('div', class_='css-1c2pck7') != [] else 0\n",
    "link = soup.find('div', class_='css-1khiat5').find('div').find('a').get('href') if soup.find('div', class_='css-1khiat5') != None else ''\n",
    "brand_store_link = f\"https://www.carrefouruae.com{link}\"\n",
    "promotion = soup.find('div', class_='css-g4iap9').text if soup.find('div', class_='css-g4iap9') != None else ''\n",
    "pack_size = soup.find('div', class_='css-1kxxv3q').text.replace(\"Pack size : \", \"\") if soup.find('div', class_='css-1kxxv3q') != None else ''\n",
    "information = soup.find('div', 'css-k2yc02').text if soup.find('div', 'css-k2yc02') != None else ''\n",
    "bullets_points = ''\n",
    "bullets_points_list = soup.find('div', class_='css-1npift7').find('ul').find_all('li') if soup.find('div', class_='') else []\n",
    "for i in range(0, len(bullets_points_list)):\n",
    "    if i == len(bullets_points_list) - 1:\n",
    "        bullets_points += f\"{bullets_points_list[i].text}\"\n",
    "    else:\n",
    "        bullets_points += f\"{bullets_points_list[i].text} \"\n",
    "print(f\"Title: {title}\")\n",
    "print(f\"FinalPrice: {final_price}\")\n",
    "print(f\"OldlPrice: {old_price}\")\n",
    "print(f\"PackSize: {pack_size}\")\n",
    "print(f\"Description: {description}\")\n",
    "print(f\"Images: {q_images}\")\n",
    "print(f\"Promotion: {promotion}\")\n",
    "print(f\"BrandStoreLink: {brand_store_link}\")\n",
    "print(f\"BulletPoints: {bullets_points}\")\n",
    "print(f\"Information: {information}\")"
   ]
  },
  {
   "cell_type": "code",
   "execution_count": null,
   "id": "25ac6120-44b5-4ec3-8896-94037d0f9895",
   "metadata": {},
   "outputs": [],
   "source": []
  }
 ],
 "metadata": {
  "kernelspec": {
   "display_name": "Python 3 (ipykernel)",
   "language": "python",
   "name": "python3"
  },
  "language_info": {
   "codemirror_mode": {
    "name": "ipython",
    "version": 3
   },
   "file_extension": ".py",
   "mimetype": "text/x-python",
   "name": "python",
   "nbconvert_exporter": "python",
   "pygments_lexer": "ipython3",
   "version": "3.11.3"
  }
 },
 "nbformat": 4,
 "nbformat_minor": 5
}
