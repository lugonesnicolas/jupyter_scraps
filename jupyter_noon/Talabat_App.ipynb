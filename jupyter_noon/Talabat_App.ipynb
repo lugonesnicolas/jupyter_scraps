{
 "cells": [
  {
   "cell_type": "code",
   "execution_count": 1,
   "id": "4da6e448-d534-4df1-a625-ce49fee76a05",
   "metadata": {},
   "outputs": [],
   "source": [
    "import requests\n",
    "import re\n",
    "from bs4 import BeautifulSoup"
   ]
  },
  {
   "cell_type": "code",
   "execution_count": 2,
   "id": "3c2a6651-00de-4454-b3dd-d9a1a84a0ef6",
   "metadata": {},
   "outputs": [],
   "source": [
    "ids = ['98450117-d546-41de-a817-189e60756b06', '3cd8edae-6c59-4fbe-86b2-2a0a68684eea', '98450117-d546-41de-a817-189e60756b06',\n",
    "       '86dc225e-a457-403c-8f4c-068b8235ee5f', 'e2fc107e-b8cf-4491-90fb-f595721e10fa']"
   ]
  },
  {
   "cell_type": "code",
   "execution_count": 3,
   "id": "3bf75384-f80c-4efe-8095-143bca6ea484",
   "metadata": {},
   "outputs": [],
   "source": [
    "url = \"https://api.talabat.com/grocery/v1/vendors/3e4a1b63-2010-4818-a132-d1060e39e18b/products/34ab0ea0-6a8d-4368-8daa-c4a8f5833dfe?brand=talabat&country_code=ae&language_code=en_AE\"\n",
    "headers = {\n",
    "  'User-Agent': 'Mozilla/5.0 (Windows NT 10.0; Win64; x64; rv:123.0) Gecko/20100101 Firefox/123.0',\n",
    "  'Accept': 'text/html,application/xhtml+xml,application/xml;q=0.9,image/avif,image/webp,*/*;q=0.8',\n",
    "  'Accept-Language': 'es-AR,es;q=0.8,en-US;q=0.5,en;q=0.3',\n",
    "  'Accept-Encoding': 'gzip, deflate, br',\n",
    "  'Connection': 'keep-alive',\n",
    "  'Cookie': 'cart_api=v2; _abck=59F693FA2C262E4EB9B6DF0D13FE55B8~0~YAAQyvcSAogN4jWOAQAAXiVqPQunryhm2VrehJwFWGtFCp8ufcagrPeSIl55ijflh3sG6N2y97wAeTB0Sh8NCo5kUfhAe6+aWXe+s9QIxqas/GMEmxBqazFF2HY6poVX0LdkSHslYJdwQZCPLVALZXCRO6JJeputl3kGNCbUgVLu9cH5IKImvgyju7k5SvbDdyrrqF5r87J+yIRxSbhQrQTfB0nHYl1S42x+svEAWPBEHoGYx49OB5jQMwQi4ZzQdcCMIU2PCVDtzwUrpnSpqBLw0ToaJfZIKena9CSLEfaAT9hlk849YSZjhrzZxuEJE5ZoFpyDFdDO5m2AcHRJpueAeNnLLwqL99hEpRki44qzXk39AbpCaklyBfI0UyzVDSe9lk0T+Ly7yIy5XsBG2coWEbcrvg/9GYognn5t3w==~-1~-1~-1; storeInfo=mafuae|en|AED; OptanonConsent=isGpcEnabled=1&datestamp=Thu+Mar+14+2024+11%3A43%3A14+GMT-0300+(hora+est%C3%A1ndar+de+Argentina)&version=202301.2.0&hosts=&groups=C0004%3A1%2CC0001%3A1%2CC0002%3A1%2CC0003%3A1&consentId=ccb02f39-f0b2-4416-b38b-a3192a1b75c6&landingPath=NotLandingPage; mafuae-web-preferred-delivery-area=\"Dubai Festival City - Dubai\"; ab.storage.sessionId.e6577fac-30b0-4270-a5df-788ef16dc4cd=%7B%22g%22%3A%2274607fef-9dd7-545f-316f-7f3a034a19a2%22%2C%22e%22%3A1710429192420%2C%22c%22%3A1710425901302%2C%22l%22%3A1710427392420%7D; hideCoachMark=true; maf-session-id=CB0A0E3D-53D5-C80F-04CE-2E2377A7D0FF; mafuae-preferred-delivery-area=19%2033A%20St%20-%20Al%20Rashidiya%20 - %20Dubai%20; prevAreaCode=19%2033A%20St%20-%20Al%20Rashidiya%20 - %20Dubai%20; guest-session-token=aOTnKRB7qXnobya0Pn_-DppGGlE; ak_bmsc=63C9E467B8B6AFA52A6442554529FD98~000000000000000000000000000000~YAAQB/cSAvJXVDWOAQAALw1ZPRdGGQ51xlc+tewsiszcEVSljx7PYvA+m0uQXzoSPMet6kIrPBIiRWN3DNZ8y8yakgiCCEMqp1l5rf5ewxN6/fqw2mvlGhJ3jF/qx4dFmM0psN709243Nnhir1EWs4qsOz/baneHkf88XVuXxNTWhIu3GbGGHzk1roWVweVWQ/WHiugiJ8GyABYGxgsBb2klyRXwS16cfSYQe6YS0/pBJnbmnoAM+G7GlyQ3gPaUarOmqdm7C3h65Xg/9UGpw9qJy9cq2iKmOqUGKbN5slYCS+WExU8VRsue4OSBj6rPV/2JBqxOOrOoO+9HjRqxeprBWHuaUfNtnsIvA924DsmffwHbo7WnjcC9vJjOcqv8jBzHcvi+BFv/YymaNOPOGAOfIskE9haQZcBIK4sxI/C/dQA3+i/6jV1B2+XuyhXsDVbXTauI2a+IWMA0SfC+XBx3/Ww0f96ftK0Hsf32azJGlfiG7pCtdGNfnI2qrHUNOrYjcX2EGCWSSVvj3D1w2LLwySEHrFUi9Eo4CZmw1LP/N5UZ876NI2++7SM=; bm_sz=21053646DC0DE539A442AA346FCE4598~YAAQjA/EF8CF9zmOAQAAnwhUPReUsSfAUvQERXGJmUxXKG0vp85fHNP9ie3C8bG2jAxtHgtp67GIy7SJUEvusEHaBFbIEnJyqFqK5oceX/fQ7Qcfc2CowSKEHFVLR6nHRhwumxajAdEvwfZcUW9m+9ekysIlvMEhdsyFnoHNN5pReozSw5SaAdbmwCuq/sjHYuQ3wWq1iqgyGj66YVFYxw/8FBl/1V7ZoLBWDAcWC+V/1E1U+MPgPz348K5nznqYkaqg6tBnjkZXm6x1CyvLvqOuoHGVbam9XC5ZvY2EAwUxsJKzhldfhW9h4zqDn8WeA5L8LjxRD37zyXPzfqswt5aTz+4hNUJni+l83iDjqm5NyTF2iHCkK+Fyx1xdSA==~3163188~4534578; page_type=product-details; bm_sv=4F13F203E84E4379385694D196A9B1A7~YAAQyvcSAtUn4jWOAQAANNJqPRefJrYrWmkp4/1OMJrS3my0DzodqmYk68H1ov3Ugz6afAsOCRuDKu8XUuxhG7fwQ3ZyhvxBcomHuE3wbefQGg5CwfObr9cc/bDmkokoPl50lrZ9hWdeekxLoO/UA64jIs3ZYG07SPezU6Z/rXOC7pfHX5BWxsX7KpgSWZoiip8e1jZS2MCc5lincbUOwZ9Y+ihfCxC1thBkO/rxumApTFDt0UrvO0whoG3VW1w475KJJJcucQ==~1; _gcl_au=1.1.885303438.1710425902; bm_mi=DFA2131AB1451EF81402AACE8B962A88~YAAQjA/EFwyG9zmOAQAATDlUPRe3dUtjQUoLoS4LGMOlTPKTChs5Hj6GMbcsvxJSDQQ5c7j445Q0V39fWoQqhfMp4su/F7pMbtQvQY+j3BJ6LUbUVfhBez1lOhGUKKN3HzRx8Zpr9SY3L5pyFolAeDH7L3GT6UHmeiv2cCxgfxH+6MKpZpo66yngy/fy7N6d1QCyL05V79g+SXfcD3OTHQGpGCSwghXVq1cfeuYgTk7g9E32CxPDrK81Bauioyt1WVBjinfvaY0FDC8i6i43a4uQ3pVPO1B0LE/VMg23yGunvhoNztxXrPE+mV5K5xJR2sFzbzEb4v+8xPms5SKyPtI4fY4Dzll/fSFOcNi7z1zSiEyByrh6gw0uIbswhiSNLcCBgS1V+WP9uwBBQ2NJZpxfavlQzQ==~1; OptanonAlertBoxClosed=2024-03-14T14:42:37.947Z; lat=25.2280695; long=55.38268790000001; __cf_bm=a3yccbzyTlVtGvgSheaIN.FVyVV_L4hpFPlVx4zoFBs-1710440785-1.0.1.1-yXHRpOQ3sKB2tcnpVnITLCtC8Wl9bPOVl7Z0d7SPB.1ksZMHorjhq52MtjPTWgs.Sw9quTP5aJMKRMxVTuZ3tK4w5NH2_6cp8oP_eXsgXK0; AWSALB=m0TQTdjZ42+MTUapJ1HHeBTuKF9beFZbepEavZyt95eIU5cCN+IOEbofyGSMKGJBXsuMXICm/CxdfDZofsnWnecIUBOUVunoX40nA1zw7YTB6SqGj5yxE61PzmeZ; AWSALBCORS=m0TQTdjZ42+MTUapJ1HHeBTuKF9beFZbepEavZyt95eIU5cCN+IOEbofyGSMKGJBXsuMXICm/CxdfDZofsnWnecIUBOUVunoX40nA1zw7YTB6SqGj5yxE61PzmeZ',\n",
    "  'Upgrade-Insecure-Requests': '1',\n",
    "  'Sec-Fetch-Dest': 'document',\n",
    "  'Sec-Fetch-Mode': 'navigate',\n",
    "  'Sec-Fetch-Site': 'none',\n",
    "  'Sec-Fetch-User': '?1',\n",
    "  'Sec-GPC': '1'\n",
    "}"
   ]
  },
  {
   "cell_type": "code",
   "execution_count": 4,
   "id": "e9642f9d-67c0-48ee-99c3-0a6a5061d78d",
   "metadata": {},
   "outputs": [],
   "source": [
    "def get_product(url, headers):\n",
    "    response = requests.get(url, headers=headers)\n",
    "    data_product = response.json()\n",
    "    title = data_product['data'].get('name', '')\n",
    "    description = data_product['data'].get('description', '')\n",
    "    final_price = data_product['data'].get('price', '')\n",
    "    old_price = data_product['data'].get('original_price', '')\n",
    "    \n",
    "    print(f\"Title:{title}\")\n",
    "    # print(f\"Description:{description}\")\n",
    "    print(f\"FinalPrice:{final_price}\")\n",
    "    print(f\"OldPrice:{old_price}\\n\")"
   ]
  },
  {
   "cell_type": "code",
   "execution_count": 5,
   "id": "32f588a0-341a-49a1-ac2c-3417a8c11991",
   "metadata": {},
   "outputs": [
    {
     "name": "stdout",
     "output_type": "stream",
     "text": [
      "Title:Aptamil Advance 1 Next Generation Infant Milk Formula From 0-6 months 900 g\n",
      "FinalPrice:114.22\n",
      "OldPrice:114.22\n",
      "\n",
      "Title:Clorox Liquid Bleach 950 ml\n",
      "FinalPrice:8.25\n",
      "OldPrice:8.25\n",
      "\n",
      "Title:Aptamil Advance 1 Next Generation Infant Milk Formula From 0-6 months 900 g\n",
      "FinalPrice:114.22\n",
      "OldPrice:114.22\n",
      "\n",
      "Title:Earth Goods Organic Gluten Free Oat Flour 300 g\n",
      "FinalPrice:12.4\n",
      "OldPrice:15.5\n",
      "\n",
      "Title:Head & Shoulders Classic Clean Anti-Dandruff Shampoo, 400ml\n",
      "FinalPrice:25.75\n",
      "OldPrice:25.75\n",
      "\n"
     ]
    }
   ],
   "source": [
    "for id in ids:\n",
    "    url = f\"https://api.talabat.com/grocery/v1/vendors/3e4a1b63-2010-4818-a132-d1060e39e18b/products/{id}?brand=talabat&country_code=ae&language_code=en_AE\"\n",
    "    get_product(url, headers)"
   ]
  },
  {
   "cell_type": "code",
   "execution_count": null,
   "id": "5737265a-0046-406e-8bb7-934e8f019236",
   "metadata": {},
   "outputs": [],
   "source": []
  }
 ],
 "metadata": {
  "kernelspec": {
   "display_name": "Python 3 (ipykernel)",
   "language": "python",
   "name": "python3"
  },
  "language_info": {
   "codemirror_mode": {
    "name": "ipython",
    "version": 3
   },
   "file_extension": ".py",
   "mimetype": "text/x-python",
   "name": "python",
   "nbconvert_exporter": "python",
   "pygments_lexer": "ipython3",
   "version": "3.11.3"
  }
 },
 "nbformat": 4,
 "nbformat_minor": 5
}
