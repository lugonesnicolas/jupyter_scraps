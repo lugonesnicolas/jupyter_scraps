{
 "cells": [
  {
   "cell_type": "code",
   "execution_count": 7,
   "id": "4da6e448-d534-4df1-a625-ce49fee76a05",
   "metadata": {},
   "outputs": [],
   "source": [
    "import requests\n",
    "import re\n",
    "from bs4 import BeautifulSoup"
   ]
  },
  {
   "cell_type": "code",
   "execution_count": 8,
   "id": "3c2a6651-00de-4454-b3dd-d9a1a84a0ef6",
   "metadata": {},
   "outputs": [],
   "source": [
    "ids = ['98450117-d546-41de-a817-189e60756b06', '3cd8edae-6c59-4fbe-86b2-2a0a68684eea', '98450117-d546-41de-a817-189e60756b06',\n",
    "       '86dc225e-a457-403c-8f4c-068b8235ee5f', 'e2fc107e-b8cf-4491-90fb-f595721e10fa']"
   ]
  },
  {
   "cell_type": "code",
   "execution_count": 13,
   "id": "3bf75384-f80c-4efe-8095-143bca6ea484",
   "metadata": {},
   "outputs": [],
   "source": [
    "url = \"https://api.talabat.com/grocery/v1/vendors/3e4a1b63-2010-4818-a132-d1060e39e18b/products/34ab0ea0-6a8d-4368-8daa-c4a8f5833dfe?brand=talabat&country_code=ae&language_code=en_AE\"\n",
    "headers = {\n",
    "  'User-Agent': 'Mozilla/5.0 (Windows NT 10.0; Win64; x64; rv:123.0) Gecko/20100101 Firefox/123.0',\n",
    "  'Accept': 'text/html,application/xhtml+xml,application/xml;q=0.9,image/avif,image/webp,*/*;q=0.8',\n",
    "  'Accept-Language': 'es-AR,es;q=0.8,en-US;q=0.5,en;q=0.3',\n",
    "  'Accept-Encoding': 'gzip, deflate, br',\n",
    "  'Connection': 'keep-alive',\n",
    "  'Cookie': 'cart_api=v2; _abck=59F693FA2C262E4EB9B6DF0D13FE55B8~0~YAAQyvcSAogN4jWOAQAAXiVqPQunryhm2VrehJwFWGtFCp8ufcagrPeSIl55ijflh3sG6N2y97wAeTB0Sh8NCo5kUfhAe6+aWXe+s9QIxqas/GMEmxBqazFF2HY6poVX0LdkSHslYJdwQZCPLVALZXCRO6JJeputl3kGNCbUgVLu9cH5IKImvgyju7k5SvbDdyrrqF5r87J+yIRxSbhQrQTfB0nHYl1S42x+svEAWPBEHoGYx49OB5jQMwQi4ZzQdcCMIU2PCVDtzwUrpnSpqBLw0ToaJfZIKena9CSLEfaAT9hlk849YSZjhrzZxuEJE5ZoFpyDFdDO5m2AcHRJpueAeNnLLwqL99hEpRki44qzXk39AbpCaklyBfI0UyzVDSe9lk0T+Ly7yIy5XsBG2coWEbcrvg/9GYognn5t3w==~-1~-1~-1; storeInfo=mafuae|en|AED; OptanonConsent=isGpcEnabled=1&datestamp=Thu+Mar+14+2024+11%3A43%3A14+GMT-0300+(hora+est%C3%A1ndar+de+Argentina)&version=202301.2.0&hosts=&groups=C0004%3A1%2CC0001%3A1%2CC0002%3A1%2CC0003%3A1&consentId=ccb02f39-f0b2-4416-b38b-a3192a1b75c6&landingPath=NotLandingPage; mafuae-web-preferred-delivery-area=\"Dubai Festival City - Dubai\"; ab.storage.sessionId.e6577fac-30b0-4270-a5df-788ef16dc4cd=%7B%22g%22%3A%2274607fef-9dd7-545f-316f-7f3a034a19a2%22%2C%22e%22%3A1710429192420%2C%22c%22%3A1710425901302%2C%22l%22%3A1710427392420%7D; hideCoachMark=true; maf-session-id=CB0A0E3D-53D5-C80F-04CE-2E2377A7D0FF; mafuae-preferred-delivery-area=19%2033A%20St%20-%20Al%20Rashidiya%20 - %20Dubai%20; prevAreaCode=19%2033A%20St%20-%20Al%20Rashidiya%20 - %20Dubai%20; guest-session-token=aOTnKRB7qXnobya0Pn_-DppGGlE; ak_bmsc=63C9E467B8B6AFA52A6442554529FD98~000000000000000000000000000000~YAAQB/cSAvJXVDWOAQAALw1ZPRdGGQ51xlc+tewsiszcEVSljx7PYvA+m0uQXzoSPMet6kIrPBIiRWN3DNZ8y8yakgiCCEMqp1l5rf5ewxN6/fqw2mvlGhJ3jF/qx4dFmM0psN709243Nnhir1EWs4qsOz/baneHkf88XVuXxNTWhIu3GbGGHzk1roWVweVWQ/WHiugiJ8GyABYGxgsBb2klyRXwS16cfSYQe6YS0/pBJnbmnoAM+G7GlyQ3gPaUarOmqdm7C3h65Xg/9UGpw9qJy9cq2iKmOqUGKbN5slYCS+WExU8VRsue4OSBj6rPV/2JBqxOOrOoO+9HjRqxeprBWHuaUfNtnsIvA924DsmffwHbo7WnjcC9vJjOcqv8jBzHcvi+BFv/YymaNOPOGAOfIskE9haQZcBIK4sxI/C/dQA3+i/6jV1B2+XuyhXsDVbXTauI2a+IWMA0SfC+XBx3/Ww0f96ftK0Hsf32azJGlfiG7pCtdGNfnI2qrHUNOrYjcX2EGCWSSVvj3D1w2LLwySEHrFUi9Eo4CZmw1LP/N5UZ876NI2++7SM=; bm_sz=21053646DC0DE539A442AA346FCE4598~YAAQjA/EF8CF9zmOAQAAnwhUPReUsSfAUvQERXGJmUxXKG0vp85fHNP9ie3C8bG2jAxtHgtp67GIy7SJUEvusEHaBFbIEnJyqFqK5oceX/fQ7Qcfc2CowSKEHFVLR6nHRhwumxajAdEvwfZcUW9m+9ekysIlvMEhdsyFnoHNN5pReozSw5SaAdbmwCuq/sjHYuQ3wWq1iqgyGj66YVFYxw/8FBl/1V7ZoLBWDAcWC+V/1E1U+MPgPz348K5nznqYkaqg6tBnjkZXm6x1CyvLvqOuoHGVbam9XC5ZvY2EAwUxsJKzhldfhW9h4zqDn8WeA5L8LjxRD37zyXPzfqswt5aTz+4hNUJni+l83iDjqm5NyTF2iHCkK+Fyx1xdSA==~3163188~4534578; page_type=product-details; bm_sv=4F13F203E84E4379385694D196A9B1A7~YAAQyvcSAtUn4jWOAQAANNJqPRefJrYrWmkp4/1OMJrS3my0DzodqmYk68H1ov3Ugz6afAsOCRuDKu8XUuxhG7fwQ3ZyhvxBcomHuE3wbefQGg5CwfObr9cc/bDmkokoPl50lrZ9hWdeekxLoO/UA64jIs3ZYG07SPezU6Z/rXOC7pfHX5BWxsX7KpgSWZoiip8e1jZS2MCc5lincbUOwZ9Y+ihfCxC1thBkO/rxumApTFDt0UrvO0whoG3VW1w475KJJJcucQ==~1; _gcl_au=1.1.885303438.1710425902; bm_mi=DFA2131AB1451EF81402AACE8B962A88~YAAQjA/EFwyG9zmOAQAATDlUPRe3dUtjQUoLoS4LGMOlTPKTChs5Hj6GMbcsvxJSDQQ5c7j445Q0V39fWoQqhfMp4su/F7pMbtQvQY+j3BJ6LUbUVfhBez1lOhGUKKN3HzRx8Zpr9SY3L5pyFolAeDH7L3GT6UHmeiv2cCxgfxH+6MKpZpo66yngy/fy7N6d1QCyL05V79g+SXfcD3OTHQGpGCSwghXVq1cfeuYgTk7g9E32CxPDrK81Bauioyt1WVBjinfvaY0FDC8i6i43a4uQ3pVPO1B0LE/VMg23yGunvhoNztxXrPE+mV5K5xJR2sFzbzEb4v+8xPms5SKyPtI4fY4Dzll/fSFOcNi7z1zSiEyByrh6gw0uIbswhiSNLcCBgS1V+WP9uwBBQ2NJZpxfavlQzQ==~1; OptanonAlertBoxClosed=2024-03-14T14:42:37.947Z; lat=25.2280695; long=55.38268790000001; __cf_bm=a3yccbzyTlVtGvgSheaIN.FVyVV_L4hpFPlVx4zoFBs-1710440785-1.0.1.1-yXHRpOQ3sKB2tcnpVnITLCtC8Wl9bPOVl7Z0d7SPB.1ksZMHorjhq52MtjPTWgs.Sw9quTP5aJMKRMxVTuZ3tK4w5NH2_6cp8oP_eXsgXK0; AWSALB=m0TQTdjZ42+MTUapJ1HHeBTuKF9beFZbepEavZyt95eIU5cCN+IOEbofyGSMKGJBXsuMXICm/CxdfDZofsnWnecIUBOUVunoX40nA1zw7YTB6SqGj5yxE61PzmeZ; AWSALBCORS=m0TQTdjZ42+MTUapJ1HHeBTuKF9beFZbepEavZyt95eIU5cCN+IOEbofyGSMKGJBXsuMXICm/CxdfDZofsnWnecIUBOUVunoX40nA1zw7YTB6SqGj5yxE61PzmeZ',\n",
    "  'Upgrade-Insecure-Requests': '1',\n",
    "  'Sec-Fetch-Dest': 'document',\n",
    "  'Sec-Fetch-Mode': 'navigate',\n",
    "  'Sec-Fetch-Site': 'none',\n",
    "  'Sec-Fetch-User': '?1',\n",
    "  'Sec-GPC': '1'\n",
    "}"
   ]
  },
  {
   "cell_type": "code",
   "execution_count": 14,
   "id": "99e98bdc-d2bb-46d6-bde6-1c868dab9590",
   "metadata": {},
   "outputs": [
    {
     "name": "stdout",
     "output_type": "stream",
     "text": [
      "{'data': {'id': '34ab0ea0-6a8d-4368-8daa-c4a8f5833dfe', 'name': 'Pampers Premium Care Diapers, Size 2, Newborn, 3-8 kg, 46 Diapers', 'parent_id': '34ab0ea0-6a8d-4368-8daa-c4a8f5833dfe', 'parent_name': 'Pampers Premium Care Diapers, Size 2, Newborn, 3-8 kg, 46 Diapers', 'image_url': 'https://images.deliveryhero.io/image/talabat-nv/P_G/8001090267313.jpg', 'description': \"Pampers Premium Care baby diapers are soft and gentle on your baby's skin. It is a perfect fit as you ensure leak-free comfort for your little one. Designed in Pampers German labs with cotton-like softness to provide your baby with the softest touch and built-in lotion to help prevent rashes. This diaper has a special layer to absorb runny-mess and keep it away and protect your baby's delicate skin. These extra absorb channels help distribute wetness evenly for trusted dryness and less bulk. Pampers Premium Care baby diapers are with a wetness indicator that turns from yellow to blue when in contact with fluids to help parents know when it might be time to change. No wonder Pampers Premium care is the no.1 choice of mums!\\nFeatures and Benefits:\\n\\nSOFT & COMFORTABLE DIAPERS: All round soft and stretchy sides, gently wraps your baby in silky softness to give an extra comfortable fit and ensure your baby's skin remains soft. Protects your baby's delicate belly with a perfectly contoured fit\\nBREATHABLE MATERIALS: These baby diapers contain a lotion that helps protect your baby from skin irritation and is made of breathable materials with micropores that let fresh air in and humid air out so skin can breathe freely\\nRUNNY-MESS ABSORPTION: The only diaper lined with a unique Absorb-Away Layer. Premium care baby diapers technology will pull wetness and mess away from the baby's skin to ensure even better protection from irritation\\nNAVEL CUT: Specifically design for newborns Pampers Premium Care Diapers navel cut will protect your baby's belly with a perfectly contoured fit to ensure your baby's comfort at all times\\nQUICK DRY SYSTEM: Pampers premium care diapers feel silky soft while pulling wetness away from your baby's skin, driven by its super adsorbent quilts\\nGERMAN TECHNOLOGY: Designed with trusted german technology for even better-quality assurance, these baby diapers ensure that leakage is one less thing for you to worry about when it comes to your active little one\", 'vendor_id': '3e4a1b63-2010-4818-a132-d1060e39e18b', 'chain_id': '', 'price': 39.95, 'original_price': 39.95, 'volume_score': 0, 'estimated_available_timestamp': '', 'global_catalog_id': '34ab0ea0-6a8d-4368-8daa-c4a8f5833dfe', 'global_catalog_vendor_id': '3e4a1b63-2010-4818-a132-d1060e39e18b', 'is_available': True, 'stock_amount': 4, 'image_urls': [{'url': 'https://images.deliveryhero.io/image/talabat-nv/P_G/8001090267313.jpg'}, {'url': 'https://images.deliveryhero.io/image/talabat-nv/P_G/8001090267313_1.jpg'}, {'url': 'https://images.deliveryhero.io/image/talabat-nv/P_G/8001090267313_2.jpg'}, {'url': 'https://images.deliveryhero.io/image/talabat-nv/P_G/8001090267313_3.jpg'}, {'url': 'https://images.deliveryhero.io/image/talabat-nv/P_G/8001090267313_4.jpg'}, {'url': 'https://images.deliveryhero.io/image/talabat-nv/P_G/8001090267313_5.jpg'}, {'url': 'https://images.deliveryhero.io/image/talabat-nv/P_G/8001090267313_6.jpg'}, {'url': 'https://images.deliveryhero.io/image/talabat-nv/P_G/8001090267313_7.jpg'}], 'tags': ['pampers'], 'attributes': [], 'characteristics': {'originalPrice': '39.950000', 'available': 'false', 'salesBuffer': '0', 'pieceBarcodes': '08001090267313', 'chainProductId': '514839', 'sku': '907611', 'masterCode': 'KW87U2WA', 'brand': '', 'weightValue': '1000.00', 'weightUnit': 'g', 'lengthInCm': '18.00', 'widthInCm': '11.80', 'heightInCm': '37.80', 'numberOfUnits': '1', 'contentsValue': '46.00', 'contentsUnit': 'pieces', 'shelfLifeInDays': '0', 'isPackagedFood': 'false', 'pharmacyPrescription': 'NONE', 'vendor_pos_integrated': 'false', 'sold_by_weight': 'false', 'base_weight': '', 'min_starting_weight': 'null', 'weightable_unit': 'null', 'manufacturer_safety_information': '', 'dosage_information_health_warning': '', 'restricted_substance_warning': '', 'vatRate': '5.00', 'ageLimit': '0', 'baseUnit': 'piece', 'baseContentValue': '1', 'pricePerBaseUnit': '0.8685', 'freshnessGuaranteeInDays': '0', 'maximumSalesQuantity': '0'}, 'sku': '907611', 'vat': {'type': '', 'value': 5}, 'group_ids': [], 'packaging_charge': 0, 'category_id': '6a47f957-17ad-49dc-b0cb-b5cea0103d65', 'extended_info': {'stored_at': {'title': 'Stored at', 'text': '20° - 25°', 'description': 'This product is stored at the ideal temperature to keep it fresh'}, 'country': {'title': 'Country', 'code': ''}, 'content_unit': {'title': 'Pack size', 'text': '46 Pieces'}, 'tags': [], 'shelf_life': {'text': ''}}}}\n"
     ]
    }
   ],
   "source": [
    "response = requests.get(url, headers=headers)\n",
    "data_product = response.json()\n",
    "print(data_product)"
   ]
  },
  {
   "cell_type": "code",
   "execution_count": 30,
   "id": "e9642f9d-67c0-48ee-99c3-0a6a5061d78d",
   "metadata": {},
   "outputs": [],
   "source": [
    "def get_product(url, headers):\n",
    "    response = requests.get(url, headers=headers)\n",
    "    try:\n",
    "        data_product = response.json()\n",
    "        print(data_product)\n",
    "        title = data_product['data'].get('name', '')\n",
    "        description = data_product['data'].get('description', '')\n",
    "        final_price = data_product['data'].get('price', '')\n",
    "        old_price = data_product['data'].get('original_price', '')\n",
    "\n",
    "        print(f\"Url: {url}\")\n",
    "        print(f\"Title:{title}\")\n",
    "        # print(f\"Description:{description}\")\n",
    "        print(f\"FinalPrice:{final_price}\")\n",
    "        print(f\"OldPrice:{old_price}\\n\")\n",
    "    except Exception as e:\n",
    "        print(f\"Url: {url}\")\n",
    "        print(f\"Error - {e}\\n\")"
   ]
  },
  {
   "cell_type": "code",
   "execution_count": 31,
   "id": "32f588a0-341a-49a1-ac2c-3417a8c11991",
   "metadata": {},
   "outputs": [
    {
     "name": "stdout",
     "output_type": "stream",
     "text": [
      "{'name': 'ResourceNotFoundException', 'message': 'Resource 98450117-d546-41de-a817-189e60756b06 of type ProductId not found', 'debug_id': 'e703bd7012809edb08c1f8176631051f', 'details': None}\n",
      "Url: https://api.talabat.com/grocery/v1/vendors/3e4a1b63-2010-4818-a132-d1060e39e18b/products/98450117-d546-41de-a817-189e60756b06?brand=talabat&country_code=ae&language_code=en_AE\n",
      "Error - 'data'\n",
      "\n",
      "{'data': {'id': '3cd8edae-6c59-4fbe-86b2-2a0a68684eea', 'name': 'Clorox Liquid Bleach 950 ml', 'parent_id': '3cd8edae-6c59-4fbe-86b2-2a0a68684eea', 'parent_name': 'Clorox Liquid Bleach 950 ml', 'image_url': 'https://images.deliveryhero.io/image/darkstores/groceries-catalog/products-uae/UAE_6281065013202.jpg', 'description': '• POWERFUL DISINFECTANT: Clorox Bleach kills 99.9% of viruses & bacteria* and removes common allergens around your household. (*HIV 1, Ebola, Hepatitis A, Avian Influenza Type A, MRSA, Influenza A, Influenza A2, Salmonella Choleraesius) \\n• ONE PRODUCT, MANY USAGES: Clorox Bleach is an all-in-one cleaning alternative that eliminates common germs around your home and office. Use our multipurpose cleaner to clean and disinfect kitchen counters, dishes, sinks, bathroom surfaces, clothes and more\\n• MULTI-SURFACE CLEANER: Our Bleach can be used for cleaning and disinfecting a wide range of hard nonporous surfaces like bathtubs, showers, floors, walls tiles and drains. You can also disinfect your plastic and wooden cutting boards and use on children’s plastic toys\\n• TOUGH STAIN REMOVER : Clorox Bleach is your go-to solution to remove household stains. Use it every day to keep your house clean and shiny.\\n• GIVES YOU THE WHITEST WHITES: Clorox Bleach is the perfect choice to remove stains from your laundry. Its anti-yellowing formula leaves your clothes with the whitest whites. Dilute Clorox Bleach with water and use it to disinfect and whiten your clothes.', 'vendor_id': '3e4a1b63-2010-4818-a132-d1060e39e18b', 'chain_id': '', 'price': 8.25, 'original_price': 8.25, 'volume_score': 0, 'estimated_available_timestamp': '', 'global_catalog_id': '3cd8edae-6c59-4fbe-86b2-2a0a68684eea', 'global_catalog_vendor_id': '3e4a1b63-2010-4818-a132-d1060e39e18b', 'is_available': True, 'stock_amount': 11, 'image_urls': [{'url': 'https://images.deliveryhero.io/image/darkstores/groceries-catalog/products-uae/UAE_6281065013202.jpg'}, {'url': \"https://images.deliveryhero.io/image/talabat-nv/Netscribe%20Images(don't%20touch)/Other%201/6281065013202_1.jpg\"}, {'url': 'https://images.deliveryhero.io/image/talabat-nv/Regional_Images/Lulu_Web_Scrapped/6281065013202.0_2.jpg'}], 'tags': ['clorox'], 'attributes': [], 'characteristics': {'originalPrice': '8.250000', 'available': 'false', 'salesBuffer': '0', 'pieceBarcodes': '06281065013202', 'chainProductId': '1597', 'sku': '901954', 'masterCode': 'KWXI43Y8', 'brand': '', 'weightValue': '950.00', 'weightUnit': 'g', 'lengthInCm': '8.60', 'widthInCm': '8.60', 'heightInCm': '25.80', 'numberOfUnits': '1', 'contentsValue': '950.00', 'contentsUnit': 'ml', 'shelfLifeInDays': '0', 'isPackagedFood': 'false', 'pharmacyPrescription': 'NONE', 'vendor_pos_integrated': 'false', 'sold_by_weight': 'false', 'base_weight': '', 'min_starting_weight': 'null', 'weightable_unit': 'null', 'manufacturer_safety_information': '', 'dosage_information_health_warning': '', 'restricted_substance_warning': '', 'vatRate': '5.00', 'ageLimit': '0', 'baseUnit': 'l', 'baseContentValue': '1', 'pricePerBaseUnit': '8.6842', 'freshnessGuaranteeInDays': '0', 'maximumSalesQuantity': '0'}, 'sku': '901954', 'vat': {'type': '', 'value': 5}, 'group_ids': [], 'packaging_charge': 0, 'category_id': '7a3f11f1-08f2-4c57-ad03-cffe387ebcd0', 'extended_info': {'stored_at': {'title': 'Stored at', 'text': '20° - 25°', 'description': 'This product is stored at the ideal temperature to keep it fresh'}, 'country': {'title': 'Country', 'code': ''}, 'content_unit': {'title': 'Pack size', 'text': '950 ml'}, 'tags': [], 'shelf_life': {'text': ''}}}}\n",
      "Url: https://api.talabat.com/grocery/v1/vendors/3e4a1b63-2010-4818-a132-d1060e39e18b/products/3cd8edae-6c59-4fbe-86b2-2a0a68684eea?brand=talabat&country_code=ae&language_code=en_AE\n",
      "Title:Clorox Liquid Bleach 950 ml\n",
      "FinalPrice:8.25\n",
      "OldPrice:8.25\n",
      "\n",
      "{'name': 'ResourceNotFoundException', 'message': 'Resource 98450117-d546-41de-a817-189e60756b06 of type ProductId not found', 'debug_id': '3c39973cd0401a7bd069cb044850c880', 'details': None}\n",
      "Url: https://api.talabat.com/grocery/v1/vendors/3e4a1b63-2010-4818-a132-d1060e39e18b/products/98450117-d546-41de-a817-189e60756b06?brand=talabat&country_code=ae&language_code=en_AE\n",
      "Error - 'data'\n",
      "\n",
      "{'data': {'id': '86dc225e-a457-403c-8f4c-068b8235ee5f', 'name': 'Earth Goods Organic Gluten Free Oat Flour 300 g', 'parent_id': '86dc225e-a457-403c-8f4c-068b8235ee5f', 'parent_name': 'Earth Goods Organic Gluten Free Oat Flour 300 g', 'image_url': 'https://images.deliveryhero.io/image/darkstores/groceries-catalog/products-uae/UAE_6291108424797.jpg', 'description': 'Our Organic Gluten Free Oat Flour Is Finely Ground From The Finest Quality Scandinavian Whole Grain Organic And Gluten Free Oats.\\nNutritional Values And Free From: Like All Our Products, Our Corn Flour Is Made Without The Use Of Additives, Preservatives Or Sugar. It Is 100% Organic, Gluten Free, Non Gmo, And High In Fiber.\\nThey Bring Out The Best In Every Recipe. For Gluten Free Bakers. The Perfect Ingredient For All Your Baking Delights, From Bread, Muffins To Cookies And Pancakes', 'vendor_id': '3e4a1b63-2010-4818-a132-d1060e39e18b', 'chain_id': '', 'price': 15.5, 'original_price': 15.5, 'volume_score': 0, 'estimated_available_timestamp': '', 'global_catalog_id': '86dc225e-a457-403c-8f4c-068b8235ee5f', 'global_catalog_vendor_id': '3e4a1b63-2010-4818-a132-d1060e39e18b', 'is_available': True, 'stock_amount': 4, 'image_urls': [{'url': 'https://images.deliveryhero.io/image/darkstores/groceries-catalog/products-uae/UAE_6291108424797.jpg'}], 'tags': ['earthgoods', 'cccc'], 'attributes': [], 'characteristics': {'originalPrice': '15.500000', 'available': 'false', 'salesBuffer': '0', 'pieceBarcodes': '06291108424797', 'chainProductId': '489825', 'sku': '907189', 'masterCode': 'AE128Z1Y', 'brand': '', 'weightValue': '0.00', 'weightUnit': '', 'lengthInCm': '0.00', 'widthInCm': '0.00', 'heightInCm': '0.00', 'numberOfUnits': '1', 'contentsValue': '300.00', 'contentsUnit': 'g', 'shelfLifeInDays': '0', 'isPackagedFood': 'false', 'pharmacyPrescription': 'NONE', 'vendor_pos_integrated': 'false', 'sold_by_weight': 'false', 'base_weight': '', 'min_starting_weight': 'null', 'weightable_unit': 'null', 'manufacturer_safety_information': '', 'dosage_information_health_warning': '', 'restricted_substance_warning': '', 'vatRate': '5.00', 'ageLimit': '0', 'baseUnit': 'kg', 'baseContentValue': '1', 'pricePerBaseUnit': '51.6667', 'freshnessGuaranteeInDays': '0', 'maximumSalesQuantity': '0'}, 'sku': '907189', 'vat': {'type': '', 'value': 5}, 'group_ids': [], 'packaging_charge': 0, 'category_id': 'fca6c869-81d7-4330-abfc-4d2a879f6a91', 'extended_info': {'stored_at': {'title': 'Stored at', 'text': '20° - 25°', 'description': 'This product is stored at the ideal temperature to keep it fresh'}, 'country': {'title': 'Country', 'code': ''}, 'content_unit': {'title': 'Pack size', 'text': '300 g'}, 'tags': [], 'shelf_life': {'text': ''}}}}\n",
      "Url: https://api.talabat.com/grocery/v1/vendors/3e4a1b63-2010-4818-a132-d1060e39e18b/products/86dc225e-a457-403c-8f4c-068b8235ee5f?brand=talabat&country_code=ae&language_code=en_AE\n",
      "Title:Earth Goods Organic Gluten Free Oat Flour 300 g\n",
      "FinalPrice:15.5\n",
      "OldPrice:15.5\n",
      "\n",
      "{'data': {'id': 'e2fc107e-b8cf-4491-90fb-f595721e10fa', 'name': 'Head & Shoulders Classic Clean Anti-Dandruff Shampoo, 400ml', 'parent_id': 'e2fc107e-b8cf-4491-90fb-f595721e10fa', 'parent_name': 'Head & Shoulders Classic Clean Anti-Dandruff Shampoo, 400ml', 'image_url': 'https://images.deliveryhero.io/image/talabat-nv/Regional_Images_2024/Hero_Images/5011321360945.png', 'description': 'Get rid of dandruff with Head & Shoulders Classic Clean anti-dandruff shampoo. Equipped with formula containing pyrithione zinc, Classic Clean shampoo fights dandruff better than a typical anti-dandruff shampoo (vs. competitor anti-dandruff shampoo with 1 percent pyrithione zinc). Head & Shoulders shampoos with 3 Action Formula cleanse, protect and moisturize your scalp and hair (with regular use), so you can stay up to 100 percent dandruff free (visible dandruff, with daily use).\\nFeatures and Benefits:\\n\\nUp to 100 percent dandruff free hair (visible dandruff, with daily use)\\nWith Clinically Tested Pyrithione Zinc Formula\\nFights dandruff better than a typical anti-dandruff shampoo\\n3 Action Formula: cleanses, protects and moisturizes hair and scalp (with regular use)\\nFor A Deep, Clean Feeling And Healthy-Looking Hair\\n', 'vendor_id': '3e4a1b63-2010-4818-a132-d1060e39e18b', 'chain_id': '', 'price': 25.75, 'original_price': 25.75, 'volume_score': 0, 'estimated_available_timestamp': '', 'global_catalog_id': 'e2fc107e-b8cf-4491-90fb-f595721e10fa', 'global_catalog_vendor_id': '3e4a1b63-2010-4818-a132-d1060e39e18b', 'is_available': True, 'stock_amount': 10, 'image_urls': [{'url': 'https://images.deliveryhero.io/image/talabat-nv/Regional_Images_2024/Hero_Images/5011321360945.png'}, {'url': 'https://images.deliveryhero.io/image/talabat-nv/P_G/5011321360945.jpg'}, {'url': 'https://images.deliveryhero.io/image/talabat-nv/P_G/5011321360945_1.jpg'}, {'url': 'https://images.deliveryhero.io/image/talabat-nv/P_G/5011321360945_2.jpg'}, {'url': 'https://images.deliveryhero.io/image/talabat-nv/P_G/5011321360945_3.jpg'}, {'url': 'https://images.deliveryhero.io/image/talabat-nv/P_G/5011321360945_4.jpg'}, {'url': 'https://images.deliveryhero.io/image/talabat-nv/P_G/5011321360945_5.jpg'}, {'url': 'https://images.deliveryhero.io/image/talabat-nv/P_G/5011321360945_6.jpg'}, {'url': 'https://images.deliveryhero.io/image/talabat-nv/P_G/5011321360945_7.jpg'}], 'tags': ['hair', 'erer'], 'attributes': [], 'characteristics': {'originalPrice': '25.750000', 'available': 'false', 'salesBuffer': '0', 'pieceBarcodes': '05011321360945', 'chainProductId': '1973', 'sku': '902002', 'masterCode': 'KW11A506', 'brand': '', 'weightValue': '440.00', 'weightUnit': 'g', 'lengthInCm': '4.20', 'widthInCm': '7.40', 'heightInCm': '21.00', 'numberOfUnits': '1', 'contentsValue': '400.00', 'contentsUnit': 'ml', 'shelfLifeInDays': '0', 'isPackagedFood': 'false', 'pharmacyPrescription': 'NONE', 'vendor_pos_integrated': 'false', 'sold_by_weight': 'false', 'base_weight': '', 'min_starting_weight': '', 'weightable_unit': '', 'manufacturer_safety_information': '', 'dosage_information_health_warning': '', 'restricted_substance_warning': '', 'vatRate': '5.00', 'ageLimit': '0', 'baseUnit': 'l', 'baseContentValue': '1', 'pricePerBaseUnit': '64.3750', 'freshnessGuaranteeInDays': '0', 'maximumSalesQuantity': '0'}, 'sku': '902002', 'vat': {'type': '', 'value': 5}, 'group_ids': [], 'packaging_charge': 0, 'category_id': '3570065e-aa05-4ad6-b6ee-d71cb431fc1a', 'extended_info': {'stored_at': {'title': 'Stored at', 'text': '20° - 25°', 'description': 'This product is stored at the ideal temperature to keep it fresh'}, 'country': {'title': 'Country', 'code': 'qa'}, 'content_unit': {'title': 'Pack size', 'text': '400 ml'}, 'tags': [], 'shelf_life': {'text': ''}}}}\n",
      "Url: https://api.talabat.com/grocery/v1/vendors/3e4a1b63-2010-4818-a132-d1060e39e18b/products/e2fc107e-b8cf-4491-90fb-f595721e10fa?brand=talabat&country_code=ae&language_code=en_AE\n",
      "Title:Head & Shoulders Classic Clean Anti-Dandruff Shampoo, 400ml\n",
      "FinalPrice:25.75\n",
      "OldPrice:25.75\n",
      "\n"
     ]
    }
   ],
   "source": [
    "for id in ids:\n",
    "    url = f\"https://api.talabat.com/grocery/v1/vendors/3e4a1b63-2010-4818-a132-d1060e39e18b/products/{id}?brand=talabat&country_code=ae&language_code=en_AE\"\n",
    "    get_product(url, headers)"
   ]
  },
  {
   "cell_type": "code",
   "execution_count": null,
   "id": "5737265a-0046-406e-8bb7-934e8f019236",
   "metadata": {},
   "outputs": [],
   "source": []
  }
 ],
 "metadata": {
  "kernelspec": {
   "display_name": "Python 3 (ipykernel)",
   "language": "python",
   "name": "python3"
  },
  "language_info": {
   "codemirror_mode": {
    "name": "ipython",
    "version": 3
   },
   "file_extension": ".py",
   "mimetype": "text/x-python",
   "name": "python",
   "nbconvert_exporter": "python",
   "pygments_lexer": "ipython3",
   "version": "3.11.3"
  }
 },
 "nbformat": 4,
 "nbformat_minor": 5
}
