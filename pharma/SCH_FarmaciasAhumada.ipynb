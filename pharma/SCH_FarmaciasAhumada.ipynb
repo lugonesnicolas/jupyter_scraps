{
 "cells": [
  {
   "cell_type": "code",
   "execution_count": 1,
   "id": "8d600569-1e38-4090-bd0a-26d72c86564e",
   "metadata": {},
   "outputs": [],
   "source": [
    "import requests\n",
    "from bs4 import BeautifulSoup"
   ]
  },
  {
   "cell_type": "code",
   "execution_count": 6,
   "id": "20607236-5d85-4426-9a59-3f4aed6917d6",
   "metadata": {},
   "outputs": [],
   "source": [
    "url = \"https://www.farmaciasahumada.cl/search?q=buscapina&search-button=&lang=null\"\n",
    "payload = {}\n",
    "headers = {\n",
    "  'User-Agent': 'Mozilla/5.0 (Windows NT 10.0; Win64; x64; rv:127.0) Gecko/20100101 Firefox/127.0',\n",
    "  'Accept': 'text/html,application/xhtml+xml,application/xml;q=0.9,image/avif,image/webp,*/*;q=0.8',\n",
    "  'Accept-Language': 'es-AR,es;q=0.8,en-US;q=0.5,en;q=0.3',\n",
    "  'Accept-Encoding': 'gzip, deflate, br, zstd',\n",
    "  'Referer': 'https://www.farmaciasahumada.cl/',\n",
    "  'DNT': '1',\n",
    "  'Sec-GPC': '1',\n",
    "  'Connection': 'keep-alive',\n",
    "  'Cookie': 'sid=EtZJhfjvoaMkoH5tPU2sIo3YDFZqFztrpYk; dwanonymous_a62ec0fb361486e6f24f8e7a435e4a7e=abB2lJfLe6afIgRZeNWLHvMDkJ; __cq_dnt=0; dw_dnt=0; dwsid=NsToc0j9wak7PALDkTsxGqnKraDaBVthuhUdqNTTh5JfKaJYIrjEqYpcHuqQSAkMCMkNOxz74FjZiTYpz0h_1A==; _gcl_au=1.1.1481589790.1719849590; ahumada_ga_5JZGJXCB31=GS1.1.1719849590.1.1.1719849604.0.0.0; ahumada_ga=GA1.1.1756771920.1719849590; dwac_43326d4794ac78e3c82eb42272=EtZJhfjvoaMkoH5tPU2sIo3YDFZqFztrpYk^%^3D^|dw-only^|^|^|CLP^|false^|Chile^%^2FContinental^|true; cqcid=abB2lJfLe6afIgRZeNWLHvMDkJ; cquid=^|^|; __cq_dnt=1; dw_dnt=1',\n",
    "  'Upgrade-Insecure-Requests': '1',\n",
    "  'Sec-Fetch-Dest': 'document',\n",
    "  'Sec-Fetch-Mode': 'navigate',\n",
    "  'Sec-Fetch-Site': 'same-origin',\n",
    "  'Sec-Fetch-User': '?1',\n",
    "  'Priority': 'u=1',\n",
    "  'TE': 'trailers'\n",
    "}\n",
    "\n",
    "response = requests.request(\"GET\", url, headers=headers, data=payload)\n",
    "html = response.text\n",
    "soup = BeautifulSoup(html, \"html\")"
   ]
  },
  {
   "cell_type": "code",
   "execution_count": 7,
   "id": "5f40a069-cacf-42f2-a9ce-70a4a3e5a468",
   "metadata": {},
   "outputs": [],
   "source": [
    "product_list = soup.select(\"div.product.product-tile-wrapper.h-100.pb-lg-4.pb-3\")"
   ]
  },
  {
   "cell_type": "code",
   "execution_count": 8,
   "id": "b478255f-aaf1-4fb7-ad9c-d8d16c46c3bb",
   "metadata": {},
   "outputs": [
    {
     "name": "stdout",
     "output_type": "stream",
     "text": [
      "Title: Buscapina 10 mg x 20 Grageas\n",
      "FinalPrice: 12.045\n",
      "OldPrice: 0\n",
      "Product: Sanofi - Aventis\n",
      "\n",
      "Title: Buscapina Perlas 10 mg x 10 Capsulas Blandas\n",
      "FinalPrice: 5.595\n",
      "OldPrice: 8.595\n",
      "Product: Sanofi - Aventis\n",
      "\n",
      "Title: Buscapina 10 mg x 20 Grageas\n",
      "FinalPrice: 12.045\n",
      "OldPrice: 0\n",
      "Product: Sanofi - Aventis\n",
      "\n",
      "Title: Buscapina Perlas 10 mg x 10 Capsulas Blandas\n",
      "FinalPrice: 5.595\n",
      "OldPrice: 8.595\n",
      "Product: Sanofi - Aventis\n",
      "\n"
     ]
    }
   ],
   "source": [
    "for i in product_list:\n",
    "    brand = i.find(\"div\", class_=\"product-tile-brand\").text.strip() if i.find(\"div\", class_=\"product-tile-brand\") != None else ''\n",
    "    title = i.find(\"a\", class_=\"link\").text if i.find(\"a\", class_=\"link\") != None else ''\n",
    "    old_price = i.select_one(\"span.strike-through.list.text-decoration-none span.value\").text if i.select_one(\"span.strike-through.list.text-decoration-none span.value\") != None else 0\n",
    "    old_price = float(old_price.replace(\"Price reduced from\", \"\").replace(\"to\", \"\").replace(\"$\", \"\").strip()) if old_price != 0 else old_price\n",
    "    final_price = i.select_one(\"span.value.d-flex.align-items-center\").text if i.select_one(\"span.value.d-flex.align-items-center\") != None else 0\n",
    "    final_price = float(final_price.replace(\"$\", \"\").strip()) if final_price != 0 else final_price\n",
    "\n",
    "    print(f\"Title: {title}\")\n",
    "    print(f\"FinalPrice: {final_price}\")\n",
    "    print(f\"OldPrice: {old_price}\")\n",
    "    print(f\"Product: {brand}\\n\")"
   ]
  },
  {
   "cell_type": "code",
   "execution_count": 9,
   "id": "b72226ea-09d3-4830-97b2-60ba45b1cc47",
   "metadata": {},
   "outputs": [
    {
     "name": "stdout",
     "output_type": "stream",
     "text": [
      "Title: Buscapina Perlas 10 mg x 10 Capsulas Blandas\n",
      "FinalPrice: 5.595\n",
      "OldPrice: 8.595\n",
      "Product: Sanofi - Aventis\n",
      "\n"
     ]
    }
   ],
   "source": [
    "brand = product_list[1].find(\"div\", class_=\"product-tile-brand\").text.strip() if product_list[1].find(\"div\", class_=\"product-tile-brand\") != None else ''\n",
    "title = product_list[1].find(\"a\", class_=\"link\").text if i.find(\"a\", class_=\"link\") != None else ''\n",
    "old_price = product_list[1].select_one(\"span.strike-through.list.text-decoration-none span.value\").text if product_list[1].select_one(\"span.strike-through.list.text-decoration-none span.value\") != None else 0\n",
    "old_price = float(old_price.replace(\"Price reduced from\", \"\").replace(\"to\", \"\").replace(\"$\", \"\").strip()) if old_price != 0 else old_price\n",
    "final_price = product_list[1].select_one(\"span.value.d-flex.align-items-center\").text if product_list[1].select_one(\"span.value.d-flex.align-items-center\") != None else 0\n",
    "final_price = float(final_price.replace(\"$\", \"\").strip()) if final_price != 0 else final_price\n",
    "\n",
    "print(f\"Title: {title}\")\n",
    "print(f\"FinalPrice: {final_price}\")\n",
    "print(f\"OldPrice: {old_price}\")\n",
    "print(f\"Product: {brand}\\n\")"
   ]
  },
  {
   "cell_type": "code",
   "execution_count": null,
   "id": "2649e4b3-51df-4e19-a4d0-5cc5a0e08bfb",
   "metadata": {},
   "outputs": [],
   "source": []
  }
 ],
 "metadata": {
  "kernelspec": {
   "display_name": "Python 3 (ipykernel)",
   "language": "python",
   "name": "python3"
  },
  "language_info": {
   "codemirror_mode": {
    "name": "ipython",
    "version": 3
   },
   "file_extension": ".py",
   "mimetype": "text/x-python",
   "name": "python",
   "nbconvert_exporter": "python",
   "pygments_lexer": "ipython3",
   "version": "3.11.3"
  }
 },
 "nbformat": 4,
 "nbformat_minor": 5
}
