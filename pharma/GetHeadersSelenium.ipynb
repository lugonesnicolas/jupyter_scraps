{
 "cells": [
  {
   "cell_type": "code",
   "execution_count": 1,
   "id": "5f66dc01-f469-4c8f-8654-994280d9b61b",
   "metadata": {},
   "outputs": [],
   "source": [
    "from time import sleep\n",
    "from seleniumwire import webdriver\n",
    "from selenium.webdriver.common.by import By"
   ]
  },
  {
   "cell_type": "code",
   "execution_count": 2,
   "id": "6c7def63-8155-4ca6-b699-e15230f119d4",
   "metadata": {},
   "outputs": [],
   "source": [
    "url = \"https://www.cruzverde.cl/search?query=disfunci%C3%B3n%20er%C3%A9ctil\""
   ]
  },
  {
   "cell_type": "code",
   "execution_count": 3,
   "id": "d0f5ff21-15ec-4c9f-b1f6-64825608b002",
   "metadata": {},
   "outputs": [],
   "source": [
    "driver = webdriver.Chrome()\n",
    "driver.get(\"https://www.cruzverde.cl/search?query=disfunci%C3%B3n%20er%C3%A9ctil\")\n",
    "element = driver.find_element(By.CSS_SELECTOR, \".hover\\:bg-prices > span:nth-child(1)\")\n",
    "element.click()\n",
    "sleep(5)"
   ]
  },
  {
   "cell_type": "code",
   "execution_count": 4,
   "id": "64d3d671-1cb3-424c-9255-3963be7fa53a",
   "metadata": {},
   "outputs": [],
   "source": [
    "# # Acceder a los encabezados de la última solicitud\n",
    "# request = driver.requests\n",
    "# for i in request:\n",
    "#     if \"&inventoryId=zona308&inventoryZone=zona308\" in i.url:\n",
    "#         print(i)"
   ]
  },
  {
   "cell_type": "code",
   "execution_count": 5,
   "id": "d48c986d-3487-4f7d-bc67-7b132a122b1b",
   "metadata": {},
   "outputs": [
    {
     "name": "stdout",
     "output_type": "stream",
     "text": [
      "https://api.cruzverde.cl/product-service/products/search?limit=12&offset=0&sort=&q=disfunci%C3%B3n%20er%C3%A9ctil&inventoryId=zona308&inventoryZone=zona308\n"
     ]
    }
   ],
   "source": [
    "request = driver.requests\n",
    "headers_dict = {}\n",
    "for i in request:\n",
    "    if \"&inventoryId=zona308&inventoryZone=zona308\" in i.url:\n",
    "        print(i)\n",
    "        for key, value in i.headers.items():\n",
    "          # Convert the header key to lowercase\n",
    "          lower_key = key.lower()\n",
    "        \n",
    "          # Add the header key-value pair to the dictionary\n",
    "          headers_dict[lower_key] = value"
   ]
  },
  {
   "cell_type": "code",
   "execution_count": 6,
   "id": "18407361-041e-454b-a38c-1493c71ff750",
   "metadata": {},
   "outputs": [
    {
     "name": "stdout",
     "output_type": "stream",
     "text": [
      "{'sec-ch-ua': '\"Not/A)Brand\";v=\"8\", \"Chromium\";v=\"126\", \"Google Chrome\";v=\"126\"', 'accept': 'application/json, text/plain, */*', 'sec-ch-ua-mobile': '?0', 'user-agent': 'Mozilla/5.0 (Windows NT 10.0; Win64; x64) AppleWebKit/537.36 (KHTML, like Gecko) Chrome/126.0.0.0 Safari/537.36', 'sec-ch-ua-platform': '\"Windows\"', 'origin': 'https://www.cruzverde.cl', 'sec-fetch-site': 'same-site', 'sec-fetch-mode': 'cors', 'sec-fetch-dest': 'empty', 'referer': 'https://www.cruzverde.cl/', 'accept-encoding': 'gzip, deflate, br, zstd', 'accept-language': 'es-419,es;q=0.9', 'priority': 'u=1, i', 'cookie': '_gcl_au=1.1.1590088685.1720465925; _fbp=fb.1.1720465925252.1588908552; _gcl_au=1.1.1590088685.1720465925; _ga=GA1.1.896397963.1720465926; connect.sid=s%3Acruzverde-ad6c9209-a762-4944-9a0e-e642785299dd.RrSX7zJTYnRBlYTVK5yUej7%2Beo44FxZqTVPWkGVxT4I; _hjSession_1614665=eyJpZCI6IjJiNjQ5Y2VjLTQ0YTItNDEzYi04YmYxLWM0NmI0ZDM1MTI2MyIsImMiOjE3MjA0NjU5MzIxMDQsInMiOjAsInIiOjAsInNiIjowLCJzciI6MCwic2UiOjAsImZzIjoxLCJzcCI6MH0=; _tt_enable_cookie=1; _ttp=qZU8q_3vWAEvYKF01U4sAMwYO3I; _ga=GA1.2.896397963.1720465926; _gid=GA1.2.408924574.1720465938; _gat_UA-149350909-1=1; _ga_GMKXQPNSW5=GS1.1.1720465925.1.1.1720465939.0.0.1302578221; _ga_CVCL=GS1.1.1720465925.1.1.1720465939.0.0.2087469293; _hjSessionUser_1614665=eyJpZCI6Ijk1OTE4MzJhLTEzMTYtNTA2Ni05NjEwLTMyMjVkNjhjNWJjZCIsImNyZWF0ZWQiOjE3MjA0NjU5MzIxMDMsImV4aXN0aW5nIjp0cnVlfQ=='}\n"
     ]
    }
   ],
   "source": [
    "print(headers_dict)"
   ]
  },
  {
   "cell_type": "code",
   "execution_count": 7,
   "id": "631b00b7-593b-4f14-b31d-705d8f6bcc9b",
   "metadata": {},
   "outputs": [],
   "source": [
    "driver.quit()"
   ]
  },
  {
   "cell_type": "code",
   "execution_count": null,
   "id": "a75572ae-10b6-483f-8391-181a05a284de",
   "metadata": {},
   "outputs": [],
   "source": []
  }
 ],
 "metadata": {
  "kernelspec": {
   "display_name": "Python 3 (ipykernel)",
   "language": "python",
   "name": "python3"
  },
  "language_info": {
   "codemirror_mode": {
    "name": "ipython",
    "version": 3
   },
   "file_extension": ".py",
   "mimetype": "text/x-python",
   "name": "python",
   "nbconvert_exporter": "python",
   "pygments_lexer": "ipython3",
   "version": "3.11.3"
  }
 },
 "nbformat": 4,
 "nbformat_minor": 5
}
