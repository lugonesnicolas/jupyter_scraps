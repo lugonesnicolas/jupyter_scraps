{
 "cells": [
  {
   "cell_type": "code",
   "execution_count": 1,
   "id": "4d3c9e8b-998c-47de-9df0-0a3f438260c2",
   "metadata": {},
   "outputs": [],
   "source": [
    "import logging"
   ]
  },
  {
   "cell_type": "code",
   "execution_count": 2,
   "id": "25024eec-b606-458b-9c75-d122bce928d8",
   "metadata": {},
   "outputs": [],
   "source": [
    "class custom_logger:\n",
    "    \n",
    "    def __init__(self, name=None, industry=None, platform_id=None, store_id=None, file_name=None, logger=None):\n",
    "        self.name = name\n",
    "        self.industry = industry\n",
    "        self.platform_id = platform_id\n",
    "        self.store_id = store_id\n",
    "        self.file_name = file_name\n",
    "        self.logger = logger\n",
    "\n",
    "     # Funcion que setea los el logger y el archivo de logs\n",
    "    def set_log_file(self):\n",
    "        \"\"\"\n",
    "        Configura el logging con un manejador de archivo y un formato personalizado.\n",
    "\n",
    "        Args:\n",
    "            nombre_archivo (str): Nombre del archivo donde se guardarán los logs.\n",
    "        \"\"\"\n",
    "        # Crea un logger con el nombre del script actual\n",
    "        self.logger = logging.getLogger(__name__)\n",
    "\n",
    "        # Configura el nivel de registro (en este caso, INFO)\n",
    "        self.logger.setLevel(logging.DEBUG)\n",
    "\n",
    "        # Crea un manejador de archivo\n",
    "        file_handler = logging.FileHandler(self.file_name)\n",
    "\n",
    "        # Define el formato del mensaje\n",
    "        formatter = logging.Formatter('%(asctime)s - %(levelname)s - %(name)s - %(message)s')\n",
    "\n",
    "        # Aplica el formato al manejador\n",
    "        file_handler.setFormatter(formatter)\n",
    "\n",
    "        # Agrega el manejador al logger\n",
    "        self.logger.addHandler(file_handler)\n",
    "\n",
    "        \n",
    "    \n",
    "    def debug_log(self, message=None):\n",
    "        self.logger.debug(message)\n",
    "    \n",
    "    def error_log(self, message=None):\n",
    "        self.logger.error(f\"{message}\")\n",
    "        \n",
    "    def critical_log(self, message=None):\n",
    "        self.logger.critical(f\"{message}\")"
   ]
  },
  {
   "cell_type": "code",
   "execution_count": 3,
   "id": "4366790e-1d06-43a4-88f4-24c9720db78a",
   "metadata": {},
   "outputs": [],
   "source": [
    "path = \"A:\\\\BeOn_Repositories\\\\PES-BR\\\\Scrap\\\\Ecometry\\\\Logs\\\\Search\\\\\"\n",
    "file_name = f\"{path}SCH_CL_CruzVerde.log\"\n",
    "\n",
    "name = \"SCH_CL_CruzVerde\" # Nombre del Spider\n",
    "platform_id = 93 # Id de la plataforma\n",
    "store_id = 93  # Id de la tienda\n",
    "page_type = 'API'\n",
    "industry = 'Pharma'"
   ]
  },
  {
   "cell_type": "code",
   "execution_count": 4,
   "id": "004a9451-f30f-4481-b9dc-a7b48d1f7890",
   "metadata": {},
   "outputs": [],
   "source": [
    "beon_logger = custom_logger(name=name, industry=industry, platform_id=platform_id, store_id=store_id, file_name=file_name, logger=None)"
   ]
  },
  {
   "cell_type": "code",
   "execution_count": 5,
   "id": "23d767db-0f0b-46e1-8630-c24d9c09ab90",
   "metadata": {},
   "outputs": [],
   "source": [
    "beon_logger.set_log_file()"
   ]
  },
  {
   "cell_type": "code",
   "execution_count": 6,
   "id": "b1884b42-a2bf-4619-8c1c-deab4b11e9de",
   "metadata": {},
   "outputs": [],
   "source": [
    "beon_logger.debug_log(f\"Mensaje de Test\")"
   ]
  },
  {
   "cell_type": "code",
   "execution_count": null,
   "id": "d5407492-e1af-4771-bf0f-67985c49f9cf",
   "metadata": {},
   "outputs": [],
   "source": []
  }
 ],
 "metadata": {
  "kernelspec": {
   "display_name": "Python 3 (ipykernel)",
   "language": "python",
   "name": "python3"
  },
  "language_info": {
   "codemirror_mode": {
    "name": "ipython",
    "version": 3
   },
   "file_extension": ".py",
   "mimetype": "text/x-python",
   "name": "python",
   "nbconvert_exporter": "python",
   "pygments_lexer": "ipython3",
   "version": "3.11.3"
  }
 },
 "nbformat": 4,
 "nbformat_minor": 5
}
